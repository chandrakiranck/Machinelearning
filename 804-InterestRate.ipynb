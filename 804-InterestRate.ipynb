{
 "cells": [
  {
   "cell_type": "code",
   "execution_count": 1,
   "metadata": {},
   "outputs": [],
   "source": [
    "import numpy as np\n",
    "import pandas as pd\n",
    "from pandas import Series,DataFrame\n",
    "import matplotlib.pyplot as plt\n",
    "import seaborn as sns\n",
    "import scipy.stats"
   ]
  },
  {
   "cell_type": "markdown",
   "metadata": {},
   "source": [
    "## Interest Rate"
   ]
  },
  {
   "cell_type": "markdown",
   "metadata": {},
   "source": [
    "### Import"
   ]
  },
  {
   "cell_type": "code",
   "execution_count": 2,
   "metadata": {},
   "outputs": [],
   "source": [
    "train = pd.read_csv('loan_data_train.csv')\n",
    "test = pd.read_csv('loan_data_test.csv')"
   ]
  },
  {
   "cell_type": "code",
   "execution_count": 3,
   "metadata": {},
   "outputs": [
    {
     "name": "stdout",
     "output_type": "stream",
     "text": [
      "<class 'pandas.core.frame.DataFrame'>\n",
      "RangeIndex: 2200 entries, 0 to 2199\n",
      "Data columns (total 15 columns):\n",
      "ID                                2199 non-null float64\n",
      "Amount.Requested                  2199 non-null object\n",
      "Amount.Funded.By.Investors        2199 non-null object\n",
      "Interest.Rate                     2200 non-null object\n",
      "Loan.Length                       2199 non-null object\n",
      "Loan.Purpose                      2199 non-null object\n",
      "Debt.To.Income.Ratio              2199 non-null object\n",
      "State                             2199 non-null object\n",
      "Home.Ownership                    2199 non-null object\n",
      "Monthly.Income                    2197 non-null float64\n",
      "FICO.Range                        2200 non-null object\n",
      "Open.CREDIT.Lines                 2196 non-null object\n",
      "Revolving.CREDIT.Balance          2197 non-null object\n",
      "Inquiries.in.the.Last.6.Months    2197 non-null float64\n",
      "Employment.Length                 2131 non-null object\n",
      "dtypes: float64(3), object(12)\n",
      "memory usage: 257.9+ KB\n"
     ]
    }
   ],
   "source": [
    "train.info()"
   ]
  },
  {
   "cell_type": "code",
   "execution_count": 4,
   "metadata": {},
   "outputs": [
    {
     "name": "stdout",
     "output_type": "stream",
     "text": [
      "<class 'pandas.core.frame.DataFrame'>\n",
      "RangeIndex: 300 entries, 0 to 299\n",
      "Data columns (total 14 columns):\n",
      "ID                                300 non-null int64\n",
      "Amount.Requested                  300 non-null int64\n",
      "Amount.Funded.By.Investors        300 non-null object\n",
      "Loan.Length                       300 non-null object\n",
      "Loan.Purpose                      300 non-null object\n",
      "Debt.To.Income.Ratio              300 non-null object\n",
      "State                             300 non-null object\n",
      "Home.Ownership                    300 non-null object\n",
      "Monthly.Income                    300 non-null float64\n",
      "FICO.Range                        300 non-null object\n",
      "Open.CREDIT.Lines                 300 non-null object\n",
      "Revolving.CREDIT.Balance          300 non-null int64\n",
      "Inquiries.in.the.Last.6.Months    300 non-null int64\n",
      "Employment.Length                 291 non-null object\n",
      "dtypes: float64(1), int64(4), object(9)\n",
      "memory usage: 32.9+ KB\n"
     ]
    }
   ],
   "source": [
    "test.info()"
   ]
  },
  {
   "cell_type": "markdown",
   "metadata": {},
   "source": [
    "### Data Cleaning"
   ]
  },
  {
   "cell_type": "markdown",
   "metadata": {},
   "source": [
    "- we should combine train and test data sets, and then clean them together\n",
    "- we will need to split it back into train and test afterwards so add column indicating 'DataType' = train/test\n",
    "- also, test data set does not have interest.rate column so we need to add that as well and assign them to null values"
   ]
  },
  {
   "cell_type": "code",
   "execution_count": 5,
   "metadata": {},
   "outputs": [],
   "source": [
    "train['DataType'] = 'train'\n",
    "test['DataType'] = 'test'\n",
    "test['Interest.Rate'] = np.nan"
   ]
  },
  {
   "cell_type": "code",
   "execution_count": 6,
   "metadata": {},
   "outputs": [
    {
     "name": "stdout",
     "output_type": "stream",
     "text": [
      "<class 'pandas.core.frame.DataFrame'>\n",
      "RangeIndex: 2200 entries, 0 to 2199\n",
      "Data columns (total 16 columns):\n",
      "ID                                2199 non-null float64\n",
      "Amount.Requested                  2199 non-null object\n",
      "Amount.Funded.By.Investors        2199 non-null object\n",
      "Interest.Rate                     2200 non-null object\n",
      "Loan.Length                       2199 non-null object\n",
      "Loan.Purpose                      2199 non-null object\n",
      "Debt.To.Income.Ratio              2199 non-null object\n",
      "State                             2199 non-null object\n",
      "Home.Ownership                    2199 non-null object\n",
      "Monthly.Income                    2197 non-null float64\n",
      "FICO.Range                        2200 non-null object\n",
      "Open.CREDIT.Lines                 2196 non-null object\n",
      "Revolving.CREDIT.Balance          2197 non-null object\n",
      "Inquiries.in.the.Last.6.Months    2197 non-null float64\n",
      "Employment.Length                 2131 non-null object\n",
      "DataType                          2200 non-null object\n",
      "dtypes: float64(3), object(13)\n",
      "memory usage: 275.1+ KB\n"
     ]
    }
   ],
   "source": [
    "train.info()"
   ]
  },
  {
   "cell_type": "code",
   "execution_count": 7,
   "metadata": {},
   "outputs": [
    {
     "name": "stdout",
     "output_type": "stream",
     "text": [
      "<class 'pandas.core.frame.DataFrame'>\n",
      "RangeIndex: 300 entries, 0 to 299\n",
      "Data columns (total 16 columns):\n",
      "ID                                300 non-null int64\n",
      "Amount.Requested                  300 non-null int64\n",
      "Amount.Funded.By.Investors        300 non-null object\n",
      "Loan.Length                       300 non-null object\n",
      "Loan.Purpose                      300 non-null object\n",
      "Debt.To.Income.Ratio              300 non-null object\n",
      "State                             300 non-null object\n",
      "Home.Ownership                    300 non-null object\n",
      "Monthly.Income                    300 non-null float64\n",
      "FICO.Range                        300 non-null object\n",
      "Open.CREDIT.Lines                 300 non-null object\n",
      "Revolving.CREDIT.Balance          300 non-null int64\n",
      "Inquiries.in.the.Last.6.Months    300 non-null int64\n",
      "Employment.Length                 291 non-null object\n",
      "DataType                          300 non-null object\n",
      "Interest.Rate                     0 non-null float64\n",
      "dtypes: float64(2), int64(4), object(10)\n",
      "memory usage: 37.6+ KB\n"
     ]
    }
   ],
   "source": [
    "test.info()"
   ]
  },
  {
   "cell_type": "code",
   "execution_count": 8,
   "metadata": {},
   "outputs": [
    {
     "name": "stdout",
     "output_type": "stream",
     "text": [
      "<class 'pandas.core.frame.DataFrame'>\n",
      "Int64Index: 2500 entries, 0 to 299\n",
      "Data columns (total 16 columns):\n",
      "ID                                2499 non-null float64\n",
      "Amount.Requested                  2499 non-null object\n",
      "Amount.Funded.By.Investors        2499 non-null object\n",
      "Interest.Rate                     2200 non-null object\n",
      "Loan.Length                       2499 non-null object\n",
      "Loan.Purpose                      2499 non-null object\n",
      "Debt.To.Income.Ratio              2499 non-null object\n",
      "State                             2499 non-null object\n",
      "Home.Ownership                    2499 non-null object\n",
      "Monthly.Income                    2497 non-null float64\n",
      "FICO.Range                        2500 non-null object\n",
      "Open.CREDIT.Lines                 2496 non-null object\n",
      "Revolving.CREDIT.Balance          2497 non-null object\n",
      "Inquiries.in.the.Last.6.Months    2497 non-null float64\n",
      "Employment.Length                 2422 non-null object\n",
      "DataType                          2500 non-null object\n",
      "dtypes: float64(3), object(13)\n",
      "memory usage: 332.0+ KB\n"
     ]
    }
   ],
   "source": [
    "df = pd.concat([train,test],sort=False)\n",
    "df.info()"
   ]
  },
  {
   "cell_type": "code",
   "execution_count": 9,
   "metadata": {},
   "outputs": [
    {
     "data": {
      "text/html": [
       "<div>\n",
       "<style scoped>\n",
       "    .dataframe tbody tr th:only-of-type {\n",
       "        vertical-align: middle;\n",
       "    }\n",
       "\n",
       "    .dataframe tbody tr th {\n",
       "        vertical-align: top;\n",
       "    }\n",
       "\n",
       "    .dataframe thead th {\n",
       "        text-align: right;\n",
       "    }\n",
       "</style>\n",
       "<table border=\"1\" class=\"dataframe\">\n",
       "  <thead>\n",
       "    <tr style=\"text-align: right;\">\n",
       "      <th></th>\n",
       "      <th>ID</th>\n",
       "      <th>Amount.Requested</th>\n",
       "      <th>Amount.Funded.By.Investors</th>\n",
       "      <th>Interest.Rate</th>\n",
       "      <th>Loan.Length</th>\n",
       "      <th>Loan.Purpose</th>\n",
       "      <th>Debt.To.Income.Ratio</th>\n",
       "      <th>State</th>\n",
       "      <th>Home.Ownership</th>\n",
       "      <th>Monthly.Income</th>\n",
       "      <th>FICO.Range</th>\n",
       "      <th>Open.CREDIT.Lines</th>\n",
       "      <th>Revolving.CREDIT.Balance</th>\n",
       "      <th>Inquiries.in.the.Last.6.Months</th>\n",
       "      <th>Employment.Length</th>\n",
       "      <th>DataType</th>\n",
       "    </tr>\n",
       "  </thead>\n",
       "  <tbody>\n",
       "    <tr>\n",
       "      <th>0</th>\n",
       "      <td>79542.0</td>\n",
       "      <td>25000</td>\n",
       "      <td>25000</td>\n",
       "      <td>18.49%</td>\n",
       "      <td>60 months</td>\n",
       "      <td>debt_consolidation</td>\n",
       "      <td>27.56%</td>\n",
       "      <td>VA</td>\n",
       "      <td>MORTGAGE</td>\n",
       "      <td>8606.56</td>\n",
       "      <td>720-724</td>\n",
       "      <td>11</td>\n",
       "      <td>15210</td>\n",
       "      <td>3.0</td>\n",
       "      <td>5 years</td>\n",
       "      <td>train</td>\n",
       "    </tr>\n",
       "    <tr>\n",
       "      <th>1</th>\n",
       "      <td>75473.0</td>\n",
       "      <td>19750</td>\n",
       "      <td>19750</td>\n",
       "      <td>17.27%</td>\n",
       "      <td>60 months</td>\n",
       "      <td>debt_consolidation</td>\n",
       "      <td>13.39%</td>\n",
       "      <td>NY</td>\n",
       "      <td>MORTGAGE</td>\n",
       "      <td>6737.50</td>\n",
       "      <td>710-714</td>\n",
       "      <td>14</td>\n",
       "      <td>19070</td>\n",
       "      <td>3.0</td>\n",
       "      <td>4 years</td>\n",
       "      <td>train</td>\n",
       "    </tr>\n",
       "    <tr>\n",
       "      <th>2</th>\n",
       "      <td>67265.0</td>\n",
       "      <td>2100</td>\n",
       "      <td>2100</td>\n",
       "      <td>14.33%</td>\n",
       "      <td>36 months</td>\n",
       "      <td>major_purchase</td>\n",
       "      <td>3.50%</td>\n",
       "      <td>LA</td>\n",
       "      <td>OWN</td>\n",
       "      <td>1000.00</td>\n",
       "      <td>690-694</td>\n",
       "      <td>13</td>\n",
       "      <td>893</td>\n",
       "      <td>1.0</td>\n",
       "      <td>&lt; 1 year</td>\n",
       "      <td>train</td>\n",
       "    </tr>\n",
       "    <tr>\n",
       "      <th>3</th>\n",
       "      <td>80167.0</td>\n",
       "      <td>28000</td>\n",
       "      <td>28000</td>\n",
       "      <td>16.29%</td>\n",
       "      <td>36 months</td>\n",
       "      <td>credit_card</td>\n",
       "      <td>19.62%</td>\n",
       "      <td>NV</td>\n",
       "      <td>MORTGAGE</td>\n",
       "      <td>7083.33</td>\n",
       "      <td>710-714</td>\n",
       "      <td>12</td>\n",
       "      <td>38194</td>\n",
       "      <td>1.0</td>\n",
       "      <td>10+ years</td>\n",
       "      <td>train</td>\n",
       "    </tr>\n",
       "    <tr>\n",
       "      <th>4</th>\n",
       "      <td>17240.0</td>\n",
       "      <td>24250</td>\n",
       "      <td>17431.82</td>\n",
       "      <td>12.23%</td>\n",
       "      <td>60 months</td>\n",
       "      <td>credit_card</td>\n",
       "      <td>23.79%</td>\n",
       "      <td>OH</td>\n",
       "      <td>MORTGAGE</td>\n",
       "      <td>5833.33</td>\n",
       "      <td>730-734</td>\n",
       "      <td>6</td>\n",
       "      <td>31061</td>\n",
       "      <td>2.0</td>\n",
       "      <td>10+ years</td>\n",
       "      <td>train</td>\n",
       "    </tr>\n",
       "  </tbody>\n",
       "</table>\n",
       "</div>"
      ],
      "text/plain": [
       "        ID Amount.Requested Amount.Funded.By.Investors Interest.Rate  \\\n",
       "0  79542.0            25000                      25000        18.49%   \n",
       "1  75473.0            19750                      19750        17.27%   \n",
       "2  67265.0             2100                       2100        14.33%   \n",
       "3  80167.0            28000                      28000        16.29%   \n",
       "4  17240.0            24250                   17431.82        12.23%   \n",
       "\n",
       "  Loan.Length        Loan.Purpose Debt.To.Income.Ratio State Home.Ownership  \\\n",
       "0   60 months  debt_consolidation               27.56%    VA       MORTGAGE   \n",
       "1   60 months  debt_consolidation               13.39%    NY       MORTGAGE   \n",
       "2   36 months      major_purchase                3.50%    LA            OWN   \n",
       "3   36 months         credit_card               19.62%    NV       MORTGAGE   \n",
       "4   60 months         credit_card               23.79%    OH       MORTGAGE   \n",
       "\n",
       "   Monthly.Income FICO.Range Open.CREDIT.Lines Revolving.CREDIT.Balance  \\\n",
       "0         8606.56    720-724                11                    15210   \n",
       "1         6737.50    710-714                14                    19070   \n",
       "2         1000.00    690-694                13                      893   \n",
       "3         7083.33    710-714                12                    38194   \n",
       "4         5833.33    730-734                 6                    31061   \n",
       "\n",
       "   Inquiries.in.the.Last.6.Months Employment.Length DataType  \n",
       "0                             3.0           5 years    train  \n",
       "1                             3.0           4 years    train  \n",
       "2                             1.0          < 1 year    train  \n",
       "3                             1.0         10+ years    train  \n",
       "4                             2.0         10+ years    train  "
      ]
     },
     "execution_count": 9,
     "metadata": {},
     "output_type": "execute_result"
    }
   ],
   "source": [
    "df.head()"
   ]
  },
  {
   "cell_type": "markdown",
   "metadata": {},
   "source": [
    "- drop ID and Amount Funded columns (Amount Funded is a future variable; it does not determine interest rate)\n",
    "- Amount requested - convert to numeric type; any non-numeric values assign NaN\n",
    "- Interest Rate - remove % sign at end and convert to numeric\n",
    "- Debt to Income Ratio - remove % sign at end and convert to numeric\n",
    "- FICO Range - get min,max of range and take average\n",
    "- Open Credit Lines - convert to numeric type\n",
    "- Revolving Credit Balance - convert to numeric type\n",
    "- Employment Length - remove all 'years'/'year'/'<'/'+'/'.' and convert to numeric"
   ]
  },
  {
   "cell_type": "code",
   "execution_count": 10,
   "metadata": {},
   "outputs": [],
   "source": [
    "df.drop(['ID','Amount.Funded.By.Investors'],axis=1,inplace=True)"
   ]
  },
  {
   "cell_type": "code",
   "execution_count": 11,
   "metadata": {},
   "outputs": [],
   "source": [
    "df['Amount.Requested'] = pd.to_numeric(df['Amount.Requested'],errors='coerce')"
   ]
  },
  {
   "cell_type": "code",
   "execution_count": 12,
   "metadata": {},
   "outputs": [],
   "source": [
    "df['Interest.Rate'] = df['Interest.Rate'].str.replace('%','').astype(float)"
   ]
  },
  {
   "cell_type": "code",
   "execution_count": 13,
   "metadata": {},
   "outputs": [],
   "source": [
    "df['Debt.To.Income.Ratio'] = df['Debt.To.Income.Ratio'].str.replace('%','').astype(float)"
   ]
  },
  {
   "cell_type": "code",
   "execution_count": 14,
   "metadata": {},
   "outputs": [],
   "source": [
    "k = df['FICO.Range'].str.split('-',expand=True).astype(float)\n",
    "df['FICO'] = (k[0]+k[1])/2\n",
    "df.drop(['FICO.Range'],axis=1,inplace=True)"
   ]
  },
  {
   "cell_type": "code",
   "execution_count": 15,
   "metadata": {},
   "outputs": [],
   "source": [
    "df['Open.CREDIT.Lines'] = pd.to_numeric(df['Open.CREDIT.Lines'],errors='coerce')"
   ]
  },
  {
   "cell_type": "code",
   "execution_count": 16,
   "metadata": {},
   "outputs": [],
   "source": [
    "df['Revolving.CREDIT.Balance'] = pd.to_numeric(df['Revolving.CREDIT.Balance'],errors='coerce')"
   ]
  },
  {
   "cell_type": "code",
   "execution_count": 17,
   "metadata": {},
   "outputs": [
    {
     "data": {
      "text/plain": [
       "10+ years    653\n",
       "< 1 year     249\n",
       "2 years      243\n",
       "3 years      235\n",
       "5 years      202\n",
       "4 years      191\n",
       "1 year       177\n",
       "6 years      163\n",
       "7 years      127\n",
       "8 years      108\n",
       "9 years       72\n",
       ".              2\n",
       "Name: Employment.Length, dtype: int64"
      ]
     },
     "execution_count": 17,
     "metadata": {},
     "output_type": "execute_result"
    }
   ],
   "source": [
    "df['Employment.Length'].value_counts()"
   ]
  },
  {
   "cell_type": "code",
   "execution_count": 18,
   "metadata": {},
   "outputs": [],
   "source": [
    "df['Employment.Length'] = df['Employment.Length'].str.replace(' years','')\n",
    "df['Employment.Length'] = df['Employment.Length'].str.replace(' year','')\n",
    "df['Employment.Length'] = df['Employment.Length'].str.replace('+','')\n",
    "df['Employment.Length'] = df['Employment.Length'].str.replace('< ','')\n",
    "df['Employment.Length'] = df['Employment.Length'].str.replace('.','')\n",
    "df['Employment.Length'] = pd.to_numeric(df['Employment.Length'],errors='coerce')"
   ]
  },
  {
   "cell_type": "code",
   "execution_count": 19,
   "metadata": {},
   "outputs": [
    {
     "data": {
      "text/plain": [
       "10.0    653\n",
       "1.0     426\n",
       "2.0     243\n",
       "3.0     235\n",
       "5.0     202\n",
       "4.0     191\n",
       "6.0     163\n",
       "7.0     127\n",
       "8.0     108\n",
       "9.0      72\n",
       "Name: Employment.Length, dtype: int64"
      ]
     },
     "execution_count": 19,
     "metadata": {},
     "output_type": "execute_result"
    }
   ],
   "source": [
    "df['Employment.Length'].value_counts()"
   ]
  },
  {
   "cell_type": "markdown",
   "metadata": {},
   "source": [
    "- Perform Dummification on remaining categorical columns"
   ]
  },
  {
   "cell_type": "markdown",
   "metadata": {},
   "source": [
    "### Dummification of Categorical variables"
   ]
  },
  {
   "cell_type": "code",
   "execution_count": 20,
   "metadata": {},
   "outputs": [
    {
     "data": {
      "text/plain": [
       "Index(['Loan.Length', 'Loan.Purpose', 'State', 'Home.Ownership'], dtype='object')"
      ]
     },
     "execution_count": 20,
     "metadata": {},
     "output_type": "execute_result"
    }
   ],
   "source": [
    "cat_cols = df.select_dtypes(['object']).columns\n",
    "cat_cols = cat_cols[:-1]\n",
    "cat_cols"
   ]
  },
  {
   "cell_type": "markdown",
   "metadata": {},
   "source": [
    "> k = freqs[freqs>threshold].index[:-1]"
   ]
  },
  {
   "cell_type": "markdown",
   "metadata": {},
   "source": [
    "Here, we shouldn't do **[:-1]** since this would mean it categorizes this with those variables that has frequency less than threshold.  \n",
    "Instead, we should run wihtout **[-1]**"
   ]
  },
  {
   "cell_type": "code",
   "execution_count": 21,
   "metadata": {},
   "outputs": [
    {
     "name": "stdout",
     "output_type": "stream",
     "text": [
      "Loan.Length\n",
      "Loan.Purpose\n",
      "State\n",
      "Home.Ownership\n"
     ]
    }
   ],
   "source": [
    "# Dummification of Categorical Variables\n",
    "threshold = 20                     # threshold frequency to consider for dummification\n",
    "for col in cat_cols:               # for all categorical columns\n",
    "    freqs = df[col].value_counts()   \n",
    "    k = freqs[freqs>threshold].index[:-1]   # consider only those values whose frequency is above threshold\n",
    "    for cat in k:                           # for each categorical variable\n",
    "        name = col + '_' + cat              # unique name\n",
    "        df[name] = (df[col]==cat).astype(int)  # create new column for that category\n",
    "    del df[col]                            # delete original column\n",
    "    print(col)"
   ]
  },
  {
   "cell_type": "code",
   "execution_count": 22,
   "metadata": {},
   "outputs": [
    {
     "data": {
      "text/plain": [
       "(2500, 51)"
      ]
     },
     "execution_count": 22,
     "metadata": {},
     "output_type": "execute_result"
    }
   ],
   "source": [
    "df.shape"
   ]
  },
  {
   "cell_type": "code",
   "execution_count": 23,
   "metadata": {
    "scrolled": true
   },
   "outputs": [
    {
     "name": "stdout",
     "output_type": "stream",
     "text": [
      "<class 'pandas.core.frame.DataFrame'>\n",
      "Int64Index: 2500 entries, 0 to 299\n",
      "Data columns (total 51 columns):\n",
      "Amount.Requested                   2495 non-null float64\n",
      "Interest.Rate                      2200 non-null float64\n",
      "Debt.To.Income.Ratio               2499 non-null float64\n",
      "Monthly.Income                     2497 non-null float64\n",
      "Open.CREDIT.Lines                  2491 non-null float64\n",
      "Revolving.CREDIT.Balance           2495 non-null float64\n",
      "Inquiries.in.the.Last.6.Months     2497 non-null float64\n",
      "Employment.Length                  2420 non-null float64\n",
      "DataType                           2500 non-null object\n",
      "FICO                               2500 non-null float64\n",
      "Loan.Length_36 months              2500 non-null int32\n",
      "Loan.Purpose_debt_consolidation    2500 non-null int32\n",
      "Loan.Purpose_credit_card           2500 non-null int32\n",
      "Loan.Purpose_other                 2500 non-null int32\n",
      "Loan.Purpose_home_improvement      2500 non-null int32\n",
      "Loan.Purpose_major_purchase        2500 non-null int32\n",
      "Loan.Purpose_small_business        2500 non-null int32\n",
      "Loan.Purpose_car                   2500 non-null int32\n",
      "Loan.Purpose_wedding               2500 non-null int32\n",
      "Loan.Purpose_medical               2500 non-null int32\n",
      "Loan.Purpose_moving                2500 non-null int32\n",
      "State_CA                           2500 non-null int32\n",
      "State_NY                           2500 non-null int32\n",
      "State_TX                           2500 non-null int32\n",
      "State_FL                           2500 non-null int32\n",
      "State_IL                           2500 non-null int32\n",
      "State_GA                           2500 non-null int32\n",
      "State_PA                           2500 non-null int32\n",
      "State_NJ                           2500 non-null int32\n",
      "State_VA                           2500 non-null int32\n",
      "State_MA                           2500 non-null int32\n",
      "State_OH                           2500 non-null int32\n",
      "State_MD                           2500 non-null int32\n",
      "State_NC                           2500 non-null int32\n",
      "State_CO                           2500 non-null int32\n",
      "State_WA                           2500 non-null int32\n",
      "State_CT                           2500 non-null int32\n",
      "State_AZ                           2500 non-null int32\n",
      "State_MI                           2500 non-null int32\n",
      "State_MN                           2500 non-null int32\n",
      "State_AL                           2500 non-null int32\n",
      "State_MO                           2500 non-null int32\n",
      "State_NV                           2500 non-null int32\n",
      "State_OR                           2500 non-null int32\n",
      "State_SC                           2500 non-null int32\n",
      "State_WI                           2500 non-null int32\n",
      "State_KY                           2500 non-null int32\n",
      "State_LA                           2500 non-null int32\n",
      "State_KS                           2500 non-null int32\n",
      "Home.Ownership_MORTGAGE            2500 non-null int32\n",
      "Home.Ownership_RENT                2500 non-null int32\n",
      "dtypes: float64(9), int32(41), object(1)\n",
      "memory usage: 615.2+ KB\n"
     ]
    }
   ],
   "source": [
    "df.info()"
   ]
  },
  {
   "cell_type": "code",
   "execution_count": 24,
   "metadata": {
    "scrolled": true
   },
   "outputs": [
    {
     "data": {
      "text/plain": [
       "Amount.Requested                     5\n",
       "Interest.Rate                      300\n",
       "Debt.To.Income.Ratio                 1\n",
       "Monthly.Income                       3\n",
       "Open.CREDIT.Lines                    9\n",
       "Revolving.CREDIT.Balance             5\n",
       "Inquiries.in.the.Last.6.Months       3\n",
       "Employment.Length                   80\n",
       "DataType                             0\n",
       "FICO                                 0\n",
       "Loan.Length_36 months                0\n",
       "Loan.Purpose_debt_consolidation      0\n",
       "Loan.Purpose_credit_card             0\n",
       "Loan.Purpose_other                   0\n",
       "Loan.Purpose_home_improvement        0\n",
       "Loan.Purpose_major_purchase          0\n",
       "Loan.Purpose_small_business          0\n",
       "Loan.Purpose_car                     0\n",
       "Loan.Purpose_wedding                 0\n",
       "Loan.Purpose_medical                 0\n",
       "Loan.Purpose_moving                  0\n",
       "State_CA                             0\n",
       "State_NY                             0\n",
       "State_TX                             0\n",
       "State_FL                             0\n",
       "State_IL                             0\n",
       "State_GA                             0\n",
       "State_PA                             0\n",
       "State_NJ                             0\n",
       "State_VA                             0\n",
       "State_MA                             0\n",
       "State_OH                             0\n",
       "State_MD                             0\n",
       "State_NC                             0\n",
       "State_CO                             0\n",
       "State_WA                             0\n",
       "State_CT                             0\n",
       "State_AZ                             0\n",
       "State_MI                             0\n",
       "State_MN                             0\n",
       "State_AL                             0\n",
       "State_MO                             0\n",
       "State_NV                             0\n",
       "State_OR                             0\n",
       "State_SC                             0\n",
       "State_WI                             0\n",
       "State_KY                             0\n",
       "State_LA                             0\n",
       "State_KS                             0\n",
       "Home.Ownership_MORTGAGE              0\n",
       "Home.Ownership_RENT                  0\n",
       "dtype: int64"
      ]
     },
     "execution_count": 24,
     "metadata": {},
     "output_type": "execute_result"
    }
   ],
   "source": [
    "df.isnull().sum()"
   ]
  },
  {
   "cell_type": "markdown",
   "metadata": {},
   "source": [
    "### Imputing Missing Values"
   ]
  },
  {
   "cell_type": "code",
   "execution_count": 25,
   "metadata": {},
   "outputs": [],
   "source": [
    "for col in df.columns:                                                                   # for each column\n",
    "    if (col not in ['Interest.Rate','DataType']) & (df[col].isnull().sum()>0):           # if not interest rate ot data type and null values exist\n",
    "        df.loc[df[col].isnull(),col] = df.loc[df['DataType']=='train',col].mean()        # replace null values with mean of all training data values"
   ]
  },
  {
   "cell_type": "code",
   "execution_count": 26,
   "metadata": {},
   "outputs": [
    {
     "data": {
      "text/plain": [
       "Amount.Requested                     0\n",
       "Interest.Rate                      300\n",
       "Debt.To.Income.Ratio                 0\n",
       "Monthly.Income                       0\n",
       "Open.CREDIT.Lines                    0\n",
       "Revolving.CREDIT.Balance             0\n",
       "Inquiries.in.the.Last.6.Months       0\n",
       "Employment.Length                    0\n",
       "DataType                             0\n",
       "FICO                                 0\n",
       "Loan.Length_36 months                0\n",
       "Loan.Purpose_debt_consolidation      0\n",
       "Loan.Purpose_credit_card             0\n",
       "Loan.Purpose_other                   0\n",
       "Loan.Purpose_home_improvement        0\n",
       "Loan.Purpose_major_purchase          0\n",
       "Loan.Purpose_small_business          0\n",
       "Loan.Purpose_car                     0\n",
       "Loan.Purpose_wedding                 0\n",
       "Loan.Purpose_medical                 0\n",
       "Loan.Purpose_moving                  0\n",
       "State_CA                             0\n",
       "State_NY                             0\n",
       "State_TX                             0\n",
       "State_FL                             0\n",
       "State_IL                             0\n",
       "State_GA                             0\n",
       "State_PA                             0\n",
       "State_NJ                             0\n",
       "State_VA                             0\n",
       "State_MA                             0\n",
       "State_OH                             0\n",
       "State_MD                             0\n",
       "State_NC                             0\n",
       "State_CO                             0\n",
       "State_WA                             0\n",
       "State_CT                             0\n",
       "State_AZ                             0\n",
       "State_MI                             0\n",
       "State_MN                             0\n",
       "State_AL                             0\n",
       "State_MO                             0\n",
       "State_NV                             0\n",
       "State_OR                             0\n",
       "State_SC                             0\n",
       "State_WI                             0\n",
       "State_KY                             0\n",
       "State_LA                             0\n",
       "State_KS                             0\n",
       "Home.Ownership_MORTGAGE              0\n",
       "Home.Ownership_RENT                  0\n",
       "dtype: int64"
      ]
     },
     "execution_count": 26,
     "metadata": {},
     "output_type": "execute_result"
    }
   ],
   "source": [
    "df.isnull().sum()"
   ]
  },
  {
   "cell_type": "markdown",
   "metadata": {},
   "source": [
    "Split DataFrame back into train and test:"
   ]
  },
  {
   "cell_type": "code",
   "execution_count": 27,
   "metadata": {},
   "outputs": [
    {
     "name": "stderr",
     "output_type": "stream",
     "text": [
      "C:\\Users\\mohit\\Anaconda3\\lib\\site-packages\\pandas\\core\\frame.py:3940: SettingWithCopyWarning: \n",
      "A value is trying to be set on a copy of a slice from a DataFrame\n",
      "\n",
      "See the caveats in the documentation: http://pandas.pydata.org/pandas-docs/stable/indexing.html#indexing-view-versus-copy\n",
      "  errors=errors)\n"
     ]
    }
   ],
   "source": [
    "train = df[df['DataType'] == 'train']\n",
    "train.drop(['DataType'],axis=1,inplace=True)\n",
    "test = df[df['DataType'] == 'test']\n",
    "test.drop(['DataType','Interest.Rate'],axis=1,inplace=True)\n",
    "del df"
   ]
  },
  {
   "cell_type": "markdown",
   "metadata": {},
   "source": [
    "### Linear Regression"
   ]
  },
  {
   "cell_type": "markdown",
   "metadata": {},
   "source": [
    "Split train dataset into train and validate datasets:"
   ]
  },
  {
   "cell_type": "code",
   "execution_count": 28,
   "metadata": {},
   "outputs": [],
   "source": [
    "from sklearn.model_selection import train_test_split\n",
    "train1,validate = train_test_split(train,test_size=0.2,random_state=2)"
   ]
  },
  {
   "cell_type": "code",
   "execution_count": 29,
   "metadata": {},
   "outputs": [],
   "source": [
    "x_train1 = train1.drop('Interest.Rate',axis=1)\n",
    "y_train1 = train1['Interest.Rate']"
   ]
  },
  {
   "cell_type": "code",
   "execution_count": 30,
   "metadata": {},
   "outputs": [
    {
     "data": {
      "text/plain": [
       "(1760, 49)"
      ]
     },
     "execution_count": 30,
     "metadata": {},
     "output_type": "execute_result"
    }
   ],
   "source": [
    "x_train1.shape"
   ]
  },
  {
   "cell_type": "code",
   "execution_count": 31,
   "metadata": {},
   "outputs": [
    {
     "name": "stderr",
     "output_type": "stream",
     "text": [
      "C:\\Users\\mohit\\Anaconda3\\lib\\site-packages\\ipykernel_launcher.py:2: DataConversionWarning: Data with input dtype int32, float64 were all converted to float64 by the scale function.\n",
      "  \n"
     ]
    }
   ],
   "source": [
    "from sklearn.preprocessing import scale\n",
    "x_train1_scaled = scale(x_train1)"
   ]
  },
  {
   "cell_type": "markdown",
   "metadata": {},
   "source": [
    "Build Regression model on train dataset:"
   ]
  },
  {
   "cell_type": "code",
   "execution_count": 32,
   "metadata": {},
   "outputs": [
    {
     "data": {
      "text/plain": [
       "LinearRegression(copy_X=True, fit_intercept=True, n_jobs=None,\n",
       "         normalize=False)"
      ]
     },
     "execution_count": 32,
     "metadata": {},
     "output_type": "execute_result"
    }
   ],
   "source": [
    "from sklearn.linear_model import LinearRegression\n",
    "lm1 = LinearRegression()\n",
    "lm1.fit(x_train1_scaled,y_train1)"
   ]
  },
  {
   "cell_type": "code",
   "execution_count": 33,
   "metadata": {},
   "outputs": [
    {
     "data": {
      "text/plain": [
       "13.11028409090909"
      ]
     },
     "execution_count": 33,
     "metadata": {},
     "output_type": "execute_result"
    }
   ],
   "source": [
    "lm1.intercept_"
   ]
  },
  {
   "cell_type": "code",
   "execution_count": 34,
   "metadata": {
    "scrolled": true
   },
   "outputs": [
    {
     "data": {
      "text/plain": [
       "[('Amount.Requested', 1.2412823100498058),\n",
       " ('Debt.To.Income.Ratio', -0.02934993084458956),\n",
       " ('Monthly.Income', -0.11367740251339292),\n",
       " ('Open.CREDIT.Lines', -0.17974272069177563),\n",
       " ('Revolving.CREDIT.Balance', -0.07340992347361104),\n",
       " ('Inquiries.in.the.Last.6.Months', 0.41807116721087),\n",
       " ('Employment.Length', 0.12426329262744062),\n",
       " ('FICO', -3.0826371641341477),\n",
       " ('Loan.Length_36 months', -1.2965703236855517),\n",
       " ('Loan.Purpose_debt_consolidation', -0.2338934351603894),\n",
       " ('Loan.Purpose_credit_card', -0.23018843939378297),\n",
       " ('Loan.Purpose_other', 0.11873687058019135),\n",
       " ('Loan.Purpose_home_improvement', -0.08798256518316994),\n",
       " ('Loan.Purpose_major_purchase', -0.018202014151089074),\n",
       " ('Loan.Purpose_small_business', 0.012859186498847097),\n",
       " ('Loan.Purpose_car', 0.0031623601053895056),\n",
       " ('Loan.Purpose_wedding', -0.10204736200866393),\n",
       " ('Loan.Purpose_medical', -0.04533498442400785),\n",
       " ('Loan.Purpose_moving', 0.13919333909181386),\n",
       " ('State_CA', -0.07806101292421919),\n",
       " ('State_NY', -0.03906872287483576),\n",
       " ('State_TX', 0.11639441508504322),\n",
       " ('State_FL', 0.02144479058704163),\n",
       " ('State_IL', -0.1288400361637132),\n",
       " ('State_GA', -0.005144414350984561),\n",
       " ('State_PA', -0.10754719380651648),\n",
       " ('State_NJ', -0.08093405637068903),\n",
       " ('State_VA', -0.0345425454068492),\n",
       " ('State_MA', 0.01537250892652578),\n",
       " ('State_OH', -0.05897841144632776),\n",
       " ('State_MD', -0.0025737299969405963),\n",
       " ('State_NC', -0.049134641398936196),\n",
       " ('State_CO', -0.00883738914129864),\n",
       " ('State_WA', -0.038063211835181396),\n",
       " ('State_CT', 0.05832665554376035),\n",
       " ('State_AZ', 0.03466065528567161),\n",
       " ('State_MI', -0.021151095892245425),\n",
       " ('State_MN', -0.009237207406286863),\n",
       " ('State_AL', -0.04164821781297384),\n",
       " ('State_MO', -0.05161106462524312),\n",
       " ('State_NV', -0.013916583067837662),\n",
       " ('State_OR', 0.01408119753229653),\n",
       " ('State_SC', 0.002691447376854228),\n",
       " ('State_WI', -0.017004904116065846),\n",
       " ('State_KY', 0.02490624438941208),\n",
       " ('State_LA', -0.004366205919062061),\n",
       " ('State_KS', 0.024944249083797276),\n",
       " ('Home.Ownership_MORTGAGE', -0.24573738227234343),\n",
       " ('Home.Ownership_RENT', -0.11397189410590647)]"
      ]
     },
     "execution_count": 34,
     "metadata": {},
     "output_type": "execute_result"
    }
   ],
   "source": [
    "list(zip(x_train1.columns,lm1.coef_))"
   ]
  },
  {
   "cell_type": "code",
   "execution_count": 35,
   "metadata": {},
   "outputs": [
    {
     "name": "stdout",
     "output_type": "stream",
     "text": [
      "Training Accuracy:\n",
      "MSE = 4.118615454703139\n",
      "R^2 = 0.6904918191259801\n"
     ]
    }
   ],
   "source": [
    "from sklearn.metrics import mean_squared_error, r2_score\n",
    "y_pred = lm1.predict(x_train1_scaled)\n",
    "print('Training Accuracy:')\n",
    "print('MSE =',mean_squared_error(y_pred,y_train1))\n",
    "print('R^2 =',r2_score(y_pred,y_train1))"
   ]
  },
  {
   "cell_type": "markdown",
   "metadata": {},
   "source": [
    "Evaluate model with validate dataset:"
   ]
  },
  {
   "cell_type": "code",
   "execution_count": 36,
   "metadata": {},
   "outputs": [
    {
     "name": "stdout",
     "output_type": "stream",
     "text": [
      "Test Accuracy:\n",
      "MSE = 4.249401069122784\n",
      "R^2 = 0.6954509084963858\n"
     ]
    },
    {
     "name": "stderr",
     "output_type": "stream",
     "text": [
      "C:\\Users\\mohit\\Anaconda3\\lib\\site-packages\\ipykernel_launcher.py:3: DataConversionWarning: Data with input dtype int32, float64 were all converted to float64 by the scale function.\n",
      "  This is separate from the ipykernel package so we can avoid doing imports until\n"
     ]
    }
   ],
   "source": [
    "x_val = validate.drop('Interest.Rate',axis=1)\n",
    "y_val = validate['Interest.Rate']\n",
    "x_val_scaled = scale(x_val)\n",
    "y_pred = lm1.predict(x_val_scaled)\n",
    "print('Test Accuracy:')\n",
    "print('MSE =',mean_squared_error(y_pred,y_val))\n",
    "print('R^2 =',r2_score(y_pred,y_val))"
   ]
  },
  {
   "cell_type": "markdown",
   "metadata": {},
   "source": [
    "Once we are satidifed with our model, we build a new model on ALL training data and predict interst arte for test data."
   ]
  },
  {
   "cell_type": "code",
   "execution_count": 37,
   "metadata": {},
   "outputs": [
    {
     "name": "stderr",
     "output_type": "stream",
     "text": [
      "C:\\Users\\mohit\\Anaconda3\\lib\\site-packages\\ipykernel_launcher.py:3: DataConversionWarning: Data with input dtype int32, float64 were all converted to float64 by the scale function.\n",
      "  This is separate from the ipykernel package so we can avoid doing imports until\n"
     ]
    },
    {
     "data": {
      "text/plain": [
       "LinearRegression(copy_X=True, fit_intercept=True, n_jobs=None,\n",
       "         normalize=False)"
      ]
     },
     "execution_count": 37,
     "metadata": {},
     "output_type": "execute_result"
    }
   ],
   "source": [
    "x_train = train.drop('Interest.Rate',axis=1)\n",
    "y_train = train['Interest.Rate']\n",
    "x_train_scaled = scale(x_train)\n",
    "lm2 = LinearRegression()\n",
    "lm2.fit(x_train_scaled,y_train)"
   ]
  },
  {
   "cell_type": "code",
   "execution_count": 38,
   "metadata": {},
   "outputs": [
    {
     "name": "stdout",
     "output_type": "stream",
     "text": [
      "Training Accuracy:\n",
      "MSE = 4.105637011197528\n",
      "R^2 = 0.6913818651793673\n"
     ]
    }
   ],
   "source": [
    "y_pred = lm2.predict(x_train_scaled)\n",
    "print('Training Accuracy:')\n",
    "print('MSE =',mean_squared_error(y_pred,y_train))\n",
    "print('R^2 =',r2_score(y_pred,y_train))"
   ]
  },
  {
   "cell_type": "code",
   "execution_count": 39,
   "metadata": {
    "scrolled": true
   },
   "outputs": [
    {
     "name": "stderr",
     "output_type": "stream",
     "text": [
      "C:\\Users\\mohit\\Anaconda3\\lib\\site-packages\\ipykernel_launcher.py:1: DataConversionWarning: Data with input dtype int32, float64 were all converted to float64 by the scale function.\n",
      "  \"\"\"Entry point for launching an IPython kernel.\n"
     ]
    },
    {
     "data": {
      "text/plain": [
       "array([16.39696247, 15.76974097, 10.20251785,  3.12300054, 15.18859855,\n",
       "        6.59085469, 15.6258013 , 10.56292366, 15.87652998, 12.3196074 ,\n",
       "        9.38097087, 14.84614932, 11.18832843, 13.66830424, 13.43177155,\n",
       "       18.24105837, 10.01560129, 15.91634568, 13.75428443, 13.87010929,\n",
       "       22.62008547, 17.46614603, 11.66336396, 14.86125109,  9.46058821,\n",
       "       10.98110732, 13.07323815, 19.4806412 , 11.97650696, 16.59332702,\n",
       "       15.00975322, 15.39868655, 12.23016814, 15.24680989, 13.61339806,\n",
       "       14.18668515, 19.45686439, 10.98710449, 11.73933849, 16.77492664,\n",
       "       14.10528086, 10.96641054, 14.60145911, 13.01151919, 15.65854861,\n",
       "       17.09720824, 14.6976251 , 17.06813587, 16.76001187, 10.1276804 ,\n",
       "       13.65394029, 19.78261501,  9.38132006, 19.72228401, 15.34410921,\n",
       "       14.58642542, 17.48909144, 14.40332416, 10.78918852, 14.32469732,\n",
       "       13.04025006, 16.91782098,  8.52344146, 14.47339631, 10.17113064,\n",
       "       11.29301742, 12.75007268, 14.72754415, 11.58844953, 14.54975238,\n",
       "       14.37189599, 17.61103526, 20.75326005, 19.59121128, 13.30976524,\n",
       "       16.8993978 , 10.8608652 ,  9.61653217, 16.49295395,  6.13231621,\n",
       "       16.22343317, 10.05857691,  9.22139564, 12.94568273, 13.91297688,\n",
       "        8.94432263,  9.0378917 , 13.83035144,  8.19821682, 11.59108389,\n",
       "       12.15092749, 16.74869158, 13.58028804, 17.73150492, 13.81810138,\n",
       "       10.21160933,  9.94393451, 16.94508829, 16.80923547, 13.72545027,\n",
       "       15.13739838, 13.38217743, 15.15288813, 14.64989853, 13.09169474,\n",
       "       12.11461097,  8.49589213, 11.67958422, 10.5700325 , 13.67504836,\n",
       "       11.29217332, 20.0704157 ,  7.17758957, 16.68362604, 15.57979965,\n",
       "        6.09806838, 13.26024971, 14.34461165, 14.88507404,  8.87074873,\n",
       "       15.92527929, 14.36734974,  8.75424074, 12.82605878, 17.49050131,\n",
       "       16.11329871,  7.94682848, 18.45231134,  2.74024249, 12.09413348,\n",
       "       13.70908414, 12.90058453,  9.65071827, 14.14174921, 18.68120223,\n",
       "       14.16064506, 15.25638211, 13.32215066, 12.79224667,  9.27702399,\n",
       "       14.08862119, 14.31759371, 11.53883103, 11.39149696, 11.51163692,\n",
       "       16.96910822, 11.93912272, 10.3018735 ,  7.45342737,  9.86429457,\n",
       "       11.36408925, 13.87617516,  9.94563898,  7.04043769, 13.97380177,\n",
       "       11.97457065, 10.91127599,  7.63184549, 14.25626631, 14.68200183,\n",
       "       14.07938354,  6.69141988, 15.15412228, 17.84159284, 15.03439935,\n",
       "       16.04035488, 14.72217212,  9.80414684, 13.58074056, 16.7245991 ,\n",
       "       14.56559153, 12.78487727,  6.07573402, 13.35011267, 10.13400114,\n",
       "       10.18565001, 10.90568193,  8.35833419,  9.26090372, 11.42511249,\n",
       "       12.81126191, 14.1437428 , 10.26903111, 13.04098436, 10.28652161,\n",
       "       13.77502196,  8.09212564, 17.70514686, 13.63304788,  9.22811725,\n",
       "        7.37856263, 11.32321831, 16.08357007, 15.48967204, 14.92005966,\n",
       "       17.78587158,  8.91077207, 18.8446066 ,  4.34319133, 13.92813634,\n",
       "       14.43092076, 12.31028431, 17.87449699, 16.68099334,  4.18724352,\n",
       "       15.64709036, 15.37708375, 19.6542858 , 16.1966546 ,  8.50123399,\n",
       "       14.77455442, 11.4464246 , 12.01045511, 14.44741314, 10.29088993,\n",
       "       12.18162016, 13.19304757, 20.67953662, 13.6054928 ,  5.81131765,\n",
       "        5.04496276,  9.21231523, 18.01493764, 11.22548512, 15.96335688,\n",
       "       14.6465751 , 11.23690662, 11.49084608, 12.55021754, 10.48723809,\n",
       "       11.52618062, 14.77042299, 12.54150126, 15.88412451,  7.1752702 ,\n",
       "       11.31942928, 13.19367159, 10.12214147,  4.3335388 , 19.87287621,\n",
       "       14.18504627, 19.88708818,  7.21324503, 20.83385599, 12.65737827,\n",
       "       12.09040406, 20.09647297,  8.66847414,  7.31312813, 12.83059815,\n",
       "       16.11843287, 14.95760253, 10.54502758, 13.93229194, 15.22505308,\n",
       "       18.71185918, 11.1803544 ,  7.58387315, 12.57048662, 18.04593079,\n",
       "       16.48624809, 13.42169496, 18.42196737,  7.13331376, 19.99356437,\n",
       "        8.36763952, 15.74910236, 10.65787265,  4.01027886, 14.93026316,\n",
       "       13.49454533, 12.71838748,  6.31650868, 10.27475735,  9.59184379,\n",
       "        6.08385733, 14.18371093, 13.88590861, 10.6787635 , 14.65133147,\n",
       "       17.21488697, 20.2864518 , 16.31409667, 14.31993332, 16.3410007 ,\n",
       "        7.81038645, 12.67271476, 13.37409511, 10.80717446, 11.79114897,\n",
       "       14.46899039,  9.59112695, 14.53889248,  9.33082004,  6.70575459,\n",
       "       15.51891112, 11.07096616, 14.47537704, 17.82945108, 13.0715617 ])"
      ]
     },
     "execution_count": 39,
     "metadata": {},
     "output_type": "execute_result"
    }
   ],
   "source": [
    "test_scaled = scale(test)\n",
    "lm_pred = lm2.predict(test_scaled)\n",
    "lm_pred"
   ]
  },
  {
   "cell_type": "markdown",
   "metadata": {},
   "source": [
    "### Ridge Regression"
   ]
  },
  {
   "cell_type": "code",
   "execution_count": 40,
   "metadata": {},
   "outputs": [],
   "source": [
    "from sklearn.linear_model import Ridge,Lasso\n",
    "from sklearn.model_selection import GridSearchCV"
   ]
  },
  {
   "cell_type": "markdown",
   "metadata": {},
   "source": [
    "GridSearchCV will help choose the best model by running regression for different values of hyper parameters and evaluate them based on some score"
   ]
  },
  {
   "cell_type": "code",
   "execution_count": 41,
   "metadata": {},
   "outputs": [
    {
     "data": {
      "text/plain": [
       "GridSearchCV(cv=10, error_score='raise-deprecating',\n",
       "       estimator=Ridge(alpha=1.0, copy_X=True, fit_intercept=True, max_iter=None,\n",
       "   normalize=False, random_state=None, solver='auto', tol=0.001),\n",
       "       fit_params=None, iid='warn', n_jobs=None,\n",
       "       param_grid={'alpha': array([  1.,   2., ...,  99., 100.])},\n",
       "       pre_dispatch='2*n_jobs', refit=True, return_train_score='warn',\n",
       "       scoring='neg_mean_absolute_error', verbose=0)"
      ]
     },
     "execution_count": 41,
     "metadata": {},
     "output_type": "execute_result"
    }
   ],
   "source": [
    "lambdas = np.linspace(1,100,100)\n",
    "params = {'alpha':lambdas}              # list of alpha values to run ridge regression on \n",
    "model = Ridge(fit_intercept=True)\n",
    "grid_search = GridSearchCV(model,param_grid=params,cv=10,scoring='neg_mean_absolute_error')\n",
    "grid_search.fit(x_train,y_train)"
   ]
  },
  {
   "cell_type": "code",
   "execution_count": 42,
   "metadata": {},
   "outputs": [
    {
     "data": {
      "text/plain": [
       "Ridge(alpha=34.0, copy_X=True, fit_intercept=True, max_iter=None,\n",
       "   normalize=False, random_state=None, solver='auto', tol=0.001)"
      ]
     },
     "execution_count": 42,
     "metadata": {},
     "output_type": "execute_result"
    }
   ],
   "source": [
    "ridge_model = grid_search.best_estimator_\n",
    "ridge_model"
   ]
  },
  {
   "cell_type": "markdown",
   "metadata": {},
   "source": [
    "alpha = 34 gives the best model in terms of the neg_mean_absolute_error\n",
    "build model with this value"
   ]
  },
  {
   "cell_type": "code",
   "execution_count": 43,
   "metadata": {
    "scrolled": true
   },
   "outputs": [
    {
     "data": {
      "text/plain": [
       "array([15.75109565, 15.73010357, 10.14468459,  3.76958704, 15.19390662,\n",
       "        7.1421839 , 15.53643384, 10.70257787, 15.31068037, 12.45037898,\n",
       "       10.15286276, 15.27174052, 11.60825381, 13.67420137, 13.53345   ,\n",
       "       18.17300231, 10.37918668, 15.79829125, 13.9607565 , 13.97851011,\n",
       "       22.22973825, 17.36171244, 12.24694189, 14.90709652,  9.7564946 ,\n",
       "       10.97897394, 13.1195306 , 19.34856488, 12.1557721 , 16.95856414,\n",
       "       15.04012954, 15.42790216, 12.46104363, 14.87180327, 13.82935252,\n",
       "       14.34132999, 19.36051318, 11.22211157, 11.93499515, 16.70338878,\n",
       "       14.23265138, 11.26540904, 14.75495475, 13.25109647, 15.81460511,\n",
       "       17.1526763 , 14.80002671, 17.04446679, 16.7530149 , 10.50895687,\n",
       "       13.70746069, 19.65219078,  9.63864676, 19.53910361, 15.48829399,\n",
       "       14.71840365, 17.50453102, 14.55799173, 10.99136203, 14.7275581 ,\n",
       "       13.26303071, 16.93513707,  8.88369672, 14.67281728, 10.58491918,\n",
       "       11.50670557, 12.99165982, 14.72452426, 11.75041837, 14.55847203,\n",
       "       14.44175729, 17.62694157, 20.3973319 , 19.49631869, 13.33078051,\n",
       "       16.78953739, 11.34869139, 10.0647794 , 16.42230691,  6.57097408,\n",
       "       16.20482195, 10.44532428,  9.59557905, 13.08550571, 14.04308357,\n",
       "        9.64620056,  9.2764592 , 14.14351289,  8.56102074, 11.77918168,\n",
       "       12.37365035, 16.64072921, 13.52726716, 17.72355326, 13.98966287,\n",
       "       10.42235415,  9.89274666, 16.98696568, 16.72010127, 13.75423097,\n",
       "       15.06861296, 13.54438501, 15.22551253, 14.67921881, 13.09489805,\n",
       "       12.37056719,  8.88776612, 11.8584973 , 10.93334298, 13.49276691,\n",
       "       11.44694519, 20.14469981,  7.63045014, 16.63187873, 15.50124317,\n",
       "        6.66920763, 13.41069995, 14.31246713, 14.72440608,  9.45576028,\n",
       "       16.16542875, 14.3338063 ,  9.09166667, 12.95285682, 17.32236383,\n",
       "       15.96450347,  8.51429102, 18.53325195,  3.0551087 , 12.30311547,\n",
       "       13.95330174, 12.99601827,  9.9990149 , 14.16937957, 18.64819299,\n",
       "       14.20936711, 15.40265736, 13.45398988, 12.84981509,  9.49410953,\n",
       "       14.19081092, 14.46433213, 11.77288486, 11.66669092, 11.82550539,\n",
       "       16.93543581, 12.05313507, 10.54359684,  7.80911698, 10.30421239,\n",
       "       11.47849889, 13.87003522, 10.37762974,  7.43024547, 14.0705435 ,\n",
       "       12.16880002, 11.28277611,  8.08605371, 14.29733708, 14.80132469,\n",
       "       14.17121051,  7.17492208, 15.16521756, 17.84293184, 15.08396599,\n",
       "       16.09256355, 14.64266307, 10.15490646, 13.69638238, 16.75097179,\n",
       "       14.60010699, 13.06473383,  6.71816282, 13.46629136, 10.3489809 ,\n",
       "       10.47913025, 11.27265452,  8.64480731,  9.63589688, 11.72281437,\n",
       "       13.0113467 , 14.21861603, 10.48094605, 13.54008442, 10.50112102,\n",
       "       14.13842087,  7.87411424, 17.63082293, 13.71126088,  9.5504744 ,\n",
       "        7.71072648, 11.41598572, 15.99350033, 15.61406346, 15.05029846,\n",
       "       17.61438596,  8.92963997, 18.81077029,  5.06061429, 13.87883852,\n",
       "       14.51315368, 12.59460597, 17.60188212, 16.61700498,  4.82082737,\n",
       "       15.6142154 , 15.35241932, 19.64669121, 16.42663176,  8.85109971,\n",
       "       14.63759881, 11.06160564, 12.22552778, 14.49264172, 10.62951355,\n",
       "       12.37776843, 13.3927441 , 20.41592342, 13.85370731,  6.39470229,\n",
       "        5.70847031,  9.64417946, 17.95188883, 11.56755029, 15.8429315 ,\n",
       "       14.7095471 , 11.57331748, 11.63768485, 12.69376264, 10.86443085,\n",
       "       11.72851555, 14.89917966, 12.69131458, 15.89590188,  7.69258642,\n",
       "       11.15298026, 13.40073497, 10.55677558,  4.99631395, 19.28604744,\n",
       "       14.27222567, 19.59387761,  7.58488877, 20.37752845, 12.73971569,\n",
       "       12.31600668, 19.49867158,  8.94002714,  7.84539011, 13.16126053,\n",
       "       16.18114217, 15.13717143, 10.83623713, 14.05678649, 15.20030854,\n",
       "       18.75839021, 11.52730183,  8.01534151, 12.74669597, 17.91385271,\n",
       "       16.61178822, 13.46740247, 18.23438855,  7.71593792, 19.75932573,\n",
       "        8.71611317, 15.74435157, 10.84679153,  4.5660639 , 14.94491895,\n",
       "       13.52846786, 12.8891844 ,  6.9206421 , 10.921153  ,  9.99743955,\n",
       "        6.59457847, 14.21880584, 13.95742786, 11.03191622, 14.69934529,\n",
       "       17.38173312, 20.04921361, 16.44591291, 14.24852131, 15.83445679,\n",
       "        8.24701692, 12.84471363, 13.54662789, 11.06073366, 11.8565999 ,\n",
       "       14.40268725,  9.83671817, 14.6015027 ,  9.43749946,  7.24679674,\n",
       "       15.7179182 , 11.14707853, 14.56394097, 17.66652753, 13.21453872])"
      ]
     },
     "execution_count": 43,
     "metadata": {},
     "output_type": "execute_result"
    }
   ],
   "source": [
    "ridge_pred = ridge_model.predict(test)\n",
    "ridge_pred"
   ]
  },
  {
   "cell_type": "markdown",
   "metadata": {},
   "source": [
    "### Lasso Regression"
   ]
  },
  {
   "cell_type": "code",
   "execution_count": 44,
   "metadata": {},
   "outputs": [
    {
     "data": {
      "text/plain": [
       "GridSearchCV(cv=10, error_score='raise-deprecating',\n",
       "       estimator=Lasso(alpha=1.0, copy_X=True, fit_intercept=True, max_iter=1000,\n",
       "   normalize=False, positive=False, precompute=False, random_state=None,\n",
       "   selection='cyclic', tol=0.0001, warm_start=False),\n",
       "       fit_params=None, iid='warn', n_jobs=None,\n",
       "       param_grid={'alpha': array([ 1.     ,  1.09091, ...,  9.90909, 10.     ])},\n",
       "       pre_dispatch='2*n_jobs', refit=True, return_train_score='warn',\n",
       "       scoring='neg_mean_absolute_error', verbose=0)"
      ]
     },
     "execution_count": 44,
     "metadata": {},
     "output_type": "execute_result"
    }
   ],
   "source": [
    "lambdas = np.linspace(1,10,100)\n",
    "model = Lasso(fit_intercept=True)\n",
    "params = {'alpha':lambdas}\n",
    "grid_search = GridSearchCV(model,param_grid=params,cv=10,scoring='neg_mean_absolute_error')\n",
    "grid_search.fit(x_train,y_train)"
   ]
  },
  {
   "cell_type": "code",
   "execution_count": 45,
   "metadata": {},
   "outputs": [
    {
     "data": {
      "text/plain": [
       "Lasso(alpha=1.0, copy_X=True, fit_intercept=True, max_iter=1000,\n",
       "   normalize=False, positive=False, precompute=False, random_state=None,\n",
       "   selection='cyclic', tol=0.0001, warm_start=False)"
      ]
     },
     "execution_count": 45,
     "metadata": {},
     "output_type": "execute_result"
    }
   ],
   "source": [
    "grid_search.best_estimator_"
   ]
  },
  {
   "cell_type": "markdown",
   "metadata": {},
   "source": [
    "since alpha is at one extreme of our range, we should fine tune our lambdas and run again"
   ]
  },
  {
   "cell_type": "code",
   "execution_count": 46,
   "metadata": {},
   "outputs": [
    {
     "data": {
      "text/plain": [
       "GridSearchCV(cv=10, error_score='raise-deprecating',\n",
       "       estimator=Lasso(alpha=1.0, copy_X=True, fit_intercept=True, max_iter=1000,\n",
       "   normalize=False, positive=False, precompute=False, random_state=None,\n",
       "   selection='cyclic', tol=0.0001, warm_start=False),\n",
       "       fit_params=None, iid='warn', n_jobs=None,\n",
       "       param_grid={'alpha': array([1.00000e-03, 2.11919e-02, ..., 1.97981e+00, 2.00000e+00])},\n",
       "       pre_dispatch='2*n_jobs', refit=True, return_train_score='warn',\n",
       "       scoring='neg_mean_absolute_error', verbose=0)"
      ]
     },
     "execution_count": 46,
     "metadata": {},
     "output_type": "execute_result"
    }
   ],
   "source": [
    "lambdas = np.linspace(0.001,2,100)\n",
    "params = {'alpha':lambdas}\n",
    "model = Lasso(fit_intercept=True)\n",
    "grid_search = GridSearchCV(model,param_grid=params,cv=10,scoring='neg_mean_absolute_error')\n",
    "grid_search.fit(x_train,y_train)"
   ]
  },
  {
   "cell_type": "code",
   "execution_count": 50,
   "metadata": {},
   "outputs": [
    {
     "data": {
      "text/plain": [
       "Lasso(alpha=0.021191919191919192, copy_X=True, fit_intercept=True,\n",
       "   max_iter=1000, normalize=False, positive=False, precompute=False,\n",
       "   random_state=None, selection='cyclic', tol=0.0001, warm_start=False)"
      ]
     },
     "execution_count": 50,
     "metadata": {},
     "output_type": "execute_result"
    }
   ],
   "source": [
    "lasso_model = grid_search.best_estimator_\n",
    "lasso_model"
   ]
  },
  {
   "cell_type": "code",
   "execution_count": 53,
   "metadata": {
    "scrolled": true
   },
   "outputs": [
    {
     "data": {
      "text/plain": [
       "array([15.36032328, 15.88916291, 10.26112365,  3.8308861 , 15.30546576,\n",
       "        7.41199396, 15.89833883, 10.49052758, 14.66072998, 12.27577655,\n",
       "       10.20957297, 15.43644094, 11.76009898, 13.52473623, 13.641083  ,\n",
       "       18.16708402, 10.25105383, 15.56859926, 14.01395419, 14.10537963,\n",
       "       22.17721279, 17.83721311, 12.2742275 , 14.90928494,  9.7690368 ,\n",
       "       10.70677987, 13.06113527, 19.58077172, 12.39541509, 17.03788943,\n",
       "       15.30725766, 15.46604565, 12.5958439 , 14.69286867, 13.56654966,\n",
       "       14.33417   , 19.36462143, 11.12257013, 11.77487522, 16.60520708,\n",
       "       14.28329616, 11.45380944, 14.69504677, 13.21462305, 16.04954711,\n",
       "       16.99122131, 15.30819439, 16.76555313, 16.87784164, 10.6079011 ,\n",
       "       13.73995017, 19.70251362,  9.52890554, 19.6061302 , 15.40359972,\n",
       "       14.84705631, 17.9131928 , 14.87009174, 10.86985434, 15.04398748,\n",
       "       13.33618298, 17.02194353,  8.8977951 , 14.57446613, 10.26899544,\n",
       "       11.49567077, 12.94188894, 14.88460125, 11.73323675, 14.60499849,\n",
       "       14.52426406, 17.57010714, 20.30490677, 19.67159388, 13.227468  ,\n",
       "       16.92531756, 11.15689699, 10.22306558, 16.75990991,  6.71975028,\n",
       "       16.30046872, 10.43523733,  9.49037475, 13.1890712 , 13.82757065,\n",
       "        9.86593754,  9.1616104 , 14.37834622,  8.60310173, 11.58839752,\n",
       "       12.34378149, 16.53692067, 13.46777697, 17.80643048, 13.92868476,\n",
       "       10.4933567 ,  9.79824677, 17.05251762, 16.78861615, 13.54924292,\n",
       "       15.36518001, 13.60437115, 15.01380024, 14.8994902 , 12.92593019,\n",
       "       12.09602082,  8.77416455, 11.65805669, 10.97411814, 13.40309463,\n",
       "       11.8239171 , 20.4790996 ,  7.80164609, 16.85832394, 15.28240727,\n",
       "        6.51998334, 13.52039684, 14.35034208, 14.82397346,  9.71230737,\n",
       "       16.08376961, 14.20123168,  9.17434259, 12.77101626, 16.93929677,\n",
       "       15.92530426,  8.52550287, 18.91720396,  2.89562132, 12.34883803,\n",
       "       14.2166716 , 12.7362325 ,  9.71719544, 14.14794613, 18.72699768,\n",
       "       14.32178219, 15.45954474, 13.53096968, 12.54583009,  9.52065892,\n",
       "       14.25599165, 14.15514516, 11.83726516, 11.8496679 , 11.74179069,\n",
       "       16.72132367, 12.00566317, 10.40886791,  7.85658201, 10.21700027,\n",
       "       11.44426971, 13.76719116, 10.20146018,  7.4753348 , 14.15721524,\n",
       "       12.07866672, 11.3662215 ,  8.3291197 , 14.52616175, 14.81693851,\n",
       "       14.18364446,  7.30083413, 15.13361216, 17.94888925, 15.25193023,\n",
       "       16.05300921, 14.32267395, 10.06484297, 13.80669151, 16.77443314,\n",
       "       14.3643654 , 13.03584047,  6.88900644, 13.77016311, 10.32825768,\n",
       "       10.38543856, 11.43456177,  8.63817386,  9.37440595, 11.68091893,\n",
       "       13.362708  , 14.29872246, 10.56718209, 13.99173282, 10.39197861,\n",
       "       14.13222555,  7.20150681, 17.65776882, 13.827591  ,  9.58924923,\n",
       "        7.57383218, 11.14795129, 15.78953859, 15.68444735, 14.80918751,\n",
       "       17.36363875,  9.1031161 , 18.9509681 ,  5.13268974, 13.8959055 ,\n",
       "       14.22817162, 12.62535486, 17.44049497, 16.31095742,  4.93673146,\n",
       "       15.59451942, 15.19298011, 19.98306825, 16.05445585,  8.93420284,\n",
       "       14.47636953, 10.4614617 , 12.39313323, 14.33872592, 10.75606633,\n",
       "       12.43524138, 13.46143256, 20.34521527, 13.58226176,  6.41072764,\n",
       "        5.37317225,  9.98444299, 17.7025874 , 11.64167754, 15.58104126,\n",
       "       14.784075  , 11.35349283, 11.51321221, 13.03334541, 10.79783629,\n",
       "       11.84665457, 14.69308046, 12.52235452, 15.84385198,  7.72713762,\n",
       "       10.86078731, 13.56926927, 10.37632278,  5.20448865, 19.29609626,\n",
       "       14.34387505, 19.62447524,  7.79213671, 20.22393809, 12.42782675,\n",
       "       12.38166353, 19.52247312,  9.1685944 ,  7.94569507, 13.47723419,\n",
       "       16.11090193, 15.21301246, 10.9418597 , 14.03252193, 15.13980167,\n",
       "       18.81493761, 11.50736445,  8.08007235, 12.87239064, 18.05016734,\n",
       "       16.94308653, 13.45917732, 18.3877887 ,  7.80960723, 19.98813544,\n",
       "        8.40240458, 15.6939736 , 11.03541329,  4.6015822 , 14.73479529,\n",
       "       13.6414471 , 12.88778049,  6.91544981, 10.83212461, 10.05892275,\n",
       "        6.71351641, 14.31850739, 14.12854259, 10.85721017, 14.70692441,\n",
       "       17.42088255, 20.09725726, 16.27917559, 14.22996611, 15.53126197,\n",
       "        8.31266459, 12.99930839, 13.21875205, 11.0989765 , 11.6516176 ,\n",
       "       14.29059718, 10.12793824, 14.56706787,  9.02098148,  7.41494792,\n",
       "       15.92572542, 11.11729372, 14.67652528, 17.84448664, 13.63618408])"
      ]
     },
     "execution_count": 53,
     "metadata": {},
     "output_type": "execute_result"
    }
   ],
   "source": [
    "lasso_pred = lasso_model.predict(test)\n",
    "lasso_pred"
   ]
  },
  {
   "cell_type": "code",
   "execution_count": 54,
   "metadata": {
    "scrolled": true
   },
   "outputs": [
    {
     "data": {
      "text/html": [
       "<div>\n",
       "<style scoped>\n",
       "    .dataframe tbody tr th:only-of-type {\n",
       "        vertical-align: middle;\n",
       "    }\n",
       "\n",
       "    .dataframe tbody tr th {\n",
       "        vertical-align: top;\n",
       "    }\n",
       "\n",
       "    .dataframe thead th {\n",
       "        text-align: right;\n",
       "    }\n",
       "</style>\n",
       "<table border=\"1\" class=\"dataframe\">\n",
       "  <thead>\n",
       "    <tr style=\"text-align: right;\">\n",
       "      <th></th>\n",
       "      <th>Linear</th>\n",
       "      <th>Ridge</th>\n",
       "      <th>Lasso</th>\n",
       "    </tr>\n",
       "  </thead>\n",
       "  <tbody>\n",
       "    <tr>\n",
       "      <th>0</th>\n",
       "      <td>16.396962</td>\n",
       "      <td>15.751096</td>\n",
       "      <td>15.360323</td>\n",
       "    </tr>\n",
       "    <tr>\n",
       "      <th>1</th>\n",
       "      <td>15.769741</td>\n",
       "      <td>15.730104</td>\n",
       "      <td>15.889163</td>\n",
       "    </tr>\n",
       "    <tr>\n",
       "      <th>2</th>\n",
       "      <td>10.202518</td>\n",
       "      <td>10.144685</td>\n",
       "      <td>10.261124</td>\n",
       "    </tr>\n",
       "    <tr>\n",
       "      <th>3</th>\n",
       "      <td>3.123001</td>\n",
       "      <td>3.769587</td>\n",
       "      <td>3.830886</td>\n",
       "    </tr>\n",
       "    <tr>\n",
       "      <th>4</th>\n",
       "      <td>15.188599</td>\n",
       "      <td>15.193907</td>\n",
       "      <td>15.305466</td>\n",
       "    </tr>\n",
       "    <tr>\n",
       "      <th>5</th>\n",
       "      <td>6.590855</td>\n",
       "      <td>7.142184</td>\n",
       "      <td>7.411994</td>\n",
       "    </tr>\n",
       "    <tr>\n",
       "      <th>6</th>\n",
       "      <td>15.625801</td>\n",
       "      <td>15.536434</td>\n",
       "      <td>15.898339</td>\n",
       "    </tr>\n",
       "    <tr>\n",
       "      <th>7</th>\n",
       "      <td>10.562924</td>\n",
       "      <td>10.702578</td>\n",
       "      <td>10.490528</td>\n",
       "    </tr>\n",
       "    <tr>\n",
       "      <th>8</th>\n",
       "      <td>15.876530</td>\n",
       "      <td>15.310680</td>\n",
       "      <td>14.660730</td>\n",
       "    </tr>\n",
       "    <tr>\n",
       "      <th>9</th>\n",
       "      <td>12.319607</td>\n",
       "      <td>12.450379</td>\n",
       "      <td>12.275777</td>\n",
       "    </tr>\n",
       "    <tr>\n",
       "      <th>10</th>\n",
       "      <td>9.380971</td>\n",
       "      <td>10.152863</td>\n",
       "      <td>10.209573</td>\n",
       "    </tr>\n",
       "    <tr>\n",
       "      <th>11</th>\n",
       "      <td>14.846149</td>\n",
       "      <td>15.271741</td>\n",
       "      <td>15.436441</td>\n",
       "    </tr>\n",
       "    <tr>\n",
       "      <th>12</th>\n",
       "      <td>11.188328</td>\n",
       "      <td>11.608254</td>\n",
       "      <td>11.760099</td>\n",
       "    </tr>\n",
       "    <tr>\n",
       "      <th>13</th>\n",
       "      <td>13.668304</td>\n",
       "      <td>13.674201</td>\n",
       "      <td>13.524736</td>\n",
       "    </tr>\n",
       "    <tr>\n",
       "      <th>14</th>\n",
       "      <td>13.431772</td>\n",
       "      <td>13.533450</td>\n",
       "      <td>13.641083</td>\n",
       "    </tr>\n",
       "    <tr>\n",
       "      <th>15</th>\n",
       "      <td>18.241058</td>\n",
       "      <td>18.173002</td>\n",
       "      <td>18.167084</td>\n",
       "    </tr>\n",
       "    <tr>\n",
       "      <th>16</th>\n",
       "      <td>10.015601</td>\n",
       "      <td>10.379187</td>\n",
       "      <td>10.251054</td>\n",
       "    </tr>\n",
       "    <tr>\n",
       "      <th>17</th>\n",
       "      <td>15.916346</td>\n",
       "      <td>15.798291</td>\n",
       "      <td>15.568599</td>\n",
       "    </tr>\n",
       "    <tr>\n",
       "      <th>18</th>\n",
       "      <td>13.754284</td>\n",
       "      <td>13.960757</td>\n",
       "      <td>14.013954</td>\n",
       "    </tr>\n",
       "    <tr>\n",
       "      <th>19</th>\n",
       "      <td>13.870109</td>\n",
       "      <td>13.978510</td>\n",
       "      <td>14.105380</td>\n",
       "    </tr>\n",
       "    <tr>\n",
       "      <th>20</th>\n",
       "      <td>22.620085</td>\n",
       "      <td>22.229738</td>\n",
       "      <td>22.177213</td>\n",
       "    </tr>\n",
       "    <tr>\n",
       "      <th>21</th>\n",
       "      <td>17.466146</td>\n",
       "      <td>17.361712</td>\n",
       "      <td>17.837213</td>\n",
       "    </tr>\n",
       "    <tr>\n",
       "      <th>22</th>\n",
       "      <td>11.663364</td>\n",
       "      <td>12.246942</td>\n",
       "      <td>12.274227</td>\n",
       "    </tr>\n",
       "    <tr>\n",
       "      <th>23</th>\n",
       "      <td>14.861251</td>\n",
       "      <td>14.907097</td>\n",
       "      <td>14.909285</td>\n",
       "    </tr>\n",
       "    <tr>\n",
       "      <th>24</th>\n",
       "      <td>9.460588</td>\n",
       "      <td>9.756495</td>\n",
       "      <td>9.769037</td>\n",
       "    </tr>\n",
       "    <tr>\n",
       "      <th>25</th>\n",
       "      <td>10.981107</td>\n",
       "      <td>10.978974</td>\n",
       "      <td>10.706780</td>\n",
       "    </tr>\n",
       "    <tr>\n",
       "      <th>26</th>\n",
       "      <td>13.073238</td>\n",
       "      <td>13.119531</td>\n",
       "      <td>13.061135</td>\n",
       "    </tr>\n",
       "    <tr>\n",
       "      <th>27</th>\n",
       "      <td>19.480641</td>\n",
       "      <td>19.348565</td>\n",
       "      <td>19.580772</td>\n",
       "    </tr>\n",
       "    <tr>\n",
       "      <th>28</th>\n",
       "      <td>11.976507</td>\n",
       "      <td>12.155772</td>\n",
       "      <td>12.395415</td>\n",
       "    </tr>\n",
       "    <tr>\n",
       "      <th>29</th>\n",
       "      <td>16.593327</td>\n",
       "      <td>16.958564</td>\n",
       "      <td>17.037889</td>\n",
       "    </tr>\n",
       "    <tr>\n",
       "      <th>...</th>\n",
       "      <td>...</td>\n",
       "      <td>...</td>\n",
       "      <td>...</td>\n",
       "    </tr>\n",
       "    <tr>\n",
       "      <th>270</th>\n",
       "      <td>13.494545</td>\n",
       "      <td>13.528468</td>\n",
       "      <td>13.641447</td>\n",
       "    </tr>\n",
       "    <tr>\n",
       "      <th>271</th>\n",
       "      <td>12.718387</td>\n",
       "      <td>12.889184</td>\n",
       "      <td>12.887780</td>\n",
       "    </tr>\n",
       "    <tr>\n",
       "      <th>272</th>\n",
       "      <td>6.316509</td>\n",
       "      <td>6.920642</td>\n",
       "      <td>6.915450</td>\n",
       "    </tr>\n",
       "    <tr>\n",
       "      <th>273</th>\n",
       "      <td>10.274757</td>\n",
       "      <td>10.921153</td>\n",
       "      <td>10.832125</td>\n",
       "    </tr>\n",
       "    <tr>\n",
       "      <th>274</th>\n",
       "      <td>9.591844</td>\n",
       "      <td>9.997440</td>\n",
       "      <td>10.058923</td>\n",
       "    </tr>\n",
       "    <tr>\n",
       "      <th>275</th>\n",
       "      <td>6.083857</td>\n",
       "      <td>6.594578</td>\n",
       "      <td>6.713516</td>\n",
       "    </tr>\n",
       "    <tr>\n",
       "      <th>276</th>\n",
       "      <td>14.183711</td>\n",
       "      <td>14.218806</td>\n",
       "      <td>14.318507</td>\n",
       "    </tr>\n",
       "    <tr>\n",
       "      <th>277</th>\n",
       "      <td>13.885909</td>\n",
       "      <td>13.957428</td>\n",
       "      <td>14.128543</td>\n",
       "    </tr>\n",
       "    <tr>\n",
       "      <th>278</th>\n",
       "      <td>10.678763</td>\n",
       "      <td>11.031916</td>\n",
       "      <td>10.857210</td>\n",
       "    </tr>\n",
       "    <tr>\n",
       "      <th>279</th>\n",
       "      <td>14.651331</td>\n",
       "      <td>14.699345</td>\n",
       "      <td>14.706924</td>\n",
       "    </tr>\n",
       "    <tr>\n",
       "      <th>280</th>\n",
       "      <td>17.214887</td>\n",
       "      <td>17.381733</td>\n",
       "      <td>17.420883</td>\n",
       "    </tr>\n",
       "    <tr>\n",
       "      <th>281</th>\n",
       "      <td>20.286452</td>\n",
       "      <td>20.049214</td>\n",
       "      <td>20.097257</td>\n",
       "    </tr>\n",
       "    <tr>\n",
       "      <th>282</th>\n",
       "      <td>16.314097</td>\n",
       "      <td>16.445913</td>\n",
       "      <td>16.279176</td>\n",
       "    </tr>\n",
       "    <tr>\n",
       "      <th>283</th>\n",
       "      <td>14.319933</td>\n",
       "      <td>14.248521</td>\n",
       "      <td>14.229966</td>\n",
       "    </tr>\n",
       "    <tr>\n",
       "      <th>284</th>\n",
       "      <td>16.341001</td>\n",
       "      <td>15.834457</td>\n",
       "      <td>15.531262</td>\n",
       "    </tr>\n",
       "    <tr>\n",
       "      <th>285</th>\n",
       "      <td>7.810386</td>\n",
       "      <td>8.247017</td>\n",
       "      <td>8.312665</td>\n",
       "    </tr>\n",
       "    <tr>\n",
       "      <th>286</th>\n",
       "      <td>12.672715</td>\n",
       "      <td>12.844714</td>\n",
       "      <td>12.999308</td>\n",
       "    </tr>\n",
       "    <tr>\n",
       "      <th>287</th>\n",
       "      <td>13.374095</td>\n",
       "      <td>13.546628</td>\n",
       "      <td>13.218752</td>\n",
       "    </tr>\n",
       "    <tr>\n",
       "      <th>288</th>\n",
       "      <td>10.807174</td>\n",
       "      <td>11.060734</td>\n",
       "      <td>11.098977</td>\n",
       "    </tr>\n",
       "    <tr>\n",
       "      <th>289</th>\n",
       "      <td>11.791149</td>\n",
       "      <td>11.856600</td>\n",
       "      <td>11.651618</td>\n",
       "    </tr>\n",
       "    <tr>\n",
       "      <th>290</th>\n",
       "      <td>14.468990</td>\n",
       "      <td>14.402687</td>\n",
       "      <td>14.290597</td>\n",
       "    </tr>\n",
       "    <tr>\n",
       "      <th>291</th>\n",
       "      <td>9.591127</td>\n",
       "      <td>9.836718</td>\n",
       "      <td>10.127938</td>\n",
       "    </tr>\n",
       "    <tr>\n",
       "      <th>292</th>\n",
       "      <td>14.538892</td>\n",
       "      <td>14.601503</td>\n",
       "      <td>14.567068</td>\n",
       "    </tr>\n",
       "    <tr>\n",
       "      <th>293</th>\n",
       "      <td>9.330820</td>\n",
       "      <td>9.437499</td>\n",
       "      <td>9.020981</td>\n",
       "    </tr>\n",
       "    <tr>\n",
       "      <th>294</th>\n",
       "      <td>6.705755</td>\n",
       "      <td>7.246797</td>\n",
       "      <td>7.414948</td>\n",
       "    </tr>\n",
       "    <tr>\n",
       "      <th>295</th>\n",
       "      <td>15.518911</td>\n",
       "      <td>15.717918</td>\n",
       "      <td>15.925725</td>\n",
       "    </tr>\n",
       "    <tr>\n",
       "      <th>296</th>\n",
       "      <td>11.070966</td>\n",
       "      <td>11.147079</td>\n",
       "      <td>11.117294</td>\n",
       "    </tr>\n",
       "    <tr>\n",
       "      <th>297</th>\n",
       "      <td>14.475377</td>\n",
       "      <td>14.563941</td>\n",
       "      <td>14.676525</td>\n",
       "    </tr>\n",
       "    <tr>\n",
       "      <th>298</th>\n",
       "      <td>17.829451</td>\n",
       "      <td>17.666528</td>\n",
       "      <td>17.844487</td>\n",
       "    </tr>\n",
       "    <tr>\n",
       "      <th>299</th>\n",
       "      <td>13.071562</td>\n",
       "      <td>13.214539</td>\n",
       "      <td>13.636184</td>\n",
       "    </tr>\n",
       "  </tbody>\n",
       "</table>\n",
       "<p>300 rows × 3 columns</p>\n",
       "</div>"
      ],
      "text/plain": [
       "        Linear      Ridge      Lasso\n",
       "0    16.396962  15.751096  15.360323\n",
       "1    15.769741  15.730104  15.889163\n",
       "2    10.202518  10.144685  10.261124\n",
       "3     3.123001   3.769587   3.830886\n",
       "4    15.188599  15.193907  15.305466\n",
       "5     6.590855   7.142184   7.411994\n",
       "6    15.625801  15.536434  15.898339\n",
       "7    10.562924  10.702578  10.490528\n",
       "8    15.876530  15.310680  14.660730\n",
       "9    12.319607  12.450379  12.275777\n",
       "10    9.380971  10.152863  10.209573\n",
       "11   14.846149  15.271741  15.436441\n",
       "12   11.188328  11.608254  11.760099\n",
       "13   13.668304  13.674201  13.524736\n",
       "14   13.431772  13.533450  13.641083\n",
       "15   18.241058  18.173002  18.167084\n",
       "16   10.015601  10.379187  10.251054\n",
       "17   15.916346  15.798291  15.568599\n",
       "18   13.754284  13.960757  14.013954\n",
       "19   13.870109  13.978510  14.105380\n",
       "20   22.620085  22.229738  22.177213\n",
       "21   17.466146  17.361712  17.837213\n",
       "22   11.663364  12.246942  12.274227\n",
       "23   14.861251  14.907097  14.909285\n",
       "24    9.460588   9.756495   9.769037\n",
       "25   10.981107  10.978974  10.706780\n",
       "26   13.073238  13.119531  13.061135\n",
       "27   19.480641  19.348565  19.580772\n",
       "28   11.976507  12.155772  12.395415\n",
       "29   16.593327  16.958564  17.037889\n",
       "..         ...        ...        ...\n",
       "270  13.494545  13.528468  13.641447\n",
       "271  12.718387  12.889184  12.887780\n",
       "272   6.316509   6.920642   6.915450\n",
       "273  10.274757  10.921153  10.832125\n",
       "274   9.591844   9.997440  10.058923\n",
       "275   6.083857   6.594578   6.713516\n",
       "276  14.183711  14.218806  14.318507\n",
       "277  13.885909  13.957428  14.128543\n",
       "278  10.678763  11.031916  10.857210\n",
       "279  14.651331  14.699345  14.706924\n",
       "280  17.214887  17.381733  17.420883\n",
       "281  20.286452  20.049214  20.097257\n",
       "282  16.314097  16.445913  16.279176\n",
       "283  14.319933  14.248521  14.229966\n",
       "284  16.341001  15.834457  15.531262\n",
       "285   7.810386   8.247017   8.312665\n",
       "286  12.672715  12.844714  12.999308\n",
       "287  13.374095  13.546628  13.218752\n",
       "288  10.807174  11.060734  11.098977\n",
       "289  11.791149  11.856600  11.651618\n",
       "290  14.468990  14.402687  14.290597\n",
       "291   9.591127   9.836718  10.127938\n",
       "292  14.538892  14.601503  14.567068\n",
       "293   9.330820   9.437499   9.020981\n",
       "294   6.705755   7.246797   7.414948\n",
       "295  15.518911  15.717918  15.925725\n",
       "296  11.070966  11.147079  11.117294\n",
       "297  14.475377  14.563941  14.676525\n",
       "298  17.829451  17.666528  17.844487\n",
       "299  13.071562  13.214539  13.636184\n",
       "\n",
       "[300 rows x 3 columns]"
      ]
     },
     "execution_count": 54,
     "metadata": {},
     "output_type": "execute_result"
    }
   ],
   "source": [
    "DataFrame({'Linear':lm_pred, 'Ridge':ridge_pred, 'Lasso':lasso_pred})"
   ]
  },
  {
   "cell_type": "markdown",
   "metadata": {},
   "source": [
    "- If you have too many columns, use LASSO since it will reduce dimensions (remove insignificant columns)\n",
    "- If you don't have too many columns, use Ridge since it will not remove but just shrink the insignificant variables\n",
    "- usually expect $num\\_rows = (num\\_col)^3$\n",
    "- if rows less than expected then we want to reduce dimesnions so use LASSO,\n",
    "- else use Ridge"
   ]
  },
  {
   "cell_type": "code",
   "execution_count": null,
   "metadata": {},
   "outputs": [],
   "source": []
  }
 ],
 "metadata": {
  "kernelspec": {
   "display_name": "Python 3",
   "language": "python",
   "name": "python3"
  },
  "language_info": {
   "codemirror_mode": {
    "name": "ipython",
    "version": 3
   },
   "file_extension": ".py",
   "mimetype": "text/x-python",
   "name": "python",
   "nbconvert_exporter": "python",
   "pygments_lexer": "ipython3",
   "version": "3.7.3"
  },
  "toc": {
   "base_numbering": 1,
   "nav_menu": {},
   "number_sections": false,
   "sideBar": true,
   "skip_h1_title": true,
   "title_cell": "Table of Contents",
   "title_sidebar": "Contents",
   "toc_cell": false,
   "toc_position": {},
   "toc_section_display": true,
   "toc_window_display": true
  }
 },
 "nbformat": 4,
 "nbformat_minor": 2
}
