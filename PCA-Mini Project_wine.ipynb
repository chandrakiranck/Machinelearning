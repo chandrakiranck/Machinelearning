{
 "cells": [
  {
   "cell_type": "code",
   "execution_count": 1,
   "metadata": {},
   "outputs": [],
   "source": [
    "# To enable plotting graphs in Jupyter notebook\n",
    "%matplotlib inline "
   ]
  },
  {
   "cell_type": "code",
   "execution_count": 2,
   "metadata": {},
   "outputs": [],
   "source": [
    "import pandas as pd\n",
    "import numpy as np\n",
    "import matplotlib.pyplot as plt "
   ]
  },
  {
   "cell_type": "code",
   "execution_count": 6,
   "metadata": {},
   "outputs": [],
   "source": [
    "wine_df_columns = [ 'class', 'Alcohol', 'Malicity', 'Ash', 'Alcanity', 'Magnesium', 'TotalPhenol', 'Flavanoids', \n",
    "                  'NonFlavanoids', 'Prothocyanins', 'ColorIntensity', 'Hue', 'fracdiluted', 'Proline' ]"
   ]
  },
  {
   "cell_type": "code",
   "execution_count": 11,
   "metadata": {},
   "outputs": [],
   "source": [
    "wine_df = pd.read_csv(\"wine.csv\", names=wine_df_columns)"
   ]
  },
  {
   "cell_type": "code",
   "execution_count": 12,
   "metadata": {},
   "outputs": [
    {
     "data": {
      "text/html": [
       "<div>\n",
       "<style scoped>\n",
       "    .dataframe tbody tr th:only-of-type {\n",
       "        vertical-align: middle;\n",
       "    }\n",
       "\n",
       "    .dataframe tbody tr th {\n",
       "        vertical-align: top;\n",
       "    }\n",
       "\n",
       "    .dataframe thead th {\n",
       "        text-align: right;\n",
       "    }\n",
       "</style>\n",
       "<table border=\"1\" class=\"dataframe\">\n",
       "  <thead>\n",
       "    <tr style=\"text-align: right;\">\n",
       "      <th></th>\n",
       "      <th>class</th>\n",
       "      <th>Alcohol</th>\n",
       "      <th>Malicity</th>\n",
       "      <th>Ash</th>\n",
       "      <th>Alcanity</th>\n",
       "      <th>Magnesium</th>\n",
       "      <th>TotalPhenol</th>\n",
       "      <th>Flavanoids</th>\n",
       "      <th>NonFlavanoids</th>\n",
       "      <th>Prothocyanins</th>\n",
       "      <th>ColorIntensity</th>\n",
       "      <th>Hue</th>\n",
       "      <th>fracdiluted</th>\n",
       "      <th>Proline</th>\n",
       "    </tr>\n",
       "  </thead>\n",
       "  <tbody>\n",
       "    <tr>\n",
       "      <th>0</th>\n",
       "      <td>1</td>\n",
       "      <td>14.23</td>\n",
       "      <td>1.71</td>\n",
       "      <td>2.43</td>\n",
       "      <td>15.6</td>\n",
       "      <td>127</td>\n",
       "      <td>2.80</td>\n",
       "      <td>3.06</td>\n",
       "      <td>0.28</td>\n",
       "      <td>2.29</td>\n",
       "      <td>5.64</td>\n",
       "      <td>1.04</td>\n",
       "      <td>3.92</td>\n",
       "      <td>1065</td>\n",
       "    </tr>\n",
       "    <tr>\n",
       "      <th>1</th>\n",
       "      <td>1</td>\n",
       "      <td>13.20</td>\n",
       "      <td>1.78</td>\n",
       "      <td>2.14</td>\n",
       "      <td>11.2</td>\n",
       "      <td>100</td>\n",
       "      <td>2.65</td>\n",
       "      <td>2.76</td>\n",
       "      <td>0.26</td>\n",
       "      <td>1.28</td>\n",
       "      <td>4.38</td>\n",
       "      <td>1.05</td>\n",
       "      <td>3.40</td>\n",
       "      <td>1050</td>\n",
       "    </tr>\n",
       "    <tr>\n",
       "      <th>2</th>\n",
       "      <td>1</td>\n",
       "      <td>13.16</td>\n",
       "      <td>2.36</td>\n",
       "      <td>2.67</td>\n",
       "      <td>18.6</td>\n",
       "      <td>101</td>\n",
       "      <td>2.80</td>\n",
       "      <td>3.24</td>\n",
       "      <td>0.30</td>\n",
       "      <td>2.81</td>\n",
       "      <td>5.68</td>\n",
       "      <td>1.03</td>\n",
       "      <td>3.17</td>\n",
       "      <td>1185</td>\n",
       "    </tr>\n",
       "    <tr>\n",
       "      <th>3</th>\n",
       "      <td>1</td>\n",
       "      <td>14.37</td>\n",
       "      <td>1.95</td>\n",
       "      <td>2.50</td>\n",
       "      <td>16.8</td>\n",
       "      <td>113</td>\n",
       "      <td>3.85</td>\n",
       "      <td>3.49</td>\n",
       "      <td>0.24</td>\n",
       "      <td>2.18</td>\n",
       "      <td>7.80</td>\n",
       "      <td>0.86</td>\n",
       "      <td>3.45</td>\n",
       "      <td>1480</td>\n",
       "    </tr>\n",
       "    <tr>\n",
       "      <th>4</th>\n",
       "      <td>1</td>\n",
       "      <td>13.24</td>\n",
       "      <td>2.59</td>\n",
       "      <td>2.87</td>\n",
       "      <td>21.0</td>\n",
       "      <td>118</td>\n",
       "      <td>2.80</td>\n",
       "      <td>2.69</td>\n",
       "      <td>0.39</td>\n",
       "      <td>1.82</td>\n",
       "      <td>4.32</td>\n",
       "      <td>1.04</td>\n",
       "      <td>2.93</td>\n",
       "      <td>735</td>\n",
       "    </tr>\n",
       "  </tbody>\n",
       "</table>\n",
       "</div>"
      ],
      "text/plain": [
       "   class  Alcohol  Malicity   Ash  Alcanity  Magnesium  TotalPhenol  \\\n",
       "0      1    14.23      1.71  2.43      15.6        127         2.80   \n",
       "1      1    13.20      1.78  2.14      11.2        100         2.65   \n",
       "2      1    13.16      2.36  2.67      18.6        101         2.80   \n",
       "3      1    14.37      1.95  2.50      16.8        113         3.85   \n",
       "4      1    13.24      2.59  2.87      21.0        118         2.80   \n",
       "\n",
       "   Flavanoids  NonFlavanoids  Prothocyanins  ColorIntensity   Hue  \\\n",
       "0        3.06           0.28           2.29            5.64  1.04   \n",
       "1        2.76           0.26           1.28            4.38  1.05   \n",
       "2        3.24           0.30           2.81            5.68  1.03   \n",
       "3        3.49           0.24           2.18            7.80  0.86   \n",
       "4        2.69           0.39           1.82            4.32  1.04   \n",
       "\n",
       "   fracdiluted  Proline  \n",
       "0         3.92     1065  \n",
       "1         3.40     1050  \n",
       "2         3.17     1185  \n",
       "3         3.45     1480  \n",
       "4         2.93      735  "
      ]
     },
     "execution_count": 12,
     "metadata": {},
     "output_type": "execute_result"
    }
   ],
   "source": [
    "wine_df.head()"
   ]
  },
  {
   "cell_type": "code",
   "execution_count": 13,
   "metadata": {},
   "outputs": [],
   "source": [
    "# Split the wine data into separate training (70%) and test (30%) sets and then standardize it to unit variance:\n",
    "\n",
    "\n",
    "\n",
    "from sklearn.model_selection import train_test_split\n",
    "from sklearn.preprocessing import StandardScaler\n",
    "\n",
    "X,y = wine_df.iloc[:, 1:].values , wine_df.iloc[:,0].values\n",
    "X_train, X_test, y_train, y_test = train_test_split(X, y, test_size=0.3 , random_state=0)\n",
    "sc = StandardScaler()\n",
    "X_train_std = sc.fit_transform(X_train)\n",
    "X_test_std = sc.fit_transform(X_test)\n"
   ]
  },
  {
   "cell_type": "code",
   "execution_count": 14,
   "metadata": {},
   "outputs": [],
   "source": [
    "#Now we want to construct the covariance matrix which is symmetric with d×d-dimension, where d is the dataset dimension. The covariance matrix stores the pairwise covariances between the different features.\n",
    "\n",
    "covariant_matrix= np.cov(X_train_std.T)"
   ]
  },
  {
   "cell_type": "code",
   "execution_count": 15,
   "metadata": {},
   "outputs": [
    {
     "data": {
      "text/plain": [
       "array([[ 1.00813008,  0.08797701,  0.23066952, -0.32868099,  0.2141631 ,\n",
       "         0.35576761,  0.2991246 , -0.16913744,  0.09649074,  0.56962271,\n",
       "        -0.04781543,  0.07403492,  0.63277882],\n",
       "       [ 0.08797701,  1.00813008,  0.2016416 ,  0.30658143, -0.06030917,\n",
       "        -0.30124242, -0.41221162,  0.36616593, -0.19190146,  0.30749173,\n",
       "        -0.54992807, -0.39352761, -0.20253906],\n",
       "       [ 0.23066952,  0.2016416 ,  1.00813008,  0.44971971,  0.18321413,\n",
       "         0.12235533,  0.06130256,  0.18655693, -0.02607834,  0.24555355,\n",
       "        -0.10928021, -0.01820002,  0.15948032],\n",
       "       [-0.32868099,  0.30658143,  0.44971971,  1.00813008, -0.08930998,\n",
       "        -0.37018442, -0.41804463,  0.40212108, -0.25765667, -0.03090225,\n",
       "        -0.25313262, -0.28934372, -0.48504311],\n",
       "       [ 0.2141631 , -0.06030917,  0.18321413, -0.08930998,  1.00813008,\n",
       "         0.16513295,  0.14458703, -0.30763563,  0.27228619,  0.1260674 ,\n",
       "         0.05792599,  0.01596134,  0.31461066],\n",
       "       [ 0.35576761, -0.30124242,  0.12235533, -0.37018442,  0.16513295,\n",
       "         1.00813008,  0.88119961, -0.45396901,  0.6196806 , -0.06935051,\n",
       "         0.45718802,  0.72214462,  0.56326772],\n",
       "       [ 0.2991246 , -0.41221162,  0.06130256, -0.41804463,  0.14458703,\n",
       "         0.88119961,  1.00813008, -0.58329952,  0.66598997, -0.19183675,\n",
       "         0.58331869,  0.80205789,  0.55759374],\n",
       "       [-0.16913744,  0.36616593,  0.18655693,  0.40212108, -0.30763563,\n",
       "        -0.45396901, -0.58329952,  1.00813008, -0.35394023,  0.15451294,\n",
       "        -0.3178224 , -0.49379349, -0.36456587],\n",
       "       [ 0.09649074, -0.19190146, -0.02607834, -0.25765667,  0.27228619,\n",
       "         0.6196806 ,  0.66598997, -0.35394023,  1.00813008, -0.07018068,\n",
       "         0.32282167,  0.51036557,  0.35552117],\n",
       "       [ 0.56962271,  0.30749173,  0.24555355, -0.03090225,  0.1260674 ,\n",
       "        -0.06935051, -0.19183675,  0.15451294, -0.07018068,  1.00813008,\n",
       "        -0.52395358, -0.45165752,  0.31605457],\n",
       "       [-0.04781543, -0.54992807, -0.10928021, -0.25313262,  0.05792599,\n",
       "         0.45718802,  0.58331869, -0.3178224 ,  0.32282167, -0.52395358,\n",
       "         1.00813008,  0.60022569,  0.2452794 ],\n",
       "       [ 0.07403492, -0.39352761, -0.01820002, -0.28934372,  0.01596134,\n",
       "         0.72214462,  0.80205789, -0.49379349,  0.51036557, -0.45165752,\n",
       "         0.60022569,  1.00813008,  0.32437157],\n",
       "       [ 0.63277882, -0.20253906,  0.15948032, -0.48504311,  0.31461066,\n",
       "         0.56326772,  0.55759374, -0.36456587,  0.35552117,  0.31605457,\n",
       "         0.2452794 ,  0.32437157,  1.00813008]])"
      ]
     },
     "execution_count": 15,
     "metadata": {},
     "output_type": "execute_result"
    }
   ],
   "source": [
    "# Display covariant matrix . This is a 13 X 13 square matrix\n",
    "\n",
    "covariant_matrix"
   ]
  },
  {
   "cell_type": "code",
   "execution_count": 16,
   "metadata": {},
   "outputs": [],
   "source": [
    "#The eigenvectors of the covariance matrix represent the principal components, while the corresponding eigenvalues \n",
    "# define their magnitude.\n",
    "\n",
    "# In the case of the Wine dataset, we obtain 13 eigenvectors and eigenvalues from the 13×13 covariance matrix.\n",
    "\n",
    "# An eigenvector ν satisfies the following condition where lambda is the eigenvalue: # Aν = λν \n",
    " \n",
    "# We use the linalg.eig function from NumPy to obtain the eigenpairs of the Wine covariance matrix:\n",
    "\n",
    "\n",
    "eigen_values , eigen_vectors = np.linalg.eig(covariant_matrix)"
   ]
  },
  {
   "cell_type": "code",
   "execution_count": 17,
   "metadata": {},
   "outputs": [
    {
     "data": {
      "text/plain": [
       "(array([4.8923083 , 2.46635032, 1.42809973, 1.01233462, 0.84906459,\n",
       "        0.60181514, 0.52251546, 0.08414846, 0.33051429, 0.29595018,\n",
       "        0.16831254, 0.21432212, 0.2399553 ]),\n",
       " array([[ 1.46698114e-01,  5.04170789e-01, -1.17235150e-01,\n",
       "          2.06254611e-01, -1.87815947e-01, -1.48851318e-01,\n",
       "         -1.79263662e-01, -5.54687162e-02, -4.03054922e-01,\n",
       "         -4.17197583e-01,  2.75660860e-01,  4.03567189e-01,\n",
       "          4.13320786e-04],\n",
       "        [-2.42245536e-01,  2.42168894e-01,  1.49946576e-01,\n",
       "          1.30489298e-01,  5.68639776e-01, -2.69052764e-01,\n",
       "         -5.92636731e-01,  3.32731614e-02, -1.01833706e-01,\n",
       "          2.17101488e-01, -8.13845005e-02, -1.52474999e-01,\n",
       "         -8.78560762e-02],\n",
       "        [-2.99344215e-02,  2.86984836e-01,  6.56394387e-01,\n",
       "          1.51536318e-02, -2.99209426e-01, -9.33386061e-02,\n",
       "          6.07334578e-02, -1.00618575e-01,  3.51841423e-01,\n",
       "          1.28549846e-01, -1.29751275e-02,  1.68376064e-01,\n",
       "         -4.52518598e-01],\n",
       "        [-2.55190023e-01, -6.46871827e-02,  5.84282337e-01,\n",
       "         -9.04220851e-02, -4.12499478e-02, -1.01342392e-01,\n",
       "          2.50323869e-01,  5.61658566e-02, -5.00457282e-01,\n",
       "          4.73344124e-02,  9.89088030e-02, -6.70902926e-02,\n",
       "          4.86169765e-01],\n",
       "        [ 1.20797723e-01,  2.29953850e-01,  8.22627466e-02,\n",
       "         -8.39128346e-01, -2.71971315e-02,  1.12567350e-01,\n",
       "         -2.85240559e-01,  9.58423947e-02,  8.37391743e-02,\n",
       "         -2.78918776e-01, -9.59297663e-02, -1.02396856e-01,\n",
       "          1.14764951e-01],\n",
       "        [ 3.89344551e-01,  9.36399132e-02,  1.80804417e-01,\n",
       "          1.93179478e-01,  1.40645426e-01,  1.22248798e-02,\n",
       "          5.31455344e-02, -4.21265116e-01,  1.35111456e-01,\n",
       "         -2.80985650e-01,  2.83897644e-01, -6.18600153e-01,\n",
       "          9.45645138e-02],\n",
       "        [ 4.23264856e-01,  1.08862204e-02,  1.42959330e-01,\n",
       "          1.40459548e-01,  9.26866486e-02, -5.50345182e-02,\n",
       "          7.98994076e-02,  8.47224703e-01,  3.36016514e-03,\n",
       "         -3.91442963e-02,  1.16729207e-01, -1.39680277e-01,\n",
       "         -1.00444099e-01],\n",
       "        [-3.06349555e-01,  1.87021637e-02,  1.72234753e-01,\n",
       "          3.37332618e-01, -8.58416771e-02,  6.95340883e-01,\n",
       "         -2.97371718e-01,  1.66256803e-01,  1.90120758e-01,\n",
       "         -2.78622194e-01, -3.96566280e-02,  1.63323514e-03,\n",
       "          2.00128778e-01],\n",
       "        [ 3.05722194e-01,  3.04035180e-02,  1.58362102e-01,\n",
       "         -1.14752900e-01,  5.65105241e-01,  4.98354410e-01,\n",
       "          2.02519133e-01, -1.66197468e-01, -1.76029939e-01,\n",
       "          1.48539457e-01,  8.60602743e-02,  3.88568490e-01,\n",
       "         -1.39942067e-01],\n",
       "        [-9.86919131e-02,  5.45270809e-01, -1.42421708e-01,\n",
       "          7.87857057e-02,  1.32346052e-02,  1.59452160e-01,\n",
       "          3.97364107e-01,  3.96173606e-02, -2.14930670e-01,\n",
       "         -4.10240865e-03, -5.71651893e-01, -3.08345904e-01,\n",
       "         -1.15349466e-01],\n",
       "        [ 3.00325353e-01, -2.79243218e-01,  9.32387182e-02,\n",
       "          2.41740256e-02, -3.72610811e-01,  2.16515349e-01,\n",
       "         -3.84654748e-01, -1.05383688e-01, -5.17259438e-01,\n",
       "          1.97814118e-01, -1.98844532e-01, -2.00456386e-01,\n",
       "         -3.02254353e-01],\n",
       "        [ 3.68211538e-01, -1.74365000e-01,  1.96077407e-01,\n",
       "          1.84028641e-01,  8.93796748e-02, -2.35172361e-01,\n",
       "         -8.62903341e-02, -9.95055559e-02,  1.36456039e-01,\n",
       "         -2.38138151e-01, -6.50869713e-01,  2.84100327e-01,\n",
       "          3.18414303e-01],\n",
       "        [ 2.92597130e-01,  3.63154608e-01, -9.73171134e-02,\n",
       "          5.67677845e-02, -2.17529485e-01,  1.05621383e-01,\n",
       "         -1.30298291e-01, -1.60661776e-02,  1.67758429e-01,\n",
       "          6.37350206e-01,  7.12377082e-02,  3.75546771e-02,\n",
       "          5.03247839e-01]]))"
      ]
     },
     "execution_count": 17,
     "metadata": {},
     "output_type": "execute_result"
    }
   ],
   "source": [
    "eigen_values, eigen_vectors"
   ]
  },
  {
   "cell_type": "code",
   "execution_count": 18,
   "metadata": {},
   "outputs": [],
   "source": [
    "# We computed the covariance matrix of the standardized training dataset using the numpy.cov() function.\n",
    "\n",
    "# Using the linalg.eig function, we performed the eigendecomposition that yielded 13 eigenvalues and the \n",
    "# corresponding eigenvectors stored as columns in a 13×13 matrix.\n",
    "\n",
    "# Since we want to reduce the dimensionality of our dataset by compressing it onto a new feature subspace, \n",
    "# we only select the subset of the eigenvectors (principal components) that contains most of the information(variance).\n",
    "\n",
    "# Since the eigenvalues define the magnitude of the eigenvectors, we have to sort the eigenvalues by decreasing\n",
    "# magnitude, and we are interested in the top k eigenvectors based on the values of their corresponding eigenvalues.\n",
    "\n",
    "# But before we collect those k most informative eigenvectors, let's plot the variance explained ratios of \n",
    "# the eigenvalues. The variance explained ratio of an eigenvalue λj is simply the fraction of an eigenvalue\n",
    "# λj and the total sum of the eigenvalues:\n",
    "#  λj / ∑j  (tot is ∑j)\n",
    "\n",
    "\n"
   ]
  },
  {
   "cell_type": "code",
   "execution_count": 19,
   "metadata": {},
   "outputs": [
    {
     "data": {
      "image/png": "[encoded data removed]",
      "text/plain": [
       "<matplotlib.figure.Figure at 0x1ac2552c390>"
      ]
     },
     "metadata": {},
     "output_type": "display_data"
    }
   ],
   "source": [
    "tot = sum(eigen_values)\n",
    "var_explained = [(i / tot) for i in sorted(eigen_values, reverse=True)]  # an array of variance explained by each \n",
    "# eigen vector... there will be 13 entries as there are 13 eigen vectors)\n",
    "cum_var_exp = np.cumsum(var_explained)  # an array of cumulative variance. There will be 13 entries with 13 th entry \n",
    "# cumulative reaching almost 100%\n",
    "\n",
    "\n",
    "plt.bar(range(1,14), var_explained, alpha=0.5, align='center', label='individual explained variance')\n",
    "plt.step(range(1,14),cum_var_exp, where= 'mid', label='cumulative explained variance')\n",
    "plt.ylabel('Explained variance ratio')\n",
    "plt.xlabel('Principal components')\n",
    "plt.legend(loc = 'best')\n",
    "plt.show()\n",
    "\n",
    "\n",
    "# The plot shows that the first principal component alone accounts for 40 percent of the variance. \n",
    "# Also, we can see that the first two principal components combined explain almost 60 percent of the variance \n",
    "# in the data."
   ]
  },
  {
   "cell_type": "code",
   "execution_count": 20,
   "metadata": {},
   "outputs": [
    {
     "data": {
      "text/plain": [
       "[(4.892308303273744,\n",
       "  array([ 0.14669811, -0.24224554, -0.02993442, -0.25519002,  0.12079772,\n",
       "          0.38934455,  0.42326486, -0.30634956,  0.30572219, -0.09869191,\n",
       "          0.30032535,  0.36821154,  0.29259713])),\n",
       " (2.466350315759231,\n",
       "  array([ 0.50417079,  0.24216889,  0.28698484, -0.06468718,  0.22995385,\n",
       "          0.09363991,  0.01088622,  0.01870216,  0.03040352,  0.54527081,\n",
       "         -0.27924322, -0.174365  ,  0.36315461])),\n",
       " (1.4280997275048446,\n",
       "  array([-0.11723515,  0.14994658,  0.65639439,  0.58428234,  0.08226275,\n",
       "          0.18080442,  0.14295933,  0.17223475,  0.1583621 , -0.14242171,\n",
       "          0.09323872,  0.19607741, -0.09731711])),\n",
       " (1.0123346209044954,\n",
       "  array([ 0.20625461,  0.1304893 ,  0.01515363, -0.09042209, -0.83912835,\n",
       "          0.19317948,  0.14045955,  0.33733262, -0.1147529 ,  0.07878571,\n",
       "          0.02417403,  0.18402864,  0.05676778])),\n",
       " (0.8490645933450256,\n",
       "  array([-0.18781595,  0.56863978, -0.29920943, -0.04124995, -0.02719713,\n",
       "          0.14064543,  0.09268665, -0.08584168,  0.56510524,  0.01323461,\n",
       "         -0.37261081,  0.08937967, -0.21752948]))]"
      ]
     },
     "execution_count": 20,
     "metadata": {},
     "output_type": "execute_result"
    }
   ],
   "source": [
    "# We're going to sort the eigen-pairs by descending order of the eigenvalues, and construct a projection matrix\n",
    "# from the selected eigenvectors. Then, using the projection matrix we will transform the data onto the \n",
    "#lower-dimensional subspace.\n",
    "\n",
    "# Let's start by sorting the eigen-pairs by decreasing order of the eigenvalues:\n",
    "\n",
    "eigen_pairs = [(np.abs(eigen_values[i]), eigen_vectors[:,i]) for i in range(len(eigen_values))]\n",
    "eigen_pairs.sort(reverse=True)\n",
    "eigen_pairs[:5]"
   ]
  },
  {
   "cell_type": "code",
   "execution_count": 21,
   "metadata": {},
   "outputs": [],
   "source": [
    "# here we are creating from the eigen-pair table, a 2 dim array of only vectors (each column is one vector)\n",
    "# we are taking only the first two eigen vectors (which cover 60% of variance) for demo purpose\n",
    "\n",
    "# Note that choosing the number of principal components has to be determined from a trade-off between computational \n",
    "# efficiency and the performance of the classifier, however, we only chose two eigenvectors for the demonstration \n",
    "# purpose.\n",
    "\n",
    "# We use hstack (horizontally stack 0th row 1st column, 1st row 1st column). The newaxis() function of np\n",
    "# coverts a row vector to a column vector and stacks those vectors horizontally\n",
    "#Now we've created a 13 × 2 projection matrix W from the top two eigenvectors.\n",
    "\n",
    "\n",
    "\n",
    "\n",
    "\n",
    "w = np.hstack((eigen_pairs[0][1][:, np.newaxis], eigen_pairs[1][1][:, np.newaxis]))"
   ]
  },
  {
   "cell_type": "code",
   "execution_count": 22,
   "metadata": {},
   "outputs": [
    {
     "data": {
      "text/plain": [
       "array([[ 0.14669811,  0.50417079],\n",
       "       [-0.24224554,  0.24216889],\n",
       "       [-0.02993442,  0.28698484],\n",
       "       [-0.25519002, -0.06468718],\n",
       "       [ 0.12079772,  0.22995385],\n",
       "       [ 0.38934455,  0.09363991],\n",
       "       [ 0.42326486,  0.01088622],\n",
       "       [-0.30634956,  0.01870216],\n",
       "       [ 0.30572219,  0.03040352],\n",
       "       [-0.09869191,  0.54527081],\n",
       "       [ 0.30032535, -0.27924322],\n",
       "       [ 0.36821154, -0.174365  ],\n",
       "       [ 0.29259713,  0.36315461]])"
      ]
     },
     "execution_count": 22,
     "metadata": {},
     "output_type": "execute_result"
    }
   ],
   "source": [
    "w"
   ]
  },
  {
   "cell_type": "code",
   "execution_count": 23,
   "metadata": {},
   "outputs": [
    {
     "data": {
      "text/plain": [
       "array([ 0.91083058, -0.46259897, -0.01142613, -0.82067872,  0.06241693,\n",
       "        0.58820446,  0.93565436, -0.7619138 ,  0.13007174, -0.51238741,\n",
       "        0.65706596,  1.94354495,  0.93700997])"
      ]
     },
     "execution_count": 23,
     "metadata": {},
     "output_type": "execute_result"
    }
   ],
   "source": [
    "X_train_std[0]"
   ]
  },
  {
   "cell_type": "code",
   "execution_count": 24,
   "metadata": {},
   "outputs": [
    {
     "data": {
      "text/plain": [
       "array([2.59891628, 0.00484089])"
      ]
     },
     "execution_count": 24,
     "metadata": {},
     "output_type": "execute_result"
    }
   ],
   "source": [
    "# we want to transform the Wine dataset (X_traini_std) onto the new principal component axes\n",
    "# Transform dataset onto a new principal axes using matrix multiplication (shown as dot operation)\n",
    "\n",
    "X_train_std[0].dot(w)"
   ]
  },
  {
   "cell_type": "code",
   "execution_count": 25,
   "metadata": {},
   "outputs": [
    {
     "data": {
      "text/plain": [
       "((124, 13), (13, 2), (124, 2))"
      ]
     },
     "execution_count": 25,
     "metadata": {},
     "output_type": "execute_result"
    }
   ],
   "source": [
    "# complete matrix operation \n",
    "\n",
    "X_train_pca = X_train_std.dot(w)\n",
    "X_train_std.shape, w.shape, X_train_pca.shape"
   ]
  },
  {
   "cell_type": "code",
   "execution_count": 26,
   "metadata": {},
   "outputs": [
    {
     "data": {
      "image/png": "[encoded data removed]",
      "text/plain": [
       "<matplotlib.figure.Figure at 0x1ac2718a240>"
      ]
     },
     "metadata": {},
     "output_type": "display_data"
    }
   ],
   "source": [
    "# For the scatter plot, we take data points from X_train_pca PC1 and PC2 for all those cases where y_train lable is L \n",
    "# where L  can vary from 1,2,3.\n",
    "# For each L, a corresponding color and marker is used in the plot\n",
    "\n",
    "colors = ['r' , 'b', 'g']\n",
    "markers = ['s', 'x', 'o']\n",
    "\n",
    "for l, c, m in zip(np.unique(y_train), colors, markers):\n",
    "    plt.scatter(X_train_pca[y_train==l, 0], X_train_pca[y_train ==l , 1], c=c, label=l, marker=m)\n",
    "plt.xlabel('PC 1')\n",
    "plt.ylabel('PC 2')\n",
    "plt.legend(loc = 'lower left')\n",
    "plt.show()"
   ]
  },
  {
   "cell_type": "code",
   "execution_count": null,
   "metadata": {
    "collapsed": true
   },
   "outputs": [],
   "source": []
  }
 ],
 "metadata": {
  "kernelspec": {
   "display_name": "Python 3",
   "language": "python",
   "name": "python3"
  },
  "language_info": {
   "codemirror_mode": {
    "name": "ipython",
    "version": 3
   },
   "file_extension": ".py",
   "mimetype": "text/x-python",
   "name": "python",
   "nbconvert_exporter": "python",
   "pygments_lexer": "ipython3",
   "version": "3.6.4"
  }
 },
 "nbformat": 4,
 "nbformat_minor": 2
}
