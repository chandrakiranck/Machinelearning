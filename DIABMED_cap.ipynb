{
  "nbformat": 4,
  "nbformat_minor": 0,
  "metadata": {
    "colab": {
      "name": "DIABMED_cap.ipynb",
      "provenance": [],
      "collapsed_sections": [],
      "include_colab_link": true
    },
    "kernelspec": {
      "display_name": "Python 3",
      "language": "python",
      "name": "python3"
    },
    "language_info": {
      "codemirror_mode": {
        "name": "ipython",
        "version": 3
      },
      "file_extension": ".py",
      "mimetype": "text/x-python",
      "name": "python",
      "nbconvert_exporter": "python",
      "pygments_lexer": "ipython3",
      "version": "3.7.4"
    }
  },
  "cells": [
    {
      "cell_type": "markdown",
      "metadata": {
        "id": "view-in-github",
        "colab_type": "text"
      },
      "source": [
        "<a href=\"https://colab.research.google.com/github/chandrakiranck/fuzzy-adventure/blob/master/DIABMED_cap.ipynb\" target=\"_parent\"><img src=\"https://colab.research.google.com/assets/colab-badge.svg\" alt=\"Open In Colab\"/></a>"
      ]
    },
    {
      "cell_type": "markdown",
      "metadata": {
        "colab_type": "text",
        "id": "QPjMvAgk4ON3"
      },
      "source": [
        "## Imports\n",
        " \n",
        "We will use the standard data science and machine learning libraries: `numpy`, `pandas`, and `scikit-learn`. We also use `matplotlib` and `seaborn` for visualization. "
      ]
    },
    {
      "cell_type": "code",
      "metadata": {
        "colab_type": "code",
        "id": "5TRKT95H4ON6",
        "colab": {}
      },
      "source": [
        "# Pandas and numpy for data manipulation\n",
        "import pandas as pd\n",
        "import numpy as np\n",
        "\n",
        "# No warnings about setting value on copy of slice\n",
        "pd.options.mode.chained_assignment = None\n",
        "\n",
        "# Display up to 60 columns of a dataframe\n",
        "pd.set_option('display.max_columns', 60)\n",
        "\n",
        "# Matplotlib visualization\n",
        "import matplotlib.pyplot as plt\n",
        "%matplotlib inline\n",
        "\n",
        "# Set default font size\n",
        "plt.rcParams['font.size'] = 20\n",
        "\n",
        "# Internal ipython tool for setting figure size\n",
        "from IPython.core.pylabtools import figsize\n",
        "\n",
        "# Seaborn for visualization\n",
        "import seaborn as sns\n",
        "sns.set(font_scale = 1.2)\n",
        "\n",
        "# Splitting data into training and testing\n",
        "from sklearn.model_selection import train_test_split\n",
        "from sklearn.metrics import r2_score\n",
        "from sklearn.ensemble import RandomForestClassifier\n",
        "from sklearn.metrics import roc_auc_score,confusion_matrix,roc_curve"
      ],
      "execution_count": 0,
      "outputs": []
    },
    {
      "cell_type": "markdown",
      "metadata": {
        "colab_type": "text",
        "id": "fboDDfcq4OOD"
      },
      "source": [
        "# Data Cleaning and Formatting\n",
        "\n",
        "## Load in the Data and Examine\n",
        "\n",
        "We will be loading our data into a pandas dataframe, one of the most useful data structures for data science. Think of it as a spreadsheet within Python that we can easily manipulate, clean, and visualize. [Pandas has many methods](http://pandas.pydata.org/pandas-docs/stable/) to help make the data science/machine learning pipeline as smooth as possible."
      ]
    },
    {
      "cell_type": "code",
      "metadata": {
        "id": "QSwJdCBdTcWy",
        "colab_type": "code",
        "colab": {}
      },
      "source": [
        ""
      ],
      "execution_count": 0,
      "outputs": []
    },
    {
      "cell_type": "code",
      "metadata": {
        "colab_type": "code",
        "id": "6y4-CHfdzKJH",
        "outputId": "0df1353d-154b-4c22-8e4e-9875d897cc9e",
        "colab": {
          "base_uri": "https://localhost:8080/",
          "height": 326
        }
      },
      "source": [
        "# Read in data into a dataframe \n",
        "data=pd.read_csv(\"diabetic_data.csv\")\n",
        "# Display top of dataframe\n",
        "data.head()"
      ],
      "execution_count": 0,
      "outputs": [
        {
          "output_type": "execute_result",
          "data": {
            "text/html": [
              "<div>\n",
              "<style scoped>\n",
              "    .dataframe tbody tr th:only-of-type {\n",
              "        vertical-align: middle;\n",
              "    }\n",
              "\n",
              "    .dataframe tbody tr th {\n",
              "        vertical-align: top;\n",
              "    }\n",
              "\n",
              "    .dataframe thead th {\n",
              "        text-align: right;\n",
              "    }\n",
              "</style>\n",
              "<table border=\"1\" class=\"dataframe\">\n",
              "  <thead>\n",
              "    <tr style=\"text-align: right;\">\n",
              "      <th></th>\n",
              "      <th>encounter_id</th>\n",
              "      <th>patient_nbr</th>\n",
              "      <th>race</th>\n",
              "      <th>gender</th>\n",
              "      <th>age</th>\n",
              "      <th>weight</th>\n",
              "      <th>admission_type_id</th>\n",
              "      <th>discharge_disposition_id</th>\n",
              "      <th>admission_source_id</th>\n",
              "      <th>time_in_hospital</th>\n",
              "      <th>payer_code</th>\n",
              "      <th>medical_specialty</th>\n",
              "      <th>num_lab_procedures</th>\n",
              "      <th>num_procedures</th>\n",
              "      <th>num_medications</th>\n",
              "      <th>number_outpatient</th>\n",
              "      <th>number_emergency</th>\n",
              "      <th>number_inpatient</th>\n",
              "      <th>diag_1</th>\n",
              "      <th>diag_2</th>\n",
              "      <th>diag_3</th>\n",
              "      <th>number_diagnoses</th>\n",
              "      <th>max_glu_serum</th>\n",
              "      <th>A1Cresult</th>\n",
              "      <th>metformin</th>\n",
              "      <th>repaglinide</th>\n",
              "      <th>nateglinide</th>\n",
              "      <th>chlorpropamide</th>\n",
              "      <th>glimepiride</th>\n",
              "      <th>acetohexamide</th>\n",
              "      <th>glipizide</th>\n",
              "      <th>glyburide</th>\n",
              "      <th>tolbutamide</th>\n",
              "      <th>pioglitazone</th>\n",
              "      <th>rosiglitazone</th>\n",
              "      <th>acarbose</th>\n",
              "      <th>miglitol</th>\n",
              "      <th>troglitazone</th>\n",
              "      <th>tolazamide</th>\n",
              "      <th>examide</th>\n",
              "      <th>citoglipton</th>\n",
              "      <th>insulin</th>\n",
              "      <th>glyburide-metformin</th>\n",
              "      <th>glipizide-metformin</th>\n",
              "      <th>glimepiride-pioglitazone</th>\n",
              "      <th>metformin-rosiglitazone</th>\n",
              "      <th>metformin-pioglitazone</th>\n",
              "      <th>change</th>\n",
              "      <th>diabetesMed</th>\n",
              "      <th>readmitted</th>\n",
              "    </tr>\n",
              "  </thead>\n",
              "  <tbody>\n",
              "    <tr>\n",
              "      <th>0</th>\n",
              "      <td>2278392</td>\n",
              "      <td>8222157</td>\n",
              "      <td>Caucasian</td>\n",
              "      <td>Female</td>\n",
              "      <td>[0-10)</td>\n",
              "      <td>?</td>\n",
              "      <td>6</td>\n",
              "      <td>25</td>\n",
              "      <td>1</td>\n",
              "      <td>1</td>\n",
              "      <td>?</td>\n",
              "      <td>Pediatrics-Endocrinology</td>\n",
              "      <td>41</td>\n",
              "      <td>0</td>\n",
              "      <td>1</td>\n",
              "      <td>0</td>\n",
              "      <td>0</td>\n",
              "      <td>0</td>\n",
              "      <td>250.83</td>\n",
              "      <td>?</td>\n",
              "      <td>?</td>\n",
              "      <td>1</td>\n",
              "      <td>None</td>\n",
              "      <td>None</td>\n",
              "      <td>No</td>\n",
              "      <td>No</td>\n",
              "      <td>No</td>\n",
              "      <td>No</td>\n",
              "      <td>No</td>\n",
              "      <td>No</td>\n",
              "      <td>No</td>\n",
              "      <td>No</td>\n",
              "      <td>No</td>\n",
              "      <td>No</td>\n",
              "      <td>No</td>\n",
              "      <td>No</td>\n",
              "      <td>No</td>\n",
              "      <td>No</td>\n",
              "      <td>No</td>\n",
              "      <td>No</td>\n",
              "      <td>No</td>\n",
              "      <td>No</td>\n",
              "      <td>No</td>\n",
              "      <td>No</td>\n",
              "      <td>No</td>\n",
              "      <td>No</td>\n",
              "      <td>No</td>\n",
              "      <td>No</td>\n",
              "      <td>No</td>\n",
              "      <td>NO</td>\n",
              "    </tr>\n",
              "    <tr>\n",
              "      <th>1</th>\n",
              "      <td>149190</td>\n",
              "      <td>55629189</td>\n",
              "      <td>Caucasian</td>\n",
              "      <td>Female</td>\n",
              "      <td>[10-20)</td>\n",
              "      <td>?</td>\n",
              "      <td>1</td>\n",
              "      <td>1</td>\n",
              "      <td>7</td>\n",
              "      <td>3</td>\n",
              "      <td>?</td>\n",
              "      <td>?</td>\n",
              "      <td>59</td>\n",
              "      <td>0</td>\n",
              "      <td>18</td>\n",
              "      <td>0</td>\n",
              "      <td>0</td>\n",
              "      <td>0</td>\n",
              "      <td>276</td>\n",
              "      <td>250.01</td>\n",
              "      <td>255</td>\n",
              "      <td>9</td>\n",
              "      <td>None</td>\n",
              "      <td>None</td>\n",
              "      <td>No</td>\n",
              "      <td>No</td>\n",
              "      <td>No</td>\n",
              "      <td>No</td>\n",
              "      <td>No</td>\n",
              "      <td>No</td>\n",
              "      <td>No</td>\n",
              "      <td>No</td>\n",
              "      <td>No</td>\n",
              "      <td>No</td>\n",
              "      <td>No</td>\n",
              "      <td>No</td>\n",
              "      <td>No</td>\n",
              "      <td>No</td>\n",
              "      <td>No</td>\n",
              "      <td>No</td>\n",
              "      <td>No</td>\n",
              "      <td>Up</td>\n",
              "      <td>No</td>\n",
              "      <td>No</td>\n",
              "      <td>No</td>\n",
              "      <td>No</td>\n",
              "      <td>No</td>\n",
              "      <td>Ch</td>\n",
              "      <td>Yes</td>\n",
              "      <td>&gt;30</td>\n",
              "    </tr>\n",
              "    <tr>\n",
              "      <th>2</th>\n",
              "      <td>64410</td>\n",
              "      <td>86047875</td>\n",
              "      <td>AfricanAmerican</td>\n",
              "      <td>Female</td>\n",
              "      <td>[20-30)</td>\n",
              "      <td>?</td>\n",
              "      <td>1</td>\n",
              "      <td>1</td>\n",
              "      <td>7</td>\n",
              "      <td>2</td>\n",
              "      <td>?</td>\n",
              "      <td>?</td>\n",
              "      <td>11</td>\n",
              "      <td>5</td>\n",
              "      <td>13</td>\n",
              "      <td>2</td>\n",
              "      <td>0</td>\n",
              "      <td>1</td>\n",
              "      <td>648</td>\n",
              "      <td>250</td>\n",
              "      <td>V27</td>\n",
              "      <td>6</td>\n",
              "      <td>None</td>\n",
              "      <td>None</td>\n",
              "      <td>No</td>\n",
              "      <td>No</td>\n",
              "      <td>No</td>\n",
              "      <td>No</td>\n",
              "      <td>No</td>\n",
              "      <td>No</td>\n",
              "      <td>Steady</td>\n",
              "      <td>No</td>\n",
              "      <td>No</td>\n",
              "      <td>No</td>\n",
              "      <td>No</td>\n",
              "      <td>No</td>\n",
              "      <td>No</td>\n",
              "      <td>No</td>\n",
              "      <td>No</td>\n",
              "      <td>No</td>\n",
              "      <td>No</td>\n",
              "      <td>No</td>\n",
              "      <td>No</td>\n",
              "      <td>No</td>\n",
              "      <td>No</td>\n",
              "      <td>No</td>\n",
              "      <td>No</td>\n",
              "      <td>No</td>\n",
              "      <td>Yes</td>\n",
              "      <td>NO</td>\n",
              "    </tr>\n",
              "    <tr>\n",
              "      <th>3</th>\n",
              "      <td>500364</td>\n",
              "      <td>82442376</td>\n",
              "      <td>Caucasian</td>\n",
              "      <td>Male</td>\n",
              "      <td>[30-40)</td>\n",
              "      <td>?</td>\n",
              "      <td>1</td>\n",
              "      <td>1</td>\n",
              "      <td>7</td>\n",
              "      <td>2</td>\n",
              "      <td>?</td>\n",
              "      <td>?</td>\n",
              "      <td>44</td>\n",
              "      <td>1</td>\n",
              "      <td>16</td>\n",
              "      <td>0</td>\n",
              "      <td>0</td>\n",
              "      <td>0</td>\n",
              "      <td>8</td>\n",
              "      <td>250.43</td>\n",
              "      <td>403</td>\n",
              "      <td>7</td>\n",
              "      <td>None</td>\n",
              "      <td>None</td>\n",
              "      <td>No</td>\n",
              "      <td>No</td>\n",
              "      <td>No</td>\n",
              "      <td>No</td>\n",
              "      <td>No</td>\n",
              "      <td>No</td>\n",
              "      <td>No</td>\n",
              "      <td>No</td>\n",
              "      <td>No</td>\n",
              "      <td>No</td>\n",
              "      <td>No</td>\n",
              "      <td>No</td>\n",
              "      <td>No</td>\n",
              "      <td>No</td>\n",
              "      <td>No</td>\n",
              "      <td>No</td>\n",
              "      <td>No</td>\n",
              "      <td>Up</td>\n",
              "      <td>No</td>\n",
              "      <td>No</td>\n",
              "      <td>No</td>\n",
              "      <td>No</td>\n",
              "      <td>No</td>\n",
              "      <td>Ch</td>\n",
              "      <td>Yes</td>\n",
              "      <td>NO</td>\n",
              "    </tr>\n",
              "    <tr>\n",
              "      <th>4</th>\n",
              "      <td>16680</td>\n",
              "      <td>42519267</td>\n",
              "      <td>Caucasian</td>\n",
              "      <td>Male</td>\n",
              "      <td>[40-50)</td>\n",
              "      <td>?</td>\n",
              "      <td>1</td>\n",
              "      <td>1</td>\n",
              "      <td>7</td>\n",
              "      <td>1</td>\n",
              "      <td>?</td>\n",
              "      <td>?</td>\n",
              "      <td>51</td>\n",
              "      <td>0</td>\n",
              "      <td>8</td>\n",
              "      <td>0</td>\n",
              "      <td>0</td>\n",
              "      <td>0</td>\n",
              "      <td>197</td>\n",
              "      <td>157</td>\n",
              "      <td>250</td>\n",
              "      <td>5</td>\n",
              "      <td>None</td>\n",
              "      <td>None</td>\n",
              "      <td>No</td>\n",
              "      <td>No</td>\n",
              "      <td>No</td>\n",
              "      <td>No</td>\n",
              "      <td>No</td>\n",
              "      <td>No</td>\n",
              "      <td>Steady</td>\n",
              "      <td>No</td>\n",
              "      <td>No</td>\n",
              "      <td>No</td>\n",
              "      <td>No</td>\n",
              "      <td>No</td>\n",
              "      <td>No</td>\n",
              "      <td>No</td>\n",
              "      <td>No</td>\n",
              "      <td>No</td>\n",
              "      <td>No</td>\n",
              "      <td>Steady</td>\n",
              "      <td>No</td>\n",
              "      <td>No</td>\n",
              "      <td>No</td>\n",
              "      <td>No</td>\n",
              "      <td>No</td>\n",
              "      <td>Ch</td>\n",
              "      <td>Yes</td>\n",
              "      <td>NO</td>\n",
              "    </tr>\n",
              "  </tbody>\n",
              "</table>\n",
              "</div>"
            ],
            "text/plain": [
              "   encounter_id  patient_nbr             race  gender      age weight  \\\n",
              "0       2278392      8222157        Caucasian  Female   [0-10)      ?   \n",
              "1        149190     55629189        Caucasian  Female  [10-20)      ?   \n",
              "2         64410     86047875  AfricanAmerican  Female  [20-30)      ?   \n",
              "3        500364     82442376        Caucasian    Male  [30-40)      ?   \n",
              "4         16680     42519267        Caucasian    Male  [40-50)      ?   \n",
              "\n",
              "   admission_type_id  discharge_disposition_id  admission_source_id  \\\n",
              "0                  6                        25                    1   \n",
              "1                  1                         1                    7   \n",
              "2                  1                         1                    7   \n",
              "3                  1                         1                    7   \n",
              "4                  1                         1                    7   \n",
              "\n",
              "   time_in_hospital payer_code         medical_specialty  num_lab_procedures  \\\n",
              "0                 1          ?  Pediatrics-Endocrinology                  41   \n",
              "1                 3          ?                         ?                  59   \n",
              "2                 2          ?                         ?                  11   \n",
              "3                 2          ?                         ?                  44   \n",
              "4                 1          ?                         ?                  51   \n",
              "\n",
              "   num_procedures  num_medications  number_outpatient  number_emergency  \\\n",
              "0               0                1                  0                 0   \n",
              "1               0               18                  0                 0   \n",
              "2               5               13                  2                 0   \n",
              "3               1               16                  0                 0   \n",
              "4               0                8                  0                 0   \n",
              "\n",
              "   number_inpatient  diag_1  diag_2 diag_3  number_diagnoses max_glu_serum  \\\n",
              "0                 0  250.83       ?      ?                 1          None   \n",
              "1                 0     276  250.01    255                 9          None   \n",
              "2                 1     648     250    V27                 6          None   \n",
              "3                 0       8  250.43    403                 7          None   \n",
              "4                 0     197     157    250                 5          None   \n",
              "\n",
              "  A1Cresult metformin repaglinide nateglinide chlorpropamide glimepiride  \\\n",
              "0      None        No          No          No             No          No   \n",
              "1      None        No          No          No             No          No   \n",
              "2      None        No          No          No             No          No   \n",
              "3      None        No          No          No             No          No   \n",
              "4      None        No          No          No             No          No   \n",
              "\n",
              "  acetohexamide glipizide glyburide tolbutamide pioglitazone rosiglitazone  \\\n",
              "0            No        No        No          No           No            No   \n",
              "1            No        No        No          No           No            No   \n",
              "2            No    Steady        No          No           No            No   \n",
              "3            No        No        No          No           No            No   \n",
              "4            No    Steady        No          No           No            No   \n",
              "\n",
              "  acarbose miglitol troglitazone tolazamide examide citoglipton insulin  \\\n",
              "0       No       No           No         No      No          No      No   \n",
              "1       No       No           No         No      No          No      Up   \n",
              "2       No       No           No         No      No          No      No   \n",
              "3       No       No           No         No      No          No      Up   \n",
              "4       No       No           No         No      No          No  Steady   \n",
              "\n",
              "  glyburide-metformin glipizide-metformin glimepiride-pioglitazone  \\\n",
              "0                  No                  No                       No   \n",
              "1                  No                  No                       No   \n",
              "2                  No                  No                       No   \n",
              "3                  No                  No                       No   \n",
              "4                  No                  No                       No   \n",
              "\n",
              "  metformin-rosiglitazone metformin-pioglitazone change diabetesMed readmitted  \n",
              "0                      No                     No     No          No         NO  \n",
              "1                      No                     No     Ch         Yes        >30  \n",
              "2                      No                     No     No         Yes         NO  \n",
              "3                      No                     No     Ch         Yes         NO  \n",
              "4                      No                     No     Ch         Yes         NO  "
            ]
          },
          "metadata": {
            "tags": []
          },
          "execution_count": 151
        }
      ]
    },
    {
      "cell_type": "markdown",
      "metadata": {
        "colab_type": "text",
        "id": "8sLdzZOx6MMZ"
      },
      "source": [
        "Taking a look at the raw data, we can already see a number of issues we'll have to solve. First of all, there are 50 columns and we don't know what many of them mean! All we know from the problem statement is that we want to predict the number in the score column. Some of the other column definitions can be reasonably guessed, but others are difficult to understand. In machine learning, this isn't actually a problem, because we let the model decide which features are important. Sometimes we may not even be given column names or told what we are predicting. Nonetheless, I like to understand the problem to the extent possible, and because we also want to interpret the model results, it would be a good idea to have some knowledge of the columns."
      ]
    },
    {
      "cell_type": "code",
      "metadata": {
        "id": "TFZmFttxTcXA",
        "colab_type": "code",
        "colab": {},
        "outputId": "ebf7d143-0e6a-4e5e-e8cf-b453e636e894"
      },
      "source": [
        "data[\"diabetesMed\"].value_counts()"
      ],
      "execution_count": 0,
      "outputs": [
        {
          "output_type": "execute_result",
          "data": {
            "text/plain": [
              "Yes    78363\n",
              "No     23403\n",
              "Name: diabetesMed, dtype: int64"
            ]
          },
          "metadata": {
            "tags": []
          },
          "execution_count": 152
        }
      ]
    },
    {
      "cell_type": "markdown",
      "metadata": {
        "colab_type": "text",
        "id": "G5qt965b8QG8"
      },
      "source": [
        "## Data Types and Missing Values\n",
        "\n",
        "The `dataframe.info` method is a quick way to assess the data by displaying the data types of each column and the number of non-missing values. Already from looking at the dataframe, there might be a problem because the missing values are coded as \"?\" rather than as `np.nan` (not a number). This means the columns with numbers will not be represented as numeric because pandas converts columns with any strings values into columns of all strings."
      ]
    },
    {
      "cell_type": "code",
      "metadata": {
        "colab_type": "code",
        "id": "dDs1kbGWziyf",
        "outputId": "4e6b91a1-c428-43fa-d8a7-b5523c6dc60a",
        "colab": {
          "base_uri": "https://localhost:8080/",
          "height": 952
        }
      },
      "source": [
        "data.info()"
      ],
      "execution_count": 0,
      "outputs": [
        {
          "output_type": "stream",
          "text": [
            "<class 'pandas.core.frame.DataFrame'>\n",
            "RangeIndex: 101766 entries, 0 to 101765\n",
            "Data columns (total 50 columns):\n",
            "encounter_id                101766 non-null int64\n",
            "patient_nbr                 101766 non-null int64\n",
            "race                        101766 non-null object\n",
            "gender                      101766 non-null object\n",
            "age                         101766 non-null object\n",
            "weight                      101766 non-null object\n",
            "admission_type_id           101766 non-null int64\n",
            "discharge_disposition_id    101766 non-null int64\n",
            "admission_source_id         101766 non-null int64\n",
            "time_in_hospital            101766 non-null int64\n",
            "payer_code                  101766 non-null object\n",
            "medical_specialty           101766 non-null object\n",
            "num_lab_procedures          101766 non-null int64\n",
            "num_procedures              101766 non-null int64\n",
            "num_medications             101766 non-null int64\n",
            "number_outpatient           101766 non-null int64\n",
            "number_emergency            101766 non-null int64\n",
            "number_inpatient            101766 non-null int64\n",
            "diag_1                      101766 non-null object\n",
            "diag_2                      101766 non-null object\n",
            "diag_3                      101766 non-null object\n",
            "number_diagnoses            101766 non-null int64\n",
            "max_glu_serum               101766 non-null object\n",
            "A1Cresult                   101766 non-null object\n",
            "metformin                   101766 non-null object\n",
            "repaglinide                 101766 non-null object\n",
            "nateglinide                 101766 non-null object\n",
            "chlorpropamide              101766 non-null object\n",
            "glimepiride                 101766 non-null object\n",
            "acetohexamide               101766 non-null object\n",
            "glipizide                   101766 non-null object\n",
            "glyburide                   101766 non-null object\n",
            "tolbutamide                 101766 non-null object\n",
            "pioglitazone                101766 non-null object\n",
            "rosiglitazone               101766 non-null object\n",
            "acarbose                    101766 non-null object\n",
            "miglitol                    101766 non-null object\n",
            "troglitazone                101766 non-null object\n",
            "tolazamide                  101766 non-null object\n",
            "examide                     101766 non-null object\n",
            "citoglipton                 101766 non-null object\n",
            "insulin                     101766 non-null object\n",
            "glyburide-metformin         101766 non-null object\n",
            "glipizide-metformin         101766 non-null object\n",
            "glimepiride-pioglitazone    101766 non-null object\n",
            "metformin-rosiglitazone     101766 non-null object\n",
            "metformin-pioglitazone      101766 non-null object\n",
            "change                      101766 non-null object\n",
            "diabetesMed                 101766 non-null object\n",
            "readmitted                  101766 non-null object\n",
            "dtypes: int64(13), object(37)\n",
            "memory usage: 38.8+ MB\n"
          ],
          "name": "stdout"
        }
      ]
    },
    {
      "cell_type": "markdown",
      "metadata": {
        "colab_type": "text",
        "id": "Ari0nu5v8g9j"
      },
      "source": [
        "Sure enough, there are a number of columns with numbers that have been recorded as object datatypes. These will have to be converted to float datatype before we can do any numerical analysis.\n"
      ]
    },
    {
      "cell_type": "markdown",
      "metadata": {
        "colab_type": "text",
        "id": "766LFcK48skr"
      },
      "source": [
        "##**Missing values**:\n",
        "will do replace missing values and \"**?**\" with \"**np.NaN**\"\n"
      ]
    },
    {
      "cell_type": "code",
      "metadata": {
        "colab_type": "code",
        "id": "LItM6zKdzsTU",
        "colab": {}
      },
      "source": [
        "data.replace(\"?\",np.NaN,inplace=True)"
      ],
      "execution_count": 0,
      "outputs": []
    },
    {
      "cell_type": "markdown",
      "metadata": {
        "colab_type": "text",
        "id": "ER22D8NP4OOz"
      },
      "source": [
        "Now that we have the correct column datatypes, we can start analysis by looking at the percentage of missing values in each column. Missing values are fine when we do Exploratory Data Analysis, but they will have to be filled in for machine learning methods.\n",
        "\n",
        "Following is a function that calculates the number of missing values and the percentage of the total values that are missing for each column. As with many tasks in data science, I did not write this function myself, but rather found it online in a [Stack Overflow forum](https://stackoverflow.com/a/39734251)! "
      ]
    },
    {
      "cell_type": "code",
      "metadata": {
        "colab_type": "code",
        "id": "RBlEvcMS4OO0",
        "colab": {}
      },
      "source": [
        "# Function to calculate missing values by column\n",
        "def missing_values_table(df):\n",
        "        # Total missing values\n",
        "        mis_val = df.isnull().sum()\n",
        "        \n",
        "        # Percentage of missing values\n",
        "        mis_val_percent = 100 * df.isnull().sum() / len(df)\n",
        "        \n",
        "        # Make a table with the results\n",
        "        mis_val_table = pd.concat([mis_val, mis_val_percent], axis=1)\n",
        "        \n",
        "        # Rename the columns\n",
        "        mis_val_table_ren_columns = mis_val_table.rename(\n",
        "        columns = {0 : 'Missing Values', 1 : '% of Total Values'})\n",
        "        \n",
        "        # Sort the table by percentage of missing descending\n",
        "        mis_val_table_ren_columns = mis_val_table_ren_columns[\n",
        "            mis_val_table_ren_columns.iloc[:,1] != 0].sort_values(\n",
        "        '% of Total Values', ascending=False).round(1)\n",
        "        \n",
        "        # Print some summary information\n",
        "        print (\"Your selected dataframe has \" + str(df.shape[1]) + \" columns.\\n\"      \n",
        "            \"There are \" + str(mis_val_table_ren_columns.shape[0]) +\n",
        "              \" columns that have missing values.\")\n",
        "        \n",
        "        # Return the dataframe with missing information\n",
        "        return mis_val_table_ren_columns"
      ],
      "execution_count": 0,
      "outputs": []
    },
    {
      "cell_type": "code",
      "metadata": {
        "colab_type": "code",
        "id": "0KbFvAP0z5zG",
        "outputId": "8dd6217b-fcf7-4658-c83d-f3fe9d2d4749",
        "colab": {
          "base_uri": "https://localhost:8080/",
          "height": 300
        }
      },
      "source": [
        "missing_values_table(data)"
      ],
      "execution_count": 0,
      "outputs": [
        {
          "output_type": "stream",
          "text": [
            "Your selected dataframe has 50 columns.\n",
            "There are 7 columns that have missing values.\n"
          ],
          "name": "stdout"
        },
        {
          "output_type": "execute_result",
          "data": {
            "text/html": [
              "<div>\n",
              "<style scoped>\n",
              "    .dataframe tbody tr th:only-of-type {\n",
              "        vertical-align: middle;\n",
              "    }\n",
              "\n",
              "    .dataframe tbody tr th {\n",
              "        vertical-align: top;\n",
              "    }\n",
              "\n",
              "    .dataframe thead th {\n",
              "        text-align: right;\n",
              "    }\n",
              "</style>\n",
              "<table border=\"1\" class=\"dataframe\">\n",
              "  <thead>\n",
              "    <tr style=\"text-align: right;\">\n",
              "      <th></th>\n",
              "      <th>Missing Values</th>\n",
              "      <th>% of Total Values</th>\n",
              "    </tr>\n",
              "  </thead>\n",
              "  <tbody>\n",
              "    <tr>\n",
              "      <th>weight</th>\n",
              "      <td>98569</td>\n",
              "      <td>96.9</td>\n",
              "    </tr>\n",
              "    <tr>\n",
              "      <th>medical_specialty</th>\n",
              "      <td>49949</td>\n",
              "      <td>49.1</td>\n",
              "    </tr>\n",
              "    <tr>\n",
              "      <th>payer_code</th>\n",
              "      <td>40256</td>\n",
              "      <td>39.6</td>\n",
              "    </tr>\n",
              "    <tr>\n",
              "      <th>race</th>\n",
              "      <td>2273</td>\n",
              "      <td>2.2</td>\n",
              "    </tr>\n",
              "    <tr>\n",
              "      <th>diag_3</th>\n",
              "      <td>1423</td>\n",
              "      <td>1.4</td>\n",
              "    </tr>\n",
              "    <tr>\n",
              "      <th>diag_2</th>\n",
              "      <td>358</td>\n",
              "      <td>0.4</td>\n",
              "    </tr>\n",
              "    <tr>\n",
              "      <th>diag_1</th>\n",
              "      <td>21</td>\n",
              "      <td>0.0</td>\n",
              "    </tr>\n",
              "  </tbody>\n",
              "</table>\n",
              "</div>"
            ],
            "text/plain": [
              "                   Missing Values  % of Total Values\n",
              "weight                      98569               96.9\n",
              "medical_specialty           49949               49.1\n",
              "payer_code                  40256               39.6\n",
              "race                         2273                2.2\n",
              "diag_3                       1423                1.4\n",
              "diag_2                        358                0.4\n",
              "diag_1                         21                0.0"
            ]
          },
          "metadata": {
            "tags": []
          },
          "execution_count": 156
        }
      ]
    },
    {
      "cell_type": "markdown",
      "metadata": {
        "colab_type": "text",
        "id": "GhFKHQxM-VZj"
      },
      "source": [
        "Although we want to be careful to not discard information and should be careful when dropping columns, if a column has a high percentage of missing values, then it probably will not be of much use.\n",
        "\n",
        "What columns to retain may be a little arbitrary (here is a discussion), but for this project, we will remove any columns with more than 30% missing values. In general, be careful about dropping any information because even if it is not there for all the observations, it may still be useful for predicting the target value."
      ]
    },
    {
      "cell_type": "code",
      "metadata": {
        "colab_type": "code",
        "id": "co1ndw2U0rcO",
        "outputId": "6fda0ef3-e450-44e1-b657-2fa97c403506",
        "colab": {
          "base_uri": "https://localhost:8080/",
          "height": 68
        }
      },
      "source": [
        "# Get the columns with > 30% missing\n",
        "missing_df = missing_values_table(data);\n",
        "missing_columns = list(missing_df[missing_df['% of Total Values'] > 30].index)\n",
        "print('We will remove %d columns.' % len(missing_columns))"
      ],
      "execution_count": 0,
      "outputs": [
        {
          "output_type": "stream",
          "text": [
            "Your selected dataframe has 50 columns.\n",
            "There are 7 columns that have missing values.\n",
            "We will remove 3 columns.\n"
          ],
          "name": "stdout"
        }
      ]
    },
    {
      "cell_type": "code",
      "metadata": {
        "colab_type": "code",
        "id": "_oNwptD80wJz",
        "colab": {}
      },
      "source": [
        "# Drop the columns\n",
        "data = data.drop(columns = list(missing_columns))"
      ],
      "execution_count": 0,
      "outputs": []
    },
    {
      "cell_type": "markdown",
      "metadata": {
        "colab_type": "text",
        "id": "G-vYmzsK_TIf"
      },
      "source": [
        "The rest of the missing values will have to be imputed (filled-in) using an appropriate strategy before doing machine learning."
      ]
    },
    {
      "cell_type": "code",
      "metadata": {
        "colab_type": "code",
        "id": "ZpypLW7K_T9-",
        "colab": {}
      },
      "source": [
        "data.dropna(inplace=True)\n",
        "\n",
        "data.index = range(len(data))"
      ],
      "execution_count": 0,
      "outputs": []
    },
    {
      "cell_type": "markdown",
      "metadata": {
        "colab_type": "text",
        "id": "5lSjFNKRBXOr"
      },
      "source": [
        "in our data the missing value percentages are less than 4%. So , we droping it incase of imputing.."
      ]
    },
    {
      "cell_type": "markdown",
      "metadata": {
        "colab_type": "text",
        "id": "h-CWsByiB3pb"
      },
      "source": [
        "### **Convert Data to Correct Types and Fearure Engineering**\n",
        "\n",
        "We convert the columns with numbers into numeric data types by replacing the strings which can be interpreted as floats. Then we will convert the columns that contain numeric values into numeric datatypes.\n",
        "\n",
        "**Feature Engineering:** The process of taking raw data and extracting or creating new features that allow a machine learning model to learn a mapping beween these features and the target. This might mean taking transformations of variables, such as we did with the log and square root, or one-hot encoding categorical variables so they can be used in a model. Generally, I think of feature engineering as adding additional features derived from the raw data.\n",
        "\n",
        "In this project, we will take the following steps for feature engineering:\n",
        "\n",
        "*   Convert object type variables to numerical.\n",
        "*   Label encode the categorical variables for achieving point 1.\n",
        "*   Group similar data.\n",
        "\n",
        "**Note:**\n",
        "We will label encode the variables 'race', 'diag_1', 'diag_2' and 'diag_3' after our EDA.\n",
        "\n",
        "We convert the columns with numbers into numeric data type and we replacing the data E and V with \"-\" and the value 250.xx changing to 250."
      ]
    },
    {
      "cell_type": "code",
      "metadata": {
        "colab_type": "code",
        "id": "_RQG5m4AknAI",
        "colab": {}
      },
      "source": [
        "#Tranform of Age\n",
        "spiltted_age = data['age'].str[1:-1].str.split('-')\n",
        "\n",
        "for i in range(len(spiltted_age)):\n",
        "    value_1 = (int)(spiltted_age[i][0])\n",
        "    value_2 = (int)(spiltted_age[i][1])\n",
        "    data['age'][i] = (value_1+value_2)/2\n",
        "\n",
        "data[\"age\"]=data[\"age\"].astype(int)"
      ],
      "execution_count": 0,
      "outputs": []
    },
    {
      "cell_type": "code",
      "metadata": {
        "colab_type": "code",
        "id": "EdAFzHCFB7PA",
        "colab": {}
      },
      "source": [
        "diag_cols = ['diag_1','diag_2','diag_3']\n",
        "for col in diag_cols:\n",
        "    data[col] = data[col].str.replace('E','-')\n",
        "    data[col] = data[col].str.replace('V','-')\n",
        "    condition = data[col].str.contains('250')\n",
        "    data.loc[condition,col] = '250'\n",
        "data[diag_cols] = data[diag_cols].astype(float)"
      ],
      "execution_count": 0,
      "outputs": []
    },
    {
      "cell_type": "markdown",
      "metadata": {
        "colab_type": "text",
        "id": "CeNijat7NwMD"
      },
      "source": [
        "**International Classification of Diseases (ICD)** is the international \"standard diagnostic tool for epidemiology, health management and clinical purposes.\" Its full official name is International Statistical Classification of Diseases and Related Health Problems."
      ]
    },
    {
      "cell_type": "markdown",
      "metadata": {
        "colab_type": "text",
        "id": "BmHJMiUrOSwC"
      },
      "source": [
        "\n",
        "The diagnostic codes used by MSP are based on the ninth revision of the International Classification of Diseases developed by the World Health Organization, commonly referred to as ICD9.For codes and related diseases, please refer to the following link -\n",
        "[https://www2.gov.bc.ca/assets/gov/health/practitioner-pro/medical-services-plan/diag-codes-index.pdf]\n",
        "source:British Council"
      ]
    },
    {
      "cell_type": "markdown",
      "metadata": {
        "colab_type": "text",
        "id": "IRwPFRgsPVzR"
      },
      "source": [
        "We will group the various codes of diagnosis according to ICD-9 standard."
      ]
    },
    {
      "cell_type": "code",
      "metadata": {
        "colab_type": "code",
        "id": "vPkJvW1yPWWn",
        "colab": {}
      },
      "source": [
        "# Function to group diag_1, diag_2 and diag_3\n",
        "\n",
        "def grouping(value):\n",
        "    if value==250:\n",
        "        return 'Diabetes'\n",
        "    elif (value>=390 and value<=459) or (value==785):\n",
        "        return 'Circulatory'\n",
        "    elif (value>=460 and value<=519) or value==786:\n",
        "        return 'Respiratory'\n",
        "    elif (value>=520 and value<=579) or value==787:\n",
        "        return 'Digestive'\n",
        "    elif (value>=800 and value<=999):\n",
        "        return 'Injury'\n",
        "    elif (value>=710 and value<=739):\n",
        "        return 'Musculoskeletal'\n",
        "    elif (value>=580 and value<=629) or value==788:\n",
        "        return 'Genitourinary'\n",
        "    elif (value>=1 and value<=239) or value in [780,781,782,784] or (value>=790 and value<=799) or ((value>=240 and value<=279) and \n",
        "                                                                                           value!=250) or (value>=680 and \n",
        "                                                                                                          value<=709):\n",
        "        return 'Neoplasms'\n",
        "    else:\n",
        "        return \"Other\""
      ],
      "execution_count": 0,
      "outputs": []
    },
    {
      "cell_type": "code",
      "metadata": {
        "colab_type": "code",
        "id": "r-50AWboUSxb",
        "colab": {}
      },
      "source": [
        "for col in diag_cols:\n",
        "  data[col]=data[col].apply(grouping)"
      ],
      "execution_count": 0,
      "outputs": []
    },
    {
      "cell_type": "code",
      "metadata": {
        "colab_type": "code",
        "id": "4Wua0c8SUo7S",
        "outputId": "6511cdd4-29dd-41a2-98f2-97c9c780753c",
        "colab": {
          "base_uri": "https://localhost:8080/",
          "height": 241
        }
      },
      "source": [
        "data.head()"
      ],
      "execution_count": 0,
      "outputs": [
        {
          "output_type": "execute_result",
          "data": {
            "text/html": [
              "<div>\n",
              "<style scoped>\n",
              "    .dataframe tbody tr th:only-of-type {\n",
              "        vertical-align: middle;\n",
              "    }\n",
              "\n",
              "    .dataframe tbody tr th {\n",
              "        vertical-align: top;\n",
              "    }\n",
              "\n",
              "    .dataframe thead th {\n",
              "        text-align: right;\n",
              "    }\n",
              "</style>\n",
              "<table border=\"1\" class=\"dataframe\">\n",
              "  <thead>\n",
              "    <tr style=\"text-align: right;\">\n",
              "      <th></th>\n",
              "      <th>encounter_id</th>\n",
              "      <th>patient_nbr</th>\n",
              "      <th>race</th>\n",
              "      <th>gender</th>\n",
              "      <th>age</th>\n",
              "      <th>admission_type_id</th>\n",
              "      <th>discharge_disposition_id</th>\n",
              "      <th>admission_source_id</th>\n",
              "      <th>time_in_hospital</th>\n",
              "      <th>num_lab_procedures</th>\n",
              "      <th>num_procedures</th>\n",
              "      <th>num_medications</th>\n",
              "      <th>number_outpatient</th>\n",
              "      <th>number_emergency</th>\n",
              "      <th>number_inpatient</th>\n",
              "      <th>diag_1</th>\n",
              "      <th>diag_2</th>\n",
              "      <th>diag_3</th>\n",
              "      <th>number_diagnoses</th>\n",
              "      <th>max_glu_serum</th>\n",
              "      <th>A1Cresult</th>\n",
              "      <th>metformin</th>\n",
              "      <th>repaglinide</th>\n",
              "      <th>nateglinide</th>\n",
              "      <th>chlorpropamide</th>\n",
              "      <th>glimepiride</th>\n",
              "      <th>acetohexamide</th>\n",
              "      <th>glipizide</th>\n",
              "      <th>glyburide</th>\n",
              "      <th>tolbutamide</th>\n",
              "      <th>pioglitazone</th>\n",
              "      <th>rosiglitazone</th>\n",
              "      <th>acarbose</th>\n",
              "      <th>miglitol</th>\n",
              "      <th>troglitazone</th>\n",
              "      <th>tolazamide</th>\n",
              "      <th>examide</th>\n",
              "      <th>citoglipton</th>\n",
              "      <th>insulin</th>\n",
              "      <th>glyburide-metformin</th>\n",
              "      <th>glipizide-metformin</th>\n",
              "      <th>glimepiride-pioglitazone</th>\n",
              "      <th>metformin-rosiglitazone</th>\n",
              "      <th>metformin-pioglitazone</th>\n",
              "      <th>change</th>\n",
              "      <th>diabetesMed</th>\n",
              "      <th>readmitted</th>\n",
              "    </tr>\n",
              "  </thead>\n",
              "  <tbody>\n",
              "    <tr>\n",
              "      <th>0</th>\n",
              "      <td>149190</td>\n",
              "      <td>55629189</td>\n",
              "      <td>Caucasian</td>\n",
              "      <td>Female</td>\n",
              "      <td>15</td>\n",
              "      <td>1</td>\n",
              "      <td>1</td>\n",
              "      <td>7</td>\n",
              "      <td>3</td>\n",
              "      <td>59</td>\n",
              "      <td>0</td>\n",
              "      <td>18</td>\n",
              "      <td>0</td>\n",
              "      <td>0</td>\n",
              "      <td>0</td>\n",
              "      <td>Neoplasms</td>\n",
              "      <td>Diabetes</td>\n",
              "      <td>Neoplasms</td>\n",
              "      <td>9</td>\n",
              "      <td>None</td>\n",
              "      <td>None</td>\n",
              "      <td>No</td>\n",
              "      <td>No</td>\n",
              "      <td>No</td>\n",
              "      <td>No</td>\n",
              "      <td>No</td>\n",
              "      <td>No</td>\n",
              "      <td>No</td>\n",
              "      <td>No</td>\n",
              "      <td>No</td>\n",
              "      <td>No</td>\n",
              "      <td>No</td>\n",
              "      <td>No</td>\n",
              "      <td>No</td>\n",
              "      <td>No</td>\n",
              "      <td>No</td>\n",
              "      <td>No</td>\n",
              "      <td>No</td>\n",
              "      <td>Up</td>\n",
              "      <td>No</td>\n",
              "      <td>No</td>\n",
              "      <td>No</td>\n",
              "      <td>No</td>\n",
              "      <td>No</td>\n",
              "      <td>Ch</td>\n",
              "      <td>Yes</td>\n",
              "      <td>&gt;30</td>\n",
              "    </tr>\n",
              "    <tr>\n",
              "      <th>1</th>\n",
              "      <td>64410</td>\n",
              "      <td>86047875</td>\n",
              "      <td>AfricanAmerican</td>\n",
              "      <td>Female</td>\n",
              "      <td>25</td>\n",
              "      <td>1</td>\n",
              "      <td>1</td>\n",
              "      <td>7</td>\n",
              "      <td>2</td>\n",
              "      <td>11</td>\n",
              "      <td>5</td>\n",
              "      <td>13</td>\n",
              "      <td>2</td>\n",
              "      <td>0</td>\n",
              "      <td>1</td>\n",
              "      <td>Other</td>\n",
              "      <td>Diabetes</td>\n",
              "      <td>Other</td>\n",
              "      <td>6</td>\n",
              "      <td>None</td>\n",
              "      <td>None</td>\n",
              "      <td>No</td>\n",
              "      <td>No</td>\n",
              "      <td>No</td>\n",
              "      <td>No</td>\n",
              "      <td>No</td>\n",
              "      <td>No</td>\n",
              "      <td>Steady</td>\n",
              "      <td>No</td>\n",
              "      <td>No</td>\n",
              "      <td>No</td>\n",
              "      <td>No</td>\n",
              "      <td>No</td>\n",
              "      <td>No</td>\n",
              "      <td>No</td>\n",
              "      <td>No</td>\n",
              "      <td>No</td>\n",
              "      <td>No</td>\n",
              "      <td>No</td>\n",
              "      <td>No</td>\n",
              "      <td>No</td>\n",
              "      <td>No</td>\n",
              "      <td>No</td>\n",
              "      <td>No</td>\n",
              "      <td>No</td>\n",
              "      <td>Yes</td>\n",
              "      <td>NO</td>\n",
              "    </tr>\n",
              "    <tr>\n",
              "      <th>2</th>\n",
              "      <td>500364</td>\n",
              "      <td>82442376</td>\n",
              "      <td>Caucasian</td>\n",
              "      <td>Male</td>\n",
              "      <td>35</td>\n",
              "      <td>1</td>\n",
              "      <td>1</td>\n",
              "      <td>7</td>\n",
              "      <td>2</td>\n",
              "      <td>44</td>\n",
              "      <td>1</td>\n",
              "      <td>16</td>\n",
              "      <td>0</td>\n",
              "      <td>0</td>\n",
              "      <td>0</td>\n",
              "      <td>Neoplasms</td>\n",
              "      <td>Diabetes</td>\n",
              "      <td>Circulatory</td>\n",
              "      <td>7</td>\n",
              "      <td>None</td>\n",
              "      <td>None</td>\n",
              "      <td>No</td>\n",
              "      <td>No</td>\n",
              "      <td>No</td>\n",
              "      <td>No</td>\n",
              "      <td>No</td>\n",
              "      <td>No</td>\n",
              "      <td>No</td>\n",
              "      <td>No</td>\n",
              "      <td>No</td>\n",
              "      <td>No</td>\n",
              "      <td>No</td>\n",
              "      <td>No</td>\n",
              "      <td>No</td>\n",
              "      <td>No</td>\n",
              "      <td>No</td>\n",
              "      <td>No</td>\n",
              "      <td>No</td>\n",
              "      <td>Up</td>\n",
              "      <td>No</td>\n",
              "      <td>No</td>\n",
              "      <td>No</td>\n",
              "      <td>No</td>\n",
              "      <td>No</td>\n",
              "      <td>Ch</td>\n",
              "      <td>Yes</td>\n",
              "      <td>NO</td>\n",
              "    </tr>\n",
              "    <tr>\n",
              "      <th>3</th>\n",
              "      <td>16680</td>\n",
              "      <td>42519267</td>\n",
              "      <td>Caucasian</td>\n",
              "      <td>Male</td>\n",
              "      <td>45</td>\n",
              "      <td>1</td>\n",
              "      <td>1</td>\n",
              "      <td>7</td>\n",
              "      <td>1</td>\n",
              "      <td>51</td>\n",
              "      <td>0</td>\n",
              "      <td>8</td>\n",
              "      <td>0</td>\n",
              "      <td>0</td>\n",
              "      <td>0</td>\n",
              "      <td>Neoplasms</td>\n",
              "      <td>Neoplasms</td>\n",
              "      <td>Diabetes</td>\n",
              "      <td>5</td>\n",
              "      <td>None</td>\n",
              "      <td>None</td>\n",
              "      <td>No</td>\n",
              "      <td>No</td>\n",
              "      <td>No</td>\n",
              "      <td>No</td>\n",
              "      <td>No</td>\n",
              "      <td>No</td>\n",
              "      <td>Steady</td>\n",
              "      <td>No</td>\n",
              "      <td>No</td>\n",
              "      <td>No</td>\n",
              "      <td>No</td>\n",
              "      <td>No</td>\n",
              "      <td>No</td>\n",
              "      <td>No</td>\n",
              "      <td>No</td>\n",
              "      <td>No</td>\n",
              "      <td>No</td>\n",
              "      <td>Steady</td>\n",
              "      <td>No</td>\n",
              "      <td>No</td>\n",
              "      <td>No</td>\n",
              "      <td>No</td>\n",
              "      <td>No</td>\n",
              "      <td>Ch</td>\n",
              "      <td>Yes</td>\n",
              "      <td>NO</td>\n",
              "    </tr>\n",
              "    <tr>\n",
              "      <th>4</th>\n",
              "      <td>35754</td>\n",
              "      <td>82637451</td>\n",
              "      <td>Caucasian</td>\n",
              "      <td>Male</td>\n",
              "      <td>55</td>\n",
              "      <td>2</td>\n",
              "      <td>1</td>\n",
              "      <td>2</td>\n",
              "      <td>3</td>\n",
              "      <td>31</td>\n",
              "      <td>6</td>\n",
              "      <td>16</td>\n",
              "      <td>0</td>\n",
              "      <td>0</td>\n",
              "      <td>0</td>\n",
              "      <td>Circulatory</td>\n",
              "      <td>Circulatory</td>\n",
              "      <td>Diabetes</td>\n",
              "      <td>9</td>\n",
              "      <td>None</td>\n",
              "      <td>None</td>\n",
              "      <td>No</td>\n",
              "      <td>No</td>\n",
              "      <td>No</td>\n",
              "      <td>No</td>\n",
              "      <td>No</td>\n",
              "      <td>No</td>\n",
              "      <td>No</td>\n",
              "      <td>No</td>\n",
              "      <td>No</td>\n",
              "      <td>No</td>\n",
              "      <td>No</td>\n",
              "      <td>No</td>\n",
              "      <td>No</td>\n",
              "      <td>No</td>\n",
              "      <td>No</td>\n",
              "      <td>No</td>\n",
              "      <td>No</td>\n",
              "      <td>Steady</td>\n",
              "      <td>No</td>\n",
              "      <td>No</td>\n",
              "      <td>No</td>\n",
              "      <td>No</td>\n",
              "      <td>No</td>\n",
              "      <td>No</td>\n",
              "      <td>Yes</td>\n",
              "      <td>&gt;30</td>\n",
              "    </tr>\n",
              "  </tbody>\n",
              "</table>\n",
              "</div>"
            ],
            "text/plain": [
              "   encounter_id  patient_nbr             race  gender  age  admission_type_id  \\\n",
              "0        149190     55629189        Caucasian  Female   15                  1   \n",
              "1         64410     86047875  AfricanAmerican  Female   25                  1   \n",
              "2        500364     82442376        Caucasian    Male   35                  1   \n",
              "3         16680     42519267        Caucasian    Male   45                  1   \n",
              "4         35754     82637451        Caucasian    Male   55                  2   \n",
              "\n",
              "   discharge_disposition_id  admission_source_id  time_in_hospital  \\\n",
              "0                         1                    7                 3   \n",
              "1                         1                    7                 2   \n",
              "2                         1                    7                 2   \n",
              "3                         1                    7                 1   \n",
              "4                         1                    2                 3   \n",
              "\n",
              "   num_lab_procedures  num_procedures  num_medications  number_outpatient  \\\n",
              "0                  59               0               18                  0   \n",
              "1                  11               5               13                  2   \n",
              "2                  44               1               16                  0   \n",
              "3                  51               0                8                  0   \n",
              "4                  31               6               16                  0   \n",
              "\n",
              "   number_emergency  number_inpatient       diag_1       diag_2       diag_3  \\\n",
              "0                 0                 0    Neoplasms     Diabetes    Neoplasms   \n",
              "1                 0                 1        Other     Diabetes        Other   \n",
              "2                 0                 0    Neoplasms     Diabetes  Circulatory   \n",
              "3                 0                 0    Neoplasms    Neoplasms     Diabetes   \n",
              "4                 0                 0  Circulatory  Circulatory     Diabetes   \n",
              "\n",
              "   number_diagnoses max_glu_serum A1Cresult metformin repaglinide nateglinide  \\\n",
              "0                 9          None      None        No          No          No   \n",
              "1                 6          None      None        No          No          No   \n",
              "2                 7          None      None        No          No          No   \n",
              "3                 5          None      None        No          No          No   \n",
              "4                 9          None      None        No          No          No   \n",
              "\n",
              "  chlorpropamide glimepiride acetohexamide glipizide glyburide tolbutamide  \\\n",
              "0             No          No            No        No        No          No   \n",
              "1             No          No            No    Steady        No          No   \n",
              "2             No          No            No        No        No          No   \n",
              "3             No          No            No    Steady        No          No   \n",
              "4             No          No            No        No        No          No   \n",
              "\n",
              "  pioglitazone rosiglitazone acarbose miglitol troglitazone tolazamide  \\\n",
              "0           No            No       No       No           No         No   \n",
              "1           No            No       No       No           No         No   \n",
              "2           No            No       No       No           No         No   \n",
              "3           No            No       No       No           No         No   \n",
              "4           No            No       No       No           No         No   \n",
              "\n",
              "  examide citoglipton insulin glyburide-metformin glipizide-metformin  \\\n",
              "0      No          No      Up                  No                  No   \n",
              "1      No          No      No                  No                  No   \n",
              "2      No          No      Up                  No                  No   \n",
              "3      No          No  Steady                  No                  No   \n",
              "4      No          No  Steady                  No                  No   \n",
              "\n",
              "  glimepiride-pioglitazone metformin-rosiglitazone metformin-pioglitazone  \\\n",
              "0                       No                      No                     No   \n",
              "1                       No                      No                     No   \n",
              "2                       No                      No                     No   \n",
              "3                       No                      No                     No   \n",
              "4                       No                      No                     No   \n",
              "\n",
              "  change diabetesMed readmitted  \n",
              "0     Ch         Yes        >30  \n",
              "1     No         Yes         NO  \n",
              "2     Ch         Yes         NO  \n",
              "3     Ch         Yes         NO  \n",
              "4     No         Yes        >30  "
            ]
          },
          "metadata": {
            "tags": []
          },
          "execution_count": 164
        }
      ]
    },
    {
      "cell_type": "markdown",
      "metadata": {
        "colab_type": "text",
        "id": "kkDybSHyN7zu"
      },
      "source": [
        "values of ages we are dealing with spliting the age and using its mean as age."
      ]
    },
    {
      "cell_type": "markdown",
      "metadata": {
        "colab_type": "text",
        "id": "SI9br7jnQQ8A"
      },
      "source": [
        "**values of max_glu_serum** :\n",
        "The blood sugar level, blood sugar concentration, or blood glucose level is the concentration of glucose present in the blood of humans and other animals. Glucose is a simple sugar and approximately 4 grams of glucose are present in the blood of a 70-kilogram (150 lb) human at all times.[2] The body tightly regulates blood glucose levels as a part of metabolic homeostasis.[2] Glucose is stored in skeletal muscle and liver cells in the form of glycogen;[2] in fasted individuals, blood glucose is maintained at a constant level at the expense of glycogen stores in the liver and skeletal muscle. source:wikipedia\n",
        "\n",
        "(https://www.sciencedirect.com/topics/immunology-and-microbiology/glucose-level)"
      ]
    },
    {
      "cell_type": "code",
      "metadata": {
        "colab_type": "code",
        "id": "rJQkNHFHJfC4",
        "colab": {}
      },
      "source": [
        "data['max_glu_serum'] = data['max_glu_serum'].replace({'>200':\"high\",'>300':\"veryhigh\"})"
      ],
      "execution_count": 0,
      "outputs": []
    },
    {
      "cell_type": "markdown",
      "metadata": {
        "colab_type": "text",
        "id": "2oRoo4ujRehE"
      },
      "source": [
        "**values for A1C test result**:\n",
        "\n",
        "The A1C test is a blood test that provides information about your average levels of blood glucose, also called blood sugar, over the past 3 months. The A1C test can be used to diagnose type 2 diabetes and prediabetes.1 The A1C test is also the primary test used for diabetes management."
      ]
    },
    {
      "cell_type": "code",
      "metadata": {
        "colab_type": "code",
        "id": "NwudcYHSNdSN",
        "colab": {}
      },
      "source": [
        "data['A1Cresult'] = data['A1Cresult'].replace({'>7':\"high\",'>8':\"veryhigh\"})"
      ],
      "execution_count": 0,
      "outputs": []
    },
    {
      "cell_type": "markdown",
      "metadata": {
        "colab_type": "text",
        "id": "253Tr3AcS0gq"
      },
      "source": [
        "**Change of medications**:   Indicates if there was a change in diabetic medications (either dosage or generic name). Values: “change” and “no change”."
      ]
    },
    {
      "cell_type": "code",
      "metadata": {
        "colab_type": "code",
        "id": "PmVwRD8dSc-P",
        "colab": {}
      },
      "source": [
        "data['change'] = data['change'].replace({'No':0,'Ch':1})"
      ],
      "execution_count": 0,
      "outputs": []
    },
    {
      "cell_type": "markdown",
      "metadata": {
        "colab_type": "text",
        "id": "NJa7J5ohTdQo"
      },
      "source": [
        "**Diabetes medications**:\tIndicates if there was any diabetic medication prescribed. Values: “yes” and “no”"
      ]
    },
    {
      "cell_type": "code",
      "metadata": {
        "colab_type": "code",
        "id": "3AJsGXKYTTPv",
        "colab": {}
      },
      "source": [
        "data['diabetesMed'] = data['diabetesMed'].replace({'No':0,'Yes':1})"
      ],
      "execution_count": 0,
      "outputs": []
    },
    {
      "cell_type": "markdown",
      "metadata": {
        "colab_type": "text",
        "id": "stXIAHDFU5_L"
      },
      "source": [
        "**Values of Medications**: For the generic names: ***metformin, repaglinide, nateglinide, chlorpropamide, glimepiride, acetohexamide, glipizide, glyburide, tolbutamide, pioglitazone, rosiglitazone, acarbose, miglitol, troglitazone, tolazamide, examide, sitagliptin, insulin, glyburide-metformin, glipizide-metformin, glimepiride-pioglitazone, metformin-rosiglitazone, and metformin-pioglitazone***, the feature indicates whether the drug was prescribed or there was a change in the dosage. Values: “up” if the dosage was increased during the encounter, “down” if the dosage was decreased, “steady” if the dosage did not change, and “no” if the drug was not prescribed"
      ]
    },
    {
      "cell_type": "code",
      "metadata": {
        "colab_type": "code",
        "id": "w4zqPwZiUGwy",
        "colab": {}
      },
      "source": [
        "# Transforamtion for medications\n",
        "\n",
        "data.iloc[:,21:44] = data.iloc[:,21:44].replace({'Up':3, 'Down':1, 'Steady':2, 'No':0})"
      ],
      "execution_count": 0,
      "outputs": []
    },
    {
      "cell_type": "code",
      "metadata": {
        "colab_type": "code",
        "id": "UhsAlQD0W_QN",
        "colab": {}
      },
      "source": [
        "# Transforamtion of  age\n",
        "\n",
        "data=data[(data['gender'] == \"Male\")| (data['gender'] ==\"Female\")]\n",
        "#data['gender'] = data['gender'].replace({'Male':0,'Female':1})"
      ],
      "execution_count": 0,
      "outputs": []
    },
    {
      "cell_type": "code",
      "metadata": {
        "colab_type": "code",
        "id": "NNys1xkcWeY_",
        "colab": {}
      },
      "source": [
        "data['readmitted'] = data['readmitted'].replace({'NO':0,'>30':1,\"<30\":2})"
      ],
      "execution_count": 0,
      "outputs": []
    },
    {
      "cell_type": "markdown",
      "metadata": {
        "colab_type": "text",
        "id": "79zVTZ3bhAAj"
      },
      "source": [
        "In the readmission transforamtion we transformed our data fo no as 0 and yes for 1"
      ]
    },
    {
      "cell_type": "code",
      "metadata": {
        "id": "zAegU2wtTcYc",
        "colab_type": "code",
        "colab": {}
      },
      "source": [
        "data['race'] = data['race'].replace({'Hispanic':\"Other\",'Asian':\"Other\"})"
      ],
      "execution_count": 0,
      "outputs": []
    },
    {
      "cell_type": "code",
      "metadata": {
        "id": "1b6XjN1xTcYf",
        "colab_type": "code",
        "colab": {},
        "outputId": "3a58fba5-7969-4320-89f8-7dc406c1ce62"
      },
      "source": [
        "data[\"race\"].value_counts()"
      ],
      "execution_count": 0,
      "outputs": [
        {
          "output_type": "execute_result",
          "data": {
            "text/plain": [
              "Caucasian          75079\n",
              "AfricanAmerican    18881\n",
              "Other               4092\n",
              "Name: race, dtype: int64"
            ]
          },
          "metadata": {
            "tags": []
          },
          "execution_count": 174
        }
      ]
    },
    {
      "cell_type": "markdown",
      "metadata": {
        "colab_type": "text",
        "id": "fdXTFPKEhvg1"
      },
      "source": [
        "### **Exploratory Data Analysis**\n",
        "Exploratory Data Analysis (EDA) is an open-ended process where we make plots and calculate statistics in order to explore our data. The purpose is to to find anomalies, patterns, trends, or relationships. These may be interesting by themselves (for example finding a correlation between two variables) or they can be used to inform modeling decisions such as which features to use. In short, the goal of EDA is to determine what our data can tell us! EDA generally starts out with a high-level overview, and then narrows in to specific parts of the dataset once as we find interesting areas to examine.\n"
      ]
    },
    {
      "cell_type": "code",
      "metadata": {
        "colab_type": "code",
        "id": "3Gh40SQkiHJk",
        "outputId": "830f31ef-89c0-4902-9932-f3a573e432d6",
        "colab": {
          "base_uri": "https://localhost:8080/",
          "height": 554
        }
      },
      "source": [
        "plt.figure(figsize=(8,8))\n",
        "print(data['diabetesMed'].value_counts(normalize=True))\n",
        "data['diabetesMed'].value_counts(normalize=True).plot(kind='bar')\n",
        "plt.xlabel(\"diabetesMed\")\n",
        "plt.ylabel(\"count\")\n",
        "plt.show()"
      ],
      "execution_count": 0,
      "outputs": [
        {
          "output_type": "stream",
          "text": [
            "1    0.76847\n",
            "0    0.23153\n",
            "Name: diabetesMed, dtype: float64\n"
          ],
          "name": "stdout"
        },
        {
          "output_type": "display_data",
          "data": {
            "image/png": "[encoded data removed]",
            "text/plain": [
              "<Figure size 576x576 with 1 Axes>"
            ]
          },
          "metadata": {
            "tags": []
          }
        }
      ]
    },
    {
      "cell_type": "markdown",
      "metadata": {
        "colab_type": "text",
        "id": "yZ6OM6MQk1IH"
      },
      "source": [
        "**Inferences:**\n",
        "\n",
        "\n",
        "\n",
        "1.   The number of patients who were prescribed with diabetic medication are 30% more than patients who were not prescribed.\n",
        "\n",
        "2.   The target variable is not balanced.\n",
        "\n"
      ]
    },
    {
      "cell_type": "code",
      "metadata": {
        "colab_type": "code",
        "id": "THTRaIKRlOtM",
        "outputId": "80234699-1e8f-4320-9b6f-6fe4de1f5c20",
        "colab": {
          "base_uri": "https://localhost:8080/",
          "height": 398
        }
      },
      "source": [
        "# Count plot of Gender by readmission status\n",
        "\n",
        "f, axes = plt.subplots(1, 2, figsize=(12,6))\n",
        "axes = axes.flatten()\n",
        "sns.countplot(data['gender'], ax=axes[0])\n",
        "sns.countplot(data['gender'],hue = data['diabetesMed'], ax=axes[1])\n",
        "plt.show()"
      ],
      "execution_count": 0,
      "outputs": [
        {
          "output_type": "display_data",
          "data": {
            "image/png": "[encoded data removed]",
            "text/plain": [
              "<Figure size 864x432 with 2 Axes>"
            ]
          },
          "metadata": {
            "tags": []
          }
        }
      ]
    },
    {
      "cell_type": "markdown",
      "metadata": {
        "colab_type": "text",
        "id": "sIZXU2brtNEB"
      },
      "source": [
        "**Inferences:**\n",
        "\n",
        "\n",
        "\n",
        "1.   The number of females are more than the number of males.\n",
        "\n",
        "2.   approx 76% of females are prescribed with diabetes medications whereas 77% of males are prescribed with medication.\n",
        "\n",
        "\n",
        "\n",
        "\n",
        "\n"
      ]
    },
    {
      "cell_type": "code",
      "metadata": {
        "colab_type": "code",
        "id": "6zGD6rxKlsHR",
        "outputId": "914b180c-f23b-4b29-e867-438261c1a7f6",
        "colab": {
          "base_uri": "https://localhost:8080/",
          "height": 142
        }
      },
      "source": [
        "pd.crosstab(data.diabetesMed,data.gender,normalize=\"columns\")"
      ],
      "execution_count": 0,
      "outputs": [
        {
          "output_type": "execute_result",
          "data": {
            "text/html": [
              "<div>\n",
              "<style scoped>\n",
              "    .dataframe tbody tr th:only-of-type {\n",
              "        vertical-align: middle;\n",
              "    }\n",
              "\n",
              "    .dataframe tbody tr th {\n",
              "        vertical-align: top;\n",
              "    }\n",
              "\n",
              "    .dataframe thead th {\n",
              "        text-align: right;\n",
              "    }\n",
              "</style>\n",
              "<table border=\"1\" class=\"dataframe\">\n",
              "  <thead>\n",
              "    <tr style=\"text-align: right;\">\n",
              "      <th>gender</th>\n",
              "      <th>Female</th>\n",
              "      <th>Male</th>\n",
              "    </tr>\n",
              "    <tr>\n",
              "      <th>diabetesMed</th>\n",
              "      <th></th>\n",
              "      <th></th>\n",
              "    </tr>\n",
              "  </thead>\n",
              "  <tbody>\n",
              "    <tr>\n",
              "      <th>0</th>\n",
              "      <td>0.237673</td>\n",
              "      <td>0.224353</td>\n",
              "    </tr>\n",
              "    <tr>\n",
              "      <th>1</th>\n",
              "      <td>0.762327</td>\n",
              "      <td>0.775647</td>\n",
              "    </tr>\n",
              "  </tbody>\n",
              "</table>\n",
              "</div>"
            ],
            "text/plain": [
              "gender         Female      Male\n",
              "diabetesMed                    \n",
              "0            0.237673  0.224353\n",
              "1            0.762327  0.775647"
            ]
          },
          "metadata": {
            "tags": []
          },
          "execution_count": 177
        }
      ]
    },
    {
      "cell_type": "code",
      "metadata": {
        "colab_type": "code",
        "id": "6FiaN-nFpehV",
        "outputId": "0ee56685-7431-4cc2-f045-ea7846b5bf42",
        "colab": {
          "base_uri": "https://localhost:8080/",
          "height": 506
        }
      },
      "source": [
        "# Count plot of race by diabetesMed\n",
        "\n",
        "f, axes = plt.subplots(2, 1, figsize=(14,8))\n",
        "axes = axes.flatten()\n",
        "sns.countplot(data['race'], ax=axes[0])\n",
        "sns.countplot(data['race'],hue = data['diabetesMed'], ax=axes[1])\n",
        "\n",
        "plt.show()"
      ],
      "execution_count": 0,
      "outputs": [
        {
          "output_type": "display_data",
          "data": {
            "image/png": "[encoded data removed]",
            "text/plain": [
              "<Figure size 1008x576 with 2 Axes>"
            ]
          },
          "metadata": {
            "tags": []
          }
        }
      ]
    },
    {
      "cell_type": "markdown",
      "metadata": {
        "colab_type": "text",
        "id": "wfeBEhEquCn0"
      },
      "source": [
        "\n",
        "\n",
        "**Inferences:**\n",
        "\n",
        "1.   The total number of Caucasians are signiicantly more than all other race.\n",
        "2.   The race of Asians are least in number.\n",
        "3.   80% of patients are belonging to other races are prescribed with diabetesMed.\n",
        "4.   percentage of patients with medicine prescription  is more irrespective of the race.\n"
      ]
    },
    {
      "cell_type": "code",
      "metadata": {
        "colab_type": "code",
        "id": "NUxq1krD71tb",
        "outputId": "ae264c5c-86cc-4803-d837-2c2121f5ee14",
        "colab": {
          "base_uri": "https://localhost:8080/",
          "height": 632
        }
      },
      "source": [
        "f, axes = plt.subplots(2, 1, figsize=(14,10))\n",
        "axes = axes.flatten()\n",
        "sns.countplot(data['time_in_hospital'],ax=axes[0])\n",
        "sns.countplot(data['time_in_hospital'],hue = data['diabetesMed'], ax=axes[1])\n",
        "print(data[\"time_in_hospital\"].mean())\n",
        "plt.show()"
      ],
      "execution_count": 0,
      "outputs": [
        {
          "output_type": "stream",
          "text": [
            "4.422010769795619\n"
          ],
          "name": "stdout"
        },
        {
          "output_type": "display_data",
          "data": {
            "image/png": "[encoded data removed]",
            "text/plain": [
              "<Figure size 1008x720 with 2 Axes>"
            ]
          },
          "metadata": {
            "tags": []
          }
        }
      ]
    },
    {
      "cell_type": "markdown",
      "metadata": {
        "colab_type": "text",
        "id": "0gsIPznu-gyT"
      },
      "source": [
        "Inferences:\n",
        "1.  The average number of days of admission is around 4 days.\n",
        "2.  30% of the patienst whose number of days of time_in_hospital is \"1\" are not prescibed with diabeticMedication.\n"
      ]
    },
    {
      "cell_type": "code",
      "metadata": {
        "colab_type": "code",
        "id": "1rrPV6RdDKBk",
        "outputId": "a1be0ebc-4c89-4b46-bc6a-c1ce5e7e9164",
        "colab": {
          "base_uri": "https://localhost:8080/",
          "height": 1000
        }
      },
      "source": [
        "# Count plot of Primary diagnosis by readmission status\n",
        "\n",
        "fig,ax = plt.subplots(3,2,figsize=(20,20))\n",
        "ax = ax.flatten()\n",
        "\n",
        "a=sns.countplot(data['diag_1'], ax=ax[0])\n",
        "a.tick_params(alaxis=\"x\",labelrotation=20)\n",
        "b=sns.countplot(data['diag_1'],hue=data['diabetesMed'], ax=ax[1])\n",
        "b.tick_params(axis=\"x\",labelrotation=20)\n",
        "\n",
        "c=sns.countplot(data['diag_2'], ax=ax[2])\n",
        "c.tick_params(axis=\"x\",labelrotation=20)\n",
        "d=sns.countplot(data['diag_2'],hue=data['diabetesMed'], ax=ax[3])\n",
        "d.tick_params(axis=\"x\",labelrotation=20)\n",
        "e=sns.countplot(data['diag_3'], ax=ax[4])\n",
        "e.tick_params(axis=\"x\",labelrotation=20)\n",
        "f=sns.countplot(data['diag_3'],hue=data['diabetesMed'], ax=ax[5])\n",
        "f.set_xticklabels(f.get_xticklabels(), rotation=20)\n",
        "plt.show()"
      ],
      "execution_count": 0,
      "outputs": [
        {
          "output_type": "display_data",
          "data": {
            "image/png": "[encoded data removed]",
            "text/plain": [
              "<Figure size 1440x1440 with 6 Axes>"
            ]
          },
          "metadata": {
            "tags": []
          }
        }
      ]
    },
    {
      "cell_type": "markdown",
      "metadata": {
        "colab_type": "text",
        "id": "tsLA_fdagLqu"
      },
      "source": [
        "**Inferences:**\n",
        "*   15%,19%,21% of patients who are diagnosed with diabetes in primary ,secondary ,Additional secondary diagnoses respectively are not prescribed with diabetesMedicine.\n",
        "*   The total number of patients under the all diagnosis category of 'Circulatory' is maximum.\n",
        "\n",
        "*   The total number of patients under the primary diagnosis categories of 'Neoplasms' and 'Respiratory' are almost equal.\n",
        "\n",
        "*   Aprrox..70% of the patients diagnosed with other diseases are prescribed with diabetesMed"
      ]
    },
    {
      "cell_type": "code",
      "metadata": {
        "colab_type": "code",
        "id": "GFYZqhPUXRky",
        "outputId": "67766a36-015b-44d0-e38c-1e971503510e",
        "colab": {
          "base_uri": "https://localhost:8080/",
          "height": 887
        }
      },
      "source": [
        "f, axes = plt.subplots(2, 1, figsize=(15,15))\n",
        "axes = axes.flatten()\n",
        "sns.countplot(data['age'], ax=axes[0])\n",
        "axes[0].set_xlabel('age distribution')\n",
        "axes[0].set_ylabel('Number of patients')\n",
        "sns.countplot(data['age'],hue = data['diabetesMed'], ax=axes[1]).set_title('age group by diabetesMed status')\n",
        "axes[1].set_xlabel('age distribution')\n",
        "axes[1].set_ylabel('Number of patients')\n",
        "plt.show()"
      ],
      "execution_count": 0,
      "outputs": [
        {
          "output_type": "display_data",
          "data": {
            "image/png": "[encoded data removed]",
            "text/plain": [
              "<Figure size 1080x1080 with 2 Axes>"
            ]
          },
          "metadata": {
            "tags": []
          }
        }
      ]
    },
    {
      "cell_type": "markdown",
      "metadata": {
        "colab_type": "text",
        "id": "3xkOuVcSYULS"
      },
      "source": [
        "**Inferences:**\n",
        "1.   most of the patient admitting with age around 75 years.\n",
        "2.   "
      ]
    },
    {
      "cell_type": "code",
      "metadata": {
        "colab_type": "code",
        "id": "YAd_u0gXwdwk",
        "outputId": "2317b8f7-cd29-4d7a-a9ba-030cfbf5ac57",
        "colab": {
          "base_uri": "https://localhost:8080/",
          "height": 85
        }
      },
      "source": [
        "data.A1Cresult.value_counts()"
      ],
      "execution_count": 0,
      "outputs": [
        {
          "output_type": "execute_result",
          "data": {
            "text/plain": [
              "None        81859\n",
              "veryhigh     7631\n",
              "Norm         4854\n",
              "high         3708\n",
              "Name: A1Cresult, dtype: int64"
            ]
          },
          "metadata": {
            "tags": []
          },
          "execution_count": 182
        }
      ]
    },
    {
      "cell_type": "code",
      "metadata": {
        "colab_type": "code",
        "id": "_HqPlyHvy5sq",
        "colab": {}
      },
      "source": [
        "admission_source = data['admission_source_id'].replace({1:'Admitted because of physician/clinic referral',2:'Admitted because of physician/clinic referral',\n",
        "                                                       3:'Admitted because of physician/clinic referral',4:'Otherwise',\n",
        "                                                       5:'Otherwise',\n",
        "                                                       6:'Otherwise',\n",
        "                                                       7:'Admitted from emergency room',8:'Otherwise',\n",
        "                                                       9:'Otherwise',10:'Otherwise',\n",
        "                                                       11:'Otherwise',13:'Otherwise',14:'Otherwise',\n",
        "                                                       17:'Otherwise',20:'Otherwise',22:'Otherwise',\n",
        "                                                       25:'Otherwise'})"
      ],
      "execution_count": 0,
      "outputs": []
    },
    {
      "cell_type": "code",
      "metadata": {
        "colab_type": "code",
        "id": "TRLdTkV63CuJ",
        "outputId": "543b9429-d804-4eae-ff9e-d75b3327b1ed",
        "colab": {
          "base_uri": "https://localhost:8080/",
          "height": 793
        }
      },
      "source": [
        " fig,ax = plt.subplots(1,2,figsize=(15,8)) \n",
        " ax = ax.flatten() \n",
        " a=sns.countplot(admission_source,ax = ax[0])\n",
        " a.set_xticklabels(a.get_xticklabels(), rotation=90)\n",
        " b=sns.countplot(admission_source,hue = data['diabetesMed'],ax = ax[1]) \n",
        " b.set_xticklabels(b.get_xticklabels(), rotation=90)\n",
        " plt.show()"
      ],
      "execution_count": 0,
      "outputs": [
        {
          "output_type": "display_data",
          "data": {
            "image/png": "[encoded data removed]",
            "text/plain": [
              "<Figure size 1080x576 with 2 Axes>"
            ]
          },
          "metadata": {
            "tags": []
          }
        }
      ]
    },
    {
      "cell_type": "markdown",
      "metadata": {
        "colab_type": "text",
        "id": "_0TRSzl73S-w"
      },
      "source": [
        "**Inferences:**\n",
        "\n",
        "1.   Pateints Admitted from emergency room are more in number than those admitted from any other admission source.\n",
        "2.   \n"
      ]
    },
    {
      "cell_type": "code",
      "metadata": {
        "colab_type": "code",
        "id": "nxQbD3X23qT3",
        "outputId": "c4bd711c-cb7f-4c6b-a67b-7235d8e665c0",
        "colab": {
          "base_uri": "https://localhost:8080/",
          "height": 258
        }
      },
      "source": [
        "print(pd.crosstab(data.readmitted,data.A1Cresult))\n",
        "pd.crosstab(data.readmitted,data.A1Cresult,normalize=\"columns\")"
      ],
      "execution_count": 0,
      "outputs": [
        {
          "output_type": "stream",
          "text": [
            "A1Cresult    None  Norm  high  veryhigh\n",
            "readmitted                             \n",
            "0           43405  2814  2058      4060\n",
            "1           29018  1566  1279      2786\n",
            "2            9436   474   371       785\n"
          ],
          "name": "stdout"
        },
        {
          "output_type": "execute_result",
          "data": {
            "text/html": [
              "<div>\n",
              "<style scoped>\n",
              "    .dataframe tbody tr th:only-of-type {\n",
              "        vertical-align: middle;\n",
              "    }\n",
              "\n",
              "    .dataframe tbody tr th {\n",
              "        vertical-align: top;\n",
              "    }\n",
              "\n",
              "    .dataframe thead th {\n",
              "        text-align: right;\n",
              "    }\n",
              "</style>\n",
              "<table border=\"1\" class=\"dataframe\">\n",
              "  <thead>\n",
              "    <tr style=\"text-align: right;\">\n",
              "      <th>A1Cresult</th>\n",
              "      <th>None</th>\n",
              "      <th>Norm</th>\n",
              "      <th>high</th>\n",
              "      <th>veryhigh</th>\n",
              "    </tr>\n",
              "    <tr>\n",
              "      <th>readmitted</th>\n",
              "      <th></th>\n",
              "      <th></th>\n",
              "      <th></th>\n",
              "      <th></th>\n",
              "    </tr>\n",
              "  </thead>\n",
              "  <tbody>\n",
              "    <tr>\n",
              "      <th>0</th>\n",
              "      <td>0.530241</td>\n",
              "      <td>0.579728</td>\n",
              "      <td>0.555016</td>\n",
              "      <td>0.53204</td>\n",
              "    </tr>\n",
              "    <tr>\n",
              "      <th>1</th>\n",
              "      <td>0.354488</td>\n",
              "      <td>0.322621</td>\n",
              "      <td>0.344930</td>\n",
              "      <td>0.36509</td>\n",
              "    </tr>\n",
              "    <tr>\n",
              "      <th>2</th>\n",
              "      <td>0.115271</td>\n",
              "      <td>0.097651</td>\n",
              "      <td>0.100054</td>\n",
              "      <td>0.10287</td>\n",
              "    </tr>\n",
              "  </tbody>\n",
              "</table>\n",
              "</div>"
            ],
            "text/plain": [
              "A1Cresult       None      Norm      high  veryhigh\n",
              "readmitted                                        \n",
              "0           0.530241  0.579728  0.555016   0.53204\n",
              "1           0.354488  0.322621  0.344930   0.36509\n",
              "2           0.115271  0.097651  0.100054   0.10287"
            ]
          },
          "metadata": {
            "tags": []
          },
          "execution_count": 185
        }
      ]
    },
    {
      "cell_type": "code",
      "metadata": {
        "colab_type": "code",
        "id": "40xInhD16UGH",
        "outputId": "c2e24a5e-468e-4cd6-cc15-1d83d0c9e515",
        "colab": {
          "base_uri": "https://localhost:8080/",
          "height": 887
        }
      },
      "source": [
        "# Count plot for A1Cresult and medication changes\n",
        "\n",
        "figsize(8,8)\n",
        "f, axes = plt.subplots(2, 1, figsize=(15,15))\n",
        "axes = axes.flatten()\n",
        "sns.countplot(data['A1Cresult'], ax=axes[0])\n",
        "axes[0].set_xlabel('A1C result')\n",
        "axes[0].set_ylabel('Number of patients')\n",
        "sns.countplot(data['A1Cresult'],hue = data['readmitted'], ax=axes[1]).set_title('A1Cresult by readmission status')\n",
        "axes[1].set_xlabel('A1C result')\n",
        "axes[1].set_ylabel('Number of patients')\n",
        "plt.show()"
      ],
      "execution_count": 0,
      "outputs": [
        {
          "output_type": "display_data",
          "data": {
            "image/png": "[encoded data removed]",
            "text/plain": [
              "<Figure size 1080x1080 with 2 Axes>"
            ]
          },
          "metadata": {
            "tags": []
          }
        }
      ]
    },
    {
      "cell_type": "markdown",
      "metadata": {
        "colab_type": "text",
        "id": "zea9_xLyFBD4"
      },
      "source": [
        "**Inferences:**\n",
        "* Number of patients those who did not take A1C test are higher.\n",
        "* Approximately 88.5% of patients those who did not take A1C test and 80% of patients who took A1C test readmitted.\n",
        "* 42.02% of patients readmitted whose A1C test result was Normal."
      ]
    },
    {
      "cell_type": "code",
      "metadata": {
        "colab_type": "code",
        "id": "IphYhAqm74SN",
        "outputId": "f0203019-83e3-4574-fa57-24877b48516c",
        "colab": {
          "base_uri": "https://localhost:8080/",
          "height": 241
        }
      },
      "source": [
        "data.head()"
      ],
      "execution_count": 0,
      "outputs": [
        {
          "output_type": "execute_result",
          "data": {
            "text/html": [
              "<div>\n",
              "<style scoped>\n",
              "    .dataframe tbody tr th:only-of-type {\n",
              "        vertical-align: middle;\n",
              "    }\n",
              "\n",
              "    .dataframe tbody tr th {\n",
              "        vertical-align: top;\n",
              "    }\n",
              "\n",
              "    .dataframe thead th {\n",
              "        text-align: right;\n",
              "    }\n",
              "</style>\n",
              "<table border=\"1\" class=\"dataframe\">\n",
              "  <thead>\n",
              "    <tr style=\"text-align: right;\">\n",
              "      <th></th>\n",
              "      <th>encounter_id</th>\n",
              "      <th>patient_nbr</th>\n",
              "      <th>race</th>\n",
              "      <th>gender</th>\n",
              "      <th>age</th>\n",
              "      <th>admission_type_id</th>\n",
              "      <th>discharge_disposition_id</th>\n",
              "      <th>admission_source_id</th>\n",
              "      <th>time_in_hospital</th>\n",
              "      <th>num_lab_procedures</th>\n",
              "      <th>num_procedures</th>\n",
              "      <th>num_medications</th>\n",
              "      <th>number_outpatient</th>\n",
              "      <th>number_emergency</th>\n",
              "      <th>number_inpatient</th>\n",
              "      <th>diag_1</th>\n",
              "      <th>diag_2</th>\n",
              "      <th>diag_3</th>\n",
              "      <th>number_diagnoses</th>\n",
              "      <th>max_glu_serum</th>\n",
              "      <th>A1Cresult</th>\n",
              "      <th>metformin</th>\n",
              "      <th>repaglinide</th>\n",
              "      <th>nateglinide</th>\n",
              "      <th>chlorpropamide</th>\n",
              "      <th>glimepiride</th>\n",
              "      <th>acetohexamide</th>\n",
              "      <th>glipizide</th>\n",
              "      <th>glyburide</th>\n",
              "      <th>tolbutamide</th>\n",
              "      <th>pioglitazone</th>\n",
              "      <th>rosiglitazone</th>\n",
              "      <th>acarbose</th>\n",
              "      <th>miglitol</th>\n",
              "      <th>troglitazone</th>\n",
              "      <th>tolazamide</th>\n",
              "      <th>examide</th>\n",
              "      <th>citoglipton</th>\n",
              "      <th>insulin</th>\n",
              "      <th>glyburide-metformin</th>\n",
              "      <th>glipizide-metformin</th>\n",
              "      <th>glimepiride-pioglitazone</th>\n",
              "      <th>metformin-rosiglitazone</th>\n",
              "      <th>metformin-pioglitazone</th>\n",
              "      <th>change</th>\n",
              "      <th>diabetesMed</th>\n",
              "      <th>readmitted</th>\n",
              "    </tr>\n",
              "  </thead>\n",
              "  <tbody>\n",
              "    <tr>\n",
              "      <th>0</th>\n",
              "      <td>149190</td>\n",
              "      <td>55629189</td>\n",
              "      <td>Caucasian</td>\n",
              "      <td>Female</td>\n",
              "      <td>15</td>\n",
              "      <td>1</td>\n",
              "      <td>1</td>\n",
              "      <td>7</td>\n",
              "      <td>3</td>\n",
              "      <td>59</td>\n",
              "      <td>0</td>\n",
              "      <td>18</td>\n",
              "      <td>0</td>\n",
              "      <td>0</td>\n",
              "      <td>0</td>\n",
              "      <td>Neoplasms</td>\n",
              "      <td>Diabetes</td>\n",
              "      <td>Neoplasms</td>\n",
              "      <td>9</td>\n",
              "      <td>None</td>\n",
              "      <td>None</td>\n",
              "      <td>0</td>\n",
              "      <td>0</td>\n",
              "      <td>0</td>\n",
              "      <td>0</td>\n",
              "      <td>0</td>\n",
              "      <td>0</td>\n",
              "      <td>0</td>\n",
              "      <td>0</td>\n",
              "      <td>0</td>\n",
              "      <td>0</td>\n",
              "      <td>0</td>\n",
              "      <td>0</td>\n",
              "      <td>0</td>\n",
              "      <td>0</td>\n",
              "      <td>0</td>\n",
              "      <td>0</td>\n",
              "      <td>0</td>\n",
              "      <td>3</td>\n",
              "      <td>0</td>\n",
              "      <td>0</td>\n",
              "      <td>0</td>\n",
              "      <td>0</td>\n",
              "      <td>0</td>\n",
              "      <td>1</td>\n",
              "      <td>1</td>\n",
              "      <td>1</td>\n",
              "    </tr>\n",
              "    <tr>\n",
              "      <th>1</th>\n",
              "      <td>64410</td>\n",
              "      <td>86047875</td>\n",
              "      <td>AfricanAmerican</td>\n",
              "      <td>Female</td>\n",
              "      <td>25</td>\n",
              "      <td>1</td>\n",
              "      <td>1</td>\n",
              "      <td>7</td>\n",
              "      <td>2</td>\n",
              "      <td>11</td>\n",
              "      <td>5</td>\n",
              "      <td>13</td>\n",
              "      <td>2</td>\n",
              "      <td>0</td>\n",
              "      <td>1</td>\n",
              "      <td>Other</td>\n",
              "      <td>Diabetes</td>\n",
              "      <td>Other</td>\n",
              "      <td>6</td>\n",
              "      <td>None</td>\n",
              "      <td>None</td>\n",
              "      <td>0</td>\n",
              "      <td>0</td>\n",
              "      <td>0</td>\n",
              "      <td>0</td>\n",
              "      <td>0</td>\n",
              "      <td>0</td>\n",
              "      <td>2</td>\n",
              "      <td>0</td>\n",
              "      <td>0</td>\n",
              "      <td>0</td>\n",
              "      <td>0</td>\n",
              "      <td>0</td>\n",
              "      <td>0</td>\n",
              "      <td>0</td>\n",
              "      <td>0</td>\n",
              "      <td>0</td>\n",
              "      <td>0</td>\n",
              "      <td>0</td>\n",
              "      <td>0</td>\n",
              "      <td>0</td>\n",
              "      <td>0</td>\n",
              "      <td>0</td>\n",
              "      <td>0</td>\n",
              "      <td>0</td>\n",
              "      <td>1</td>\n",
              "      <td>0</td>\n",
              "    </tr>\n",
              "    <tr>\n",
              "      <th>2</th>\n",
              "      <td>500364</td>\n",
              "      <td>82442376</td>\n",
              "      <td>Caucasian</td>\n",
              "      <td>Male</td>\n",
              "      <td>35</td>\n",
              "      <td>1</td>\n",
              "      <td>1</td>\n",
              "      <td>7</td>\n",
              "      <td>2</td>\n",
              "      <td>44</td>\n",
              "      <td>1</td>\n",
              "      <td>16</td>\n",
              "      <td>0</td>\n",
              "      <td>0</td>\n",
              "      <td>0</td>\n",
              "      <td>Neoplasms</td>\n",
              "      <td>Diabetes</td>\n",
              "      <td>Circulatory</td>\n",
              "      <td>7</td>\n",
              "      <td>None</td>\n",
              "      <td>None</td>\n",
              "      <td>0</td>\n",
              "      <td>0</td>\n",
              "      <td>0</td>\n",
              "      <td>0</td>\n",
              "      <td>0</td>\n",
              "      <td>0</td>\n",
              "      <td>0</td>\n",
              "      <td>0</td>\n",
              "      <td>0</td>\n",
              "      <td>0</td>\n",
              "      <td>0</td>\n",
              "      <td>0</td>\n",
              "      <td>0</td>\n",
              "      <td>0</td>\n",
              "      <td>0</td>\n",
              "      <td>0</td>\n",
              "      <td>0</td>\n",
              "      <td>3</td>\n",
              "      <td>0</td>\n",
              "      <td>0</td>\n",
              "      <td>0</td>\n",
              "      <td>0</td>\n",
              "      <td>0</td>\n",
              "      <td>1</td>\n",
              "      <td>1</td>\n",
              "      <td>0</td>\n",
              "    </tr>\n",
              "    <tr>\n",
              "      <th>3</th>\n",
              "      <td>16680</td>\n",
              "      <td>42519267</td>\n",
              "      <td>Caucasian</td>\n",
              "      <td>Male</td>\n",
              "      <td>45</td>\n",
              "      <td>1</td>\n",
              "      <td>1</td>\n",
              "      <td>7</td>\n",
              "      <td>1</td>\n",
              "      <td>51</td>\n",
              "      <td>0</td>\n",
              "      <td>8</td>\n",
              "      <td>0</td>\n",
              "      <td>0</td>\n",
              "      <td>0</td>\n",
              "      <td>Neoplasms</td>\n",
              "      <td>Neoplasms</td>\n",
              "      <td>Diabetes</td>\n",
              "      <td>5</td>\n",
              "      <td>None</td>\n",
              "      <td>None</td>\n",
              "      <td>0</td>\n",
              "      <td>0</td>\n",
              "      <td>0</td>\n",
              "      <td>0</td>\n",
              "      <td>0</td>\n",
              "      <td>0</td>\n",
              "      <td>2</td>\n",
              "      <td>0</td>\n",
              "      <td>0</td>\n",
              "      <td>0</td>\n",
              "      <td>0</td>\n",
              "      <td>0</td>\n",
              "      <td>0</td>\n",
              "      <td>0</td>\n",
              "      <td>0</td>\n",
              "      <td>0</td>\n",
              "      <td>0</td>\n",
              "      <td>2</td>\n",
              "      <td>0</td>\n",
              "      <td>0</td>\n",
              "      <td>0</td>\n",
              "      <td>0</td>\n",
              "      <td>0</td>\n",
              "      <td>1</td>\n",
              "      <td>1</td>\n",
              "      <td>0</td>\n",
              "    </tr>\n",
              "    <tr>\n",
              "      <th>4</th>\n",
              "      <td>35754</td>\n",
              "      <td>82637451</td>\n",
              "      <td>Caucasian</td>\n",
              "      <td>Male</td>\n",
              "      <td>55</td>\n",
              "      <td>2</td>\n",
              "      <td>1</td>\n",
              "      <td>2</td>\n",
              "      <td>3</td>\n",
              "      <td>31</td>\n",
              "      <td>6</td>\n",
              "      <td>16</td>\n",
              "      <td>0</td>\n",
              "      <td>0</td>\n",
              "      <td>0</td>\n",
              "      <td>Circulatory</td>\n",
              "      <td>Circulatory</td>\n",
              "      <td>Diabetes</td>\n",
              "      <td>9</td>\n",
              "      <td>None</td>\n",
              "      <td>None</td>\n",
              "      <td>0</td>\n",
              "      <td>0</td>\n",
              "      <td>0</td>\n",
              "      <td>0</td>\n",
              "      <td>0</td>\n",
              "      <td>0</td>\n",
              "      <td>0</td>\n",
              "      <td>0</td>\n",
              "      <td>0</td>\n",
              "      <td>0</td>\n",
              "      <td>0</td>\n",
              "      <td>0</td>\n",
              "      <td>0</td>\n",
              "      <td>0</td>\n",
              "      <td>0</td>\n",
              "      <td>0</td>\n",
              "      <td>0</td>\n",
              "      <td>2</td>\n",
              "      <td>0</td>\n",
              "      <td>0</td>\n",
              "      <td>0</td>\n",
              "      <td>0</td>\n",
              "      <td>0</td>\n",
              "      <td>0</td>\n",
              "      <td>1</td>\n",
              "      <td>1</td>\n",
              "    </tr>\n",
              "  </tbody>\n",
              "</table>\n",
              "</div>"
            ],
            "text/plain": [
              "   encounter_id  patient_nbr             race  gender  age  admission_type_id  \\\n",
              "0        149190     55629189        Caucasian  Female   15                  1   \n",
              "1         64410     86047875  AfricanAmerican  Female   25                  1   \n",
              "2        500364     82442376        Caucasian    Male   35                  1   \n",
              "3         16680     42519267        Caucasian    Male   45                  1   \n",
              "4         35754     82637451        Caucasian    Male   55                  2   \n",
              "\n",
              "   discharge_disposition_id  admission_source_id  time_in_hospital  \\\n",
              "0                         1                    7                 3   \n",
              "1                         1                    7                 2   \n",
              "2                         1                    7                 2   \n",
              "3                         1                    7                 1   \n",
              "4                         1                    2                 3   \n",
              "\n",
              "   num_lab_procedures  num_procedures  num_medications  number_outpatient  \\\n",
              "0                  59               0               18                  0   \n",
              "1                  11               5               13                  2   \n",
              "2                  44               1               16                  0   \n",
              "3                  51               0                8                  0   \n",
              "4                  31               6               16                  0   \n",
              "\n",
              "   number_emergency  number_inpatient       diag_1       diag_2       diag_3  \\\n",
              "0                 0                 0    Neoplasms     Diabetes    Neoplasms   \n",
              "1                 0                 1        Other     Diabetes        Other   \n",
              "2                 0                 0    Neoplasms     Diabetes  Circulatory   \n",
              "3                 0                 0    Neoplasms    Neoplasms     Diabetes   \n",
              "4                 0                 0  Circulatory  Circulatory     Diabetes   \n",
              "\n",
              "   number_diagnoses max_glu_serum A1Cresult  metformin  repaglinide  \\\n",
              "0                 9          None      None          0            0   \n",
              "1                 6          None      None          0            0   \n",
              "2                 7          None      None          0            0   \n",
              "3                 5          None      None          0            0   \n",
              "4                 9          None      None          0            0   \n",
              "\n",
              "   nateglinide  chlorpropamide  glimepiride  acetohexamide  glipizide  \\\n",
              "0            0               0            0              0          0   \n",
              "1            0               0            0              0          2   \n",
              "2            0               0            0              0          0   \n",
              "3            0               0            0              0          2   \n",
              "4            0               0            0              0          0   \n",
              "\n",
              "   glyburide  tolbutamide  pioglitazone  rosiglitazone  acarbose  miglitol  \\\n",
              "0          0            0             0              0         0         0   \n",
              "1          0            0             0              0         0         0   \n",
              "2          0            0             0              0         0         0   \n",
              "3          0            0             0              0         0         0   \n",
              "4          0            0             0              0         0         0   \n",
              "\n",
              "   troglitazone  tolazamide  examide  citoglipton  insulin  \\\n",
              "0             0           0        0            0        3   \n",
              "1             0           0        0            0        0   \n",
              "2             0           0        0            0        3   \n",
              "3             0           0        0            0        2   \n",
              "4             0           0        0            0        2   \n",
              "\n",
              "   glyburide-metformin  glipizide-metformin  glimepiride-pioglitazone  \\\n",
              "0                    0                    0                         0   \n",
              "1                    0                    0                         0   \n",
              "2                    0                    0                         0   \n",
              "3                    0                    0                         0   \n",
              "4                    0                    0                         0   \n",
              "\n",
              "   metformin-rosiglitazone  metformin-pioglitazone  change  diabetesMed  \\\n",
              "0                        0                       0       1            1   \n",
              "1                        0                       0       0            1   \n",
              "2                        0                       0       1            1   \n",
              "3                        0                       0       1            1   \n",
              "4                        0                       0       0            1   \n",
              "\n",
              "   readmitted  \n",
              "0           1  \n",
              "1           0  \n",
              "2           0  \n",
              "3           0  \n",
              "4           1  "
            ]
          },
          "metadata": {
            "tags": []
          },
          "execution_count": 187
        }
      ]
    },
    {
      "cell_type": "code",
      "metadata": {
        "colab_type": "code",
        "id": "KIMPojJkNQEM",
        "outputId": "87cde5f8-a8b6-4946-95c9-838443fbf3ae",
        "colab": {
          "base_uri": "https://localhost:8080/",
          "height": 500
        }
      },
      "source": [
        "print(pd.crosstab(data.readmitted,data.diabetesMed))\n",
        "f, axes = plt.subplots(1, 2, figsize=(15,6))\n",
        "axes = axes.flatten()\n",
        "sns.countplot(data['diabetesMed'], ax=axes[0])\n",
        "axes[0].set_xlabel('diabetesMed')\n",
        "\n",
        "sns.countplot(data['diabetesMed'],hue = data['readmitted'], ax=axes[1]).set_title('diabetes Medication by readmission status')\n",
        "axes[1].set_xlabel('diabetesMed')\n",
        "\n",
        "plt.show()"
      ],
      "execution_count": 0,
      "outputs": [
        {
          "output_type": "stream",
          "text": [
            "diabetesMed      0      1\n",
            "readmitted               \n",
            "0            13402  38935\n",
            "1             7092  27557\n",
            "2             2208   8858\n"
          ],
          "name": "stdout"
        },
        {
          "output_type": "display_data",
          "data": {
            "image/png": "[encoded data removed]",
            "text/plain": [
              "<Figure size 1080x432 with 2 Axes>"
            ]
          },
          "metadata": {
            "tags": []
          }
        }
      ]
    },
    {
      "cell_type": "markdown",
      "metadata": {
        "colab_type": "text",
        "id": "cNMsvnzTOUQO"
      },
      "source": [
        "**Inferences**:\n",
        "*  From the total data around 76% are took medications and in that 95% are readmitted.\n",
        "*  Those who are didn't took medications around 67% are readmitted"
      ]
    },
    {
      "cell_type": "code",
      "metadata": {
        "colab_type": "code",
        "id": "Q0bo4thmmsuG",
        "outputId": "3fa00cf0-87e4-4794-c26a-e22d6ae12915",
        "colab": {
          "base_uri": "https://localhost:8080/",
          "height": 608
        }
      },
      "source": [
        "print(pd.crosstab(data.readmitted,data.max_glu_serum))\n",
        "sns.countplot(data[\"max_glu_serum\"],hue=data.readmitted)"
      ],
      "execution_count": 0,
      "outputs": [
        {
          "output_type": "stream",
          "text": [
            "max_glu_serum   None  Norm  high  veryhigh\n",
            "readmitted                                \n",
            "0              49676  1376   746       539\n",
            "1              32755   866   519       509\n",
            "2              10413   290   184       179\n"
          ],
          "name": "stdout"
        },
        {
          "output_type": "execute_result",
          "data": {
            "text/plain": [
              "<matplotlib.axes._subplots.AxesSubplot at 0x9f37c44b08>"
            ]
          },
          "metadata": {
            "tags": []
          },
          "execution_count": 189
        },
        {
          "output_type": "display_data",
          "data": {
            "image/png": "[encoded data removed]",
            "text/plain": [
              "<Figure size 576x576 with 1 Axes>"
            ]
          },
          "metadata": {
            "tags": []
          }
        }
      ]
    },
    {
      "cell_type": "markdown",
      "metadata": {
        "colab_type": "text",
        "id": "d2H8WoQ6o4ag"
      },
      "source": [
        "**Inferences:**\n",
        "*   Approx.,**95%** of patients are not taking max_glu_serum test\n",
        "*   Approx.,**46%** of patients who didnt take test readmitted\n",
        "*   Approx.,**56%** of the patients whose max_glu_serum values greater than 300 are readmitting"
      ]
    },
    {
      "cell_type": "code",
      "metadata": {
        "colab_type": "code",
        "id": "Rx-2fa4-Orrd",
        "colab": {}
      },
      "source": [
        "from sklearn.preprocessing import LabelEncoder\n",
        "labelencoder = LabelEncoder()\n",
        "\n",
        "cols = ['race', 'diag_1', 'diag_2', 'diag_3',\"A1Cresult\",\"gender\",\"max_glu_serum\"]\n",
        "\n",
        "for col in cols:\n",
        "    data[col] = labelencoder.fit_transform(data[col])"
      ],
      "execution_count": 0,
      "outputs": []
    },
    {
      "cell_type": "code",
      "metadata": {
        "colab_type": "code",
        "id": "J70DPwqFOstz",
        "outputId": "a0181d1b-f48b-45b3-ec4b-d7e2493d6218",
        "colab": {
          "base_uri": "https://localhost:8080/",
          "height": 241
        }
      },
      "source": [
        "data.head()"
      ],
      "execution_count": 0,
      "outputs": [
        {
          "output_type": "execute_result",
          "data": {
            "text/html": [
              "<div>\n",
              "<style scoped>\n",
              "    .dataframe tbody tr th:only-of-type {\n",
              "        vertical-align: middle;\n",
              "    }\n",
              "\n",
              "    .dataframe tbody tr th {\n",
              "        vertical-align: top;\n",
              "    }\n",
              "\n",
              "    .dataframe thead th {\n",
              "        text-align: right;\n",
              "    }\n",
              "</style>\n",
              "<table border=\"1\" class=\"dataframe\">\n",
              "  <thead>\n",
              "    <tr style=\"text-align: right;\">\n",
              "      <th></th>\n",
              "      <th>encounter_id</th>\n",
              "      <th>patient_nbr</th>\n",
              "      <th>race</th>\n",
              "      <th>gender</th>\n",
              "      <th>age</th>\n",
              "      <th>admission_type_id</th>\n",
              "      <th>discharge_disposition_id</th>\n",
              "      <th>admission_source_id</th>\n",
              "      <th>time_in_hospital</th>\n",
              "      <th>num_lab_procedures</th>\n",
              "      <th>num_procedures</th>\n",
              "      <th>num_medications</th>\n",
              "      <th>number_outpatient</th>\n",
              "      <th>number_emergency</th>\n",
              "      <th>number_inpatient</th>\n",
              "      <th>diag_1</th>\n",
              "      <th>diag_2</th>\n",
              "      <th>diag_3</th>\n",
              "      <th>number_diagnoses</th>\n",
              "      <th>max_glu_serum</th>\n",
              "      <th>A1Cresult</th>\n",
              "      <th>metformin</th>\n",
              "      <th>repaglinide</th>\n",
              "      <th>nateglinide</th>\n",
              "      <th>chlorpropamide</th>\n",
              "      <th>glimepiride</th>\n",
              "      <th>acetohexamide</th>\n",
              "      <th>glipizide</th>\n",
              "      <th>glyburide</th>\n",
              "      <th>tolbutamide</th>\n",
              "      <th>pioglitazone</th>\n",
              "      <th>rosiglitazone</th>\n",
              "      <th>acarbose</th>\n",
              "      <th>miglitol</th>\n",
              "      <th>troglitazone</th>\n",
              "      <th>tolazamide</th>\n",
              "      <th>examide</th>\n",
              "      <th>citoglipton</th>\n",
              "      <th>insulin</th>\n",
              "      <th>glyburide-metformin</th>\n",
              "      <th>glipizide-metformin</th>\n",
              "      <th>glimepiride-pioglitazone</th>\n",
              "      <th>metformin-rosiglitazone</th>\n",
              "      <th>metformin-pioglitazone</th>\n",
              "      <th>change</th>\n",
              "      <th>diabetesMed</th>\n",
              "      <th>readmitted</th>\n",
              "    </tr>\n",
              "  </thead>\n",
              "  <tbody>\n",
              "    <tr>\n",
              "      <th>0</th>\n",
              "      <td>149190</td>\n",
              "      <td>55629189</td>\n",
              "      <td>1</td>\n",
              "      <td>0</td>\n",
              "      <td>15</td>\n",
              "      <td>1</td>\n",
              "      <td>1</td>\n",
              "      <td>7</td>\n",
              "      <td>3</td>\n",
              "      <td>59</td>\n",
              "      <td>0</td>\n",
              "      <td>18</td>\n",
              "      <td>0</td>\n",
              "      <td>0</td>\n",
              "      <td>0</td>\n",
              "      <td>6</td>\n",
              "      <td>1</td>\n",
              "      <td>6</td>\n",
              "      <td>9</td>\n",
              "      <td>0</td>\n",
              "      <td>0</td>\n",
              "      <td>0</td>\n",
              "      <td>0</td>\n",
              "      <td>0</td>\n",
              "      <td>0</td>\n",
              "      <td>0</td>\n",
              "      <td>0</td>\n",
              "      <td>0</td>\n",
              "      <td>0</td>\n",
              "      <td>0</td>\n",
              "      <td>0</td>\n",
              "      <td>0</td>\n",
              "      <td>0</td>\n",
              "      <td>0</td>\n",
              "      <td>0</td>\n",
              "      <td>0</td>\n",
              "      <td>0</td>\n",
              "      <td>0</td>\n",
              "      <td>3</td>\n",
              "      <td>0</td>\n",
              "      <td>0</td>\n",
              "      <td>0</td>\n",
              "      <td>0</td>\n",
              "      <td>0</td>\n",
              "      <td>1</td>\n",
              "      <td>1</td>\n",
              "      <td>1</td>\n",
              "    </tr>\n",
              "    <tr>\n",
              "      <th>1</th>\n",
              "      <td>64410</td>\n",
              "      <td>86047875</td>\n",
              "      <td>0</td>\n",
              "      <td>0</td>\n",
              "      <td>25</td>\n",
              "      <td>1</td>\n",
              "      <td>1</td>\n",
              "      <td>7</td>\n",
              "      <td>2</td>\n",
              "      <td>11</td>\n",
              "      <td>5</td>\n",
              "      <td>13</td>\n",
              "      <td>2</td>\n",
              "      <td>0</td>\n",
              "      <td>1</td>\n",
              "      <td>7</td>\n",
              "      <td>1</td>\n",
              "      <td>7</td>\n",
              "      <td>6</td>\n",
              "      <td>0</td>\n",
              "      <td>0</td>\n",
              "      <td>0</td>\n",
              "      <td>0</td>\n",
              "      <td>0</td>\n",
              "      <td>0</td>\n",
              "      <td>0</td>\n",
              "      <td>0</td>\n",
              "      <td>2</td>\n",
              "      <td>0</td>\n",
              "      <td>0</td>\n",
              "      <td>0</td>\n",
              "      <td>0</td>\n",
              "      <td>0</td>\n",
              "      <td>0</td>\n",
              "      <td>0</td>\n",
              "      <td>0</td>\n",
              "      <td>0</td>\n",
              "      <td>0</td>\n",
              "      <td>0</td>\n",
              "      <td>0</td>\n",
              "      <td>0</td>\n",
              "      <td>0</td>\n",
              "      <td>0</td>\n",
              "      <td>0</td>\n",
              "      <td>0</td>\n",
              "      <td>1</td>\n",
              "      <td>0</td>\n",
              "    </tr>\n",
              "    <tr>\n",
              "      <th>2</th>\n",
              "      <td>500364</td>\n",
              "      <td>82442376</td>\n",
              "      <td>1</td>\n",
              "      <td>1</td>\n",
              "      <td>35</td>\n",
              "      <td>1</td>\n",
              "      <td>1</td>\n",
              "      <td>7</td>\n",
              "      <td>2</td>\n",
              "      <td>44</td>\n",
              "      <td>1</td>\n",
              "      <td>16</td>\n",
              "      <td>0</td>\n",
              "      <td>0</td>\n",
              "      <td>0</td>\n",
              "      <td>6</td>\n",
              "      <td>1</td>\n",
              "      <td>0</td>\n",
              "      <td>7</td>\n",
              "      <td>0</td>\n",
              "      <td>0</td>\n",
              "      <td>0</td>\n",
              "      <td>0</td>\n",
              "      <td>0</td>\n",
              "      <td>0</td>\n",
              "      <td>0</td>\n",
              "      <td>0</td>\n",
              "      <td>0</td>\n",
              "      <td>0</td>\n",
              "      <td>0</td>\n",
              "      <td>0</td>\n",
              "      <td>0</td>\n",
              "      <td>0</td>\n",
              "      <td>0</td>\n",
              "      <td>0</td>\n",
              "      <td>0</td>\n",
              "      <td>0</td>\n",
              "      <td>0</td>\n",
              "      <td>3</td>\n",
              "      <td>0</td>\n",
              "      <td>0</td>\n",
              "      <td>0</td>\n",
              "      <td>0</td>\n",
              "      <td>0</td>\n",
              "      <td>1</td>\n",
              "      <td>1</td>\n",
              "      <td>0</td>\n",
              "    </tr>\n",
              "    <tr>\n",
              "      <th>3</th>\n",
              "      <td>16680</td>\n",
              "      <td>42519267</td>\n",
              "      <td>1</td>\n",
              "      <td>1</td>\n",
              "      <td>45</td>\n",
              "      <td>1</td>\n",
              "      <td>1</td>\n",
              "      <td>7</td>\n",
              "      <td>1</td>\n",
              "      <td>51</td>\n",
              "      <td>0</td>\n",
              "      <td>8</td>\n",
              "      <td>0</td>\n",
              "      <td>0</td>\n",
              "      <td>0</td>\n",
              "      <td>6</td>\n",
              "      <td>6</td>\n",
              "      <td>1</td>\n",
              "      <td>5</td>\n",
              "      <td>0</td>\n",
              "      <td>0</td>\n",
              "      <td>0</td>\n",
              "      <td>0</td>\n",
              "      <td>0</td>\n",
              "      <td>0</td>\n",
              "      <td>0</td>\n",
              "      <td>0</td>\n",
              "      <td>2</td>\n",
              "      <td>0</td>\n",
              "      <td>0</td>\n",
              "      <td>0</td>\n",
              "      <td>0</td>\n",
              "      <td>0</td>\n",
              "      <td>0</td>\n",
              "      <td>0</td>\n",
              "      <td>0</td>\n",
              "      <td>0</td>\n",
              "      <td>0</td>\n",
              "      <td>2</td>\n",
              "      <td>0</td>\n",
              "      <td>0</td>\n",
              "      <td>0</td>\n",
              "      <td>0</td>\n",
              "      <td>0</td>\n",
              "      <td>1</td>\n",
              "      <td>1</td>\n",
              "      <td>0</td>\n",
              "    </tr>\n",
              "    <tr>\n",
              "      <th>4</th>\n",
              "      <td>35754</td>\n",
              "      <td>82637451</td>\n",
              "      <td>1</td>\n",
              "      <td>1</td>\n",
              "      <td>55</td>\n",
              "      <td>2</td>\n",
              "      <td>1</td>\n",
              "      <td>2</td>\n",
              "      <td>3</td>\n",
              "      <td>31</td>\n",
              "      <td>6</td>\n",
              "      <td>16</td>\n",
              "      <td>0</td>\n",
              "      <td>0</td>\n",
              "      <td>0</td>\n",
              "      <td>0</td>\n",
              "      <td>0</td>\n",
              "      <td>1</td>\n",
              "      <td>9</td>\n",
              "      <td>0</td>\n",
              "      <td>0</td>\n",
              "      <td>0</td>\n",
              "      <td>0</td>\n",
              "      <td>0</td>\n",
              "      <td>0</td>\n",
              "      <td>0</td>\n",
              "      <td>0</td>\n",
              "      <td>0</td>\n",
              "      <td>0</td>\n",
              "      <td>0</td>\n",
              "      <td>0</td>\n",
              "      <td>0</td>\n",
              "      <td>0</td>\n",
              "      <td>0</td>\n",
              "      <td>0</td>\n",
              "      <td>0</td>\n",
              "      <td>0</td>\n",
              "      <td>0</td>\n",
              "      <td>2</td>\n",
              "      <td>0</td>\n",
              "      <td>0</td>\n",
              "      <td>0</td>\n",
              "      <td>0</td>\n",
              "      <td>0</td>\n",
              "      <td>0</td>\n",
              "      <td>1</td>\n",
              "      <td>1</td>\n",
              "    </tr>\n",
              "  </tbody>\n",
              "</table>\n",
              "</div>"
            ],
            "text/plain": [
              "   encounter_id  patient_nbr  race  gender  age  admission_type_id  \\\n",
              "0        149190     55629189     1       0   15                  1   \n",
              "1         64410     86047875     0       0   25                  1   \n",
              "2        500364     82442376     1       1   35                  1   \n",
              "3         16680     42519267     1       1   45                  1   \n",
              "4         35754     82637451     1       1   55                  2   \n",
              "\n",
              "   discharge_disposition_id  admission_source_id  time_in_hospital  \\\n",
              "0                         1                    7                 3   \n",
              "1                         1                    7                 2   \n",
              "2                         1                    7                 2   \n",
              "3                         1                    7                 1   \n",
              "4                         1                    2                 3   \n",
              "\n",
              "   num_lab_procedures  num_procedures  num_medications  number_outpatient  \\\n",
              "0                  59               0               18                  0   \n",
              "1                  11               5               13                  2   \n",
              "2                  44               1               16                  0   \n",
              "3                  51               0                8                  0   \n",
              "4                  31               6               16                  0   \n",
              "\n",
              "   number_emergency  number_inpatient  diag_1  diag_2  diag_3  \\\n",
              "0                 0                 0       6       1       6   \n",
              "1                 0                 1       7       1       7   \n",
              "2                 0                 0       6       1       0   \n",
              "3                 0                 0       6       6       1   \n",
              "4                 0                 0       0       0       1   \n",
              "\n",
              "   number_diagnoses  max_glu_serum  A1Cresult  metformin  repaglinide  \\\n",
              "0                 9              0          0          0            0   \n",
              "1                 6              0          0          0            0   \n",
              "2                 7              0          0          0            0   \n",
              "3                 5              0          0          0            0   \n",
              "4                 9              0          0          0            0   \n",
              "\n",
              "   nateglinide  chlorpropamide  glimepiride  acetohexamide  glipizide  \\\n",
              "0            0               0            0              0          0   \n",
              "1            0               0            0              0          2   \n",
              "2            0               0            0              0          0   \n",
              "3            0               0            0              0          2   \n",
              "4            0               0            0              0          0   \n",
              "\n",
              "   glyburide  tolbutamide  pioglitazone  rosiglitazone  acarbose  miglitol  \\\n",
              "0          0            0             0              0         0         0   \n",
              "1          0            0             0              0         0         0   \n",
              "2          0            0             0              0         0         0   \n",
              "3          0            0             0              0         0         0   \n",
              "4          0            0             0              0         0         0   \n",
              "\n",
              "   troglitazone  tolazamide  examide  citoglipton  insulin  \\\n",
              "0             0           0        0            0        3   \n",
              "1             0           0        0            0        0   \n",
              "2             0           0        0            0        3   \n",
              "3             0           0        0            0        2   \n",
              "4             0           0        0            0        2   \n",
              "\n",
              "   glyburide-metformin  glipizide-metformin  glimepiride-pioglitazone  \\\n",
              "0                    0                    0                         0   \n",
              "1                    0                    0                         0   \n",
              "2                    0                    0                         0   \n",
              "3                    0                    0                         0   \n",
              "4                    0                    0                         0   \n",
              "\n",
              "   metformin-rosiglitazone  metformin-pioglitazone  change  diabetesMed  \\\n",
              "0                        0                       0       1            1   \n",
              "1                        0                       0       0            1   \n",
              "2                        0                       0       1            1   \n",
              "3                        0                       0       1            1   \n",
              "4                        0                       0       0            1   \n",
              "\n",
              "   readmitted  \n",
              "0           1  \n",
              "1           0  \n",
              "2           0  \n",
              "3           0  \n",
              "4           1  "
            ]
          },
          "metadata": {
            "tags": []
          },
          "execution_count": 191
        }
      ]
    },
    {
      "cell_type": "code",
      "metadata": {
        "colab_type": "code",
        "id": "jzsW105-tk06",
        "outputId": "13abb331-4119-4a45-cdb0-d5caa5f01871",
        "colab": {
          "base_uri": "https://localhost:8080/",
          "height": 608
        }
      },
      "source": [
        "print(data.insulin.value_counts(normalize=True))\n",
        "sns.countplot(data.insulin,hue=data.readmitted)"
      ],
      "execution_count": 0,
      "outputs": [
        {
          "output_type": "stream",
          "text": [
            "0    0.468547\n",
            "2    0.299515\n",
            "1    0.120783\n",
            "3    0.111155\n",
            "Name: insulin, dtype: float64\n"
          ],
          "name": "stdout"
        },
        {
          "output_type": "execute_result",
          "data": {
            "text/plain": [
              "<matplotlib.axes._subplots.AxesSubplot at 0x9f3a377ac8>"
            ]
          },
          "metadata": {
            "tags": []
          },
          "execution_count": 192
        },
        {
          "output_type": "display_data",
          "data": {
            "image/png": "[encoded data removed]",
            "text/plain": [
              "<Figure size 576x576 with 1 Axes>"
            ]
          },
          "metadata": {
            "tags": []
          }
        }
      ]
    },
    {
      "cell_type": "markdown",
      "metadata": {
        "colab_type": "text",
        "id": "xYeXGwmxuy4U"
      },
      "source": [
        "**Inferences:**\n",
        "*    insulin was not prescribed for 46%  of the patiensts.\n",
        "*    there is no change in insulin dosage for Aprox..30%.\n",
        "*    readmission rate is more for the patients whose insulin dosage is either increase or decrease.\n",
        "\n",
        "\n",
        "**Note:**\n",
        "*    except insulin all other medications dosage was steady."
      ]
    },
    {
      "cell_type": "code",
      "metadata": {
        "colab_type": "code",
        "id": "uXq3C53_uAU8",
        "outputId": "63cdff0f-847c-4d17-e401-57c48e568888",
        "colab": {
          "base_uri": "https://localhost:8080/",
          "height": 476
        }
      },
      "source": [
        "data.discharge_disposition_id.value_counts()"
      ],
      "execution_count": 0,
      "outputs": [
        {
          "output_type": "execute_result",
          "data": {
            "text/plain": [
              "1     57609\n",
              "3     13564\n",
              "6     12626\n",
              "18     3624\n",
              "2      2049\n",
              "22     1970\n",
              "11     1606\n",
              "5      1127\n",
              "25      941\n",
              "4       756\n",
              "7       592\n",
              "23      400\n",
              "13      396\n",
              "14      368\n",
              "28      137\n",
              "8       106\n",
              "15       63\n",
              "24       48\n",
              "9        21\n",
              "17       14\n",
              "16       11\n",
              "19        8\n",
              "10        6\n",
              "27        5\n",
              "12        3\n",
              "20        2\n",
              "Name: discharge_disposition_id, dtype: int64"
            ]
          },
          "metadata": {
            "tags": []
          },
          "execution_count": 193
        }
      ]
    },
    {
      "cell_type": "code",
      "metadata": {
        "colab_type": "code",
        "id": "5GhrYb7e67uz",
        "colab": {}
      },
      "source": [
        "discharge_disposition = data['discharge_disposition_id'].replace({1:'discharged to home',2:'Otherwise',\n",
        "                                                       3:'Otherwise',4:'Otherwise',\n",
        "                                                       5:'Otherwise',\n",
        "                                                       6:'discharged to home',\n",
        "                                                       7:'Otherwise',8:'discharged to home',\n",
        "                                                       9:'Otherwise',10:'Otherwise',\n",
        "                                                       11:'Otherwise',12:'Otherwise',13:'Otherwise',14:'Otherwise',15:'Otherwise',16:'Otherwise',\n",
        "                                                       17:'Otherwise',18:'Otherwise',19:'Otherwise',20:'Otherwise',22:'Otherwise',23:'Otherwise',24:'Otherwise',\n",
        "                                                       25:'Otherwise',27:'Otherwise',28:'Otherwise',29:'Otherwise'})"
      ],
      "execution_count": 0,
      "outputs": []
    },
    {
      "cell_type": "code",
      "metadata": {
        "colab_type": "code",
        "id": "5MbTeM4j8wMI",
        "outputId": "ed8ee98c-9a6e-406a-bf51-2f44dc1b37f3",
        "colab": {
          "base_uri": "https://localhost:8080/",
          "height": 398
        }
      },
      "source": [
        "f, axes = plt.subplots(1, 2, figsize=(15,6))\n",
        "axes = axes.flatten()\n",
        "sns.countplot(discharge_disposition,ax=axes[0])\n",
        "\n",
        "\n",
        "sns.countplot(discharge_disposition,hue = data['readmitted'], ax=axes[1])\n",
        "plt.show()"
      ],
      "execution_count": 0,
      "outputs": [
        {
          "output_type": "display_data",
          "data": {
            "image/png": "[encoded data removed]",
            "text/plain": [
              "<Figure size 1080x432 with 2 Axes>"
            ]
          },
          "metadata": {
            "tags": []
          }
        }
      ]
    },
    {
      "cell_type": "markdown",
      "metadata": {
        "colab_type": "text",
        "id": "UR4RdAzc-Dy3"
      },
      "source": [
        "Inferences:\n",
        "*   approx..72% of patients discharged to home .\n",
        "*   approx.. 73% of patients who dischaged to home are readmitted."
      ]
    },
    {
      "cell_type": "code",
      "metadata": {
        "colab_type": "code",
        "id": "-gfTArT0GL4c",
        "colab": {}
      },
      "source": [
        "from sklearn.linear_model import LogisticRegression\n",
        "new_df=data.copy()"
      ],
      "execution_count": 0,
      "outputs": []
    },
    {
      "cell_type": "code",
      "metadata": {
        "colab_type": "code",
        "id": "K2b8DrXqGMMM",
        "colab": {}
      },
      "source": [
        "new_df[\"discharge_disposition\"] = data['discharge_disposition_id'].replace({1:'discharged to home',2:'Otherwise',\n",
        "                                                       3:'Otherwise',4:'Otherwise',\n",
        "                                                       5:'Otherwise',\n",
        "                                                       6:'discharged to home',\n",
        "                                                       7:'Otherwise',8:'discharged to home',\n",
        "                                                       9:'Otherwise',10:'Otherwise',\n",
        "                                                       11:'Otherwise',12:'Otherwise',13:'Otherwise',14:'Otherwise',15:'Otherwise',16:'Otherwise',\n",
        "                                                       17:'Otherwise',18:'Otherwise',19:'Otherwise',20:'Otherwise',22:'Otherwise',23:'Otherwise',24:'Otherwise',\n",
        "                                                       25:'Otherwise',27:'Otherwise',28:'Otherwise',29:'Otherwise'})\n",
        "new_df[\"admission_source\"] = data['admission_source_id'].replace({1:'Admitted because of physician/clinic referral',2:'Admitted because of physician/clinic referral',\n",
        "                                                       3:'Admitted because of physician/clinic referral',4:'Otherwise',\n",
        "                                                       5:'Otherwise',\n",
        "                                                       6:'Otherwise',\n",
        "                                                       7:'Admitted from emergency room',8:'Otherwise',\n",
        "                                                       9:'Otherwise',10:'Otherwise',\n",
        "                                                       11:'Otherwise',13:'Otherwise',14:'Otherwise',\n",
        "                                                       17:'Otherwise',20:'Otherwise',22:'Otherwise',\n",
        "                                                       25:'Otherwise'})\n",
        "new_df[\"admission_type\"] = data['admission_type_id'].replace({1:'Emergency', 2:'Urgent',\n",
        "                                                       3:'Elective', 4:'Newborn',\n",
        "                                                       5:'Not Available',\n",
        "                                                       6:'NULL',\n",
        "                                                       7:'Trauma Center',8:'Not Mapped'})\n"
      ],
      "execution_count": 0,
      "outputs": []
    },
    {
      "cell_type": "code",
      "metadata": {
        "colab_type": "code",
        "id": "SD4BStPQIwON",
        "outputId": "b7b1a258-c35f-4851-95ba-20b4ee62e57b",
        "colab": {
          "base_uri": "https://localhost:8080/",
          "height": 343
        }
      },
      "source": [
        "new_df.head()"
      ],
      "execution_count": 0,
      "outputs": [
        {
          "output_type": "execute_result",
          "data": {
            "text/html": [
              "<div>\n",
              "<style scoped>\n",
              "    .dataframe tbody tr th:only-of-type {\n",
              "        vertical-align: middle;\n",
              "    }\n",
              "\n",
              "    .dataframe tbody tr th {\n",
              "        vertical-align: top;\n",
              "    }\n",
              "\n",
              "    .dataframe thead th {\n",
              "        text-align: right;\n",
              "    }\n",
              "</style>\n",
              "<table border=\"1\" class=\"dataframe\">\n",
              "  <thead>\n",
              "    <tr style=\"text-align: right;\">\n",
              "      <th></th>\n",
              "      <th>encounter_id</th>\n",
              "      <th>patient_nbr</th>\n",
              "      <th>race</th>\n",
              "      <th>gender</th>\n",
              "      <th>age</th>\n",
              "      <th>admission_type_id</th>\n",
              "      <th>discharge_disposition_id</th>\n",
              "      <th>admission_source_id</th>\n",
              "      <th>time_in_hospital</th>\n",
              "      <th>num_lab_procedures</th>\n",
              "      <th>num_procedures</th>\n",
              "      <th>num_medications</th>\n",
              "      <th>number_outpatient</th>\n",
              "      <th>number_emergency</th>\n",
              "      <th>number_inpatient</th>\n",
              "      <th>diag_1</th>\n",
              "      <th>diag_2</th>\n",
              "      <th>diag_3</th>\n",
              "      <th>number_diagnoses</th>\n",
              "      <th>max_glu_serum</th>\n",
              "      <th>A1Cresult</th>\n",
              "      <th>metformin</th>\n",
              "      <th>repaglinide</th>\n",
              "      <th>nateglinide</th>\n",
              "      <th>chlorpropamide</th>\n",
              "      <th>glimepiride</th>\n",
              "      <th>acetohexamide</th>\n",
              "      <th>glipizide</th>\n",
              "      <th>glyburide</th>\n",
              "      <th>tolbutamide</th>\n",
              "      <th>pioglitazone</th>\n",
              "      <th>rosiglitazone</th>\n",
              "      <th>acarbose</th>\n",
              "      <th>miglitol</th>\n",
              "      <th>troglitazone</th>\n",
              "      <th>tolazamide</th>\n",
              "      <th>examide</th>\n",
              "      <th>citoglipton</th>\n",
              "      <th>insulin</th>\n",
              "      <th>glyburide-metformin</th>\n",
              "      <th>glipizide-metformin</th>\n",
              "      <th>glimepiride-pioglitazone</th>\n",
              "      <th>metformin-rosiglitazone</th>\n",
              "      <th>metformin-pioglitazone</th>\n",
              "      <th>change</th>\n",
              "      <th>diabetesMed</th>\n",
              "      <th>readmitted</th>\n",
              "      <th>discharge_disposition</th>\n",
              "      <th>admission_source</th>\n",
              "      <th>admission_type</th>\n",
              "    </tr>\n",
              "  </thead>\n",
              "  <tbody>\n",
              "    <tr>\n",
              "      <th>0</th>\n",
              "      <td>149190</td>\n",
              "      <td>55629189</td>\n",
              "      <td>1</td>\n",
              "      <td>0</td>\n",
              "      <td>15</td>\n",
              "      <td>1</td>\n",
              "      <td>1</td>\n",
              "      <td>7</td>\n",
              "      <td>3</td>\n",
              "      <td>59</td>\n",
              "      <td>0</td>\n",
              "      <td>18</td>\n",
              "      <td>0</td>\n",
              "      <td>0</td>\n",
              "      <td>0</td>\n",
              "      <td>6</td>\n",
              "      <td>1</td>\n",
              "      <td>6</td>\n",
              "      <td>9</td>\n",
              "      <td>0</td>\n",
              "      <td>0</td>\n",
              "      <td>0</td>\n",
              "      <td>0</td>\n",
              "      <td>0</td>\n",
              "      <td>0</td>\n",
              "      <td>0</td>\n",
              "      <td>0</td>\n",
              "      <td>0</td>\n",
              "      <td>0</td>\n",
              "      <td>0</td>\n",
              "      <td>0</td>\n",
              "      <td>0</td>\n",
              "      <td>0</td>\n",
              "      <td>0</td>\n",
              "      <td>0</td>\n",
              "      <td>0</td>\n",
              "      <td>0</td>\n",
              "      <td>0</td>\n",
              "      <td>3</td>\n",
              "      <td>0</td>\n",
              "      <td>0</td>\n",
              "      <td>0</td>\n",
              "      <td>0</td>\n",
              "      <td>0</td>\n",
              "      <td>1</td>\n",
              "      <td>1</td>\n",
              "      <td>1</td>\n",
              "      <td>discharged to home</td>\n",
              "      <td>Admitted from emergency room</td>\n",
              "      <td>Emergency</td>\n",
              "    </tr>\n",
              "    <tr>\n",
              "      <th>1</th>\n",
              "      <td>64410</td>\n",
              "      <td>86047875</td>\n",
              "      <td>0</td>\n",
              "      <td>0</td>\n",
              "      <td>25</td>\n",
              "      <td>1</td>\n",
              "      <td>1</td>\n",
              "      <td>7</td>\n",
              "      <td>2</td>\n",
              "      <td>11</td>\n",
              "      <td>5</td>\n",
              "      <td>13</td>\n",
              "      <td>2</td>\n",
              "      <td>0</td>\n",
              "      <td>1</td>\n",
              "      <td>7</td>\n",
              "      <td>1</td>\n",
              "      <td>7</td>\n",
              "      <td>6</td>\n",
              "      <td>0</td>\n",
              "      <td>0</td>\n",
              "      <td>0</td>\n",
              "      <td>0</td>\n",
              "      <td>0</td>\n",
              "      <td>0</td>\n",
              "      <td>0</td>\n",
              "      <td>0</td>\n",
              "      <td>2</td>\n",
              "      <td>0</td>\n",
              "      <td>0</td>\n",
              "      <td>0</td>\n",
              "      <td>0</td>\n",
              "      <td>0</td>\n",
              "      <td>0</td>\n",
              "      <td>0</td>\n",
              "      <td>0</td>\n",
              "      <td>0</td>\n",
              "      <td>0</td>\n",
              "      <td>0</td>\n",
              "      <td>0</td>\n",
              "      <td>0</td>\n",
              "      <td>0</td>\n",
              "      <td>0</td>\n",
              "      <td>0</td>\n",
              "      <td>0</td>\n",
              "      <td>1</td>\n",
              "      <td>0</td>\n",
              "      <td>discharged to home</td>\n",
              "      <td>Admitted from emergency room</td>\n",
              "      <td>Emergency</td>\n",
              "    </tr>\n",
              "    <tr>\n",
              "      <th>2</th>\n",
              "      <td>500364</td>\n",
              "      <td>82442376</td>\n",
              "      <td>1</td>\n",
              "      <td>1</td>\n",
              "      <td>35</td>\n",
              "      <td>1</td>\n",
              "      <td>1</td>\n",
              "      <td>7</td>\n",
              "      <td>2</td>\n",
              "      <td>44</td>\n",
              "      <td>1</td>\n",
              "      <td>16</td>\n",
              "      <td>0</td>\n",
              "      <td>0</td>\n",
              "      <td>0</td>\n",
              "      <td>6</td>\n",
              "      <td>1</td>\n",
              "      <td>0</td>\n",
              "      <td>7</td>\n",
              "      <td>0</td>\n",
              "      <td>0</td>\n",
              "      <td>0</td>\n",
              "      <td>0</td>\n",
              "      <td>0</td>\n",
              "      <td>0</td>\n",
              "      <td>0</td>\n",
              "      <td>0</td>\n",
              "      <td>0</td>\n",
              "      <td>0</td>\n",
              "      <td>0</td>\n",
              "      <td>0</td>\n",
              "      <td>0</td>\n",
              "      <td>0</td>\n",
              "      <td>0</td>\n",
              "      <td>0</td>\n",
              "      <td>0</td>\n",
              "      <td>0</td>\n",
              "      <td>0</td>\n",
              "      <td>3</td>\n",
              "      <td>0</td>\n",
              "      <td>0</td>\n",
              "      <td>0</td>\n",
              "      <td>0</td>\n",
              "      <td>0</td>\n",
              "      <td>1</td>\n",
              "      <td>1</td>\n",
              "      <td>0</td>\n",
              "      <td>discharged to home</td>\n",
              "      <td>Admitted from emergency room</td>\n",
              "      <td>Emergency</td>\n",
              "    </tr>\n",
              "    <tr>\n",
              "      <th>3</th>\n",
              "      <td>16680</td>\n",
              "      <td>42519267</td>\n",
              "      <td>1</td>\n",
              "      <td>1</td>\n",
              "      <td>45</td>\n",
              "      <td>1</td>\n",
              "      <td>1</td>\n",
              "      <td>7</td>\n",
              "      <td>1</td>\n",
              "      <td>51</td>\n",
              "      <td>0</td>\n",
              "      <td>8</td>\n",
              "      <td>0</td>\n",
              "      <td>0</td>\n",
              "      <td>0</td>\n",
              "      <td>6</td>\n",
              "      <td>6</td>\n",
              "      <td>1</td>\n",
              "      <td>5</td>\n",
              "      <td>0</td>\n",
              "      <td>0</td>\n",
              "      <td>0</td>\n",
              "      <td>0</td>\n",
              "      <td>0</td>\n",
              "      <td>0</td>\n",
              "      <td>0</td>\n",
              "      <td>0</td>\n",
              "      <td>2</td>\n",
              "      <td>0</td>\n",
              "      <td>0</td>\n",
              "      <td>0</td>\n",
              "      <td>0</td>\n",
              "      <td>0</td>\n",
              "      <td>0</td>\n",
              "      <td>0</td>\n",
              "      <td>0</td>\n",
              "      <td>0</td>\n",
              "      <td>0</td>\n",
              "      <td>2</td>\n",
              "      <td>0</td>\n",
              "      <td>0</td>\n",
              "      <td>0</td>\n",
              "      <td>0</td>\n",
              "      <td>0</td>\n",
              "      <td>1</td>\n",
              "      <td>1</td>\n",
              "      <td>0</td>\n",
              "      <td>discharged to home</td>\n",
              "      <td>Admitted from emergency room</td>\n",
              "      <td>Emergency</td>\n",
              "    </tr>\n",
              "    <tr>\n",
              "      <th>4</th>\n",
              "      <td>35754</td>\n",
              "      <td>82637451</td>\n",
              "      <td>1</td>\n",
              "      <td>1</td>\n",
              "      <td>55</td>\n",
              "      <td>2</td>\n",
              "      <td>1</td>\n",
              "      <td>2</td>\n",
              "      <td>3</td>\n",
              "      <td>31</td>\n",
              "      <td>6</td>\n",
              "      <td>16</td>\n",
              "      <td>0</td>\n",
              "      <td>0</td>\n",
              "      <td>0</td>\n",
              "      <td>0</td>\n",
              "      <td>0</td>\n",
              "      <td>1</td>\n",
              "      <td>9</td>\n",
              "      <td>0</td>\n",
              "      <td>0</td>\n",
              "      <td>0</td>\n",
              "      <td>0</td>\n",
              "      <td>0</td>\n",
              "      <td>0</td>\n",
              "      <td>0</td>\n",
              "      <td>0</td>\n",
              "      <td>0</td>\n",
              "      <td>0</td>\n",
              "      <td>0</td>\n",
              "      <td>0</td>\n",
              "      <td>0</td>\n",
              "      <td>0</td>\n",
              "      <td>0</td>\n",
              "      <td>0</td>\n",
              "      <td>0</td>\n",
              "      <td>0</td>\n",
              "      <td>0</td>\n",
              "      <td>2</td>\n",
              "      <td>0</td>\n",
              "      <td>0</td>\n",
              "      <td>0</td>\n",
              "      <td>0</td>\n",
              "      <td>0</td>\n",
              "      <td>0</td>\n",
              "      <td>1</td>\n",
              "      <td>1</td>\n",
              "      <td>discharged to home</td>\n",
              "      <td>Admitted because of physician/clinic referral</td>\n",
              "      <td>Urgent</td>\n",
              "    </tr>\n",
              "  </tbody>\n",
              "</table>\n",
              "</div>"
            ],
            "text/plain": [
              "   encounter_id  patient_nbr  race  gender  age  admission_type_id  \\\n",
              "0        149190     55629189     1       0   15                  1   \n",
              "1         64410     86047875     0       0   25                  1   \n",
              "2        500364     82442376     1       1   35                  1   \n",
              "3         16680     42519267     1       1   45                  1   \n",
              "4         35754     82637451     1       1   55                  2   \n",
              "\n",
              "   discharge_disposition_id  admission_source_id  time_in_hospital  \\\n",
              "0                         1                    7                 3   \n",
              "1                         1                    7                 2   \n",
              "2                         1                    7                 2   \n",
              "3                         1                    7                 1   \n",
              "4                         1                    2                 3   \n",
              "\n",
              "   num_lab_procedures  num_procedures  num_medications  number_outpatient  \\\n",
              "0                  59               0               18                  0   \n",
              "1                  11               5               13                  2   \n",
              "2                  44               1               16                  0   \n",
              "3                  51               0                8                  0   \n",
              "4                  31               6               16                  0   \n",
              "\n",
              "   number_emergency  number_inpatient  diag_1  diag_2  diag_3  \\\n",
              "0                 0                 0       6       1       6   \n",
              "1                 0                 1       7       1       7   \n",
              "2                 0                 0       6       1       0   \n",
              "3                 0                 0       6       6       1   \n",
              "4                 0                 0       0       0       1   \n",
              "\n",
              "   number_diagnoses  max_glu_serum  A1Cresult  metformin  repaglinide  \\\n",
              "0                 9              0          0          0            0   \n",
              "1                 6              0          0          0            0   \n",
              "2                 7              0          0          0            0   \n",
              "3                 5              0          0          0            0   \n",
              "4                 9              0          0          0            0   \n",
              "\n",
              "   nateglinide  chlorpropamide  glimepiride  acetohexamide  glipizide  \\\n",
              "0            0               0            0              0          0   \n",
              "1            0               0            0              0          2   \n",
              "2            0               0            0              0          0   \n",
              "3            0               0            0              0          2   \n",
              "4            0               0            0              0          0   \n",
              "\n",
              "   glyburide  tolbutamide  pioglitazone  rosiglitazone  acarbose  miglitol  \\\n",
              "0          0            0             0              0         0         0   \n",
              "1          0            0             0              0         0         0   \n",
              "2          0            0             0              0         0         0   \n",
              "3          0            0             0              0         0         0   \n",
              "4          0            0             0              0         0         0   \n",
              "\n",
              "   troglitazone  tolazamide  examide  citoglipton  insulin  \\\n",
              "0             0           0        0            0        3   \n",
              "1             0           0        0            0        0   \n",
              "2             0           0        0            0        3   \n",
              "3             0           0        0            0        2   \n",
              "4             0           0        0            0        2   \n",
              "\n",
              "   glyburide-metformin  glipizide-metformin  glimepiride-pioglitazone  \\\n",
              "0                    0                    0                         0   \n",
              "1                    0                    0                         0   \n",
              "2                    0                    0                         0   \n",
              "3                    0                    0                         0   \n",
              "4                    0                    0                         0   \n",
              "\n",
              "   metformin-rosiglitazone  metformin-pioglitazone  change  diabetesMed  \\\n",
              "0                        0                       0       1            1   \n",
              "1                        0                       0       0            1   \n",
              "2                        0                       0       1            1   \n",
              "3                        0                       0       1            1   \n",
              "4                        0                       0       0            1   \n",
              "\n",
              "   readmitted discharge_disposition  \\\n",
              "0           1    discharged to home   \n",
              "1           0    discharged to home   \n",
              "2           0    discharged to home   \n",
              "3           0    discharged to home   \n",
              "4           1    discharged to home   \n",
              "\n",
              "                                admission_source admission_type  \n",
              "0                   Admitted from emergency room      Emergency  \n",
              "1                   Admitted from emergency room      Emergency  \n",
              "2                   Admitted from emergency room      Emergency  \n",
              "3                   Admitted from emergency room      Emergency  \n",
              "4  Admitted because of physician/clinic referral         Urgent  "
            ]
          },
          "metadata": {
            "tags": []
          },
          "execution_count": 199
        }
      ]
    },
    {
      "cell_type": "code",
      "metadata": {
        "colab_type": "code",
        "id": "JnQuGdrHHOKc",
        "colab": {}
      },
      "source": [
        "new_df.drop([\"admission_source_id\",\"discharge_disposition_id\"],axis=1,inplace=True)"
      ],
      "execution_count": 0,
      "outputs": []
    },
    {
      "cell_type": "code",
      "metadata": {
        "colab_type": "code",
        "id": "Q-NLr0JbH7_n",
        "colab": {}
      },
      "source": [
        "from sklearn.preprocessing import LabelEncoder\n",
        "labelencoder = LabelEncoder()\n",
        "\n",
        "cols = ['discharge_disposition', 'admission_source',\"gender\",\"admission_type\"]\n",
        "\n",
        "for col in cols:\n",
        "    new_df[col] = labelencoder.fit_transform(new_df[col])"
      ],
      "execution_count": 0,
      "outputs": []
    },
    {
      "cell_type": "code",
      "metadata": {
        "id": "nAmHOQbaTcaK",
        "colab_type": "code",
        "colab": {}
      },
      "source": [
        "new_df.drop([\"encounter_id\",\"patient_nbr\",\"admission_type_id\"],axis=1,inplace=True)"
      ],
      "execution_count": 0,
      "outputs": []
    },
    {
      "cell_type": "code",
      "metadata": {
        "colab_type": "code",
        "id": "0eYsc0I3IQT3",
        "outputId": "4f63d9a1-9096-44c2-b97a-629e5a8b7a85",
        "colab": {
          "base_uri": "https://localhost:8080/",
          "height": 105
        }
      },
      "source": [
        "from sklearn.model_selection import train_test_split\n",
        "X=new_df.drop([\"diabetesMed\"],axis=1)\n",
        "y=new_df[\"diabetesMed\"]\n",
        "x_train,x_test,y_train,y_test=train_test_split(X,y,test_size=.30,random_state=0,stratify=y)\n",
        "model=LogisticRegression()\n",
        "model.fit(x_train,y_train)\n",
        "print('Training score =', model.score(x_train, y_train))\n",
        "print('Test score =', model.score(x_test, y_test))"
      ],
      "execution_count": 0,
      "outputs": [
        {
          "output_type": "stream",
          "text": [
            "Training score = 0.9955416982341628\n",
            "Test score = 0.9958865923307044\n"
          ],
          "name": "stdout"
        },
        {
          "output_type": "stream",
          "text": [
            "C:\\Users\\admin\\Anaconda3\\lib\\site-packages\\sklearn\\linear_model\\_logistic.py:939: ConvergenceWarning: lbfgs failed to converge (status=1):\n",
            "STOP: TOTAL NO. of ITERATIONS REACHED LIMIT.\n",
            "\n",
            "Increase the number of iterations (max_iter) or scale the data as shown in:\n",
            "    https://scikit-learn.org/stable/modules/preprocessing.html.\n",
            "Please also refer to the documentation for alternative solver options:\n",
            "    https://scikit-learn.org/stable/modules/linear_model.html#logistic-regression\n",
            "  extra_warning_msg=_LOGISTIC_SOLVER_CONVERGENCE_MSG)\n"
          ],
          "name": "stderr"
        }
      ]
    },
    {
      "cell_type": "code",
      "metadata": {
        "colab_type": "code",
        "id": "LoXHcRUYLcKi",
        "colab": {}
      },
      "source": [
        ""
      ],
      "execution_count": 0,
      "outputs": []
    },
    {
      "cell_type": "code",
      "metadata": {
        "colab_type": "code",
        "id": "cHikjkPHKSiX",
        "outputId": "508b3e1f-4ace-4f77-dbb5-c533e6aa23fe",
        "colab": {
          "base_uri": "https://localhost:8080/",
          "height": 105
        }
      },
      "source": [
        "from sklearn.model_selection import train_test_split\n",
        "from sklearn.preprocessing import MinMaxScaler\n",
        "mm=MinMaxScaler()\n",
        "x_train=mm.fit_transform(x_train,y)\n",
        "x_test=mm.transform(x_test)\n",
        "model=LogisticRegression()\n",
        "model.fit(x_train,y_train)\n",
        "print('Training score =', model.score(x_train, y_train))\n",
        "print('Test score =', model.score(x_test, y_test))"
      ],
      "execution_count": 0,
      "outputs": [
        {
          "output_type": "stream",
          "text": [
            "Training score = 0.9997377469549508\n",
            "Test score = 0.9996260538482459\n"
          ],
          "name": "stdout"
        }
      ]
    },
    {
      "cell_type": "code",
      "metadata": {
        "colab_type": "code",
        "id": "D91Q61y0QGpO",
        "colab": {}
      },
      "source": [
        "#new_df =new_df[~new_df.isin([np.nan, np.inf, -np.inf]).any(1)]"
      ],
      "execution_count": 0,
      "outputs": []
    },
    {
      "cell_type": "code",
      "metadata": {
        "id": "BwAva-DpTcah",
        "colab_type": "code",
        "colab": {},
        "outputId": "80ceea76-faf9-40ff-df7c-d7d823e517ba"
      },
      "source": [
        "X = new_df.drop('diabetesMed', axis=1)\n",
        "y= new_df['diabetesMed']\n",
        "from sklearn.model_selection import train_test_split\n",
        "from sklearn.linear_model import LogisticRegression\n",
        "from sklearn.model_selection import cross_val_score\n",
        "X_train, X_test, Y_train, Y_test = train_test_split(X, y, test_size=0.30, random_state=0)\n",
        "logreg = LogisticRegression(fit_intercept=True,solver=\"liblinear\")\n",
        "print(\"Cross Validation Score: {:.2%}\".format(np.mean(cross_val_score(logreg, X_train, Y_train, cv=10))))\n",
        "logreg.fit(X_train, Y_train)\n",
        "print(\"test Set score: {:.2%}\".format(logreg.score(X_test, Y_test)))"
      ],
      "execution_count": 0,
      "outputs": [
        {
          "output_type": "stream",
          "text": [
            "Cross Validation Score: 99.99%\n",
            "test Set score: 99.97%\n"
          ],
          "name": "stdout"
        }
      ]
    },
    {
      "cell_type": "code",
      "metadata": {
        "id": "a53Greo_Tcal",
        "colab_type": "code",
        "colab": {}
      },
      "source": [
        "Y_test_predict = logreg.predict(X_test)"
      ],
      "execution_count": 0,
      "outputs": []
    },
    {
      "cell_type": "code",
      "metadata": {
        "id": "itUrtZokTcat",
        "colab_type": "code",
        "colab": {},
        "outputId": "e105f78d-8c3b-40fc-8cd1-f9076a47b823"
      },
      "source": [
        "pd.crosstab(pd.Series(Y_test, name = 'Actual'), pd.Series(Y_test_predict, name = 'Predict'), margins = True)"
      ],
      "execution_count": 0,
      "outputs": [
        {
          "output_type": "execute_result",
          "data": {
            "text/html": [
              "<div>\n",
              "<style scoped>\n",
              "    .dataframe tbody tr th:only-of-type {\n",
              "        vertical-align: middle;\n",
              "    }\n",
              "\n",
              "    .dataframe tbody tr th {\n",
              "        vertical-align: top;\n",
              "    }\n",
              "\n",
              "    .dataframe thead th {\n",
              "        text-align: right;\n",
              "    }\n",
              "</style>\n",
              "<table border=\"1\" class=\"dataframe\">\n",
              "  <thead>\n",
              "    <tr style=\"text-align: right;\">\n",
              "      <th>Predict</th>\n",
              "      <th>0</th>\n",
              "      <th>1</th>\n",
              "      <th>All</th>\n",
              "    </tr>\n",
              "    <tr>\n",
              "      <th>Actual</th>\n",
              "      <th></th>\n",
              "      <th></th>\n",
              "      <th></th>\n",
              "    </tr>\n",
              "  </thead>\n",
              "  <tbody>\n",
              "    <tr>\n",
              "      <th>0</th>\n",
              "      <td>539</td>\n",
              "      <td>1801</td>\n",
              "      <td>2340</td>\n",
              "    </tr>\n",
              "    <tr>\n",
              "      <th>1</th>\n",
              "      <td>1466</td>\n",
              "      <td>4984</td>\n",
              "      <td>6450</td>\n",
              "    </tr>\n",
              "    <tr>\n",
              "      <th>All</th>\n",
              "      <td>2005</td>\n",
              "      <td>6785</td>\n",
              "      <td>8790</td>\n",
              "    </tr>\n",
              "  </tbody>\n",
              "</table>\n",
              "</div>"
            ],
            "text/plain": [
              "Predict     0     1   All\n",
              "Actual                   \n",
              "0         539  1801  2340\n",
              "1        1466  4984  6450\n",
              "All      2005  6785  8790"
            ]
          },
          "metadata": {
            "tags": []
          },
          "execution_count": 215
        }
      ]
    },
    {
      "cell_type": "code",
      "metadata": {
        "id": "eFgXnHsWTcax",
        "colab_type": "code",
        "colab": {},
        "outputId": "1199f36a-3e20-4e13-b7e1-f6f7090c28b8"
      },
      "source": [
        "from sklearn.metrics import accuracy_score, precision_score, recall_score\n",
        "print(\"Accuracy is {0:.2f}\".format(accuracy_score(Y_test, Y_test_predict)))\n",
        "print(\"Precision is {0:.2f}\".format(precision_score(Y_test, Y_test_predict)))\n",
        "print(\"Recall is {0:.2f}\".format(recall_score(Y_test, Y_test_predict)))"
      ],
      "execution_count": 0,
      "outputs": [
        {
          "output_type": "stream",
          "text": [
            "Accuracy is 1.00\n",
            "Precision is 1.00\n",
            "Recall is 1.00\n"
          ],
          "name": "stdout"
        }
      ]
    },
    {
      "cell_type": "code",
      "metadata": {
        "id": "1bG5hq4fTcaz",
        "colab_type": "code",
        "colab": {},
        "outputId": "812c17b8-e33b-4ff5-ab5a-7ed14bed66da"
      },
      "source": [
        "from imblearn.over_sampling import SMOTE\n",
        "\n",
        "from collections import Counter\n",
        "print('Original dataset shape {}'.format(Counter(y)))\n",
        "sm = SMOTE(random_state=20)\n",
        "X_new, y_new = sm.fit_sample(X, y)\n",
        "print('New dataset shape {}'.format(Counter(y_new)))"
      ],
      "execution_count": 0,
      "outputs": [
        {
          "output_type": "stream",
          "text": [
            "Original dataset shape Counter({1: 75350, 0: 22702})\n",
            "New dataset shape Counter({1: 75350, 0: 75350})\n"
          ],
          "name": "stdout"
        }
      ]
    },
    {
      "cell_type": "code",
      "metadata": {
        "id": "TF0mFM79Tca2",
        "colab_type": "code",
        "colab": {}
      },
      "source": [
        "X_new = pd.DataFrame(X_new, columns = list(X.columns))"
      ],
      "execution_count": 0,
      "outputs": []
    },
    {
      "cell_type": "code",
      "metadata": {
        "id": "1fgcasfJTca4",
        "colab_type": "code",
        "colab": {},
        "outputId": "b52da367-c3cd-4656-8fb1-0f3dc86a68ac"
      },
      "source": [
        "from sklearn.model_selection import train_test_split\n",
        "from sklearn.linear_model import LogisticRegression\n",
        "from sklearn.model_selection import cross_val_score\n",
        "X_train, X_test, Y_train, Y_test = train_test_split(X_new, y_new, test_size=0.30, random_state=0)\n",
        "logreg = LogisticRegression(fit_intercept=True,solver=\"liblinear\")\n",
        "print(\"Cross Validation Score: {:.2%}\".format(np.mean(cross_val_score(logreg, X_train, Y_train, cv=10))))\n",
        "logreg.fit(X_train, Y_train)\n",
        "print(\"Dev Set score: {:.2%}\".format(logreg.score(X_test, Y_test)))"
      ],
      "execution_count": 0,
      "outputs": [
        {
          "output_type": "stream",
          "text": [
            "Cross Validation Score: 100.00%\n",
            "Dev Set score: 100.00%\n"
          ],
          "name": "stdout"
        }
      ]
    },
    {
      "cell_type": "code",
      "metadata": {
        "id": "yo66QwYSTca7",
        "colab_type": "code",
        "colab": {}
      },
      "source": [
        "Y_test_predict = logreg.predict(X_test)"
      ],
      "execution_count": 0,
      "outputs": []
    },
    {
      "cell_type": "code",
      "metadata": {
        "id": "Q3n0jDbkTca9",
        "colab_type": "code",
        "colab": {},
        "outputId": "29ab9980-8513-4410-daa7-cbaa2ccdef1d"
      },
      "source": [
        "pd.crosstab(pd.Series(Y_test, name = 'Actual'), pd.Series(Y_test_predict, name = 'Predict'), margins = True)"
      ],
      "execution_count": 0,
      "outputs": [
        {
          "output_type": "execute_result",
          "data": {
            "text/html": [
              "<div>\n",
              "<style scoped>\n",
              "    .dataframe tbody tr th:only-of-type {\n",
              "        vertical-align: middle;\n",
              "    }\n",
              "\n",
              "    .dataframe tbody tr th {\n",
              "        vertical-align: top;\n",
              "    }\n",
              "\n",
              "    .dataframe thead th {\n",
              "        text-align: right;\n",
              "    }\n",
              "</style>\n",
              "<table border=\"1\" class=\"dataframe\">\n",
              "  <thead>\n",
              "    <tr style=\"text-align: right;\">\n",
              "      <th>Predict</th>\n",
              "      <th>0</th>\n",
              "      <th>1</th>\n",
              "      <th>All</th>\n",
              "    </tr>\n",
              "    <tr>\n",
              "      <th>Actual</th>\n",
              "      <th></th>\n",
              "      <th></th>\n",
              "      <th></th>\n",
              "    </tr>\n",
              "  </thead>\n",
              "  <tbody>\n",
              "    <tr>\n",
              "      <th>0</th>\n",
              "      <td>1751</td>\n",
              "      <td>1735</td>\n",
              "      <td>3486</td>\n",
              "    </tr>\n",
              "    <tr>\n",
              "      <th>1</th>\n",
              "      <td>4992</td>\n",
              "      <td>5037</td>\n",
              "      <td>10029</td>\n",
              "    </tr>\n",
              "    <tr>\n",
              "      <th>All</th>\n",
              "      <td>6743</td>\n",
              "      <td>6772</td>\n",
              "      <td>13515</td>\n",
              "    </tr>\n",
              "  </tbody>\n",
              "</table>\n",
              "</div>"
            ],
            "text/plain": [
              "Predict     0     1    All\n",
              "Actual                    \n",
              "0        1751  1735   3486\n",
              "1        4992  5037  10029\n",
              "All      6743  6772  13515"
            ]
          },
          "metadata": {
            "tags": []
          },
          "execution_count": 221
        }
      ]
    },
    {
      "cell_type": "code",
      "metadata": {
        "id": "wK9LGiavTcbA",
        "colab_type": "code",
        "colab": {},
        "outputId": "937b0fd4-1ebd-4f21-a4f3-09ee4c958770"
      },
      "source": [
        "from sklearn.metrics import accuracy_score, precision_score, recall_score, roc_auc_score\n",
        "print(\"Accuracy is {0:.2f}\".format(accuracy_score(Y_test, Y_test_predict)))\n",
        "print(\"Precision is {0:.2f}\".format(precision_score(Y_test, Y_test_predict)))\n",
        "print(\"Recall is {0:.2f}\".format(recall_score(Y_test, Y_test_predict)))\n",
        "print(\"AUC is {0:.2f}\".format(roc_auc_score(Y_test, Y_test_predict)))\n",
        "\n",
        "accuracy_logreg = accuracy_score(Y_test, Y_test_predict)\n",
        "precision_logreg = precision_score(Y_test, Y_test_predict)\n",
        "recall_logreg = recall_score(Y_test, Y_test_predict)\n",
        "auc_logreg = roc_auc_score(Y_test, Y_test_predict)"
      ],
      "execution_count": 0,
      "outputs": [
        {
          "output_type": "stream",
          "text": [
            "Accuracy is 1.00\n",
            "Precision is 1.00\n",
            "Recall is 1.00\n",
            "AUC is 1.00\n"
          ],
          "name": "stdout"
        }
      ]
    },
    {
      "cell_type": "code",
      "metadata": {
        "id": "R3pVX-OlTcbC",
        "colab_type": "code",
        "colab": {},
        "outputId": "6243fdf1-bafd-4f5d-a418-0cfdd1f1c3f6"
      },
      "source": [
        "import statsmodels.api as sm\n",
        "logit = sm.Logit(Y_train, X_train)\n",
        "\n",
        "result = logit.fit(method=\"cg\")\n",
        "\n",
        "# from scipy import stats\n",
        "# stats.chisqprob = lambda chisq, df: stats.chi2.sf(chisq, df)\n",
        "\n",
        "print(result.summary())\n",
        "logit_coefs = pd.DataFrame(result.params)\n",
        "logit_coefs.reset_index(inplace=True)\n",
        "logit_coefs.columns = [\"Feature\", \"Coefficient\"]\n",
        "logit_pvals = pd.DataFrame(result.pvalues)\n",
        "logit_pvals.reset_index(inplace=True)\n",
        "logit_pvals.columns = [\"Feature\", \"pVal\"]\n",
        "\n",
        "logit_coefs = logit_coefs.merge(logit_pvals, how=\"inner\", on=[\"Feature\"])\n",
        "logit_coefs = logit_coefs[logit_coefs.pVal <0.01]\n",
        "logit_coefs.sort_values(by='Coefficient', ascending=False)"
      ],
      "execution_count": 0,
      "outputs": [
        {
          "output_type": "stream",
          "text": [
            "Warning: Maximum number of iterations has been exceeded.\n",
            "         Current function value: 0.221970\n",
            "         Iterations: 35\n",
            "         Function evaluations: 73\n",
            "         Gradient evaluations: 73\n"
          ],
          "name": "stdout"
        },
        {
          "output_type": "stream",
          "text": [
            "C:\\Users\\admin\\Anaconda3\\lib\\site-packages\\statsmodels\\base\\model.py:492: HessianInversionWarning: Inverting hessian failed, no bse or cov_params available\n",
            "  'available', HessianInversionWarning)\n",
            "C:\\Users\\admin\\Anaconda3\\lib\\site-packages\\statsmodels\\base\\model.py:512: ConvergenceWarning: Maximum Likelihood optimization failed to converge. Check mle_retvals\n",
            "  \"Check mle_retvals\", ConvergenceWarning)\n",
            "C:\\Users\\admin\\Anaconda3\\lib\\site-packages\\scipy\\stats\\_distn_infrastructure.py:901: RuntimeWarning: invalid value encountered in greater\n",
            "  return (a < x) & (x < b)\n",
            "C:\\Users\\admin\\Anaconda3\\lib\\site-packages\\scipy\\stats\\_distn_infrastructure.py:901: RuntimeWarning: invalid value encountered in less\n",
            "  return (a < x) & (x < b)\n",
            "C:\\Users\\admin\\Anaconda3\\lib\\site-packages\\scipy\\stats\\_distn_infrastructure.py:1892: RuntimeWarning: invalid value encountered in less_equal\n",
            "  cond2 = cond0 & (x <= _a)\n"
          ],
          "name": "stderr"
        },
        {
          "output_type": "stream",
          "text": [
            "                           Logit Regression Results                           \n",
            "==============================================================================\n",
            "Dep. Variable:            diabetesMed   No. Observations:               105490\n",
            "Model:                          Logit   Df Residuals:                   105451\n",
            "Method:                           MLE   Df Model:                           38\n",
            "Date:                Thu, 26 Dec 2019   Pseudo R-squ.:                  0.6798\n",
            "Time:                        14:18:57   Log-Likelihood:                -23416.\n",
            "converged:                      False   LL-Null:                       -73118.\n",
            "Covariance Type:            nonrobust   LLR p-value:                     0.000\n",
            "============================================================================================\n",
            "                               coef    std err          z      P>|z|      [0.025      0.975]\n",
            "--------------------------------------------------------------------------------------------\n",
            "race                         0.1559        nan        nan        nan         nan         nan\n",
            "gender                       0.2766        nan        nan        nan         nan         nan\n",
            "age                         -0.0068        nan        nan        nan         nan         nan\n",
            "time_in_hospital             0.0162        nan        nan        nan         nan         nan\n",
            "num_lab_procedures          -0.0093        nan        nan        nan         nan         nan\n",
            "num_procedures              -0.1026        nan        nan        nan         nan         nan\n",
            "num_medications             -0.0089        nan        nan        nan         nan         nan\n",
            "number_outpatient            0.1579        nan        nan        nan         nan         nan\n",
            "number_emergency             0.1286        nan        nan        nan         nan         nan\n",
            "number_inpatient             0.2155        nan        nan        nan         nan         nan\n",
            "diag_1                      -0.0020        nan        nan        nan         nan         nan\n",
            "diag_2                       0.0095        nan        nan        nan         nan         nan\n",
            "diag_3                       0.0005        nan        nan        nan         nan         nan\n",
            "number_diagnoses            -0.1964        nan        nan        nan         nan         nan\n",
            "max_glu_serum                0.0310        nan        nan        nan         nan         nan\n",
            "A1Cresult                    0.3834        nan        nan        nan         nan         nan\n",
            "metformin                    0.8855        nan        nan        nan         nan         nan\n",
            "repaglinide                  0.0822        nan        nan        nan         nan         nan\n",
            "nateglinide                  0.0367        nan        nan        nan         nan         nan\n",
            "chlorpropamide               0.0060        nan        nan        nan         nan         nan\n",
            "glimepiride                  0.2597        nan        nan        nan         nan         nan\n",
            "acetohexamide                     0        nan        nan        nan         nan         nan\n",
            "glipizide                    0.6179        nan        nan        nan         nan         nan\n",
            "glyburide                    0.5400        nan        nan        nan         nan         nan\n",
            "tolbutamide                  0.0016        nan        nan        nan         nan         nan\n",
            "pioglitazone                 0.3394        nan        nan        nan         nan         nan\n",
            "rosiglitazone                0.2962        nan        nan        nan         nan         nan\n",
            "acarbose                     0.0144        nan        nan        nan         nan         nan\n",
            "miglitol                     0.0020        nan        nan        nan         nan         nan\n",
            "troglitazone                 0.0001        nan        nan        nan         nan         nan\n",
            "tolazamide                   0.0024        nan        nan        nan         nan         nan\n",
            "examide                           0        nan        nan        nan         nan         nan\n",
            "citoglipton                       0        nan        nan        nan         nan         nan\n",
            "insulin                      2.1247        nan        nan        nan         nan         nan\n",
            "glyburide-metformin          0.0365        nan        nan        nan         nan         nan\n",
            "glipizide-metformin          0.0006        nan        nan        nan         nan         nan\n",
            "glimepiride-pioglitazone  7.903e-05        nan        nan        nan         nan         nan\n",
            "metformin-rosiglitazone           0        nan        nan        nan         nan         nan\n",
            "metformin-pioglitazone            0        nan        nan        nan         nan         nan\n",
            "change                       0.9579        nan        nan        nan         nan         nan\n",
            "readmitted                   0.3903        nan        nan        nan         nan         nan\n",
            "discharge_disposition        0.1810        nan        nan        nan         nan         nan\n",
            "admission_source             0.2206        nan        nan        nan         nan         nan\n",
            "admission_type              -0.0105        nan        nan        nan         nan         nan\n",
            "============================================================================================\n"
          ],
          "name": "stdout"
        },
        {
          "output_type": "execute_result",
          "data": {
            "text/html": [
              "<div>\n",
              "<style scoped>\n",
              "    .dataframe tbody tr th:only-of-type {\n",
              "        vertical-align: middle;\n",
              "    }\n",
              "\n",
              "    .dataframe tbody tr th {\n",
              "        vertical-align: top;\n",
              "    }\n",
              "\n",
              "    .dataframe thead th {\n",
              "        text-align: right;\n",
              "    }\n",
              "</style>\n",
              "<table border=\"1\" class=\"dataframe\">\n",
              "  <thead>\n",
              "    <tr style=\"text-align: right;\">\n",
              "      <th></th>\n",
              "      <th>Feature</th>\n",
              "      <th>Coefficient</th>\n",
              "      <th>pVal</th>\n",
              "    </tr>\n",
              "  </thead>\n",
              "  <tbody>\n",
              "  </tbody>\n",
              "</table>\n",
              "</div>"
            ],
            "text/plain": [
              "Empty DataFrame\n",
              "Columns: [Feature, Coefficient, pVal]\n",
              "Index: []"
            ]
          },
          "metadata": {
            "tags": []
          },
          "execution_count": 223
        }
      ]
    },
    {
      "cell_type": "markdown",
      "metadata": {
        "id": "nxQi-8kLTcbG",
        "colab_type": "text"
      },
      "source": [
        "## Decision Tree"
      ]
    },
    {
      "cell_type": "code",
      "metadata": {
        "id": "KzFB3LDpTcbG",
        "colab_type": "code",
        "colab": {},
        "outputId": "2b0c4f79-4c3b-4378-8578-9b9e137e6933"
      },
      "source": [
        "X = new_df.drop('diabetesMed', axis=1)\n",
        "y= new_df['diabetesMed']\n",
        "from sklearn.model_selection import train_test_split\n",
        "from sklearn.linear_model import LogisticRegression\n",
        "from sklearn.model_selection import cross_val_score\n",
        "X_train, X_test, Y_train, Y_test = train_test_split(X, y, test_size=0.30, random_state=0)\n",
        "from sklearn.tree import DecisionTreeClassifier\n",
        "dte = DecisionTreeClassifier(max_depth=28, criterion = \"entropy\", min_samples_split=10)\n",
        "print(\"Cross Validation score: {:.2%}\".format(np.mean(cross_val_score(dte, X_train, Y_train, cv=10))))\n",
        "dte.fit(X_train, Y_train)\n",
        "print(\"test Set score: {:.2%}\".format(dte.score(X_test, Y_test)))"
      ],
      "execution_count": 0,
      "outputs": [
        {
          "output_type": "stream",
          "text": [
            "Cross Validation score: 99.99%\n",
            "test Set score: 100.00%\n"
          ],
          "name": "stdout"
        }
      ]
    },
    {
      "cell_type": "code",
      "metadata": {
        "id": "09yJNecsTcbI",
        "colab_type": "code",
        "colab": {}
      },
      "source": [
        "Y_test_predict = dte.predict(X_test)\n",
        " "
      ],
      "execution_count": 0,
      "outputs": []
    },
    {
      "cell_type": "code",
      "metadata": {
        "id": "CB9qPrhHTcbK",
        "colab_type": "code",
        "colab": {},
        "outputId": "94182e22-9a13-4aa4-ef51-848f84551307"
      },
      "source": [
        "pd.crosstab(pd.Series(Y_test, name = 'Actual'), pd.Series(Y_test_predict, name = 'Predict'), margins = True)"
      ],
      "execution_count": 0,
      "outputs": [
        {
          "output_type": "execute_result",
          "data": {
            "text/html": [
              "<div>\n",
              "<style scoped>\n",
              "    .dataframe tbody tr th:only-of-type {\n",
              "        vertical-align: middle;\n",
              "    }\n",
              "\n",
              "    .dataframe tbody tr th {\n",
              "        vertical-align: top;\n",
              "    }\n",
              "\n",
              "    .dataframe thead th {\n",
              "        text-align: right;\n",
              "    }\n",
              "</style>\n",
              "<table border=\"1\" class=\"dataframe\">\n",
              "  <thead>\n",
              "    <tr style=\"text-align: right;\">\n",
              "      <th>Predict</th>\n",
              "      <th>0</th>\n",
              "      <th>1</th>\n",
              "      <th>All</th>\n",
              "    </tr>\n",
              "    <tr>\n",
              "      <th>Actual</th>\n",
              "      <th></th>\n",
              "      <th></th>\n",
              "      <th></th>\n",
              "    </tr>\n",
              "  </thead>\n",
              "  <tbody>\n",
              "    <tr>\n",
              "      <th>0</th>\n",
              "      <td>538</td>\n",
              "      <td>1802</td>\n",
              "      <td>2340</td>\n",
              "    </tr>\n",
              "    <tr>\n",
              "      <th>1</th>\n",
              "      <td>1465</td>\n",
              "      <td>4985</td>\n",
              "      <td>6450</td>\n",
              "    </tr>\n",
              "    <tr>\n",
              "      <th>All</th>\n",
              "      <td>2003</td>\n",
              "      <td>6787</td>\n",
              "      <td>8790</td>\n",
              "    </tr>\n",
              "  </tbody>\n",
              "</table>\n",
              "</div>"
            ],
            "text/plain": [
              "Predict     0     1   All\n",
              "Actual                   \n",
              "0         538  1802  2340\n",
              "1        1465  4985  6450\n",
              "All      2003  6787  8790"
            ]
          },
          "metadata": {
            "tags": []
          },
          "execution_count": 226
        }
      ]
    },
    {
      "cell_type": "code",
      "metadata": {
        "id": "7K9tV4VBTcbM",
        "colab_type": "code",
        "colab": {},
        "outputId": "a6a02217-2f55-4487-babc-2f1fcd1953fe"
      },
      "source": [
        "print(\"Accuracy is {0:.2f}\".format(accuracy_score(Y_test, Y_test_predict)))\n",
        "print(\"Precision is {0:.2f}\".format(precision_score(Y_test, Y_test_predict)))\n",
        "print(\"Recall is {0:.2f}\".format(recall_score(Y_test, Y_test_predict)))\n",
        "print(\"AUC is {0:.2f}\".format(roc_auc_score(Y_test, Y_test_predict)))\n",
        "\n",
        "accuracy_dte = accuracy_score(Y_test, Y_test_predict)\n",
        "precision_dte = precision_score(Y_test, Y_test_predict)\n",
        "recall_dte = recall_score(Y_test, Y_test_predict)\n",
        "auc_dte = roc_auc_score(Y_test, Y_test_predict)"
      ],
      "execution_count": 0,
      "outputs": [
        {
          "output_type": "stream",
          "text": [
            "Accuracy is 1.00\n",
            "Precision is 1.00\n",
            "Recall is 1.00\n",
            "AUC is 1.00\n"
          ],
          "name": "stdout"
        }
      ]
    },
    {
      "cell_type": "code",
      "metadata": {
        "id": "OA_aDHxrTcbS",
        "colab_type": "code",
        "colab": {},
        "outputId": "747ddd03-6b2a-4669-bb45-b26002f1fac6"
      },
      "source": [
        "feature_names = X_train.columns\n",
        "feature_imports = dte.feature_importances_\n",
        "most_imp_features = pd.DataFrame([f for f in zip(feature_names,feature_imports)], columns=[\"Feature\", \"Importance\"]).nlargest(10, \"Importance\")\n",
        "most_imp_features.sort_values(by=\"Importance\", inplace=True)\n",
        "print(most_imp_features)\n",
        "plt.figure(figsize=(10,6))\n",
        "plt.barh(range(len(most_imp_features)), most_imp_features.Importance, align='center', alpha=0.8)\n",
        "plt.yticks(range(len(most_imp_features)), most_imp_features.Feature, fontsize=14)\n",
        "plt.xlabel('Importance')\n",
        "plt.title('Most important features - Decision Tree (entropy function, complex model)')\n",
        "plt.show()"
      ],
      "execution_count": 0,
      "outputs": [
        {
          "output_type": "stream",
          "text": [
            "                Feature  Importance\n",
            "18          nateglinide    0.013118\n",
            "34  glyburide-metformin    0.015410\n",
            "17          repaglinide    0.025711\n",
            "20          glimepiride    0.058817\n",
            "26        rosiglitazone    0.059960\n",
            "25         pioglitazone    0.060748\n",
            "22            glipizide    0.098516\n",
            "23            glyburide    0.105419\n",
            "16            metformin    0.148317\n",
            "33              insulin    0.398769\n"
          ],
          "name": "stdout"
        },
        {
          "output_type": "display_data",
          "data": {
            "image/png": "[encoded data removed]",
            "text/plain": [
              "<Figure size 720x432 with 1 Axes>"
            ]
          },
          "metadata": {
            "tags": []
          }
        }
      ]
    },
    {
      "cell_type": "code",
      "metadata": {
        "id": "kPig5oLTTcbZ",
        "colab_type": "code",
        "colab": {},
        "outputId": "8963cd7a-19ee-45a2-843a-4fc69499a541"
      },
      "source": [
        "dtg = DecisionTreeClassifier(max_depth=28, criterion = \"gini\", min_samples_split=10)\n",
        "print(\"Cross Validation Score: {:.2%}\".format(np.mean(cross_val_score(dtg, X_train, Y_train, cv=10))))\n",
        "dtg.fit(X_train, Y_train)\n",
        "print(\"Dev Set score: {:.2%}\".format(dtg.score(X_test, Y_test)))"
      ],
      "execution_count": 0,
      "outputs": [
        {
          "output_type": "stream",
          "text": [
            "Cross Validation Score: 99.99%\n",
            "Dev Set score: 100.00%\n"
          ],
          "name": "stdout"
        }
      ]
    },
    {
      "cell_type": "code",
      "metadata": {
        "id": "qmujs6BCTcbb",
        "colab_type": "code",
        "colab": {}
      },
      "source": [
        "\n",
        "Y_test_predict = dtg.predict(X_test)"
      ],
      "execution_count": 0,
      "outputs": []
    },
    {
      "cell_type": "code",
      "metadata": {
        "id": "jvxf7MaOTcbd",
        "colab_type": "code",
        "colab": {},
        "outputId": "a84b4741-6e28-4301-8924-fa9b95c5271b"
      },
      "source": [
        "from sklearn.metrics import accuracy_score, precision_score, recall_score\n",
        "print(\"Accuracy is {0:.2f}\".format(accuracy_score(Y_test, Y_test_predict)))\n",
        "print(\"Precision is {0:.2f}\".format(precision_score(Y_test, Y_test_predict)))\n",
        "print(\"Recall is {0:.2f}\".format(recall_score(Y_test, Y_test_predict)))\n",
        "print(\"AUC is {0:.2f}\".format(roc_auc_score(Y_test, Y_test_predict)))\n",
        "\n",
        "accuracy_dtg = accuracy_score(Y_test, Y_test_predict)\n",
        "precision_dtg = precision_score(Y_test, Y_test_predict)\n",
        "recall_dtg = recall_score(Y_test, Y_test_predict)\n",
        "auc_dtg = roc_auc_score(Y_test, Y_test_predict)\n"
      ],
      "execution_count": 0,
      "outputs": [
        {
          "output_type": "stream",
          "text": [
            "Accuracy is 1.00\n",
            "Precision is 1.00\n",
            "Recall is 1.00\n",
            "AUC is 1.00\n"
          ],
          "name": "stdout"
        }
      ]
    },
    {
      "cell_type": "markdown",
      "metadata": {
        "id": "MqkwYG6gTcbf",
        "colab_type": "text"
      },
      "source": [
        "## Random Forest"
      ]
    },
    {
      "cell_type": "code",
      "metadata": {
        "id": "jS8G9ZhJTcbh",
        "colab_type": "code",
        "colab": {},
        "outputId": "27852f73-4a3e-4b28-e874-a5608fb361cb"
      },
      "source": [
        "X = new_df.drop('diabetesMed', axis=1)\n",
        "y= new_df['diabetesMed']\n",
        "\n",
        "# Data balancing applied using SMOTE\n",
        "from imblearn.over_sampling import SMOTE\n",
        "from collections import Counter\n",
        "print('Original dataset shape {}'.format(Counter(y)))\n",
        "smt = SMOTE(random_state=20)\n",
        "train_input_new, train_output_new = smt.fit_sample(X, y)\n",
        "print('New dataset shape {}'.format(Counter(y_new)))\n",
        "train_input_new = pd.DataFrame(train_input_new, columns = list(X.columns))\n",
        "X_train, X_test, Y_train, Y_test = train_test_split(X, y, test_size=0.30, random_state=0)"
      ],
      "execution_count": 0,
      "outputs": [
        {
          "output_type": "stream",
          "text": [
            "Original dataset shape Counter({1: 75350, 0: 22702})\n",
            "New dataset shape Counter({1: 75350, 0: 75350})\n"
          ],
          "name": "stdout"
        }
      ]
    },
    {
      "cell_type": "code",
      "metadata": {
        "id": "ilm4Ok8vTcbo",
        "colab_type": "code",
        "colab": {},
        "outputId": "47e01ce3-81f8-475b-b5a1-8754c8c6b4df"
      },
      "source": [
        "from sklearn.ensemble import RandomForestClassifier\n",
        "forrest = RandomForestClassifier(n_estimators = 10, max_depth=25, criterion = \"gini\", min_samples_split=10)\n",
        "print(\"Cross Validation score: {:.2%}\".format(np.mean(cross_val_score(forrest, X_train, Y_train, cv=10))))\n",
        "forrest.fit(X_train, Y_train)\n",
        "print(\"Dev Set score: {:.2%}\".format(forrest.score(X_test, Y_test)))"
      ],
      "execution_count": 0,
      "outputs": [
        {
          "output_type": "stream",
          "text": [
            "Cross Validation score: 99.93%\n",
            "Dev Set score: 99.93%\n"
          ],
          "name": "stdout"
        }
      ]
    },
    {
      "cell_type": "code",
      "metadata": {
        "id": "sKZUiIzPTcbr",
        "colab_type": "code",
        "colab": {},
        "outputId": "66881db6-7426-470e-e337-278821817040"
      },
      "source": [
        "Y_test_predict = forrest.predict(X_test)\n",
        "pd.crosstab(pd.Series(Y_test, name = 'Actual'), pd.Series(Y_test_predict, name = 'Predict'), margins = True)"
      ],
      "execution_count": 0,
      "outputs": [
        {
          "output_type": "execute_result",
          "data": {
            "text/html": [
              "<div>\n",
              "<style scoped>\n",
              "    .dataframe tbody tr th:only-of-type {\n",
              "        vertical-align: middle;\n",
              "    }\n",
              "\n",
              "    .dataframe tbody tr th {\n",
              "        vertical-align: top;\n",
              "    }\n",
              "\n",
              "    .dataframe thead th {\n",
              "        text-align: right;\n",
              "    }\n",
              "</style>\n",
              "<table border=\"1\" class=\"dataframe\">\n",
              "  <thead>\n",
              "    <tr style=\"text-align: right;\">\n",
              "      <th>Predict</th>\n",
              "      <th>0</th>\n",
              "      <th>1</th>\n",
              "      <th>All</th>\n",
              "    </tr>\n",
              "    <tr>\n",
              "      <th>Actual</th>\n",
              "      <th></th>\n",
              "      <th></th>\n",
              "      <th></th>\n",
              "    </tr>\n",
              "  </thead>\n",
              "  <tbody>\n",
              "    <tr>\n",
              "      <th>0</th>\n",
              "      <td>538</td>\n",
              "      <td>1802</td>\n",
              "      <td>2340</td>\n",
              "    </tr>\n",
              "    <tr>\n",
              "      <th>1</th>\n",
              "      <td>1467</td>\n",
              "      <td>4983</td>\n",
              "      <td>6450</td>\n",
              "    </tr>\n",
              "    <tr>\n",
              "      <th>All</th>\n",
              "      <td>2005</td>\n",
              "      <td>6785</td>\n",
              "      <td>8790</td>\n",
              "    </tr>\n",
              "  </tbody>\n",
              "</table>\n",
              "</div>"
            ],
            "text/plain": [
              "Predict     0     1   All\n",
              "Actual                   \n",
              "0         538  1802  2340\n",
              "1        1467  4983  6450\n",
              "All      2005  6785  8790"
            ]
          },
          "metadata": {
            "tags": []
          },
          "execution_count": 234
        }
      ]
    },
    {
      "cell_type": "code",
      "metadata": {
        "id": "0xtNjKKpTcbt",
        "colab_type": "code",
        "colab": {},
        "outputId": "396cd035-bfcd-4eb6-edce-56c076fc91f3"
      },
      "source": [
        "from sklearn.metrics import accuracy_score, precision_score, recall_score, roc_auc_score\n",
        "print(\"Accuracy is {0:.2f}\".format(accuracy_score(Y_test, Y_test_predict)))\n",
        "print(\"Precision is {0:.2f}\".format(precision_score(Y_test, Y_test_predict)))\n",
        "print(\"Recall is {0:.2f}\".format(recall_score(Y_test, Y_test_predict)))\n",
        "print(\"AUC is {0:.2f}\".format(roc_auc_score(Y_test, Y_test_predict)))\n",
        "\n",
        "accuracy_forrestg = accuracy_score(Y_test, Y_test_predict)\n",
        "precision_forrestg = precision_score(Y_test, Y_test_predict)\n",
        "recall_forrestg = recall_score(Y_test, Y_test_predict)\n",
        "auc_forrestg = roc_auc_score(Y_test, Y_test_predict)\n"
      ],
      "execution_count": 0,
      "outputs": [
        {
          "output_type": "stream",
          "text": [
            "Accuracy is 1.00\n",
            "Precision is 1.00\n",
            "Recall is 1.00\n",
            "AUC is 1.00\n"
          ],
          "name": "stdout"
        }
      ]
    },
    {
      "cell_type": "code",
      "metadata": {
        "id": "P9eVE6TsTcby",
        "colab_type": "code",
        "colab": {},
        "outputId": "58eb3448-d2d8-4a50-81a7-611765659c6a"
      },
      "source": [
        "# Create list of top most features based on importance\n",
        "feature_names = X_train.columns\n",
        "feature_imports = forrest.feature_importances_\n",
        "most_imp_features = pd.DataFrame([f for f in zip(feature_names,feature_imports)], columns=[\"Feature\", \"Importance\"]).nlargest(10, \"Importance\")\n",
        "most_imp_features.sort_values(by=\"Importance\", inplace=True)\n",
        "plt.figure(figsize=(10,6))\n",
        "plt.barh(range(len(most_imp_features)), most_imp_features.Importance, align='center', alpha=0.8)\n",
        "plt.yticks(range(len(most_imp_features)), most_imp_features.Feature, fontsize=14)\n",
        "plt.xlabel('Importance')\n",
        "plt.title('Most important features - Random Forest (Gini function, complex model)')\n",
        "plt.show()"
      ],
      "execution_count": 0,
      "outputs": [
        {
          "output_type": "display_data",
          "data": {
            "image/png": "[encoded data removed]",
            "text/plain": [
              "<Figure size 720x432 with 1 Axes>"
            ]
          },
          "metadata": {
            "tags": []
          }
        }
      ]
    },
    {
      "cell_type": "code",
      "metadata": {
        "id": "pByc6QU-Tcb1",
        "colab_type": "code",
        "colab": {},
        "outputId": "01d9031b-2e71-4d0c-93ce-6d0ec467c890"
      },
      "source": [
        "from sklearn.ensemble import RandomForestClassifier\n",
        "forrest = RandomForestClassifier(n_estimators = 10, max_depth=25, criterion = \"gini\", min_samples_split=10)\n",
        "print(\"Cross Validation score: {:.2%}\".format(np.mean(cross_val_score(forrest, X_train, Y_train, cv=10))))\n",
        "forrest.fit(X_train, Y_train)\n",
        "print(\"Dev Set score: {:.2%}\".format(forrest.score(X_test, Y_test)))"
      ],
      "execution_count": 0,
      "outputs": [
        {
          "output_type": "stream",
          "text": [
            "Cross Validation score: 99.90%\n",
            "Dev Set score: 99.90%\n"
          ],
          "name": "stdout"
        }
      ]
    },
    {
      "cell_type": "code",
      "metadata": {
        "id": "2lWmZFx5Tcb6",
        "colab_type": "code",
        "colab": {}
      },
      "source": [
        "Y_test_predict = forrest.predict(X_test)"
      ],
      "execution_count": 0,
      "outputs": []
    },
    {
      "cell_type": "code",
      "metadata": {
        "id": "UystpJzITcb_",
        "colab_type": "code",
        "colab": {},
        "outputId": "c9e620cf-0083-44f2-f6ce-430b65e9186f"
      },
      "source": [
        "from sklearn.metrics import accuracy_score, precision_score, recall_score, roc_auc_score\n",
        "print(\"Accuracy is {0:.2f}\".format(accuracy_score(Y_test, Y_test_predict)))\n",
        "print(\"Precision is {0:.2f}\".format(precision_score(Y_test, Y_test_predict)))\n",
        "print(\"Recall is {0:.2f}\".format(recall_score(Y_test, Y_test_predict)))\n",
        "print(\"AUC is {0:.2f}\".format(roc_auc_score(Y_test, Y_test_predict)))\n",
        "\n",
        "accuracy_forreste = accuracy_score(Y_test, Y_test_predict)\n",
        "precision_forreste = precision_score(Y_test, Y_test_predict)\n",
        "recall_forreste = recall_score(Y_test, Y_test_predict)\n",
        "auc_forreste = roc_auc_score(Y_test, Y_test_predict)"
      ],
      "execution_count": 0,
      "outputs": [
        {
          "output_type": "stream",
          "text": [
            "Accuracy is 1.00\n",
            "Precision is 1.00\n",
            "Recall is 1.00\n",
            "AUC is 1.00\n"
          ],
          "name": "stdout"
        }
      ]
    },
    {
      "cell_type": "code",
      "metadata": {
        "id": "O6IqXT6ZTccF",
        "colab_type": "code",
        "colab": {},
        "outputId": "e90c6075-614b-492a-a14a-5c647509b578"
      },
      "source": [
        "\n",
        "# Create list of top most features based on importance\n",
        "feature_names = X_train.columns\n",
        "feature_imports = forrest.feature_importances_\n",
        "most_imp_features = pd.DataFrame([f for f in zip(feature_names,feature_imports)], columns=[\"Feature\", \"Importance\"]).nlargest(10, \"Importance\")\n",
        "most_imp_features.sort_values(by=\"Importance\", inplace=True)\n",
        "plt.figure(figsize=(10,6))\n",
        "plt.barh(range(len(most_imp_features)), most_imp_features.Importance, align='center', alpha=0.8)\n",
        "plt.yticks(range(len(most_imp_features)), most_imp_features.Feature, fontsize=14)\n",
        "plt.xlabel('Importance')\n",
        "plt.title('Most important features - Random Forest (gini) (Question 2 - complex model)')\n",
        "plt.show()"
      ],
      "execution_count": 0,
      "outputs": [
        {
          "output_type": "display_data",
          "data": {
            "image/png": "[encoded data removed]",
            "text/plain": [
              "<Figure size 720x432 with 1 Axes>"
            ]
          },
          "metadata": {
            "tags": []
          }
        }
      ]
    },
    {
      "cell_type": "code",
      "metadata": {
        "id": "erl2z_F-TccJ",
        "colab_type": "code",
        "colab": {},
        "outputId": "c38480d3-0ffc-492a-e48e-970d5a0aa070"
      },
      "source": [
        "# plotting the accuracy for training and test\n",
        "plt.figure(figsize=(14, 5))\n",
        "ax = plt.subplot(111)\n",
        "\n",
        "models = ['Logistic Regression', 'Decision Tree Gini', 'Decision Tree Entropy', 'Random Forests Gini', 'Random Forests Entropy' ]\n",
        "values = [accuracy_logreg, accuracy_dtg, accuracy_dte, accuracy_forrestg, accuracy_forreste]\n",
        "model = np.arange(len(models))\n",
        "\n",
        "plt.bar(model, values, align='center', width = 0.15, alpha=0.7, color = 'red', label= 'accuracy')\n",
        "plt.xticks(model, models)\n",
        "\n",
        "\n",
        "\n",
        "ax = plt.subplot(111)\n",
        "\n",
        "models = ['Logistic Regression', 'Decision Tree Gini', 'Decision Tree Entropy', 'Random Forests Gini', 'Random Forests Entropy' ]\n",
        "values = [precision_logreg, precision_dtg, precision_dte, precision_forrestg, precision_forreste]\n",
        "model = np.arange(len(models))\n",
        "\n",
        "plt.bar(model+0.15, values, align='center', width = 0.15, alpha=0.7, color = 'blue', label = 'precision')\n",
        "plt.xticks(model, models)\n",
        "\n",
        "\n",
        "\n",
        "ax = plt.subplot(111)\n",
        "\n",
        "models = ['Logistic Regression', 'Decision Tree Gini', 'Decision Tree Entropy', 'Random Forests Gini', 'Random Forests Entropy' ]\n",
        "values = [recall_logreg, recall_dtg, recall_dte, recall_forrestg, recall_forreste]\n",
        "model = np.arange(len(models))\n",
        "\n",
        "plt.bar(model+0.3, values, align='center', width = 0.15, alpha=0.7, color = 'green', label = 'recall')\n",
        "plt.xticks(model, models)\n",
        "\n",
        "\n",
        "\n",
        "ax = plt.subplot(111)\n",
        "\n",
        "models = ['Logistic Regression', 'Decision Tree Gini', 'Decision Tree Entropy', 'Random Forests Gini', 'Random Forests Entropy' ]\n",
        "values = [auc_logreg, auc_dtg, auc_dte, auc_forrestg, auc_forreste]\n",
        "model = np.arange(len(models))\n",
        "\n",
        "plt.bar(model+0.45, values, align='center', width = 0.15, alpha=0.7, color = 'orange', label = 'AUC')\n",
        "plt.xticks(model, models)\n",
        "\n",
        "\n",
        "\n",
        "plt.ylabel('Performance Metrics for Different models')\n",
        "plt.title('Model')\n",
        "    \n",
        "# removing the axis on the top and right of the plot window\n",
        "ax.spines['right'].set_visible(False)\n",
        "ax.spines['top'].set_visible(False)\n",
        "ax.legend()\n",
        "\n",
        "plt.show()"
      ],
      "execution_count": 0,
      "outputs": [
        {
          "output_type": "stream",
          "text": [
            "C:\\Users\\admin\\Anaconda3\\lib\\site-packages\\ipykernel_launcher.py:14: MatplotlibDeprecationWarning: Adding an axes using the same arguments as a previous axes currently reuses the earlier instance.  In a future version, a new instance will always be created and returned.  Meanwhile, this warning can be suppressed, and the future behavior ensured, by passing a unique label to each axes instance.\n",
            "  \n",
            "C:\\Users\\admin\\Anaconda3\\lib\\site-packages\\ipykernel_launcher.py:25: MatplotlibDeprecationWarning: Adding an axes using the same arguments as a previous axes currently reuses the earlier instance.  In a future version, a new instance will always be created and returned.  Meanwhile, this warning can be suppressed, and the future behavior ensured, by passing a unique label to each axes instance.\n",
            "C:\\Users\\admin\\Anaconda3\\lib\\site-packages\\ipykernel_launcher.py:36: MatplotlibDeprecationWarning: Adding an axes using the same arguments as a previous axes currently reuses the earlier instance.  In a future version, a new instance will always be created and returned.  Meanwhile, this warning can be suppressed, and the future behavior ensured, by passing a unique label to each axes instance.\n"
          ],
          "name": "stderr"
        },
        {
          "output_type": "display_data",
          "data": {
            "image/png": "[encoded data removed]",
            "text/plain": [
              "<Figure size 1008x360 with 1 Axes>"
            ]
          },
          "metadata": {
            "tags": []
          }
        }
      ]
    }
  ]
}