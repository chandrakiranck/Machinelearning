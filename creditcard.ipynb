{
  "nbformat": 4,
  "nbformat_minor": 0,
  "metadata": {
    "colab": {
      "name": "creditcard.ipynb",
      "provenance": [],
      "include_colab_link": true
    },
    "kernelspec": {
      "name": "python3",
      "display_name": "Python 3"
    }
  },
  "cells": [
    {
      "cell_type": "markdown",
      "metadata": {
        "id": "view-in-github",
        "colab_type": "text"
      },
      "source": [
        "<a href=\"https://colab.research.google.com/github/chandrakiranck/fuzzy-adventure/blob/master/creditcard.ipynb\" target=\"_parent\"><img src=\"https://colab.research.google.com/assets/colab-badge.svg\" alt=\"Open In Colab\"/></a>"
      ]
    },
    {
      "cell_type": "code",
      "metadata": {
        "id": "7ibdmUq37GhR",
        "colab_type": "code",
        "outputId": "c840486a-f7a4-4604-b929-72a4fc3a3e20",
        "colab": {
          "base_uri": "https://localhost:8080/",
          "height": 122
        }
      },
      "source": [
        "from google.colab import drive\n",
        "drive.mount('/content/drive')"
      ],
      "execution_count": 0,
      "outputs": [
        {
          "output_type": "stream",
          "text": [
            "Go to this URL in a browser: https://accounts.google.com/o/oauth2/auth?client_id=947318989803-6bn6qk8qdgf4n4g3pfee6491hc0brc4i.apps.googleusercontent.com&redirect_uri=urn%3Aietf%3Awg%3Aoauth%3A2.0%3Aoob&scope=email%20https%3A%2F%2Fwww.googleapis.com%2Fauth%2Fdocs.test%20https%3A%2F%2Fwww.googleapis.com%2Fauth%2Fdrive%20https%3A%2F%2Fwww.googleapis.com%2Fauth%2Fdrive.photos.readonly%20https%3A%2F%2Fwww.googleapis.com%2Fauth%2Fpeopleapi.readonly&response_type=code\n",
            "\n",
            "Enter your authorization code:\n",
            "··········\n",
            "Mounted at /content/drive\n"
          ],
          "name": "stdout"
        }
      ]
    },
    {
      "cell_type": "code",
      "metadata": {
        "id": "smzRAQ7v2hYc",
        "colab_type": "code",
        "colab": {}
      },
      "source": [
        "import pandas as pd\n",
        "import numpy as np\n",
        "import statsmodels.api as sm\n",
        "import scipy.stats as st\n",
        "import matplotlib.pyplot as plt\n",
        "import seaborn as sns\n",
        "from sklearn.preprocessing import LabelEncoder,MinMaxScaler\n",
        "from sklearn.linear_model import LinearRegression\n",
        "from sklearn.linear_model import LogisticRegression\n",
        "from sklearn.tree import DecisionTreeClassifier\n",
        "from sklearn import model_selection \n",
        "from sklearn.ensemble import RandomForestClassifier\n",
        "from sklearn.naive_bayes import GaussianNB\n",
        "from sklearn.neighbors import KNeighborsClassifier\n",
        "from sklearn.model_selection import GridSearchCV\n",
        "from sklearn.model_selection import KFold, cross_val_score\n",
        "from sklearn.ensemble import BaggingClassifier\n",
        "from sklearn.ensemble import AdaBoostClassifier,GradientBoostingClassifier\n",
        "from sklearn.metrics import roc_auc_score,confusion_matrix,roc_curve\n",
        "lg=LogisticRegression(solver=\"liblinear\")\n",
        "import warnings \n",
        "warnings.filterwarnings(\"ignore\")"
      ],
      "execution_count": 0,
      "outputs": []
    },
    {
      "cell_type": "markdown",
      "metadata": {
        "id": "WonGaCgWII1C",
        "colab_type": "text"
      },
      "source": [
        "## **READ THE DATA and EDA PART**"
      ]
    },
    {
      "cell_type": "code",
      "metadata": {
        "id": "DrIzM8ys7Cli",
        "colab_type": "code",
        "outputId": "fc3d748f-0c23-447d-a1af-02cf2c27c6ae",
        "colab": {
          "base_uri": "https://localhost:8080/",
          "height": 224
        }
      },
      "source": [
        "data=pd.read_csv(\"/content/drive/My Drive/casestudy datasets/credit-card-default.csv\")\n",
        "data.head()"
      ],
      "execution_count": 0,
      "outputs": [
        {
          "output_type": "execute_result",
          "data": {
            "text/html": [
              "<div>\n",
              "<style scoped>\n",
              "    .dataframe tbody tr th:only-of-type {\n",
              "        vertical-align: middle;\n",
              "    }\n",
              "\n",
              "    .dataframe tbody tr th {\n",
              "        vertical-align: top;\n",
              "    }\n",
              "\n",
              "    .dataframe thead th {\n",
              "        text-align: right;\n",
              "    }\n",
              "</style>\n",
              "<table border=\"1\" class=\"dataframe\">\n",
              "  <thead>\n",
              "    <tr style=\"text-align: right;\">\n",
              "      <th></th>\n",
              "      <th>ID</th>\n",
              "      <th>LIMIT_BAL</th>\n",
              "      <th>SEX</th>\n",
              "      <th>EDUCATION</th>\n",
              "      <th>MARRIAGE</th>\n",
              "      <th>AGE</th>\n",
              "      <th>PAY_0</th>\n",
              "      <th>PAY_2</th>\n",
              "      <th>PAY_3</th>\n",
              "      <th>PAY_4</th>\n",
              "      <th>PAY_5</th>\n",
              "      <th>PAY_6</th>\n",
              "      <th>BILL_AMT1</th>\n",
              "      <th>BILL_AMT2</th>\n",
              "      <th>BILL_AMT3</th>\n",
              "      <th>BILL_AMT4</th>\n",
              "      <th>BILL_AMT5</th>\n",
              "      <th>BILL_AMT6</th>\n",
              "      <th>PAY_AMT1</th>\n",
              "      <th>PAY_AMT2</th>\n",
              "      <th>PAY_AMT3</th>\n",
              "      <th>PAY_AMT4</th>\n",
              "      <th>PAY_AMT5</th>\n",
              "      <th>PAY_AMT6</th>\n",
              "      <th>defaulted</th>\n",
              "    </tr>\n",
              "  </thead>\n",
              "  <tbody>\n",
              "    <tr>\n",
              "      <th>0</th>\n",
              "      <td>1</td>\n",
              "      <td>20000</td>\n",
              "      <td>2</td>\n",
              "      <td>2</td>\n",
              "      <td>1</td>\n",
              "      <td>24</td>\n",
              "      <td>2</td>\n",
              "      <td>2</td>\n",
              "      <td>-1</td>\n",
              "      <td>-1</td>\n",
              "      <td>-2</td>\n",
              "      <td>-2</td>\n",
              "      <td>3913</td>\n",
              "      <td>3102</td>\n",
              "      <td>689</td>\n",
              "      <td>0</td>\n",
              "      <td>0</td>\n",
              "      <td>0</td>\n",
              "      <td>0</td>\n",
              "      <td>689</td>\n",
              "      <td>0</td>\n",
              "      <td>0</td>\n",
              "      <td>0</td>\n",
              "      <td>0</td>\n",
              "      <td>1</td>\n",
              "    </tr>\n",
              "    <tr>\n",
              "      <th>1</th>\n",
              "      <td>2</td>\n",
              "      <td>120000</td>\n",
              "      <td>2</td>\n",
              "      <td>2</td>\n",
              "      <td>2</td>\n",
              "      <td>26</td>\n",
              "      <td>-1</td>\n",
              "      <td>2</td>\n",
              "      <td>0</td>\n",
              "      <td>0</td>\n",
              "      <td>0</td>\n",
              "      <td>2</td>\n",
              "      <td>2682</td>\n",
              "      <td>1725</td>\n",
              "      <td>2682</td>\n",
              "      <td>3272</td>\n",
              "      <td>3455</td>\n",
              "      <td>3261</td>\n",
              "      <td>0</td>\n",
              "      <td>1000</td>\n",
              "      <td>1000</td>\n",
              "      <td>1000</td>\n",
              "      <td>0</td>\n",
              "      <td>2000</td>\n",
              "      <td>1</td>\n",
              "    </tr>\n",
              "    <tr>\n",
              "      <th>2</th>\n",
              "      <td>3</td>\n",
              "      <td>90000</td>\n",
              "      <td>2</td>\n",
              "      <td>2</td>\n",
              "      <td>2</td>\n",
              "      <td>34</td>\n",
              "      <td>0</td>\n",
              "      <td>0</td>\n",
              "      <td>0</td>\n",
              "      <td>0</td>\n",
              "      <td>0</td>\n",
              "      <td>0</td>\n",
              "      <td>29239</td>\n",
              "      <td>14027</td>\n",
              "      <td>13559</td>\n",
              "      <td>14331</td>\n",
              "      <td>14948</td>\n",
              "      <td>15549</td>\n",
              "      <td>1518</td>\n",
              "      <td>1500</td>\n",
              "      <td>1000</td>\n",
              "      <td>1000</td>\n",
              "      <td>1000</td>\n",
              "      <td>5000</td>\n",
              "      <td>0</td>\n",
              "    </tr>\n",
              "    <tr>\n",
              "      <th>3</th>\n",
              "      <td>4</td>\n",
              "      <td>50000</td>\n",
              "      <td>2</td>\n",
              "      <td>2</td>\n",
              "      <td>1</td>\n",
              "      <td>37</td>\n",
              "      <td>0</td>\n",
              "      <td>0</td>\n",
              "      <td>0</td>\n",
              "      <td>0</td>\n",
              "      <td>0</td>\n",
              "      <td>0</td>\n",
              "      <td>46990</td>\n",
              "      <td>48233</td>\n",
              "      <td>49291</td>\n",
              "      <td>28314</td>\n",
              "      <td>28959</td>\n",
              "      <td>29547</td>\n",
              "      <td>2000</td>\n",
              "      <td>2019</td>\n",
              "      <td>1200</td>\n",
              "      <td>1100</td>\n",
              "      <td>1069</td>\n",
              "      <td>1000</td>\n",
              "      <td>0</td>\n",
              "    </tr>\n",
              "    <tr>\n",
              "      <th>4</th>\n",
              "      <td>5</td>\n",
              "      <td>50000</td>\n",
              "      <td>1</td>\n",
              "      <td>2</td>\n",
              "      <td>1</td>\n",
              "      <td>57</td>\n",
              "      <td>-1</td>\n",
              "      <td>0</td>\n",
              "      <td>-1</td>\n",
              "      <td>0</td>\n",
              "      <td>0</td>\n",
              "      <td>0</td>\n",
              "      <td>8617</td>\n",
              "      <td>5670</td>\n",
              "      <td>35835</td>\n",
              "      <td>20940</td>\n",
              "      <td>19146</td>\n",
              "      <td>19131</td>\n",
              "      <td>2000</td>\n",
              "      <td>36681</td>\n",
              "      <td>10000</td>\n",
              "      <td>9000</td>\n",
              "      <td>689</td>\n",
              "      <td>679</td>\n",
              "      <td>0</td>\n",
              "    </tr>\n",
              "  </tbody>\n",
              "</table>\n",
              "</div>"
            ],
            "text/plain": [
              "   ID  LIMIT_BAL  SEX  EDUCATION  ...  PAY_AMT4  PAY_AMT5  PAY_AMT6  defaulted\n",
              "0   1      20000    2          2  ...         0         0         0          1\n",
              "1   2     120000    2          2  ...      1000         0      2000          1\n",
              "2   3      90000    2          2  ...      1000      1000      5000          0\n",
              "3   4      50000    2          2  ...      1100      1069      1000          0\n",
              "4   5      50000    1          2  ...      9000       689       679          0\n",
              "\n",
              "[5 rows x 25 columns]"
            ]
          },
          "metadata": {
            "tags": []
          },
          "execution_count": 5
        }
      ]
    },
    {
      "cell_type": "code",
      "metadata": {
        "id": "NlHW9p4N7W7v",
        "colab_type": "code",
        "outputId": "f87311f0-1ba9-46cb-994f-42d7f750051f",
        "colab": {
          "base_uri": "https://localhost:8080/",
          "height": 527
        }
      },
      "source": [
        "data.info()"
      ],
      "execution_count": 0,
      "outputs": [
        {
          "output_type": "stream",
          "text": [
            "<class 'pandas.core.frame.DataFrame'>\n",
            "RangeIndex: 30000 entries, 0 to 29999\n",
            "Data columns (total 25 columns):\n",
            "ID           30000 non-null int64\n",
            "LIMIT_BAL    30000 non-null int64\n",
            "SEX          30000 non-null int64\n",
            "EDUCATION    30000 non-null int64\n",
            "MARRIAGE     30000 non-null int64\n",
            "AGE          30000 non-null int64\n",
            "PAY_0        30000 non-null int64\n",
            "PAY_2        30000 non-null int64\n",
            "PAY_3        30000 non-null int64\n",
            "PAY_4        30000 non-null int64\n",
            "PAY_5        30000 non-null int64\n",
            "PAY_6        30000 non-null int64\n",
            "BILL_AMT1    30000 non-null int64\n",
            "BILL_AMT2    30000 non-null int64\n",
            "BILL_AMT3    30000 non-null int64\n",
            "BILL_AMT4    30000 non-null int64\n",
            "BILL_AMT5    30000 non-null int64\n",
            "BILL_AMT6    30000 non-null int64\n",
            "PAY_AMT1     30000 non-null int64\n",
            "PAY_AMT2     30000 non-null int64\n",
            "PAY_AMT3     30000 non-null int64\n",
            "PAY_AMT4     30000 non-null int64\n",
            "PAY_AMT5     30000 non-null int64\n",
            "PAY_AMT6     30000 non-null int64\n",
            "defaulted    30000 non-null int64\n",
            "dtypes: int64(25)\n",
            "memory usage: 5.7 MB\n"
          ],
          "name": "stdout"
        }
      ]
    },
    {
      "cell_type": "code",
      "metadata": {
        "id": "9fv1_Eiz7h4a",
        "colab_type": "code",
        "outputId": "bac2634d-3758-4893-86df-6fb9d79cf631",
        "colab": {
          "base_uri": "https://localhost:8080/",
          "height": 330
        }
      },
      "source": [
        "print(data.defaulted.value_counts(normalize=True))\n",
        "data.defaulted.value_counts(normalize=True).plot.bar()"
      ],
      "execution_count": 0,
      "outputs": [
        {
          "output_type": "stream",
          "text": [
            "0    0.7788\n",
            "1    0.2212\n",
            "Name: defaulted, dtype: float64\n"
          ],
          "name": "stdout"
        },
        {
          "output_type": "execute_result",
          "data": {
            "text/plain": [
              "<matplotlib.axes._subplots.AxesSubplot at 0x7fc86dd5c390>"
            ]
          },
          "metadata": {
            "tags": []
          },
          "execution_count": 7
        },
        {
          "output_type": "display_data",
          "data": {
            "image/png": "[encoded data removed]",
            "text/plain": [
              "<Figure size 432x288 with 1 Axes>"
            ]
          },
          "metadata": {
            "tags": []
          }
        }
      ]
    },
    {
      "cell_type": "code",
      "metadata": {
        "id": "HCI1X2PX72f6",
        "colab_type": "code",
        "outputId": "aeffffdf-cc92-4ae9-94b0-3448eb12cbc7",
        "colab": {
          "base_uri": "https://localhost:8080/",
          "height": 330
        }
      },
      "source": [
        "print(data.SEX.value_counts(normalize=True))\n",
        "data.SEX.value_counts(normalize=True).plot.bar()"
      ],
      "execution_count": 0,
      "outputs": [
        {
          "output_type": "stream",
          "text": [
            "2    0.603733\n",
            "1    0.396267\n",
            "Name: SEX, dtype: float64\n"
          ],
          "name": "stdout"
        },
        {
          "output_type": "execute_result",
          "data": {
            "text/plain": [
              "<matplotlib.axes._subplots.AxesSubplot at 0x7fc86cc9be10>"
            ]
          },
          "metadata": {
            "tags": []
          },
          "execution_count": 8
        },
        {
          "output_type": "display_data",
          "data": {
            "image/png": "[encoded data removed]",
            "text/plain": [
              "<Figure size 432x288 with 1 Axes>"
            ]
          },
          "metadata": {
            "tags": []
          }
        }
      ]
    },
    {
      "cell_type": "code",
      "metadata": {
        "id": "0jL8AB3P8RAB",
        "colab_type": "code",
        "outputId": "f03d5cec-c98f-42d5-af27-88cac90832a0",
        "colab": {
          "base_uri": "https://localhost:8080/",
          "height": 415
        }
      },
      "source": [
        "print(data.EDUCATION.value_counts(normalize=True))\n",
        "data.EDUCATION.value_counts(normalize=True).plot.bar()"
      ],
      "execution_count": 0,
      "outputs": [
        {
          "output_type": "stream",
          "text": [
            "2    0.467667\n",
            "1    0.352833\n",
            "3    0.163900\n",
            "5    0.009333\n",
            "4    0.004100\n",
            "6    0.001700\n",
            "0    0.000467\n",
            "Name: EDUCATION, dtype: float64\n"
          ],
          "name": "stdout"
        },
        {
          "output_type": "execute_result",
          "data": {
            "text/plain": [
              "<matplotlib.axes._subplots.AxesSubplot at 0x7fc86cc9bf60>"
            ]
          },
          "metadata": {
            "tags": []
          },
          "execution_count": 9
        },
        {
          "output_type": "display_data",
          "data": {
            "image/png": "[encoded data removed]",
            "text/plain": [
              "<Figure size 432x288 with 1 Axes>"
            ]
          },
          "metadata": {
            "tags": []
          }
        }
      ]
    },
    {
      "cell_type": "code",
      "metadata": {
        "id": "OgWOYV3aFxyx",
        "colab_type": "code",
        "colab": {}
      },
      "source": [
        "data.EDUCATION=data.EDUCATION.replace({5:3,6:3,4:3,0:3})"
      ],
      "execution_count": 0,
      "outputs": []
    },
    {
      "cell_type": "code",
      "metadata": {
        "id": "CD850v1MGhA0",
        "colab_type": "code",
        "colab": {}
      },
      "source": [
        "data.MARRIAGE=data.MARRIAGE.replace({0:2,3:2})"
      ],
      "execution_count": 0,
      "outputs": []
    },
    {
      "cell_type": "code",
      "metadata": {
        "id": "A4Myg3vg8YnJ",
        "colab_type": "code",
        "outputId": "c039a626-d547-425d-f750-0117233ec819",
        "colab": {
          "base_uri": "https://localhost:8080/",
          "height": 330
        }
      },
      "source": [
        "print(data.MARRIAGE.value_counts(normalize=True))\n",
        "data.MARRIAGE.value_counts(normalize=True).plot.bar()"
      ],
      "execution_count": 0,
      "outputs": [
        {
          "output_type": "stream",
          "text": [
            "2    0.5447\n",
            "1    0.4553\n",
            "Name: MARRIAGE, dtype: float64\n"
          ],
          "name": "stdout"
        },
        {
          "output_type": "execute_result",
          "data": {
            "text/plain": [
              "<matplotlib.axes._subplots.AxesSubplot at 0x7fc89385b4e0>"
            ]
          },
          "metadata": {
            "tags": []
          },
          "execution_count": 12
        },
        {
          "output_type": "display_data",
          "data": {
            "image/png": "[encoded data removed]",
            "text/plain": [
              "<Figure size 432x288 with 1 Axes>"
            ]
          },
          "metadata": {
            "tags": []
          }
        }
      ]
    },
    {
      "cell_type": "code",
      "metadata": {
        "id": "L960QqGp8nZ8",
        "colab_type": "code",
        "outputId": "3e948d1d-5219-4aa2-e1db-d3a9d18bc800",
        "colab": {
          "base_uri": "https://localhost:8080/",
          "height": 170
        }
      },
      "source": [
        "print(data[\"LIMIT_BAL\"].describe())\n"
      ],
      "execution_count": 0,
      "outputs": [
        {
          "output_type": "stream",
          "text": [
            "count      30000.000000\n",
            "mean      167484.322667\n",
            "std       129747.661567\n",
            "min        10000.000000\n",
            "25%        50000.000000\n",
            "50%       140000.000000\n",
            "75%       240000.000000\n",
            "max      1000000.000000\n",
            "Name: LIMIT_BAL, dtype: float64\n"
          ],
          "name": "stdout"
        }
      ]
    },
    {
      "cell_type": "code",
      "metadata": {
        "id": "zGeODUXl87Uo",
        "colab_type": "code",
        "outputId": "8743bba9-b821-4a0a-dbbb-1c960dd62900",
        "colab": {
          "base_uri": "https://localhost:8080/",
          "height": 297
        }
      },
      "source": [
        "sns.boxplot(data[\"LIMIT_BAL\"])"
      ],
      "execution_count": 0,
      "outputs": [
        {
          "output_type": "execute_result",
          "data": {
            "text/plain": [
              "<matplotlib.axes._subplots.AxesSubplot at 0x7fc86c707ba8>"
            ]
          },
          "metadata": {
            "tags": []
          },
          "execution_count": 14
        },
        {
          "output_type": "display_data",
          "data": {
            "image/png": "[encoded data removed]",
            "text/plain": [
              "<Figure size 432x288 with 1 Axes>"
            ]
          },
          "metadata": {
            "tags": []
          }
        }
      ]
    },
    {
      "cell_type": "code",
      "metadata": {
        "id": "T3s5oJBI9QVQ",
        "colab_type": "code",
        "outputId": "b4f60f8e-37b3-419c-aafa-0a77e221f51e",
        "colab": {
          "base_uri": "https://localhost:8080/",
          "height": 68
        }
      },
      "source": [
        "q1=data[\"LIMIT_BAL\"].quantile(0.25)\n",
        "q2=data[\"LIMIT_BAL\"].quantile(0.5)\n",
        "q3=data[\"LIMIT_BAL\"].quantile(0.75)\n",
        "iqr=q3-q1\n",
        "print(\"q1\",q1)\n",
        "print(\"q2\",q2)\n",
        "print(\"q3\",q3)\n",
        "data=data[~(data[\"LIMIT_BAL\"]>(q3+1.5*iqr))]"
      ],
      "execution_count": 0,
      "outputs": [
        {
          "output_type": "stream",
          "text": [
            "q1 50000.0\n",
            "q2 140000.0\n",
            "q3 240000.0\n"
          ],
          "name": "stdout"
        }
      ]
    },
    {
      "cell_type": "code",
      "metadata": {
        "id": "nsftsoTK-W4V",
        "colab_type": "code",
        "outputId": "5e2399f7-847f-4f1c-888d-3a632ecdd045",
        "colab": {
          "base_uri": "https://localhost:8080/",
          "height": 170
        }
      },
      "source": [
        "data[\"LIMIT_BAL\"].describe()"
      ],
      "execution_count": 0,
      "outputs": [
        {
          "output_type": "execute_result",
          "data": {
            "text/plain": [
              "count     29833.000000\n",
              "mean     164963.284953\n",
              "std      125529.099652\n",
              "min       10000.000000\n",
              "25%       50000.000000\n",
              "50%      140000.000000\n",
              "75%      240000.000000\n",
              "max      520000.000000\n",
              "Name: LIMIT_BAL, dtype: float64"
            ]
          },
          "metadata": {
            "tags": []
          },
          "execution_count": 16
        }
      ]
    },
    {
      "cell_type": "code",
      "metadata": {
        "id": "6y02Cor1-cPj",
        "colab_type": "code",
        "outputId": "16165b75-f928-4a2f-963e-53ec537f94c0",
        "colab": {
          "base_uri": "https://localhost:8080/",
          "height": 170
        }
      },
      "source": [
        "data[\"AGE\"].describe()"
      ],
      "execution_count": 0,
      "outputs": [
        {
          "output_type": "execute_result",
          "data": {
            "text/plain": [
              "count    29833.000000\n",
              "mean        35.463983\n",
              "std          9.218344\n",
              "min         21.000000\n",
              "25%         28.000000\n",
              "50%         34.000000\n",
              "75%         41.000000\n",
              "max         79.000000\n",
              "Name: AGE, dtype: float64"
            ]
          },
          "metadata": {
            "tags": []
          },
          "execution_count": 17
        }
      ]
    },
    {
      "cell_type": "markdown",
      "metadata": {
        "id": "WQ4vtih2_f_m",
        "colab_type": "text"
      },
      "source": [
        "## **CATEGORICAL VARIABLES**"
      ]
    },
    {
      "cell_type": "code",
      "metadata": {
        "id": "QJvWXpA0_key",
        "colab_type": "code",
        "colab": {}
      },
      "source": [
        "data=data.drop([\"ID\"],axis=1)\n",
        "cat_cols=[\"SEX\",\"EDUCATION\",\"MARRIAGE\"]\n",
        "data=pd.get_dummies(data,columns=cat_cols,drop_first=True)"
      ],
      "execution_count": 0,
      "outputs": []
    },
    {
      "cell_type": "code",
      "metadata": {
        "id": "YEU3-HYP_y_3",
        "colab_type": "code",
        "outputId": "7232ca99-650e-4bae-e295-b21c85d40d64",
        "colab": {
          "base_uri": "https://localhost:8080/",
          "height": 527
        }
      },
      "source": [
        "data.info()"
      ],
      "execution_count": 0,
      "outputs": [
        {
          "output_type": "stream",
          "text": [
            "<class 'pandas.core.frame.DataFrame'>\n",
            "Int64Index: 29833 entries, 0 to 29999\n",
            "Data columns (total 25 columns):\n",
            "LIMIT_BAL      29833 non-null int64\n",
            "AGE            29833 non-null int64\n",
            "PAY_0          29833 non-null int64\n",
            "PAY_2          29833 non-null int64\n",
            "PAY_3          29833 non-null int64\n",
            "PAY_4          29833 non-null int64\n",
            "PAY_5          29833 non-null int64\n",
            "PAY_6          29833 non-null int64\n",
            "BILL_AMT1      29833 non-null int64\n",
            "BILL_AMT2      29833 non-null int64\n",
            "BILL_AMT3      29833 non-null int64\n",
            "BILL_AMT4      29833 non-null int64\n",
            "BILL_AMT5      29833 non-null int64\n",
            "BILL_AMT6      29833 non-null int64\n",
            "PAY_AMT1       29833 non-null int64\n",
            "PAY_AMT2       29833 non-null int64\n",
            "PAY_AMT3       29833 non-null int64\n",
            "PAY_AMT4       29833 non-null int64\n",
            "PAY_AMT5       29833 non-null int64\n",
            "PAY_AMT6       29833 non-null int64\n",
            "defaulted      29833 non-null int64\n",
            "SEX_2          29833 non-null uint8\n",
            "EDUCATION_2    29833 non-null uint8\n",
            "EDUCATION_3    29833 non-null uint8\n",
            "MARRIAGE_2     29833 non-null uint8\n",
            "dtypes: int64(21), uint8(4)\n",
            "memory usage: 5.1 MB\n"
          ],
          "name": "stdout"
        }
      ]
    },
    {
      "cell_type": "code",
      "metadata": {
        "id": "8GT6tLJI_2LM",
        "colab_type": "code",
        "colab": {}
      },
      "source": [
        "y=data[\"defaulted\"]\n",
        "X=data.drop([\"defaulted\",\"BILL_AMT4\",\"BILL_AMT5\",\"BILL_AMT2\",\"BILL_AMT6\",'PAY_6',\"PAY_4\"],axis=1)\n"
      ],
      "execution_count": 0,
      "outputs": []
    },
    {
      "cell_type": "markdown",
      "metadata": {
        "id": "RKWkC-ZoAQit",
        "colab_type": "text"
      },
      "source": [
        "## **LOGISTIC APPROACH - STATISCAL APPROACH**"
      ]
    },
    {
      "cell_type": "code",
      "metadata": {
        "id": "2YpJzH43Anfh",
        "colab_type": "code",
        "outputId": "8fb66b08-4ee2-4871-d9fe-30de98b65126",
        "colab": {
          "base_uri": "https://localhost:8080/",
          "height": 656
        }
      },
      "source": [
        "from statsmodels.tools import add_constant \n",
        "x_constant=add_constant(X)\n",
        "x_constant.head()\n",
        "model=sm.Logit(y,x_constant,maxiter=1000)\n",
        "result=model.fit()\n",
        "result.summary()\n"
      ],
      "execution_count": 0,
      "outputs": [
        {
          "output_type": "stream",
          "text": [
            "Optimization terminated successfully.\n",
            "         Current function value: 0.465384\n",
            "         Iterations 7\n"
          ],
          "name": "stdout"
        },
        {
          "output_type": "execute_result",
          "data": {
            "text/html": [
              "<table class=\"simpletable\">\n",
              "<caption>Logit Regression Results</caption>\n",
              "<tr>\n",
              "  <th>Dep. Variable:</th>       <td>defaulted</td>    <th>  No. Observations:  </th>  <td> 29833</td> \n",
              "</tr>\n",
              "<tr>\n",
              "  <th>Model:</th>                 <td>Logit</td>      <th>  Df Residuals:      </th>  <td> 29814</td> \n",
              "</tr>\n",
              "<tr>\n",
              "  <th>Method:</th>                 <td>MLE</td>       <th>  Df Model:          </th>  <td>    18</td> \n",
              "</tr>\n",
              "<tr>\n",
              "  <th>Date:</th>            <td>Tue, 12 Nov 2019</td> <th>  Pseudo R-squ.:     </th>  <td>0.1206</td> \n",
              "</tr>\n",
              "<tr>\n",
              "  <th>Time:</th>                <td>05:03:15</td>     <th>  Log-Likelihood:    </th> <td> -13884.</td>\n",
              "</tr>\n",
              "<tr>\n",
              "  <th>converged:</th>             <td>True</td>       <th>  LL-Null:           </th> <td> -15787.</td>\n",
              "</tr>\n",
              "<tr>\n",
              "  <th>Covariance Type:</th>     <td>nonrobust</td>    <th>  LLR p-value:       </th>  <td> 0.000</td> \n",
              "</tr>\n",
              "</table>\n",
              "<table class=\"simpletable\">\n",
              "<tr>\n",
              "       <td></td>          <th>coef</th>     <th>std err</th>      <th>z</th>      <th>P>|z|</th>  <th>[0.025</th>    <th>0.975]</th>  \n",
              "</tr>\n",
              "<tr>\n",
              "  <th>const</th>       <td>   -1.0050</td> <td>    0.086</td> <td>  -11.707</td> <td> 0.000</td> <td>   -1.173</td> <td>   -0.837</td>\n",
              "</tr>\n",
              "<tr>\n",
              "  <th>LIMIT_BAL</th>   <td>-7.026e-07</td> <td>  1.6e-07</td> <td>   -4.387</td> <td> 0.000</td> <td>-1.02e-06</td> <td>-3.89e-07</td>\n",
              "</tr>\n",
              "<tr>\n",
              "  <th>AGE</th>         <td>    0.0063</td> <td>    0.002</td> <td>    3.427</td> <td> 0.001</td> <td>    0.003</td> <td>    0.010</td>\n",
              "</tr>\n",
              "<tr>\n",
              "  <th>PAY_0</th>       <td>    0.5790</td> <td>    0.018</td> <td>   32.778</td> <td> 0.000</td> <td>    0.544</td> <td>    0.614</td>\n",
              "</tr>\n",
              "<tr>\n",
              "  <th>PAY_2</th>       <td>    0.0831</td> <td>    0.020</td> <td>    4.120</td> <td> 0.000</td> <td>    0.044</td> <td>    0.123</td>\n",
              "</tr>\n",
              "<tr>\n",
              "  <th>PAY_3</th>       <td>    0.0849</td> <td>    0.020</td> <td>    4.176</td> <td> 0.000</td> <td>    0.045</td> <td>    0.125</td>\n",
              "</tr>\n",
              "<tr>\n",
              "  <th>PAY_5</th>       <td>    0.0558</td> <td>    0.018</td> <td>    3.149</td> <td> 0.002</td> <td>    0.021</td> <td>    0.091</td>\n",
              "</tr>\n",
              "<tr>\n",
              "  <th>BILL_AMT1</th>   <td>-4.387e-06</td> <td> 7.41e-07</td> <td>   -5.920</td> <td> 0.000</td> <td>-5.84e-06</td> <td>-2.93e-06</td>\n",
              "</tr>\n",
              "<tr>\n",
              "  <th>BILL_AMT3</th>   <td>  3.06e-06</td> <td> 8.15e-07</td> <td>    3.755</td> <td> 0.000</td> <td> 1.46e-06</td> <td> 4.66e-06</td>\n",
              "</tr>\n",
              "<tr>\n",
              "  <th>PAY_AMT1</th>    <td>-1.217e-05</td> <td> 2.09e-06</td> <td>   -5.826</td> <td> 0.000</td> <td>-1.63e-05</td> <td>-8.07e-06</td>\n",
              "</tr>\n",
              "<tr>\n",
              "  <th>PAY_AMT2</th>    <td>-1.107e-05</td> <td>    2e-06</td> <td>   -5.543</td> <td> 0.000</td> <td> -1.5e-05</td> <td>-7.16e-06</td>\n",
              "</tr>\n",
              "<tr>\n",
              "  <th>PAY_AMT3</th>    <td>-2.829e-06</td> <td> 1.56e-06</td> <td>   -1.812</td> <td> 0.070</td> <td>-5.89e-06</td> <td> 2.32e-07</td>\n",
              "</tr>\n",
              "<tr>\n",
              "  <th>PAY_AMT4</th>    <td>-3.003e-06</td> <td> 1.54e-06</td> <td>   -1.952</td> <td> 0.051</td> <td>-6.02e-06</td> <td> 1.21e-08</td>\n",
              "</tr>\n",
              "<tr>\n",
              "  <th>PAY_AMT5</th>    <td>-3.473e-06</td> <td> 1.55e-06</td> <td>   -2.238</td> <td> 0.025</td> <td>-6.52e-06</td> <td>-4.32e-07</td>\n",
              "</tr>\n",
              "<tr>\n",
              "  <th>PAY_AMT6</th>    <td>-2.537e-06</td> <td> 1.31e-06</td> <td>   -1.940</td> <td> 0.052</td> <td> -5.1e-06</td> <td> 2.55e-08</td>\n",
              "</tr>\n",
              "<tr>\n",
              "  <th>SEX_2</th>       <td>   -0.1142</td> <td>    0.031</td> <td>   -3.715</td> <td> 0.000</td> <td>   -0.174</td> <td>   -0.054</td>\n",
              "</tr>\n",
              "<tr>\n",
              "  <th>EDUCATION_2</th> <td>   -0.0904</td> <td>    0.036</td> <td>   -2.536</td> <td> 0.011</td> <td>   -0.160</td> <td>   -0.021</td>\n",
              "</tr>\n",
              "<tr>\n",
              "  <th>EDUCATION_3</th> <td>   -0.1761</td> <td>    0.047</td> <td>   -3.768</td> <td> 0.000</td> <td>   -0.268</td> <td>   -0.085</td>\n",
              "</tr>\n",
              "<tr>\n",
              "  <th>MARRIAGE_2</th>  <td>   -0.1833</td> <td>    0.034</td> <td>   -5.366</td> <td> 0.000</td> <td>   -0.250</td> <td>   -0.116</td>\n",
              "</tr>\n",
              "</table>"
            ],
            "text/plain": [
              "<class 'statsmodels.iolib.summary.Summary'>\n",
              "\"\"\"\n",
              "                           Logit Regression Results                           \n",
              "==============================================================================\n",
              "Dep. Variable:              defaulted   No. Observations:                29833\n",
              "Model:                          Logit   Df Residuals:                    29814\n",
              "Method:                           MLE   Df Model:                           18\n",
              "Date:                Tue, 12 Nov 2019   Pseudo R-squ.:                  0.1206\n",
              "Time:                        05:03:15   Log-Likelihood:                -13884.\n",
              "converged:                       True   LL-Null:                       -15787.\n",
              "Covariance Type:            nonrobust   LLR p-value:                     0.000\n",
              "===============================================================================\n",
              "                  coef    std err          z      P>|z|      [0.025      0.975]\n",
              "-------------------------------------------------------------------------------\n",
              "const          -1.0050      0.086    -11.707      0.000      -1.173      -0.837\n",
              "LIMIT_BAL   -7.026e-07    1.6e-07     -4.387      0.000   -1.02e-06   -3.89e-07\n",
              "AGE             0.0063      0.002      3.427      0.001       0.003       0.010\n",
              "PAY_0           0.5790      0.018     32.778      0.000       0.544       0.614\n",
              "PAY_2           0.0831      0.020      4.120      0.000       0.044       0.123\n",
              "PAY_3           0.0849      0.020      4.176      0.000       0.045       0.125\n",
              "PAY_5           0.0558      0.018      3.149      0.002       0.021       0.091\n",
              "BILL_AMT1   -4.387e-06   7.41e-07     -5.920      0.000   -5.84e-06   -2.93e-06\n",
              "BILL_AMT3     3.06e-06   8.15e-07      3.755      0.000    1.46e-06    4.66e-06\n",
              "PAY_AMT1    -1.217e-05   2.09e-06     -5.826      0.000   -1.63e-05   -8.07e-06\n",
              "PAY_AMT2    -1.107e-05      2e-06     -5.543      0.000    -1.5e-05   -7.16e-06\n",
              "PAY_AMT3    -2.829e-06   1.56e-06     -1.812      0.070   -5.89e-06    2.32e-07\n",
              "PAY_AMT4    -3.003e-06   1.54e-06     -1.952      0.051   -6.02e-06    1.21e-08\n",
              "PAY_AMT5    -3.473e-06   1.55e-06     -2.238      0.025   -6.52e-06   -4.32e-07\n",
              "PAY_AMT6    -2.537e-06   1.31e-06     -1.940      0.052    -5.1e-06    2.55e-08\n",
              "SEX_2          -0.1142      0.031     -3.715      0.000      -0.174      -0.054\n",
              "EDUCATION_2    -0.0904      0.036     -2.536      0.011      -0.160      -0.021\n",
              "EDUCATION_3    -0.1761      0.047     -3.768      0.000      -0.268      -0.085\n",
              "MARRIAGE_2     -0.1833      0.034     -5.366      0.000      -0.250      -0.116\n",
              "===============================================================================\n",
              "\"\"\""
            ]
          },
          "metadata": {
            "tags": []
          },
          "execution_count": 34
        }
      ]
    },
    {
      "cell_type": "markdown",
      "metadata": {
        "id": "YhXVDn5vCKLB",
        "colab_type": "text"
      },
      "source": [
        "if age of the person incearse by one yr the default increases\n",
        "\n",
        "\n",
        "\n",
        "In sex_2 compare to sex_1 are less defaulters\n",
        "\n",
        "\n",
        "\n",
        "\n",
        "\n"
      ]
    },
    {
      "cell_type": "code",
      "metadata": {
        "id": "jtrvV985Cw7S",
        "colab_type": "code",
        "outputId": "d6a818b3-483e-4f49-b981-5f145b5bf2d6",
        "colab": {
          "base_uri": "https://localhost:8080/",
          "height": 607
        }
      },
      "source": [
        "from statsmodels.stats.outliers_influence import variance_inflation_factor\n",
        "\n",
        "\n",
        "vif = [variance_inflation_factor(x_constant.values, i) for i in range(x_constant.shape[1])]\n",
        "pd.DataFrame({'vif': vif[1:]}, index=X.columns)"
      ],
      "execution_count": 0,
      "outputs": [
        {
          "output_type": "execute_result",
          "data": {
            "text/html": [
              "<div>\n",
              "<style scoped>\n",
              "    .dataframe tbody tr th:only-of-type {\n",
              "        vertical-align: middle;\n",
              "    }\n",
              "\n",
              "    .dataframe tbody tr th {\n",
              "        vertical-align: top;\n",
              "    }\n",
              "\n",
              "    .dataframe thead th {\n",
              "        text-align: right;\n",
              "    }\n",
              "</style>\n",
              "<table border=\"1\" class=\"dataframe\">\n",
              "  <thead>\n",
              "    <tr style=\"text-align: right;\">\n",
              "      <th></th>\n",
              "      <th>vif</th>\n",
              "    </tr>\n",
              "  </thead>\n",
              "  <tbody>\n",
              "    <tr>\n",
              "      <th>LIMIT_BAL</th>\n",
              "      <td>1.543724</td>\n",
              "    </tr>\n",
              "    <tr>\n",
              "      <th>AGE</th>\n",
              "      <td>1.351973</td>\n",
              "    </tr>\n",
              "    <tr>\n",
              "      <th>PAY_0</th>\n",
              "      <td>1.908881</td>\n",
              "    </tr>\n",
              "    <tr>\n",
              "      <th>PAY_2</th>\n",
              "      <td>3.165988</td>\n",
              "    </tr>\n",
              "    <tr>\n",
              "      <th>PAY_3</th>\n",
              "      <td>3.026426</td>\n",
              "    </tr>\n",
              "    <tr>\n",
              "      <th>PAY_5</th>\n",
              "      <td>2.075043</td>\n",
              "    </tr>\n",
              "    <tr>\n",
              "      <th>BILL_AMT1</th>\n",
              "      <td>6.481802</td>\n",
              "    </tr>\n",
              "    <tr>\n",
              "      <th>BILL_AMT3</th>\n",
              "      <td>7.182916</td>\n",
              "    </tr>\n",
              "    <tr>\n",
              "      <th>PAY_AMT1</th>\n",
              "      <td>1.237887</td>\n",
              "    </tr>\n",
              "    <tr>\n",
              "      <th>PAY_AMT2</th>\n",
              "      <td>1.583145</td>\n",
              "    </tr>\n",
              "    <tr>\n",
              "      <th>PAY_AMT3</th>\n",
              "      <td>1.220278</td>\n",
              "    </tr>\n",
              "    <tr>\n",
              "      <th>PAY_AMT4</th>\n",
              "      <td>1.134425</td>\n",
              "    </tr>\n",
              "    <tr>\n",
              "      <th>PAY_AMT5</th>\n",
              "      <td>1.096907</td>\n",
              "    </tr>\n",
              "    <tr>\n",
              "      <th>PAY_AMT6</th>\n",
              "      <td>1.108119</td>\n",
              "    </tr>\n",
              "    <tr>\n",
              "      <th>SEX_2</th>\n",
              "      <td>1.024533</td>\n",
              "    </tr>\n",
              "    <tr>\n",
              "      <th>EDUCATION_2</th>\n",
              "      <td>1.366939</td>\n",
              "    </tr>\n",
              "    <tr>\n",
              "      <th>EDUCATION_3</th>\n",
              "      <td>1.415088</td>\n",
              "    </tr>\n",
              "    <tr>\n",
              "      <th>MARRIAGE_2</th>\n",
              "      <td>1.290833</td>\n",
              "    </tr>\n",
              "  </tbody>\n",
              "</table>\n",
              "</div>"
            ],
            "text/plain": [
              "                  vif\n",
              "LIMIT_BAL    1.543724\n",
              "AGE          1.351973\n",
              "PAY_0        1.908881\n",
              "PAY_2        3.165988\n",
              "PAY_3        3.026426\n",
              "PAY_5        2.075043\n",
              "BILL_AMT1    6.481802\n",
              "BILL_AMT3    7.182916\n",
              "PAY_AMT1     1.237887\n",
              "PAY_AMT2     1.583145\n",
              "PAY_AMT3     1.220278\n",
              "PAY_AMT4     1.134425\n",
              "PAY_AMT5     1.096907\n",
              "PAY_AMT6     1.108119\n",
              "SEX_2        1.024533\n",
              "EDUCATION_2  1.366939\n",
              "EDUCATION_3  1.415088\n",
              "MARRIAGE_2   1.290833"
            ]
          },
          "metadata": {
            "tags": []
          },
          "execution_count": 24
        }
      ]
    },
    {
      "cell_type": "code",
      "metadata": {
        "id": "7HYvEI_ED3Yb",
        "colab_type": "code",
        "outputId": "7f4c19bd-2a77-4d3e-d03f-564ede76ee02",
        "colab": {
          "base_uri": "https://localhost:8080/",
          "height": 357
        }
      },
      "source": [
        "np.exp(result.params)"
      ],
      "execution_count": 0,
      "outputs": [
        {
          "output_type": "execute_result",
          "data": {
            "text/plain": [
              "const          0.366062\n",
              "LIMIT_BAL      0.999999\n",
              "AGE            1.006315\n",
              "PAY_0          1.784258\n",
              "PAY_2          1.086654\n",
              "PAY_3          1.088582\n",
              "PAY_5          1.057412\n",
              "BILL_AMT1      0.999996\n",
              "BILL_AMT3      1.000003\n",
              "PAY_AMT1       0.999988\n",
              "PAY_AMT2       0.999989\n",
              "PAY_AMT3       0.999997\n",
              "PAY_AMT4       0.999997\n",
              "PAY_AMT5       0.999997\n",
              "PAY_AMT6       0.999997\n",
              "SEX_2          0.892051\n",
              "EDUCATION_2    0.913594\n",
              "EDUCATION_3    0.838510\n",
              "MARRIAGE_2     0.832491\n",
              "dtype: float64"
            ]
          },
          "metadata": {
            "tags": []
          },
          "execution_count": 25
        }
      ]
    },
    {
      "cell_type": "code",
      "metadata": {
        "id": "Mmq7hKkFIo1w",
        "colab_type": "code",
        "colab": {}
      },
      "source": [
        ""
      ],
      "execution_count": 0,
      "outputs": []
    },
    {
      "cell_type": "markdown",
      "metadata": {
        "id": "LHqBU4rxQH00",
        "colab_type": "text"
      },
      "source": [
        "### **MODEL EVALUATION**"
      ]
    },
    {
      "cell_type": "code",
      "metadata": {
        "id": "Pkuy7tWsQPOe",
        "colab_type": "code",
        "colab": {}
      },
      "source": [
        "from sklearn.metrics import accuracy_score,classification_report,roc_auc_score,roc_curve,confusion_matrix\n",
        " "
      ],
      "execution_count": 0,
      "outputs": []
    },
    {
      "cell_type": "code",
      "metadata": {
        "id": "53yH5JhiRhnR",
        "colab_type": "code",
        "colab": {}
      },
      "source": [
        "y_prob=result.predict(x_constant)\n",
        "y_pred=y_prob .apply(lambda x:0 if x>0.5 else 1)"
      ],
      "execution_count": 0,
      "outputs": []
    },
    {
      "cell_type": "code",
      "metadata": {
        "id": "dMg4JupeRsn3",
        "colab_type": "code",
        "outputId": "9c46d389-58ed-436d-a6f7-5772f1b7627a",
        "colab": {
          "base_uri": "https://localhost:8080/",
          "height": 170
        }
      },
      "source": [
        "print(classification_report(y,y_pred))"
      ],
      "execution_count": 0,
      "outputs": [
        {
          "output_type": "stream",
          "text": [
            "              precision    recall  f1-score   support\n",
            "\n",
            "           0       0.29      0.03      0.05     23216\n",
            "           1       0.18      0.76      0.29      6617\n",
            "\n",
            "    accuracy                           0.19     29833\n",
            "   macro avg       0.23      0.39      0.17     29833\n",
            "weighted avg       0.26      0.19      0.10     29833\n",
            "\n"
          ],
          "name": "stdout"
        }
      ]
    },
    {
      "cell_type": "code",
      "metadata": {
        "id": "wt7NdqRWRwJ4",
        "colab_type": "code",
        "outputId": "383b218f-b874-46f9-b6d9-7191a138219c",
        "colab": {
          "base_uri": "https://localhost:8080/",
          "height": 34
        }
      },
      "source": [
        "print(\"auc score\",roc_auc_score(y,y_prob))"
      ],
      "execution_count": 0,
      "outputs": [
        {
          "output_type": "stream",
          "text": [
            "auc score 0.7242661079261725\n"
          ],
          "name": "stdout"
        }
      ]
    },
    {
      "cell_type": "code",
      "metadata": {
        "id": "IZWL1MPaS-cM",
        "colab_type": "code",
        "outputId": "d35cf8cf-f1e5-45e8-970f-307ad1c9c1bc",
        "colab": {
          "base_uri": "https://localhost:8080/",
          "height": 346
        }
      },
      "source": [
        "fpr,tpr,thresholds=roc_curve(y,y_prob)\n",
        "print(fpr,tpr)\n",
        "plt.plot(fpr,tpr)\n",
        "plt.plot(fpr,fpr)\n",
        "plt.xlabel(\"FPR\")\n",
        "plt.ylabel(\"TPR\")\n",
        "plt.title(\"ROC_AUC CURVE\")"
      ],
      "execution_count": 0,
      "outputs": [
        {
          "output_type": "stream",
          "text": [
            "[0.         0.         0.         ... 0.99952619 0.99952619 1.        ] [0.00000000e+00 1.51125888e-04 3.02251776e-04 ... 9.99848874e-01\n",
            " 1.00000000e+00 1.00000000e+00]\n"
          ],
          "name": "stdout"
        },
        {
          "output_type": "execute_result",
          "data": {
            "text/plain": [
              "Text(0.5, 1.0, 'ROC_AUC CURVE')"
            ]
          },
          "metadata": {
            "tags": []
          },
          "execution_count": 30
        },
        {
          "output_type": "display_data",
          "data": {
            "image/png": "[encoded data removed]",
            "text/plain": [
              "<Figure size 432x288 with 1 Axes>"
            ]
          },
          "metadata": {
            "tags": []
          }
        }
      ]
    },
    {
      "cell_type": "code",
      "metadata": {
        "id": "dtfGHVdCTNsT",
        "colab_type": "code",
        "colab": {}
      },
      "source": [
        ""
      ],
      "execution_count": 0,
      "outputs": []
    },
    {
      "cell_type": "code",
      "metadata": {
        "id": "7vR4E-c4VEU3",
        "colab_type": "code",
        "colab": {}
      },
      "source": [
        "print(confusion_matrix(y,y_pred))"
      ],
      "execution_count": 0,
      "outputs": []
    },
    {
      "cell_type": "code",
      "metadata": {
        "id": "KSMyyqc2WPjl",
        "colab_type": "code",
        "colab": {}
      },
      "source": [
        ""
      ],
      "execution_count": 0,
      "outputs": []
    },
    {
      "cell_type": "markdown",
      "metadata": {
        "id": "doSiE0uH5_ZD",
        "colab_type": "text"
      },
      "source": [
        "## **LOGISTIC REGRESSION- ML APPROACH**"
      ]
    },
    {
      "cell_type": "code",
      "metadata": {
        "id": "dxR6Rr576GVx",
        "colab_type": "code",
        "colab": {}
      },
      "source": [
        "from sklearn.linear_model import LogisticRegression\n",
        "from sklearn.model_selection import train_test_split\n",
        "from sklearn.metrics import roc_auc_score,confusion_matrix,roc_curve\n",
        "lr=LogisticRegression(solver=\"liblinear\")"
      ],
      "execution_count": 0,
      "outputs": []
    },
    {
      "cell_type": "code",
      "metadata": {
        "id": "U47fotsw6Se-",
        "colab_type": "code",
        "outputId": "893b1a60-ec46-44b8-f92b-d974d8613bfe",
        "colab": {
          "base_uri": "https://localhost:8080/",
          "height": 224
        }
      },
      "source": [
        "data=pd.read_csv(\"/content/drive/My Drive/casestudy datasets/credit-card-default.csv\")\n",
        "data.head()"
      ],
      "execution_count": 0,
      "outputs": [
        {
          "output_type": "execute_result",
          "data": {
            "text/html": [
              "<div>\n",
              "<style scoped>\n",
              "    .dataframe tbody tr th:only-of-type {\n",
              "        vertical-align: middle;\n",
              "    }\n",
              "\n",
              "    .dataframe tbody tr th {\n",
              "        vertical-align: top;\n",
              "    }\n",
              "\n",
              "    .dataframe thead th {\n",
              "        text-align: right;\n",
              "    }\n",
              "</style>\n",
              "<table border=\"1\" class=\"dataframe\">\n",
              "  <thead>\n",
              "    <tr style=\"text-align: right;\">\n",
              "      <th></th>\n",
              "      <th>ID</th>\n",
              "      <th>LIMIT_BAL</th>\n",
              "      <th>SEX</th>\n",
              "      <th>EDUCATION</th>\n",
              "      <th>MARRIAGE</th>\n",
              "      <th>AGE</th>\n",
              "      <th>PAY_0</th>\n",
              "      <th>PAY_2</th>\n",
              "      <th>PAY_3</th>\n",
              "      <th>PAY_4</th>\n",
              "      <th>PAY_5</th>\n",
              "      <th>PAY_6</th>\n",
              "      <th>BILL_AMT1</th>\n",
              "      <th>BILL_AMT2</th>\n",
              "      <th>BILL_AMT3</th>\n",
              "      <th>BILL_AMT4</th>\n",
              "      <th>BILL_AMT5</th>\n",
              "      <th>BILL_AMT6</th>\n",
              "      <th>PAY_AMT1</th>\n",
              "      <th>PAY_AMT2</th>\n",
              "      <th>PAY_AMT3</th>\n",
              "      <th>PAY_AMT4</th>\n",
              "      <th>PAY_AMT5</th>\n",
              "      <th>PAY_AMT6</th>\n",
              "      <th>defaulted</th>\n",
              "    </tr>\n",
              "  </thead>\n",
              "  <tbody>\n",
              "    <tr>\n",
              "      <th>0</th>\n",
              "      <td>1</td>\n",
              "      <td>20000</td>\n",
              "      <td>2</td>\n",
              "      <td>2</td>\n",
              "      <td>1</td>\n",
              "      <td>24</td>\n",
              "      <td>2</td>\n",
              "      <td>2</td>\n",
              "      <td>-1</td>\n",
              "      <td>-1</td>\n",
              "      <td>-2</td>\n",
              "      <td>-2</td>\n",
              "      <td>3913</td>\n",
              "      <td>3102</td>\n",
              "      <td>689</td>\n",
              "      <td>0</td>\n",
              "      <td>0</td>\n",
              "      <td>0</td>\n",
              "      <td>0</td>\n",
              "      <td>689</td>\n",
              "      <td>0</td>\n",
              "      <td>0</td>\n",
              "      <td>0</td>\n",
              "      <td>0</td>\n",
              "      <td>1</td>\n",
              "    </tr>\n",
              "    <tr>\n",
              "      <th>1</th>\n",
              "      <td>2</td>\n",
              "      <td>120000</td>\n",
              "      <td>2</td>\n",
              "      <td>2</td>\n",
              "      <td>2</td>\n",
              "      <td>26</td>\n",
              "      <td>-1</td>\n",
              "      <td>2</td>\n",
              "      <td>0</td>\n",
              "      <td>0</td>\n",
              "      <td>0</td>\n",
              "      <td>2</td>\n",
              "      <td>2682</td>\n",
              "      <td>1725</td>\n",
              "      <td>2682</td>\n",
              "      <td>3272</td>\n",
              "      <td>3455</td>\n",
              "      <td>3261</td>\n",
              "      <td>0</td>\n",
              "      <td>1000</td>\n",
              "      <td>1000</td>\n",
              "      <td>1000</td>\n",
              "      <td>0</td>\n",
              "      <td>2000</td>\n",
              "      <td>1</td>\n",
              "    </tr>\n",
              "    <tr>\n",
              "      <th>2</th>\n",
              "      <td>3</td>\n",
              "      <td>90000</td>\n",
              "      <td>2</td>\n",
              "      <td>2</td>\n",
              "      <td>2</td>\n",
              "      <td>34</td>\n",
              "      <td>0</td>\n",
              "      <td>0</td>\n",
              "      <td>0</td>\n",
              "      <td>0</td>\n",
              "      <td>0</td>\n",
              "      <td>0</td>\n",
              "      <td>29239</td>\n",
              "      <td>14027</td>\n",
              "      <td>13559</td>\n",
              "      <td>14331</td>\n",
              "      <td>14948</td>\n",
              "      <td>15549</td>\n",
              "      <td>1518</td>\n",
              "      <td>1500</td>\n",
              "      <td>1000</td>\n",
              "      <td>1000</td>\n",
              "      <td>1000</td>\n",
              "      <td>5000</td>\n",
              "      <td>0</td>\n",
              "    </tr>\n",
              "    <tr>\n",
              "      <th>3</th>\n",
              "      <td>4</td>\n",
              "      <td>50000</td>\n",
              "      <td>2</td>\n",
              "      <td>2</td>\n",
              "      <td>1</td>\n",
              "      <td>37</td>\n",
              "      <td>0</td>\n",
              "      <td>0</td>\n",
              "      <td>0</td>\n",
              "      <td>0</td>\n",
              "      <td>0</td>\n",
              "      <td>0</td>\n",
              "      <td>46990</td>\n",
              "      <td>48233</td>\n",
              "      <td>49291</td>\n",
              "      <td>28314</td>\n",
              "      <td>28959</td>\n",
              "      <td>29547</td>\n",
              "      <td>2000</td>\n",
              "      <td>2019</td>\n",
              "      <td>1200</td>\n",
              "      <td>1100</td>\n",
              "      <td>1069</td>\n",
              "      <td>1000</td>\n",
              "      <td>0</td>\n",
              "    </tr>\n",
              "    <tr>\n",
              "      <th>4</th>\n",
              "      <td>5</td>\n",
              "      <td>50000</td>\n",
              "      <td>1</td>\n",
              "      <td>2</td>\n",
              "      <td>1</td>\n",
              "      <td>57</td>\n",
              "      <td>-1</td>\n",
              "      <td>0</td>\n",
              "      <td>-1</td>\n",
              "      <td>0</td>\n",
              "      <td>0</td>\n",
              "      <td>0</td>\n",
              "      <td>8617</td>\n",
              "      <td>5670</td>\n",
              "      <td>35835</td>\n",
              "      <td>20940</td>\n",
              "      <td>19146</td>\n",
              "      <td>19131</td>\n",
              "      <td>2000</td>\n",
              "      <td>36681</td>\n",
              "      <td>10000</td>\n",
              "      <td>9000</td>\n",
              "      <td>689</td>\n",
              "      <td>679</td>\n",
              "      <td>0</td>\n",
              "    </tr>\n",
              "  </tbody>\n",
              "</table>\n",
              "</div>"
            ],
            "text/plain": [
              "   ID  LIMIT_BAL  SEX  EDUCATION  ...  PAY_AMT4  PAY_AMT5  PAY_AMT6  defaulted\n",
              "0   1      20000    2          2  ...         0         0         0          1\n",
              "1   2     120000    2          2  ...      1000         0      2000          1\n",
              "2   3      90000    2          2  ...      1000      1000      5000          0\n",
              "3   4      50000    2          2  ...      1100      1069      1000          0\n",
              "4   5      50000    1          2  ...      9000       689       679          0\n",
              "\n",
              "[5 rows x 25 columns]"
            ]
          },
          "metadata": {
            "tags": []
          },
          "execution_count": 62
        }
      ]
    },
    {
      "cell_type": "code",
      "metadata": {
        "id": "yMzQj-z66fH5",
        "colab_type": "code",
        "colab": {}
      },
      "source": [
        "data=data.drop([\"ID\"],axis=1)\n",
        "cat_cols=[\"SEX\",\"EDUCATION\",\"MARRIAGE\"]\n",
        "data=pd.get_dummies(data,columns=cat_cols,drop_first=True)"
      ],
      "execution_count": 0,
      "outputs": []
    },
    {
      "cell_type": "code",
      "metadata": {
        "id": "V45hXE1X6zNd",
        "colab_type": "code",
        "colab": {}
      },
      "source": [
        "y=data[\"defaulted\"]\n",
        "X=data.drop([\"defaulted\"],axis=1)\n",
        "X_train, X_test, y_train, y_test = train_test_split(X, y, test_size=.3, random_state=42)"
      ],
      "execution_count": 0,
      "outputs": []
    },
    {
      "cell_type": "code",
      "metadata": {
        "id": "NDzpsJ1J673-",
        "colab_type": "code",
        "outputId": "2372c562-8008-4df1-aad9-dc99a71dab41",
        "colab": {
          "base_uri": "https://localhost:8080/",
          "height": 68
        }
      },
      "source": [
        "lr.fit(X_train,y_train)\n",
        "y_train_pred=lr.predict(X_train) #ML\n",
        "y_train_prob=lr.predict_proba(X_train)[:,1] #  in statistics\n",
        "print(confusion_matrix(y_train,y_train_pred))\n",
        "print(\"auc score of train data\",roc_auc_score(y_train,y_train_prob))"
      ],
      "execution_count": 0,
      "outputs": [
        {
          "output_type": "stream",
          "text": [
            "[[16322     2]\n",
            " [ 4676     0]]\n",
            "auc score of train data 0.6461101845037478\n"
          ],
          "name": "stdout"
        }
      ]
    },
    {
      "cell_type": "code",
      "metadata": {
        "id": "CFTKq3RB7meY",
        "colab_type": "code",
        "outputId": "3d51e858-cda4-49ee-f849-ab179e5f8d8c",
        "colab": {
          "base_uri": "https://localhost:8080/",
          "height": 51
        }
      },
      "source": [
        "y_train_prob"
      ],
      "execution_count": 0,
      "outputs": [
        {
          "output_type": "execute_result",
          "data": {
            "text/plain": [
              "array([0.18936502, 0.3184937 , 0.33281776, ..., 0.35003182, 0.31862127,\n",
              "       0.21531645])"
            ]
          },
          "metadata": {
            "tags": []
          },
          "execution_count": 40
        }
      ]
    },
    {
      "cell_type": "code",
      "metadata": {
        "id": "4jzbO2BA9ctj",
        "colab_type": "code",
        "outputId": "25b1ff89-b092-473c-e5c7-f143c586af1a",
        "colab": {
          "base_uri": "https://localhost:8080/",
          "height": 312
        }
      },
      "source": [
        "fpr,tpr,thresholds=roc_curve(y_train,y_train_prob)\n",
        "plt.plot(fpr,tpr)\n",
        "plt.plot(fpr,fpr)\n",
        "plt.xlabel(\"FPR\")\n",
        "plt.ylabel(\"TPR\")\n",
        "plt.title(\"ROC_AUC CURVE\")"
      ],
      "execution_count": 0,
      "outputs": [
        {
          "output_type": "execute_result",
          "data": {
            "text/plain": [
              "Text(0.5, 1.0, 'ROC_AUC CURVE')"
            ]
          },
          "metadata": {
            "tags": []
          },
          "execution_count": 41
        },
        {
          "output_type": "display_data",
          "data": {
            "image/png": "[encoded data removed]",
            "text/plain": [
              "<Figure size 432x288 with 1 Axes>"
            ]
          },
          "metadata": {
            "tags": []
          }
        }
      ]
    },
    {
      "cell_type": "code",
      "metadata": {
        "id": "40ToqZbA93Iu",
        "colab_type": "code",
        "outputId": "036c44d5-5f23-4bed-cab0-7b798fb97270",
        "colab": {
          "base_uri": "https://localhost:8080/",
          "height": 68
        }
      },
      "source": [
        "y_test_pred=lr.predict(X_test) #ML\n",
        "y_test_prob=lr.predict_proba(X_test)[:,1] #  in statistics\n",
        "print(confusion_matrix(y_test,y_test_pred))\n",
        "print(\"auc score of test data\",roc_auc_score(y_test,y_test_prob))"
      ],
      "execution_count": 0,
      "outputs": [
        {
          "output_type": "stream",
          "text": [
            "[[7040    0]\n",
            " [1960    0]]\n",
            "auc score of test data 0.6479802006029685\n"
          ],
          "name": "stdout"
        }
      ]
    },
    {
      "cell_type": "code",
      "metadata": {
        "id": "WZsWtDWA-0Xh",
        "colab_type": "code",
        "outputId": "71e8cd6d-ccf7-4167-fed4-55cb00e6315a",
        "colab": {
          "base_uri": "https://localhost:8080/",
          "height": 312
        }
      },
      "source": [
        "fpr,tpr,thresholds=roc_curve(y_test,y_test_prob)\n",
        "plt.plot(fpr,tpr)\n",
        "plt.plot(fpr,fpr)\n",
        "plt.xlabel(\"FPR\")\n",
        "plt.ylabel(\"TPR\")\n",
        "plt.title(\"ROC_AUC CURVE\")"
      ],
      "execution_count": 0,
      "outputs": [
        {
          "output_type": "execute_result",
          "data": {
            "text/plain": [
              "Text(0.5, 1.0, 'ROC_AUC CURVE')"
            ]
          },
          "metadata": {
            "tags": []
          },
          "execution_count": 43
        },
        {
          "output_type": "display_data",
          "data": {
            "image/png": "[encoded data removed]",
            "text/plain": [
              "<Figure size 432x288 with 1 Axes>"
            ]
          },
          "metadata": {
            "tags": []
          }
        }
      ]
    },
    {
      "cell_type": "code",
      "metadata": {
        "id": "vIXaiVkT--sc",
        "colab_type": "code",
        "colab": {}
      },
      "source": [
        ""
      ],
      "execution_count": 0,
      "outputs": []
    },
    {
      "cell_type": "markdown",
      "metadata": {
        "id": "7bCu86gG_AJc",
        "colab_type": "text"
      },
      "source": [
        "## **RANDOM FOREST**"
      ]
    },
    {
      "cell_type": "code",
      "metadata": {
        "id": "guCyJdKZ_Fww",
        "colab_type": "code",
        "outputId": "1056a789-a665-4b4a-f2b7-01d705a3fa55",
        "colab": {
          "base_uri": "https://localhost:8080/",
          "height": 68
        }
      },
      "source": [
        "from sklearn.ensemble import RandomForestClassifier\n",
        "\n",
        "rf=RandomForestClassifier(n_estimators=10)\n",
        "rf.fit(X_train,y_train)\n",
        "y_train_pred=rf.predict(X_train)\n",
        "y_train_prob=rf.predict_proba(X_train)[:,1]\n",
        "print(confusion_matrix(y_train,y_train_pred))\n",
        "print(\"auc score of train data\",roc_auc_score(y_train,y_train_prob))"
      ],
      "execution_count": 0,
      "outputs": [
        {
          "output_type": "stream",
          "text": [
            "[[16301    23]\n",
            " [  386  4290]]\n",
            "auc score of train data 0.9991449348301681\n"
          ],
          "name": "stdout"
        }
      ]
    },
    {
      "cell_type": "code",
      "metadata": {
        "id": "L-ZJF0NWIugy",
        "colab_type": "code",
        "outputId": "0aa73227-f9ee-4d7a-c96f-d185b28cd174",
        "colab": {
          "base_uri": "https://localhost:8080/",
          "height": 312
        }
      },
      "source": [
        "fpr,tpr,thresholds=roc_curve(y_train,y_train_prob)\n",
        "plt.plot(fpr,tpr)\n",
        "plt.plot(fpr,fpr)\n",
        "plt.xlabel(\"FPR\")\n",
        "plt.ylabel(\"TPR\")\n",
        "plt.title(\"ROC_AUC CURVE\")"
      ],
      "execution_count": 0,
      "outputs": [
        {
          "output_type": "execute_result",
          "data": {
            "text/plain": [
              "Text(0.5, 1.0, 'ROC_AUC CURVE')"
            ]
          },
          "metadata": {
            "tags": []
          },
          "execution_count": 66
        },
        {
          "output_type": "display_data",
          "data": {
            "image/png": "[encoded data removed]",
            "text/plain": [
              "<Figure size 432x288 with 1 Axes>"
            ]
          },
          "metadata": {
            "tags": []
          }
        }
      ]
    },
    {
      "cell_type": "code",
      "metadata": {
        "id": "EGEq0n6TH7Yn",
        "colab_type": "code",
        "outputId": "b7f760a1-cda6-4383-dea7-db65186df717",
        "colab": {
          "base_uri": "https://localhost:8080/",
          "height": 68
        }
      },
      "source": [
        "y_test_pred=rf.predict(X_test) #ML\n",
        "y_test_prob=rf.predict_proba(X_test)[:,1] #  in statistics\n",
        "print(confusion_matrix(y_test,y_test_pred))\n",
        "print(\"auc score of test data\",roc_auc_score(y_test,y_test_prob))"
      ],
      "execution_count": 0,
      "outputs": [
        {
          "output_type": "stream",
          "text": [
            "[[6611  429]\n",
            " [1332  628]]\n",
            "auc score of test data 0.7222839242230983\n"
          ],
          "name": "stdout"
        }
      ]
    },
    {
      "cell_type": "code",
      "metadata": {
        "id": "eIOCRtq2Ihud",
        "colab_type": "code",
        "outputId": "5b4a2d6a-e9f6-4cc1-d323-5d6c7ad55323",
        "colab": {
          "base_uri": "https://localhost:8080/",
          "height": 312
        }
      },
      "source": [
        "p;21152fpr,tpr,thresholds=roc_curve(y_test,y_test_prob)\n",
        "plt.plot(fpr,tpr)\n",
        "plt.plot(fpr,fpr)\n",
        "plt.xlabel(\"FPR\")\n",
        "plt.ylabel(\"TPR\")\n",
        "plt.title(\"ROC_AUC CURVE\")"
      ],
      "execution_count": 0,
      "outputs": [
        {
          "output_type": "execute_result",
          "data": {
            "text/plain": [
              "Text(0.5, 1.0, 'ROC_AUC CURVE')"
            ]
          },
          "metadata": {
            "tags": []
          },
          "execution_count": 47
        },
        {
          "output_type": "display_data",
          "data": {
            "image/png": "[encoded data removed]",
            "text/plain": [
              "<Figure size 432x288 with 1 Axes>"
            ]
          },
          "metadata": {
            "tags": []
          }
        }
      ]
    },
    {
      "cell_type": "code",
      "metadata": {
        "id": "jAzT2ZanIzIv",
        "colab_type": "code",
        "colab": {}
      },
      "source": [
        ""
      ],
      "execution_count": 0,
      "outputs": []
    },
    {
      "cell_type": "markdown",
      "metadata": {
        "id": "tyh3dvbcSKqb",
        "colab_type": "text"
      },
      "source": [
        "### **HYPER PARAMETER TUNING - RANDOM FOREST**"
      ]
    },
    {
      "cell_type": "code",
      "metadata": {
        "id": "rPGfXLfyVJZs",
        "colab_type": "code",
        "colab": {}
      },
      "source": [
        "from sklearn.model_selection import GridSearchCV,RandomizedSearchCV"
      ],
      "execution_count": 0,
      "outputs": []
    },
    {
      "cell_type": "code",
      "metadata": {
        "id": "IgYZuOWnSPut",
        "colab_type": "code",
        "colab": {}
      },
      "source": [
        "rf=RandomForestClassifier()\n",
        "\n",
        "\n",
        "param_grid = {\"max_depth\":[4,8,10],\"min_samples_leaf\":range(100,400,20),\"min_samples_split\":range(10,100,20),\"n_estimators\":[100,200,300,400]}\n",
        "\n",
        "#grid = GridSearchCV(estimator=rf,cv=3,\n",
        "                    #param_grid=param_grid,\n",
        "                    #scoring='roc_auc')\n",
        "#grid.fit(X,y)"
      ],
      "execution_count": 0,
      "outputs": []
    },
    {
      "cell_type": "code",
      "metadata": {
        "id": "Egqe044KVBrm",
        "colab_type": "code",
        "outputId": "b6427665-3e82-4106-aefc-c3e1a74ef486",
        "colab": {
          "base_uri": "https://localhost:8080/",
          "height": 180
        }
      },
      "source": [
        "print('Best Score: ', grid_result.best_score_)\n",
        "print('Best Params: ', grid_result.best_params_)"
      ],
      "execution_count": 0,
      "outputs": [
        {
          "output_type": "error",
          "ename": "NameError",
          "evalue": "ignored",
          "traceback": [
            "\u001b[0;31m---------------------------------------------------------------------------\u001b[0m",
            "\u001b[0;31mNameError\u001b[0m                                 Traceback (most recent call last)",
            "\u001b[0;32m<ipython-input-49-4b5ec5f5ae1f>\u001b[0m in \u001b[0;36m<module>\u001b[0;34m()\u001b[0m\n\u001b[0;32m----> 1\u001b[0;31m \u001b[0mprint\u001b[0m\u001b[0;34m(\u001b[0m\u001b[0;34m'Best Score: '\u001b[0m\u001b[0;34m,\u001b[0m \u001b[0mgrid_result\u001b[0m\u001b[0;34m.\u001b[0m\u001b[0mbest_score_\u001b[0m\u001b[0;34m)\u001b[0m\u001b[0;34m\u001b[0m\u001b[0;34m\u001b[0m\u001b[0m\n\u001b[0m\u001b[1;32m      2\u001b[0m \u001b[0mprint\u001b[0m\u001b[0;34m(\u001b[0m\u001b[0;34m'Best Params: '\u001b[0m\u001b[0;34m,\u001b[0m \u001b[0mgrid_result\u001b[0m\u001b[0;34m.\u001b[0m\u001b[0mbest_params_\u001b[0m\u001b[0;34m)\u001b[0m\u001b[0;34m\u001b[0m\u001b[0;34m\u001b[0m\u001b[0m\n",
            "\u001b[0;31mNameError\u001b[0m: name 'grid_result' is not defined"
          ]
        }
      ]
    },
    {
      "cell_type": "code",
      "metadata": {
        "id": "QSGeBjtFWZT6",
        "colab_type": "code",
        "outputId": "eb79bf8d-d95a-4263-de5e-1d1eb92de0b3",
        "colab": {
          "base_uri": "https://localhost:8080/",
          "height": 51
        }
      },
      "source": [
        "random = RandomizedSearchCV(estimator=rf,\n",
        "                            param_distributions=param_grid,\n",
        "                            scoring='roc_auc',\n",
        "                            cv=3)\n",
        "random_result = random.fit(X, y)\n",
        "\n",
        "print('Best Score: ', random_result.best_score_)\n",
        "print('Best Params: ', random_result.best_params_)"
      ],
      "execution_count": 0,
      "outputs": [
        {
          "output_type": "stream",
          "text": [
            "Best Score:  0.7796954395457935\n",
            "Best Params:  {'n_estimators': 200, 'min_samples_split': 50, 'min_samples_leaf': 120, 'max_depth': 10}\n"
          ],
          "name": "stdout"
        }
      ]
    },
    {
      "cell_type": "code",
      "metadata": {
        "id": "luqrm3gYWuNj",
        "colab_type": "code",
        "colab": {}
      },
      "source": [
        "rf=RandomForestClassifier(**random_result.best_params_)\n"
      ],
      "execution_count": 0,
      "outputs": []
    },
    {
      "cell_type": "code",
      "metadata": {
        "colab_type": "code",
        "id": "gzDnAnemY2mJ",
        "outputId": "0e827366-2805-404d-f2ca-1d07a129a25a",
        "colab": {
          "base_uri": "https://localhost:8080/",
          "height": 68
        }
      },
      "source": [
        "rf.fit(X_train,y_train)\n",
        "y_train_pred=rf.predict(X_train)\n",
        "y_train_prob=rf.predict_proba(X_train)[:,1]\n",
        "print(confusion_matrix(y_train,y_train_pred))\n",
        "print(\"auc score of train data\",roc_auc_score(y_train,y_train_prob))"
      ],
      "execution_count": 0,
      "outputs": [
        {
          "output_type": "stream",
          "text": [
            "[[15641   683]\n",
            " [ 3097  1579]]\n",
            "auc score of train data 0.803278434991256\n"
          ],
          "name": "stdout"
        }
      ]
    },
    {
      "cell_type": "code",
      "metadata": {
        "colab_type": "code",
        "id": "MGi-aoqLY2mi",
        "outputId": "daa38310-ddd2-4e93-d36e-da7dbb8235c1",
        "colab": {
          "base_uri": "https://localhost:8080/",
          "height": 312
        }
      },
      "source": [
        "fpr,tpr,thresholds=roc_curve(y_train,y_train_prob)\n",
        "plt.plot(fpr,tpr)\n",
        "plt.plot(fpr,fpr)\n",
        "plt.xlabel(\"FPR\")\n",
        "plt.ylabel(\"TPR\")\n",
        "plt.title(\"ROC_AUC CURVE\")"
      ],
      "execution_count": 0,
      "outputs": [
        {
          "output_type": "execute_result",
          "data": {
            "text/plain": [
              "Text(0.5, 1.0, 'ROC_AUC CURVE')"
            ]
          },
          "metadata": {
            "tags": []
          },
          "execution_count": 56
        },
        {
          "output_type": "display_data",
          "data": {
            "image/png": "[encoded data removed]",
            "text/plain": [
              "<Figure size 432x288 with 1 Axes>"
            ]
          },
          "metadata": {
            "tags": []
          }
        }
      ]
    },
    {
      "cell_type": "code",
      "metadata": {
        "colab_type": "code",
        "id": "V1JuSw6xY2mv",
        "outputId": "20c628fb-e632-40be-9279-824420c0112d",
        "colab": {
          "base_uri": "https://localhost:8080/",
          "height": 68
        }
      },
      "source": [
        "y_test_pred=rf.predict(X_test) #ML\n",
        "y_test_prob=rf.predict_proba(X_test)[:,1] #  in statistics\n",
        "print(confusion_matrix(y_test,y_test_pred))\n",
        "print(\"auc score of test data\",roc_auc_score(y_test,y_test_prob))"
      ],
      "execution_count": 0,
      "outputs": [
        {
          "output_type": "stream",
          "text": [
            "[[6740  300]\n",
            " [1344  616]]\n",
            "auc score of test data 0.7750199298469388\n"
          ],
          "name": "stdout"
        }
      ]
    },
    {
      "cell_type": "code",
      "metadata": {
        "colab_type": "code",
        "id": "2G2DIabsY2my",
        "outputId": "916d655a-6682-49ae-f961-cd7ab6301d9a",
        "colab": {
          "base_uri": "https://localhost:8080/",
          "height": 312
        }
      },
      "source": [
        "fpr,tpr,thresholds=roc_curve(y_test,y_test_prob)\n",
        "plt.plot(fpr,tpr)\n",
        "plt.plot(fpr,fpr)\n",
        "plt.xlabel(\"FPR\")\n",
        "plt.ylabel(\"TPR\")\n",
        "plt.title(\"ROC_AUC CURVE\")"
      ],
      "execution_count": 0,
      "outputs": [
        {
          "output_type": "execute_result",
          "data": {
            "text/plain": [
              "Text(0.5, 1.0, 'ROC_AUC CURVE')"
            ]
          },
          "metadata": {
            "tags": []
          },
          "execution_count": 58
        },
        {
          "output_type": "display_data",
          "data": {
            "image/png": "[encoded data removed]",
            "text/plain": [
              "<Figure size 432x288 with 1 Axes>"
            ]
          },
          "metadata": {
            "tags": []
          }
        }
      ]
    },
    {
      "cell_type": "markdown",
      "metadata": {
        "id": "Wm07CEeaZchz",
        "colab_type": "text"
      },
      "source": [
        "### **LIGHT GBM**-boosting technique"
      ]
    },
    {
      "cell_type": "code",
      "metadata": {
        "id": "sD-wyO3mZf9n",
        "colab_type": "code",
        "colab": {}
      },
      "source": [
        "import lightgbm as lgb"
      ],
      "execution_count": 0,
      "outputs": []
    },
    {
      "cell_type": "code",
      "metadata": {
        "id": "OqZZxjwgaX0Y",
        "colab_type": "code",
        "colab": {}
      },
      "source": [
        "l_train=lgb.Dataset(X_train, label=y_train)\n",
        "params = {}\n",
        "params['learning_rate'] = 0.003\n",
        "params['boosting_type'] = 'gbdt'\n",
        "params['objective'] = 'binary'\n",
        "params['max_depth'] = 10\n",
        "clf = lgb.train(params, l_train)"
      ],
      "execution_count": 0,
      "outputs": []
    },
    {
      "cell_type": "code",
      "metadata": {
        "id": "WWKgCkP0bQ9Q",
        "colab_type": "code",
        "colab": {}
      },
      "source": [
        "#Prediction\n",
        "y_train_prob=clf.predict(X_train)\n",
        "y_train_pred=pd.Series(y_test_prob).apply(lambda x:1 if x>0.5 else 0)\n",
        "\n",
        "#convert into binary values\n",
        "#for i in range(0,99):\n",
        "#    if y_train_pred[i]>=.5:       # setting threshold to .5\n",
        "#       y_train_pred[i]=1\n",
        "#    else:  \n",
        "#       y_train_pred[i]=0"
      ],
      "execution_count": 0,
      "outputs": []
    },
    {
      "cell_type": "code",
      "metadata": {
        "id": "k3ZZKhElbaiH",
        "colab_type": "code",
        "colab": {}
      },
      "source": [
        "y_train_pred"
      ],
      "execution_count": 0,
      "outputs": []
    },
    {
      "cell_type": "code",
      "metadata": {
        "colab_type": "code",
        "id": "1U4h72Bvcxcu",
        "colab": {}
      },
      "source": [
        "print(\"auc score of train data\",roc_auc_score(y_train,y_train_prob))"
      ],
      "execution_count": 0,
      "outputs": []
    },
    {
      "cell_type": "code",
      "metadata": {
        "colab_type": "code",
        "id": "XHdt4kNJcxc1",
        "colab": {}
      },
      "source": [
        "fpr,tpr,thresholds=roc_curve(y_train,y_train_prob)\n",
        "plt.plot(fpr,tpr)\n",
        "plt.plot(fpr,fpr)\n",
        "plt.xlabel(\"FPR\")\n",
        "plt.ylabel(\"TPR\")\n",
        "plt.title(\"ROC_AUC CURVE\")"
      ],
      "execution_count": 0,
      "outputs": []
    },
    {
      "cell_type": "code",
      "metadata": {
        "colab_type": "code",
        "id": "tCH3X4R3cxc9",
        "colab": {}
      },
      "source": [
        "print(confusion_matrix(y_test,y_test_pred))\n",
        "print(\"auc score of test data\",roc_auc_score(y_test,y_test_prob))"
      ],
      "execution_count": 0,
      "outputs": []
    },
    {
      "cell_type": "code",
      "metadata": {
        "id": "h_d8aVxvc3e8",
        "colab_type": "code",
        "colab": {}
      },
      "source": [
        "fpr,tpr,thresholds=roc_curve(y_test,y_test_prob)\n",
        "plt.plot(fpr,tpr)\n",
        "plt.plot(fpr,fpr)\n",
        "plt.xlabel(\"FPR\")\n",
        "plt.ylabel(\"TPR\")\n",
        "plt.title(\"ROC_AUC CURVE\")"
      ],
      "execution_count": 0,
      "outputs": []
    },
    {
      "cell_type": "markdown",
      "metadata": {
        "id": "v8FpE80GhmaL",
        "colab_type": "text"
      },
      "source": [
        ""
      ]
    },
    {
      "cell_type": "code",
      "metadata": {
        "id": "6m7FvopYc7Ux",
        "colab_type": "code",
        "colab": {}
      },
      "source": [
        "fpr,tpr,thresholds=roc_curve(y_test,y_test_prob)\n",
        "fig,ax1=plt.subplots()\n",
        "ax1.plot(fpr,tpr)\n",
        "ax2=ax1.twinx()  # creating a two axis with its own scale\n",
        "ax2.plot(fpr,thresholds)\n"
      ],
      "execution_count": 0,
      "outputs": []
    },
    {
      "cell_type": "code",
      "metadata": {
        "id": "E7y7eQTJftJY",
        "colab_type": "code",
        "colab": {}
      },
      "source": [
        ""
      ],
      "execution_count": 0,
      "outputs": []
    },
    {
      "cell_type": "markdown",
      "metadata": {
        "id": "nr8a14JKhnfk",
        "colab_type": "text"
      },
      "source": [
        "LGBM-HYPERPARAMETER TUNING"
      ]
    },
    {
      "cell_type": "code",
      "metadata": {
        "id": "GMp32FdAh2DF",
        "colab_type": "code",
        "colab": {}
      },
      "source": [
        "from scipy.stats import randint as sp_randint\n",
        "from scipy.stats import uniform as sp_uniform\n",
        "\n",
        "param_test ={\"num_leaves\": sp_randint(6,50),\"min_child_samples\":sp_randint(100,500),\n",
        "             \"reg_alpha\":[0,0.1,1,2,5,7,50,100]}\n",
        "clf=lgb.LGBMClassifier(random_state=42)\n",
        "# Initialize a RandomizedSearchCV object using 5-fold CV-\n",
        "rs_cv = RandomizedSearchCV(estimator=clf, param_distributions=param_test, cv = 3,random_state=42)\n",
        "\n",
        "# Train on training data-\n",
        "rs_cv.fit(X, y)"
      ],
      "execution_count": 0,
      "outputs": []
    },
    {
      "cell_type": "code",
      "metadata": {
        "id": "cBAUQ9coj3lG",
        "colab_type": "code",
        "colab": {}
      },
      "source": [
        "print('Best Score: ', rs_cv.best_score_)\n",
        "print('Best Params: ', rs_cv.best_params_)"
      ],
      "execution_count": 0,
      "outputs": []
    },
    {
      "cell_type": "code",
      "metadata": {
        "id": "D1c2PmSHkLV9",
        "colab_type": "code",
        "colab": {}
      },
      "source": [
        "clf=lgb.LGBMClassifier(**rs_cv.best_params_)"
      ],
      "execution_count": 0,
      "outputs": []
    },
    {
      "cell_type": "code",
      "metadata": {
        "id": "o2BCF1IElbZA",
        "colab_type": "code",
        "colab": {}
      },
      "source": [
        "l_train=lgb.Dataset(X_train, label=y_train)\n",
        "clf.fit(X_train, y_train)"
      ],
      "execution_count": 0,
      "outputs": []
    },
    {
      "cell_type": "code",
      "metadata": {
        "colab_type": "code",
        "id": "8kv9JyozlxNu",
        "colab": {}
      },
      "source": [
        "#Prediction\n",
        "y_train_pred=clf.predict(X_train)\n",
        "y_train_prob=clf.predict_proba(X_train)[:,1]\n",
        "#y_train_pred=pd.Series(y_test_prob).apply(lambda x:1 if x>0.5 else 0)\n",
        "\n",
        "#convert into binary values\n",
        "#for i in range(0,99):\n",
        "#    if y_train_pred[i]>=.5:       # setting threshold to .5\n",
        "#       y_train_pred[i]=1\n",
        "#    else:  \n",
        "#       y_train_pred[i]=0"
      ],
      "execution_count": 0,
      "outputs": []
    },
    {
      "cell_type": "code",
      "metadata": {
        "colab_type": "code",
        "id": "kOgLFKOGlxN_",
        "colab": {}
      },
      "source": [
        "y_train_prob"
      ],
      "execution_count": 0,
      "outputs": []
    },
    {
      "cell_type": "code",
      "metadata": {
        "colab_type": "code",
        "id": "kYlzVSHalxOG",
        "colab": {}
      },
      "source": [
        "print(\"auc score of train data\",roc_auc_score(y_train,y_train_prob))"
      ],
      "execution_count": 0,
      "outputs": []
    },
    {
      "cell_type": "code",
      "metadata": {
        "colab_type": "code",
        "id": "iuYKTFFFlxOL",
        "colab": {}
      },
      "source": [
        "fpr,tpr,thresholds=roc_curve(y_train,y_train_prob)\n",
        "plt.plot(fpr,tpr)\n",
        "plt.plot(fpr,fpr)\n",
        "plt.xlabel(\"FPR\")\n",
        "plt.ylabel(\"TPR\")\n",
        "plt.title(\"ROC_AUC CURVE\")"
      ],
      "execution_count": 0,
      "outputs": []
    },
    {
      "cell_type": "code",
      "metadata": {
        "colab_type": "code",
        "id": "weJicEMHlxOW",
        "colab": {}
      },
      "source": [
        "print(confusion_matrix(y_test,y_test_pred))\n",
        "print(\"auc score of test data\",roc_auc_score(y_test,y_test_prob))"
      ],
      "execution_count": 0,
      "outputs": []
    },
    {
      "cell_type": "code",
      "metadata": {
        "colab_type": "code",
        "id": "Nj7Qt800lxOc",
        "colab": {}
      },
      "source": [
        "fpr,tpr,thresholds=roc_curve(y_test,y_test_prob)\n",
        "plt.plot(fpr,tpr)\n",
        "plt.plot(fpr,fpr)\n",
        "plt.xlabel(\"FPR\")\n",
        "plt.ylabel(\"TPR\")\n",
        "plt.title(\"ROC_AUC CURVE\")"
      ],
      "execution_count": 0,
      "outputs": []
    },
    {
      "cell_type": "code",
      "metadata": {
        "id": "zKCCKLAn57av",
        "colab_type": "code",
        "colab": {}
      },
      "source": [
        ""
      ],
      "execution_count": 0,
      "outputs": []
    },
    {
      "cell_type": "markdown",
      "metadata": {
        "id": "sMbXWMEL6WzW",
        "colab_type": "text"
      },
      "source": [
        "## **SVM**"
      ]
    },
    {
      "cell_type": "code",
      "metadata": {
        "id": "xBU7EHKa6YrI",
        "colab_type": "code",
        "colab": {}
      },
      "source": [
        ""
      ],
      "execution_count": 0,
      "outputs": []
    },
    {
      "cell_type": "code",
      "metadata": {
        "colab_type": "code",
        "id": "hlb5ILzq6ZPC",
        "colab": {}
      },
      "source": [
        "from sklearn.linear_model import LogisticRegression\n",
        "from sklearn.model_selection import train_test_split\n",
        "from sklearn.metrics import roc_auc_score,confusion_matrix,roc_curve\n",
        "lr=LogisticRegression(solver=\"liblinear\")"
      ],
      "execution_count": 0,
      "outputs": []
    },
    {
      "cell_type": "code",
      "metadata": {
        "colab_type": "code",
        "id": "3P-S25i26ZPH",
        "colab": {}
      },
      "source": [
        "data=pd.read_csv(\"/content/drive/My Drive/casestudy datasets/credit-card-default.csv\")\n",
        "data.head()"
      ],
      "execution_count": 0,
      "outputs": []
    },
    {
      "cell_type": "code",
      "metadata": {
        "colab_type": "code",
        "id": "VphkATze6ZPM",
        "colab": {}
      },
      "source": [
        "data=data.drop([\"ID\"],axis=1)\n",
        "cat_cols=[\"SEX\",\"EDUCATION\",\"MARRIAGE\"]\n",
        "data=pd.get_dummies(data,columns=cat_cols,drop_first=True)"
      ],
      "execution_count": 0,
      "outputs": []
    },
    {
      "cell_type": "code",
      "metadata": {
        "colab_type": "code",
        "id": "sJZWzA206ZPP",
        "colab": {}
      },
      "source": [
        "y=data[\"defaulted\"]\n",
        "X=data.drop([\"defaulted\"],axis=1)\n",
        "X_train, X_test, y_train, y_test = train_test_split(X, y, test_size=.3, random_state=42)"
      ],
      "execution_count": 0,
      "outputs": []
    },
    {
      "cell_type": "code",
      "metadata": {
        "id": "Fukljzfm6bcy",
        "colab_type": "code",
        "colab": {}
      },
      "source": [
        "from sklearn import svm\n",
        "import numpy as np\n",
        "import matplotlib.pyplot as plt"
      ],
      "execution_count": 0,
      "outputs": []
    },
    {
      "cell_type": "code",
      "metadata": {
        "id": "wOHQEbQm6uIo",
        "colab_type": "code",
        "colab": {}
      },
      "source": [
        "svc = svm.SVC(gamma=\"auto\",probability=True)\n",
        "svc.fit(X_train, y_train)"
      ],
      "execution_count": 0,
      "outputs": []
    },
    {
      "cell_type": "code",
      "metadata": {
        "colab_type": "code",
        "id": "AHVctiuG7HEX",
        "colab": {}
      },
      "source": [
        "y_train_pred=svc.predict(X_train)\n",
        "y_train_prob=svc.predict_proba(X_train)[:,1]\n",
        "print(confusion_matrix(y_train,y_train_pred))\n",
        "print(\"auc score of train data\",roc_auc_score(y_train,y_train_prob))"
      ],
      "execution_count": 0,
      "outputs": []
    },
    {
      "cell_type": "code",
      "metadata": {
        "colab_type": "code",
        "id": "PKfKt9Ah7HEj",
        "colab": {}
      },
      "source": [
        "fpr,tpr,thresholds=roc_curve(y_train,y_train_prob)\n",
        "plt.plot(fpr,tpr)\n",
        "plt.plot(fpr,fpr)\n",
        "plt.xlabel(\"FPR\")\n",
        "plt.ylabel(\"TPR\")\n",
        "plt.title(\"ROC_AUC CURVE\")"
      ],
      "execution_count": 0,
      "outputs": []
    },
    {
      "cell_type": "code",
      "metadata": {
        "colab_type": "code",
        "id": "PyB9_AIT7HEm",
        "colab": {}
      },
      "source": [
        "y_test_pred=svc.predict(X_test) #ML\n",
        "y_test_prob=svc.predict_proba(X_test)[:,1] #  in statistics\n",
        "print(confusion_matrix(y_test,y_test_pred))\n",
        "print(\"auc score of test data\",roc_auc_score(y_test,y_test_prob))"
      ],
      "execution_count": 0,
      "outputs": []
    },
    {
      "cell_type": "code",
      "metadata": {
        "colab_type": "code",
        "id": "O0S9SAvE7HEp",
        "colab": {}
      },
      "source": [
        "fpr,tpr,thresholds=roc_curve(y_test,y_test_prob)\n",
        "plt.plot(fpr,tpr)\n",
        "plt.plot(fpr,fpr)\n",
        "plt.xlabel(\"FPR\")\n",
        "plt.ylabel(\"TPR\")\n",
        "plt.title(\"ROC_AUC CURVE\")"
      ],
      "execution_count": 0,
      "outputs": []
    },
    {
      "cell_type": "code",
      "metadata": {
        "id": "hmWubptd8jWO",
        "colab_type": "code",
        "colab": {}
      },
      "source": [
        ""
      ],
      "execution_count": 0,
      "outputs": []
    },
    {
      "cell_type": "markdown",
      "metadata": {
        "id": "kn2aGP6p9PWm",
        "colab_type": "text"
      },
      "source": [
        "### **SVM-HYPERPARAMETER TUNING**"
      ]
    },
    {
      "cell_type": "code",
      "metadata": {
        "id": "-WU-I3sn9Vd8",
        "colab_type": "code",
        "colab": {}
      },
      "source": [
        "Cs=[0.01,0.1,1,10]\n",
        "gammas=[0.001,0.01,0.1]\n",
        "param_grid={\"C\":Cs,\"gamma\":gammas}\n",
        "svc=svm.SVC()\n",
        "rs=RandomizedSearchCV(svc,param_distributions=param_grid,cv=3)\n",
        "rs.fit(X,y)"
      ],
      "execution_count": 0,
      "outputs": []
    },
    {
      "cell_type": "code",
      "metadata": {
        "colab_type": "code",
        "id": "rtK3niqt-TK_",
        "colab": {}
      },
      "source": [
        "svc = svm.SVC(**rs.best_params_,probability=True)\n",
        "svc.fit(X_train, y_train)"
      ],
      "execution_count": 0,
      "outputs": []
    },
    {
      "cell_type": "code",
      "metadata": {
        "colab_type": "code",
        "id": "eVw5WBjy-TLF",
        "colab": {}
      },
      "source": [
        "y_train_pred=svc.predict(X_train)\n",
        "y_train_prob=svc.predict_proba(X_train)[:,1]\n",
        "print(confusion_matrix(y_train,y_train_pred))\n",
        "print(\"auc score of train data\",roc_auc_score(y_train,y_train_prob))"
      ],
      "execution_count": 0,
      "outputs": []
    },
    {
      "cell_type": "code",
      "metadata": {
        "colab_type": "code",
        "id": "p89gA0aM-TLI",
        "colab": {}
      },
      "source": [
        "\n",
        "fpr,tpr,thresholds=roc_curve(y_train,y_train_prob)\n",
        "plt.plot(fpr,tpr)\n",
        "plt.plot(fpr,fpr)\n",
        "plt.xlabel(\"FPR\")\n",
        "plt.ylabel(\"TPR\")\n",
        "plt.title(\"ROC_AUC CURVE\")"
      ],
      "execution_count": 0,
      "outputs": []
    },
    {
      "cell_type": "code",
      "metadata": {
        "colab_type": "code",
        "id": "ut-W6bR5-TLL",
        "colab": {}
      },
      "source": [
        "y_test_pred=svc.predict(X_test) #ML\n",
        "y_test_prob=svc.predict_proba(X_test)[:,1] #  in statistics\n",
        "print(confusion_matrix(y_test,y_test_pred))\n",
        "print(\"auc score of test data\",roc_auc_score(y_test,y_test_prob))"
      ],
      "execution_count": 0,
      "outputs": []
    },
    {
      "cell_type": "code",
      "metadata": {
        "id": "mT_sZqR0-Xsn",
        "colab_type": "code",
        "colab": {}
      },
      "source": [
        "fpr,tpr,thresholds=roc_curve(y_test,y_test_prob)\n",
        "plt.plot(fpr,tpr)\n",
        "plt.plot(fpr,fpr)\n",
        "plt.xlabel(\"FPR\")\n",
        "plt.ylabel(\"TPR\")\n",
        "plt.title(\"ROC_AUC CURVE\")"
      ],
      "execution_count": 0,
      "outputs": []
    },
    {
      "cell_type": "code",
      "metadata": {
        "id": "9WOWDi7l-zru",
        "colab_type": "code",
        "colab": {}
      },
      "source": [
        ""
      ],
      "execution_count": 0,
      "outputs": []
    }
  ]
}