{
  "nbformat": 4,
  "nbformat_minor": 0,
  "metadata": {
    "colab": {
      "name": "rf optimal threshold.ipynb",
      "provenance": [],
      "include_colab_link": true
    },
    "kernelspec": {
      "name": "python3",
      "display_name": "Python 3"
    }
  },
  "cells": [
    {
      "cell_type": "markdown",
      "metadata": {
        "id": "view-in-github",
        "colab_type": "text"
      },
      "source": [
        "<a href=\"https://colab.research.google.com/github/chandrakiranck/fuzzy-adventure/blob/master/rf_optimal_threshold.ipynb\" target=\"_parent\"><img src=\"https://colab.research.google.com/assets/colab-badge.svg\" alt=\"Open In Colab\"/></a>"
      ]
    },
    {
      "cell_type": "code",
      "metadata": {
        "id": "J2I0bkNqEBp1",
        "colab_type": "code",
        "colab": {}
      },
      "source": [
        "from google.colab import drive\n",
        "drive.mount('/content/drive')"
      ],
      "execution_count": 0,
      "outputs": []
    },
    {
      "cell_type": "code",
      "metadata": {
        "id": "HXDDR76VD3hW",
        "colab_type": "code",
        "colab": {}
      },
      "source": [
        "import pandas as pd\n",
        "import numpy as np\n",
        "import seaborn as sns\n",
        "import matplotlib.pyplot as plt\n",
        "import statsmodels.api as sm\n",
        "from sklearn.linear_model import LinearRegression\n",
        "from sklearn.linear_model import LogisticRegression\n",
        "from sklearn.linear_model import LinearRegression\n",
        "from sklearn.model_selection import train_test_split\n",
        "from sklearn.metrics import r2_score\n",
        "from sklearn.ensemble import RandomForestClassifier\n",
        "from sklearn.metrics import roc_auc_score,confusion_matrix,roc_curve\n"
      ],
      "execution_count": 0,
      "outputs": []
    },
    {
      "cell_type": "code",
      "metadata": {
        "id": "noqY2aDHENRY",
        "colab_type": "code",
        "colab": {}
      },
      "source": [
        "data=pd.read_csv(\"/content/drive/My Drive/casestudy datasets/credit-card-default.csv\")\n",
        "data.head()"
      ],
      "execution_count": 0,
      "outputs": []
    },
    {
      "cell_type": "code",
      "metadata": {
        "colab_type": "code",
        "id": "VphkATze6ZPM",
        "colab": {}
      },
      "source": [
        "data=data.drop([\"ID\"],axis=1)\n",
        "cat_cols=[\"SEX\",\"EDUCATION\",\"MARRIAGE\"]\n",
        "data=pd.get_dummies(data,columns=cat_cols,drop_first=True)"
      ],
      "execution_count": 0,
      "outputs": []
    },
    {
      "cell_type": "code",
      "metadata": {
        "id": "-DdT6Ak2Ojjy",
        "colab_type": "code",
        "colab": {}
      },
      "source": [
        "data"
      ],
      "execution_count": 0,
      "outputs": []
    },
    {
      "cell_type": "code",
      "metadata": {
        "colab_type": "code",
        "id": "sJZWzA206ZPP",
        "colab": {}
      },
      "source": [
        "y=data[\"defaulted\"]\n",
        "X=data.drop([\"defaulted\"],axis=1)\n",
        "X_train, X_test, y_train, y_test = train_test_split(X, y, test_size=.3, random_state=42)"
      ],
      "execution_count": 0,
      "outputs": []
    },
    {
      "cell_type": "code",
      "metadata": {
        "id": "SDTIScEBEYfs",
        "colab_type": "code",
        "colab": {}
      },
      "source": [
        "Best_Params=  {'n_estimators': 200, 'min_samples_split': 60, 'min_samples_leaf': 100, 'max_depth': 10}"
      ],
      "execution_count": 0,
      "outputs": []
    },
    {
      "cell_type": "code",
      "metadata": {
        "id": "5xUMSVPfFxob",
        "colab_type": "code",
        "colab": {}
      },
      "source": [
        "rf=RandomForestClassifier(**Best_Params)\n",
        "rf.fit(X_train,y_train)"
      ],
      "execution_count": 0,
      "outputs": []
    },
    {
      "cell_type": "code",
      "metadata": {
        "id": "VVGBN6cBF1sB",
        "colab_type": "code",
        "colab": {}
      },
      "source": [
        "y_train_pred=rf.predict(X_train)\n",
        "y_train_prob=rf.predict_proba(X_train)[:,1]\n",
        "print(confusion_matrix(y_train,y_train_pred))\n",
        "print(\"auc score of train data\",roc_auc_score(y_train,y_train_prob))"
      ],
      "execution_count": 0,
      "outputs": []
    },
    {
      "cell_type": "code",
      "metadata": {
        "id": "3vK6q7Z_GKQ8",
        "colab_type": "code",
        "colab": {}
      },
      "source": [
        "fpr,tpr,thresholds=roc_curve(y_train,y_train_prob)\n",
        "plt.plot(fpr,tpr)\n",
        "plt.plot(fpr,fpr)\n",
        "plt.xlabel(\"FPR\")\n",
        "plt.ylabel(\"TPR\")\n",
        "plt.title(\"ROC_AUC CURVE\")"
      ],
      "execution_count": 0,
      "outputs": []
    },
    {
      "cell_type": "markdown",
      "metadata": {
        "id": "c3AT4w3oIyYh",
        "colab_type": "text"
      },
      "source": [
        "If we assume that cost of wrong pediction of defaulters is same as cost of wrong prediction of non-defaulters.\n",
        "Then optimal cut-off is where the difference of fpr and tpr is maximum"
      ]
    },
    {
      "cell_type": "code",
      "metadata": {
        "id": "AxghtwZ7JS5T",
        "colab_type": "code",
        "colab": {}
      },
      "source": [
        "fig,ax1=plt.subplots()\n",
        "ax1.plot(fpr,tpr-fpr)\n",
        "\n",
        "ax2=ax1.twinx()\n",
        "ax2.plot(fpr,thresholds,\"r\")\n"
      ],
      "execution_count": 0,
      "outputs": []
    },
    {
      "cell_type": "markdown",
      "metadata": {
        "id": "XSounJNaKuWC",
        "colab_type": "text"
      },
      "source": [
        "OPTIMAL THRESHOLD"
      ]
    },
    {
      "cell_type": "code",
      "metadata": {
        "id": "t_WG6QlXJpI-",
        "colab_type": "code",
        "colab": {}
      },
      "source": [
        "optimal_idx=np.argmax(tpr-fpr)\n",
        "optimal_threshold=thresholds[optimal_idx]\n",
        "optimal_threshold"
      ],
      "execution_count": 0,
      "outputs": []
    },
    {
      "cell_type": "code",
      "metadata": {
        "id": "hmVHnyvkLBXO",
        "colab_type": "code",
        "colab": {}
      },
      "source": [
        "dfts=pd.read_csv(\"/content/drive/My Drive/casestudy datasets/credit-card-default_toscore.csv\")"
      ],
      "execution_count": 0,
      "outputs": []
    },
    {
      "cell_type": "code",
      "metadata": {
        "id": "ltMQIyc_NPFG",
        "colab_type": "code",
        "colab": {}
      },
      "source": [
        "dfts.head()"
      ],
      "execution_count": 0,
      "outputs": []
    },
    {
      "cell_type": "code",
      "metadata": {
        "id": "BhODLuRLQeyK",
        "colab_type": "code",
        "colab": {}
      },
      "source": [
        "data=pd.read_csv(\"/content/drive/My Drive/casestudy datasets/credit-card-default.csv\")\n",
        "data=data.drop([\"defaulted\"],axis=1)\n",
        "data.shape"
      ],
      "execution_count": 0,
      "outputs": []
    },
    {
      "cell_type": "code",
      "metadata": {
        "id": "HHAdsnr2QwjR",
        "colab_type": "code",
        "colab": {}
      },
      "source": [
        "dfall=pd.concat((data,dfts),axis=0)\n",
        "cat_cols=[\"SEX\",\"EDUCATION\",\"MARRIAGE\"]\n",
        "dfall=pd.get_dummies(dfall,columns=cat_cols,drop_first=True)\n",
        "dfts=dfall.iloc[30000:,]"
      ],
      "execution_count": 0,
      "outputs": []
    },
    {
      "cell_type": "code",
      "metadata": {
        "id": "--5kvALXOpgJ",
        "colab_type": "code",
        "colab": {}
      },
      "source": [
        "ID=dfts[[\"ID\"]]\n",
        "dfts=dfts.drop([\"ID\"],axis=1)"
      ],
      "execution_count": 0,
      "outputs": []
    },
    {
      "cell_type": "code",
      "metadata": {
        "id": "34Pc1Pv7Nz0V",
        "colab_type": "code",
        "colab": {}
      },
      "source": [
        "dfts_prob=rf.predict_proba(dfts)[:,1]"
      ],
      "execution_count": 0,
      "outputs": []
    },
    {
      "cell_type": "code",
      "metadata": {
        "id": "Y5DIMwj_OSfv",
        "colab_type": "code",
        "colab": {}
      },
      "source": [
        "ID[\"prob\"]=dfts_prob"
      ],
      "execution_count": 0,
      "outputs": []
    },
    {
      "cell_type": "code",
      "metadata": {
        "id": "oQnJalW8SBsk",
        "colab_type": "code",
        "colab": {}
      },
      "source": [
        "ID[\"prob\"]"
      ],
      "execution_count": 0,
      "outputs": []
    },
    {
      "cell_type": "code",
      "metadata": {
        "id": "vg7J6-VATPsh",
        "colab_type": "code",
        "colab": {}
      },
      "source": [
        "ID=ID[ID[\"prob\"]>0.2316423943040094]"
      ],
      "execution_count": 0,
      "outputs": []
    },
    {
      "cell_type": "code",
      "metadata": {
        "id": "-Ek32NWtTei5",
        "colab_type": "code",
        "colab": {}
      },
      "source": [
        "ID"
      ],
      "execution_count": 0,
      "outputs": []
    },
    {
      "cell_type": "markdown",
      "metadata": {
        "id": "a6Jeb9MKZblz",
        "colab_type": "text"
      },
      "source": [
        "In most situations cost of a defaulter is much larger than the benefit of a  non-defaulter .\n",
        "\n",
        "\n",
        "Hence the previous assumption is weak.\n",
        "\n",
        "\n",
        "in the next exercise we will consider  the cost and benfit of all the possible cases"
      ]
    },
    {
      "cell_type": "code",
      "metadata": {
        "id": "XzM4WjkWaa5N",
        "colab_type": "code",
        "colab": {}
      },
      "source": [
        "max(y_train_prob)\n"
      ],
      "execution_count": 0,
      "outputs": []
    },
    {
      "cell_type": "code",
      "metadata": {
        "id": "csXHJrSETfe8",
        "colab_type": "code",
        "colab": {}
      },
      "source": [
        "gain=[]\n",
        "i_vals=[]\n",
        "\n",
        "\n",
        "for i in np.linspace(0,0.8,50):\n",
        "  rf.fit(X_train,y_train)\n",
        "  y_prob=rf.predict_proba(X_train)\n",
        "  y_prob=pd.DataFrame(y_prob)\n",
        "  y_pred=y_prob[1].apply(lambda x:1 if x>i else 0)\n",
        "  conf=confusion_matrix(y_train,y_pred)\n",
        "\n",
        "  total_benfit=conf[0][0]*75-conf[0][1]*75-conf[1][0]*200+conf[1][1]*200\n",
        "  gain.append(total_benfit)\n",
        "  i_vals.append(i)\n",
        "\n",
        "print(\"Max gain :  \",max(gain))"
      ],
      "execution_count": 0,
      "outputs": []
    },
    {
      "cell_type": "code",
      "metadata": {
        "id": "1XVZ11FlcHpZ",
        "colab_type": "code",
        "colab": {}
      },
      "source": [
        "plt.plot(i_vals,gain)"
      ],
      "execution_count": 0,
      "outputs": []
    },
    {
      "cell_type": "code",
      "metadata": {
        "id": "EBgJ6NhNdWkz",
        "colab_type": "code",
        "colab": {}
      },
      "source": [
        ""
      ],
      "execution_count": 0,
      "outputs": []
    }
  ]
}