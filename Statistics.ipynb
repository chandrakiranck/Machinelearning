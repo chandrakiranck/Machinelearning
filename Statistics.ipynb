{
  "nbformat": 4,
  "nbformat_minor": 0,
  "metadata": {
    "accelerator": "GPU",
    "colab": {
      "name": "Statistics.ipynb",
      "provenance": [],
      "collapsed_sections": [
        "HRQWO-g3qEI1",
        "2SRRMlROCQ3U",
        "Q43FJqHiqEJH",
        "rkdHVO_6qEJN",
        "T9uPlZNAqEJY",
        "GRnCVPI9qEJi",
        "ZTRmYivwqEJk",
        "11DblComqEJu",
        "leB0OqfmqEJ1",
        "CXtidOWFqEJ4",
        "qQvgXFNLqEJ4",
        "iuoPl0ODgXco",
        "RHuBJzAOgea0",
        "hTkvmbhhgyA_",
        "oK-wLRAn55IG",
        "2-dvi5Ca9OB5",
        "gWSI5T5rHKbM",
        "OEmhbYi2m2m9",
        "Yjd6Ob8Zi04u",
        "FFczW7LrkxGx",
        "28jt4m94jPFU",
        "LJTWCeNDkDmG",
        "veZrQcZ6mMRy",
        "AagpwPSko54n",
        "LnXFPq7Opp8Q",
        "mdmBjYtMqGEy",
        "9MvQD4TRz7Rz",
        "BDIverFXMfTm",
        "qF9l9C0APxF_"
      ],
      "include_colab_link": true
    },
    "kernelspec": {
      "display_name": "Python 3",
      "language": "python",
      "name": "python3"
    },
    "language_info": {
      "codemirror_mode": {
        "name": "ipython",
        "version": 3
      },
      "file_extension": ".py",
      "mimetype": "text/x-python",
      "name": "python",
      "nbconvert_exporter": "python",
      "pygments_lexer": "ipython3",
      "version": "3.7.4"
    }
  },
  "cells": [
    {
      "cell_type": "markdown",
      "metadata": {
        "id": "view-in-github",
        "colab_type": "text"
      },
      "source": [
        "<a href=\"https://colab.research.google.com/github/chandrakiranck/fuzzy-adventure/blob/master/Statistics.ipynb\" target=\"_parent\"><img src=\"https://colab.research.google.com/assets/colab-badge.svg\" alt=\"Open In Colab\"/></a>"
      ]
    },
    {
      "cell_type": "code",
      "metadata": {
        "colab_type": "code",
        "id": "XnAQMCuUqEIt",
        "colab": {}
      },
      "source": [
        "import numpy as np\n",
        "import pandas as pd\n",
        "import matplotlib.pyplot as plt\n",
        "import scipy.stats as stats\n",
        "import seaborn as sns"
      ],
      "execution_count": 0,
      "outputs": []
    },
    {
      "cell_type": "markdown",
      "metadata": {
        "colab_type": "text",
        "id": "wh3mfVKGqEI0"
      },
      "source": [
        "# Statistics\n",
        "Descriptive Statistics and Inferential Statistics"
      ]
    },
    {
      "cell_type": "markdown",
      "metadata": {
        "colab_type": "text",
        "id": "HRQWO-g3qEI1"
      },
      "source": [
        "# Descriptive statistics:\n",
        "Mean, Variance, Standard deviation, quartiles, covariance, correlation"
      ]
    },
    {
      "cell_type": "markdown",
      "metadata": {
        "colab_type": "text",
        "id": "2SRRMlROCQ3U"
      },
      "source": [
        "## Mean, Variance and Standard deviation:"
      ]
    },
    {
      "cell_type": "code",
      "metadata": {
        "colab_type": "code",
        "id": "ipLFmeyTqEI3",
        "outputId": "c6f73a90-5c5c-4531-8e31-371a5aeb3f62",
        "colab": {
          "base_uri": "https://localhost:8080/"
        }
      },
      "source": [
        "a=np.random.randint(0,20,6)\n",
        "a"
      ],
      "execution_count": 0,
      "outputs": [
        {
          "output_type": "execute_result",
          "data": {
            "text/plain": [
              "array([ 8, 11,  3,  0,  6, 11])"
            ]
          },
          "metadata": {
            "tags": []
          },
          "execution_count": 6
        }
      ]
    },
    {
      "cell_type": "code",
      "metadata": {
        "colab_type": "code",
        "id": "ckf2ZCS7qEI-",
        "outputId": "a2fb3c64-5858-4a3e-d969-7c0886913616",
        "colab": {
          "base_uri": "https://localhost:8080/"
        }
      },
      "source": [
        "pop_mean=a.sum()/len(a)\n",
        "print('Population Mean:',pop_mean)\n",
        "sam_mean=pop_mean\n",
        "print('Sample Mean:',sam_mean)\n",
        "sum_of_squares_of_deviations=0\n",
        "for i in a:\n",
        "    sum_of_squares_of_deviations=sum_of_squares_of_deviations+((i-pop_mean)**2)\n",
        "pop_var=sum_of_squares_of_deviations/len(a)\n",
        "pop_std=(pop_var)**0.5\n",
        "print('Population Variance:',pop_var)\n",
        "print('Population Standard deviation:',pop_std)\n",
        "sam_var=sum_of_squares_of_deviations/(len(a)-1)\n",
        "sam_std=(sam_var)**0.5\n",
        "print('Sample Variance:',sam_var)\n",
        "print('Sample Standard deviation:',sam_std)"
      ],
      "execution_count": 0,
      "outputs": [
        {
          "output_type": "stream",
          "text": [
            "Population Mean: 6.5\n",
            "Sample Mean: 6.5\n",
            "Population Variance: 16.25\n",
            "Population Standard deviation: 4.031128874149275\n",
            "Sample Variance: 19.5\n",
            "Sample Standard deviation: 4.415880433163924\n"
          ],
          "name": "stdout"
        }
      ]
    },
    {
      "cell_type": "code",
      "metadata": {
        "colab_type": "code",
        "id": "szAY59EkqEJD",
        "outputId": "b90b3d9f-b90c-4b5b-86c8-1e74ff532c57",
        "colab": {
          "base_uri": "https://localhost:8080/"
        }
      },
      "source": [
        "#np.var() and np.std() give population variance and std\n",
        "#use ddof=1 to get sample var and sample std.\n",
        "np.var(a),np.std(a),np.var(a,ddof=1),np.std(a,ddof=1)"
      ],
      "execution_count": 0,
      "outputs": [
        {
          "output_type": "execute_result",
          "data": {
            "text/plain": [
              "(25.472222222222225, 5.047001309908907, 30.56666666666667, 5.52871293039046)"
            ]
          },
          "metadata": {
            "tags": []
          },
          "execution_count": 5
        }
      ]
    },
    {
      "cell_type": "markdown",
      "metadata": {
        "colab_type": "text",
        "id": "Q43FJqHiqEJH"
      },
      "source": [
        "## 5 Point summary:\n",
        "min, Q1, Q2, Q3, max\n",
        "\n",
        "iqr"
      ]
    },
    {
      "cell_type": "code",
      "metadata": {
        "colab_type": "code",
        "id": "R-1qTlFJqEJJ",
        "outputId": "cad98546-e981-43a2-f7b9-b10097bc01c9",
        "colab": {
          "base_uri": "https://localhost:8080/"
        }
      },
      "source": [
        "arr1=np.random.randint(0,100,30)\n",
        "print(arr1)\n",
        "print('5 point summary:')\n",
        "print('min:',np.percentile(arr1,0))\n",
        "print('Q1:',np.percentile(arr1,25))\n",
        "print('Q2:',np.percentile(arr1,50))\n",
        "print('Q3:',np.percentile(arr1,75))\n",
        "print('max:',np.percentile(arr1,100))\n",
        "print()\n",
        "print('iqr:',np.percentile(arr1,75)-np.percentile(arr1,25))\n",
        "plt.boxplot(arr1)\n",
        "plt.show()"
      ],
      "execution_count": 0,
      "outputs": [
        {
          "output_type": "stream",
          "text": [
            "[67 85 38 79 78 74 20  0  8  9 33 16 17 89 46 24 82 97 12 10 84  5 44 46\n",
            " 33 31 27 51 46 99]\n",
            "5 point summary:\n",
            "min: 0.0\n",
            "Q1: 17.75\n",
            "Q2: 41.0\n",
            "Q3: 77.0\n",
            "max: 99.0\n",
            "\n",
            "iqr: 59.25\n"
          ],
          "name": "stdout"
        },
        {
          "output_type": "display_data",
          "data": {
            "image/png": "[encoded data removed]",
            "text/plain": [
              "<Figure size 432x288 with 1 Axes>"
            ]
          },
          "metadata": {
            "tags": [],
            "needs_background": "light"
          }
        }
      ]
    },
    {
      "cell_type": "markdown",
      "metadata": {
        "colab_type": "text",
        "id": "rkdHVO_6qEJN"
      },
      "source": [
        "## Covariance:"
      ]
    },
    {
      "cell_type": "code",
      "metadata": {
        "colab_type": "code",
        "id": "HsbIViJgqEJO",
        "outputId": "0c302ad0-2c61-47c9-fa50-6a9e011c729c",
        "colab": {
          "base_uri": "https://localhost:8080/"
        }
      },
      "source": [
        "arr2=np.random.randint(0,100,30)\n",
        "np.cov(arr1,arr2)"
      ],
      "execution_count": 0,
      "outputs": [
        {
          "output_type": "execute_result",
          "data": {
            "text/plain": [
              "array([[958.89655172, 404.86206897],\n",
              "       [404.86206897, 847.66551724]])"
            ]
          },
          "metadata": {
            "tags": []
          },
          "execution_count": 7
        }
      ]
    },
    {
      "cell_type": "code",
      "metadata": {
        "colab_type": "code",
        "id": "YXS4KM9jqEJT",
        "outputId": "f2c8b7f9-c4fd-494b-d49e-785d94128067",
        "colab": {
          "base_uri": "https://localhost:8080/"
        }
      },
      "source": [
        "s=0\n",
        "for i in range(len(arr1)):\n",
        "    s=s+((arr1[i]-np.mean(arr1))*(arr2[i]-np.mean(arr2)))\n",
        "s/(len(arr1)-1)"
      ],
      "execution_count": 0,
      "outputs": [
        {
          "output_type": "execute_result",
          "data": {
            "text/plain": [
              "404.86206896551727"
            ]
          },
          "metadata": {
            "tags": []
          },
          "execution_count": 8
        }
      ]
    },
    {
      "cell_type": "markdown",
      "metadata": {
        "colab_type": "text",
        "id": "T9uPlZNAqEJY"
      },
      "source": [
        "## Correlation:"
      ]
    },
    {
      "cell_type": "code",
      "metadata": {
        "colab_type": "code",
        "id": "mQL-QJ0CqEJZ",
        "outputId": "39091bf3-e865-4505-bfd9-0a807e663b34",
        "colab": {
          "base_uri": "https://localhost:8080/"
        }
      },
      "source": [
        "print(np.corrcoef(arr1,arr2))\n",
        "np.cov(arr1,arr2)[0,1]/(np.std(arr1,ddof=1)*np.std(arr2,ddof=1))"
      ],
      "execution_count": 0,
      "outputs": [
        {
          "output_type": "stream",
          "text": [
            "[[1.         0.44906474]\n",
            " [0.44906474 1.        ]]\n"
          ],
          "name": "stdout"
        },
        {
          "output_type": "execute_result",
          "data": {
            "text/plain": [
              "0.4490647372036682"
            ]
          },
          "metadata": {
            "tags": []
          },
          "execution_count": 9
        }
      ]
    },
    {
      "cell_type": "markdown",
      "metadata": {
        "colab_type": "text",
        "id": "GRnCVPI9qEJi"
      },
      "source": [
        "# Discrete Probability Distributions:\n",
        "Binomial Distribution, Poisson Distribution and Hypergeometric Distribution"
      ]
    },
    {
      "cell_type": "markdown",
      "metadata": {
        "colab_type": "text",
        "id": "ZTRmYivwqEJk"
      },
      "source": [
        "## Binomial Distribution:"
      ]
    },
    {
      "cell_type": "code",
      "metadata": {
        "colab_type": "code",
        "id": "X3BSeTQKqEJl",
        "outputId": "40874adb-9b7d-4ed0-ae16-64bd8b310522",
        "colab": {
          "base_uri": "https://localhost:8080/"
        }
      },
      "source": [
        "binom=stats.binom.pmf(np.arange(10),10,0.05)\n",
        "binom"
      ],
      "execution_count": 0,
      "outputs": [
        {
          "output_type": "execute_result",
          "data": {
            "text/plain": [
              "array([5.98736939e-01, 3.15124705e-01, 7.46347985e-02, 1.04750594e-02,\n",
              "       9.64808106e-04, 6.09352488e-05, 2.67259863e-06, 8.03789063e-08,\n",
              "       1.58642578e-09, 1.85546875e-11])"
            ]
          },
          "metadata": {
            "tags": []
          },
          "execution_count": 10
        }
      ]
    },
    {
      "cell_type": "code",
      "metadata": {
        "colab_type": "code",
        "id": "KIWeloWWqEJo",
        "outputId": "9af4a3aa-4ca3-4fcf-f6f5-cfd839dd6d62",
        "colab": {
          "base_uri": "https://localhost:8080/"
        }
      },
      "source": [
        "binom_cum=stats.binom.cdf(np.arange(10),10,0.05)\n",
        "binom_cum"
      ],
      "execution_count": 0,
      "outputs": [
        {
          "output_type": "execute_result",
          "data": {
            "text/plain": [
              "array([0.59873694, 0.91386164, 0.98849644, 0.9989715 , 0.99993631,\n",
              "       0.99999725, 0.99999992, 1.        , 1.        , 1.        ])"
            ]
          },
          "metadata": {
            "tags": []
          },
          "execution_count": 11
        }
      ]
    },
    {
      "cell_type": "code",
      "metadata": {
        "colab_type": "code",
        "id": "liPoHNLrqEJq",
        "outputId": "eff59e1b-e429-4f6e-8d58-bccdf04cf273",
        "colab": {
          "base_uri": "https://localhost:8080/"
        }
      },
      "source": [
        "plt.plot(np.arange(10),binom,'o-')\n",
        "plt.plot(np.arange(10),binom_cum,'o-')\n",
        "plt.show()"
      ],
      "execution_count": 0,
      "outputs": [
        {
          "output_type": "display_data",
          "data": {
            "image/png": "[encoded data removed]",
            "text/plain": [
              "<Figure size 432x288 with 1 Axes>"
            ]
          },
          "metadata": {
            "tags": [],
            "needs_background": "light"
          }
        }
      ]
    },
    {
      "cell_type": "markdown",
      "metadata": {
        "colab_type": "text",
        "id": "11DblComqEJu"
      },
      "source": [
        "## Poission Distribution:"
      ]
    },
    {
      "cell_type": "code",
      "metadata": {
        "colab_type": "code",
        "id": "GZqNrhPQqEJv",
        "outputId": "2a44f720-4cff-462e-85e3-63378afc83ab",
        "colab": {
          "base_uri": "https://localhost:8080/"
        }
      },
      "source": [
        "poiss=stats.poisson.pmf(np.arange(10),2.5)\n",
        "poiss"
      ],
      "execution_count": 0,
      "outputs": [
        {
          "output_type": "execute_result",
          "data": {
            "text/plain": [
              "array([0.082085  , 0.2052125 , 0.25651562, 0.21376302, 0.13360189,\n",
              "       0.06680094, 0.02783373, 0.00994062, 0.00310644, 0.0008629 ])"
            ]
          },
          "metadata": {
            "tags": []
          },
          "execution_count": 13
        }
      ]
    },
    {
      "cell_type": "code",
      "metadata": {
        "colab_type": "code",
        "id": "UnQ2TFYmqEJx",
        "outputId": "a0027735-f3a1-4993-a0f4-06de6fd17b22",
        "colab": {
          "base_uri": "https://localhost:8080/"
        }
      },
      "source": [
        "poiss_cum=stats.poisson.cdf(np.arange(10),2.5)\n",
        "poiss_cum"
      ],
      "execution_count": 0,
      "outputs": [
        {
          "output_type": "execute_result",
          "data": {
            "text/plain": [
              "array([0.082085  , 0.2872975 , 0.54381312, 0.75757613, 0.89117802,\n",
              "       0.95797896, 0.98581269, 0.9957533 , 0.99885975, 0.99972265])"
            ]
          },
          "metadata": {
            "tags": []
          },
          "execution_count": 14
        }
      ]
    },
    {
      "cell_type": "code",
      "metadata": {
        "colab_type": "code",
        "id": "SB2-qWUVqEJz",
        "outputId": "7fa6b6e8-57b9-4f83-cb73-b7010f25d221",
        "colab": {
          "base_uri": "https://localhost:8080/"
        }
      },
      "source": [
        "plt.plot(np.arange(10),poiss,'o-')\n",
        "plt.plot(np.arange(10),poiss_cum,'o-')\n",
        "plt.show()"
      ],
      "execution_count": 0,
      "outputs": [
        {
          "output_type": "display_data",
          "data": {
            "image/png": "[encoded data removed]",
            "text/plain": [
              "<Figure size 432x288 with 1 Axes>"
            ]
          },
          "metadata": {
            "tags": [],
            "needs_background": "light"
          }
        }
      ]
    },
    {
      "cell_type": "markdown",
      "metadata": {
        "colab_type": "text",
        "id": "leB0OqfmqEJ1"
      },
      "source": [
        "## Hypergoemetric Distribution:"
      ]
    },
    {
      "cell_type": "code",
      "metadata": {
        "colab_type": "code",
        "id": "NTIRVzzqqEJ2",
        "outputId": "96f7a034-9532-4a7f-dbe7-c8ed77cd7b27",
        "colab": {
          "base_uri": "https://localhost:8080/"
        }
      },
      "source": [
        "hgd=stats.hypergeom(100,10,20)\n",
        "plt.plot(np.arange(20),hgd.pmf(np.arange(20)),'o-')\n",
        "plt.plot(np.arange(20),hgd.cdf(np.arange(20)),'o-')\n",
        "plt.show()"
      ],
      "execution_count": 0,
      "outputs": [
        {
          "output_type": "display_data",
          "data": {
            "image/png": "[encoded data removed]",
            "text/plain": [
              "<Figure size 432x288 with 1 Axes>"
            ]
          },
          "metadata": {
            "tags": [],
            "needs_background": "light"
          }
        }
      ]
    },
    {
      "cell_type": "markdown",
      "metadata": {
        "colab_type": "text",
        "id": "CXtidOWFqEJ4"
      },
      "source": [
        "# Continuous Probability Distributions:\n",
        "Normal Distribution, Geometric Distribution, Exponential Distribution"
      ]
    },
    {
      "cell_type": "markdown",
      "metadata": {
        "colab_type": "text",
        "id": "qQvgXFNLqEJ4"
      },
      "source": [
        "## Normal Distrinution:"
      ]
    },
    {
      "cell_type": "code",
      "metadata": {
        "colab_type": "code",
        "id": "REIF3OL-GUVe",
        "outputId": "75b799ea-b5f3-4b3f-8468-0044a17814f7",
        "colab": {
          "base_uri": "https://localhost:8080/"
        }
      },
      "source": [
        "# can give the mena and std as arguments, or can calculate z and pass z alone. work same either way.\n",
        "print(stats.norm.cdf(90,68,12))\n",
        "z=(90-68)/12\n",
        "print(stats.norm.cdf(z))"
      ],
      "execution_count": 0,
      "outputs": [
        {
          "output_type": "stream",
          "text": [
            "0.9666234924151828\n",
            "0.9666234924151828\n"
          ],
          "name": "stdout"
        }
      ]
    },
    {
      "cell_type": "code",
      "metadata": {
        "colab_type": "code",
        "id": "-RVLF625qEJ5",
        "outputId": "5c96704b-67be-4790-a449-5d876e5768af",
        "colab": {
          "base_uri": "https://localhost:8080/"
        }
      },
      "source": [
        "plt.plot(np.arange(0,100,4),stats.norm.pdf(np.arange(0,100,4),68,12),'o-')"
      ],
      "execution_count": 0,
      "outputs": [
        {
          "output_type": "execute_result",
          "data": {
            "text/plain": [
              "[<matplotlib.lines.Line2D at 0x36dfc68400>]"
            ]
          },
          "metadata": {
            "tags": []
          },
          "execution_count": 18
        },
        {
          "output_type": "display_data",
          "data": {
            "image/png": "[encoded data removed]",
            "text/plain": [
              "<Figure size 432x288 with 1 Axes>"
            ]
          },
          "metadata": {
            "tags": [],
            "needs_background": "light"
          }
        }
      ]
    },
    {
      "cell_type": "code",
      "metadata": {
        "colab_type": "code",
        "id": "gbqId8npHk1B",
        "outputId": "787d2ef1-c3a2-4b3e-fba6-63808007a506",
        "colab": {
          "base_uri": "https://localhost:8080/"
        }
      },
      "source": [
        "stats.norm.cdf(100,68,12)-stats.norm.cdf(50,68,12)"
      ],
      "execution_count": 0,
      "outputs": [
        {
          "output_type": "execute_result",
          "data": {
            "text/plain": [
              "0.9293624181635521"
            ]
          },
          "metadata": {
            "tags": []
          },
          "execution_count": 19
        }
      ]
    },
    {
      "cell_type": "code",
      "metadata": {
        "colab_type": "code",
        "id": "vB5KMeJeIE8e",
        "outputId": "f0f02c86-e59c-4a88-f623-fb8882361c07",
        "colab": {
          "base_uri": "https://localhost:8080/"
        }
      },
      "source": [
        "#confidence interval using stats.norm.interval\n",
        "n=100\n",
        "xavg=170\n",
        "sigma=0.02\n",
        "s= sigma / np.sqrt(n)\n",
        "cil,ciu=stats.norm.interval(0.95,loc=xavg, scale=s)\n",
        "print(cil,ciu)"
      ],
      "execution_count": 0,
      "outputs": [
        {
          "output_type": "stream",
          "text": [
            "169.9960800720309 170.0039199279691\n"
          ],
          "name": "stdout"
        }
      ]
    },
    {
      "cell_type": "code",
      "metadata": {
        "colab_type": "code",
        "id": "C4RN2Ec3zXtz",
        "outputId": "a05ba315-501b-4b4c-f0e2-9458cbf8f66c",
        "colab": {
          "base_uri": "https://localhost:8080/"
        }
      },
      "source": [
        "#returns zscore value for the given alpha/2 value\n",
        "stats.norm.ppf(0.025)"
      ],
      "execution_count": 0,
      "outputs": [
        {
          "output_type": "execute_result",
          "data": {
            "text/plain": [
              "-1.9599639845400545"
            ]
          },
          "metadata": {
            "tags": []
          },
          "execution_count": 21
        }
      ]
    },
    {
      "cell_type": "code",
      "metadata": {
        "colab_type": "code",
        "id": "by50WupgICz-",
        "outputId": "91a8525f-6aba-4d93-9f40-afbd2f36cc75",
        "colab": {
          "base_uri": "https://localhost:8080/"
        }
      },
      "source": [
        "stats.norm.isf(0.9,100,20)"
      ],
      "execution_count": 0,
      "outputs": [
        {
          "output_type": "execute_result",
          "data": {
            "text/plain": [
              "74.36896868910799"
            ]
          },
          "metadata": {
            "tags": []
          },
          "execution_count": 22
        }
      ]
    },
    {
      "cell_type": "code",
      "metadata": {
        "colab_type": "code",
        "id": "Z8IX685SIPr7",
        "outputId": "cbbf2048-9380-4bca-a845-43f3698822d5",
        "colab": {
          "base_uri": "https://localhost:8080/"
        }
      },
      "source": [
        "h=np.random.randint(0,100,30)\n",
        "mean=np.mean(h)\n",
        "sd=np.std(h,#ddof=1)\n",
        "print(mean,sd)"
      ],
      "execution_count": 0,
      "outputs": [
        {
          "output_type": "stream",
          "text": [
            "42.86666666666667 31.953342422257222\n"
          ],
          "name": "stdout"
        }
      ]
    },
    {
      "cell_type": "code",
      "metadata": {
        "colab_type": "code",
        "id": "zPi_HzYEIqdE",
        "outputId": "998c3b41-ae99-4581-cce8-707eca28332e",
        "colab": {
          "base_uri": "https://localhost:8080/"
        }
      },
      "source": [
        "stats.norm.isf(0.9,mean,sd/np.sqrt(30))"
      ],
      "execution_count": 0,
      "outputs": [
        {
          "output_type": "execute_result",
          "data": {
            "text/plain": [
              "35.39028004637667"
            ]
          },
          "metadata": {
            "tags": []
          },
          "execution_count": 24
        }
      ]
    },
    {
      "cell_type": "markdown",
      "metadata": {
        "colab_type": "text",
        "id": "iuoPl0ODgXco"
      },
      "source": [
        "# One sample Test of Means:\n"
      ]
    },
    {
      "cell_type": "markdown",
      "metadata": {
        "colab_type": "text",
        "id": "RHuBJzAOgea0"
      },
      "source": [
        "## t-test using norm.cdf:"
      ]
    },
    {
      "cell_type": "code",
      "metadata": {
        "colab_type": "code",
        "id": "DVOYUk_7MKj6",
        "outputId": "28262237-1a47-436d-dc04-2775de8f87ae",
        "colab": {
          "base_uri": "https://localhost:8080/"
        }
      },
      "source": [
        "ts=(2.8-3)/(0.6/(50**0.5))\n",
        "pvalue=stats.norm.cdf(ts)\n",
        "pvalue"
      ],
      "execution_count": 0,
      "outputs": [
        {
          "output_type": "execute_result",
          "data": {
            "text/plain": [
              "0.009211062727049439"
            ]
          },
          "metadata": {
            "tags": []
          },
          "execution_count": 25
        }
      ]
    },
    {
      "cell_type": "code",
      "metadata": {
        "colab_type": "code",
        "id": "YToAjmnXJr_J",
        "outputId": "b08cfe89-5cf5-4a36-f05f-55cc1741c5ce",
        "colab": {
          "base_uri": "https://localhost:8080/"
        }
      },
      "source": [
        "ts=(573-520)/(124/6)\n",
        "pvalue=1-stats.norm.cdf(ts)\n",
        "pvalue"
      ],
      "execution_count": 0,
      "outputs": [
        {
          "output_type": "execute_result",
          "data": {
            "text/plain": [
              "0.00516598885994668"
            ]
          },
          "metadata": {
            "tags": []
          },
          "execution_count": 26
        }
      ]
    },
    {
      "cell_type": "code",
      "metadata": {
        "colab_type": "code",
        "id": "Cv4pU3hDnNpa",
        "outputId": "90d5e422-2394-4e55-b071-fbb5a7287834",
        "colab": {
          "base_uri": "https://localhost:8080/"
        }
      },
      "source": [
        "ts=(530-520)/(124/6)\n",
        "pvalue=1-stats.norm.cdf(ts)\n",
        "pvalue"
      ],
      "execution_count": 0,
      "outputs": [
        {
          "output_type": "execute_result",
          "data": {
            "text/plain": [
              "0.31423872279314313"
            ]
          },
          "metadata": {
            "tags": []
          },
          "execution_count": 27
        }
      ]
    },
    {
      "cell_type": "markdown",
      "metadata": {
        "colab_type": "text",
        "id": "hTkvmbhhgyA_"
      },
      "source": [
        "## T-test:\n",
        "\n",
        "*  parametric test\n",
        "*  only for normal or near normal distributions\n",
        "\n"
      ]
    },
    {
      "cell_type": "code",
      "metadata": {
        "colab_type": "code",
        "id": "vu9cVX6Sg19u",
        "colab": {}
      },
      "source": [
        "from scipy.stats import ttest_1samp"
      ],
      "execution_count": 0,
      "outputs": []
    },
    {
      "cell_type": "code",
      "metadata": {
        "colab_type": "code",
        "id": "yaljT-gwhGfC",
        "colab": {}
      },
      "source": [
        "np.random.seed(10)\n",
        "population_ages1=stats.poisson.rvs(loc=18, mu=35, size=150000)\n",
        "population_ages2=stats.poisson.rvs(loc=18, mu=10, size=100000)\n",
        "population_ages=np.concatenate((population_ages1,population_ages2))"
      ],
      "execution_count": 0,
      "outputs": []
    },
    {
      "cell_type": "code",
      "metadata": {
        "colab_type": "code",
        "id": "M9GRc_5wlxKP",
        "colab": {}
      },
      "source": [
        "np.random.seed(10)\n",
        "sample=np.random.choice(population_ages,1000)"
      ],
      "execution_count": 0,
      "outputs": []
    },
    {
      "cell_type": "code",
      "metadata": {
        "colab_type": "code",
        "id": "IzCnFGWPo-b2",
        "outputId": "1bc0c3d0-b6d4-4101-8629-4b27af40f9eb",
        "colab": {
          "base_uri": "https://localhost:8080/"
        }
      },
      "source": [
        "sample.mean(),population_ages.mean()"
      ],
      "execution_count": 0,
      "outputs": [
        {
          "output_type": "execute_result",
          "data": {
            "text/plain": [
              "(42.523, 43.002372)"
            ]
          },
          "metadata": {
            "tags": []
          },
          "execution_count": 11
        }
      ]
    },
    {
      "cell_type": "code",
      "metadata": {
        "colab_type": "code",
        "id": "5BBVSG9p7a87",
        "outputId": "77afb245-051e-4691-80f5-e3dac3a7f7be",
        "colab": {
          "base_uri": "https://localhost:8080/"
        }
      },
      "source": [
        "sns.distplot(sample) # not a normal distribution"
      ],
      "execution_count": 0,
      "outputs": [
        {
          "output_type": "execute_result",
          "data": {
            "text/plain": [
              "<matplotlib.axes._subplots.AxesSubplot at 0xb2163c5cf8>"
            ]
          },
          "metadata": {
            "tags": []
          },
          "execution_count": 12
        },
        {
          "output_type": "display_data",
          "data": {
            "image/png": "[encoded data removed]",
            "text/plain": [
              "<Figure size 432x288 with 1 Axes>"
            ]
          },
          "metadata": {
            "tags": [],
            "needs_background": "light"
          }
        }
      ]
    },
    {
      "cell_type": "code",
      "metadata": {
        "colab_type": "code",
        "id": "RKk7U_R2q1uA",
        "outputId": "56532675-6dfd-4088-ae52-6b5d0e9a7931",
        "colab": {
          "base_uri": "https://localhost:8080/"
        }
      },
      "source": [
        "ttest_1samp(sample, 43.002372) # ttest is for normal distributions only, but here we are using it just for sake of example."
      ],
      "execution_count": 0,
      "outputs": [
        {
          "output_type": "execute_result",
          "data": {
            "text/plain": [
              "Ttest_1sampResult(statistic=-1.1279681989284878, pvalue=0.25960417215247666)"
            ]
          },
          "metadata": {
            "tags": []
          },
          "execution_count": 33
        }
      ]
    },
    {
      "cell_type": "markdown",
      "metadata": {
        "colab_type": "text",
        "id": "WZToLTa9stUA"
      },
      "source": [
        "pvalue is greater than 0.05, so we fail to reject the null hypothesis. that implies sample is the true representaion of the population."
      ]
    },
    {
      "cell_type": "code",
      "metadata": {
        "colab_type": "code",
        "id": "b_qMAFEY07Mc",
        "colab": {}
      },
      "source": [
        "arr=np.random.normal(2.8,0.6,50)"
      ],
      "execution_count": 0,
      "outputs": []
    },
    {
      "cell_type": "code",
      "metadata": {
        "colab_type": "code",
        "id": "w6eDEr2B1u_E",
        "outputId": "46e0df53-0e8c-4997-b8f6-029fc79270bf",
        "colab": {
          "base_uri": "https://localhost:8080/"
        }
      },
      "source": [
        "# for one tailed test using ttest_1samp we divide pvalue by 2 to get the pavalue for one tailed test since the area decreases to half.\n",
        "ts, pval=ttest_1samp(arr,3)\n",
        "pval=pval/2\n",
        "print(pval)"
      ],
      "execution_count": 0,
      "outputs": [
        {
          "output_type": "stream",
          "text": [
            "0.0014346300073890567\n"
          ],
          "name": "stdout"
        }
      ]
    },
    {
      "cell_type": "markdown",
      "metadata": {
        "colab_type": "text",
        "id": "oK-wLRAn55IG"
      },
      "source": [
        "##Shapiro Test:\n",
        "test for normality"
      ]
    },
    {
      "cell_type": "code",
      "metadata": {
        "colab_type": "code",
        "id": "mVCZ1hTx69-Y",
        "colab": {}
      },
      "source": [
        "from scipy.stats import shapiro"
      ],
      "execution_count": 0,
      "outputs": []
    },
    {
      "cell_type": "code",
      "metadata": {
        "colab_type": "code",
        "id": "TQhAxUDI7tO5",
        "outputId": "012cbd08-0a1e-4062-e2c5-ba5c5f95e3ad",
        "colab": {
          "base_uri": "https://localhost:8080/"
        }
      },
      "source": [
        "sns.distplot(sample)\n",
        "plt.show()"
      ],
      "execution_count": 0,
      "outputs": [
        {
          "output_type": "display_data",
          "data": {
            "image/png": "[encoded data removed]",
            "text/plain": [
              "<Figure size 432x288 with 1 Axes>"
            ]
          },
          "metadata": {
            "tags": [],
            "needs_background": "light"
          }
        }
      ]
    },
    {
      "cell_type": "code",
      "metadata": {
        "colab_type": "code",
        "id": "TcyG1Y2K7T0j",
        "outputId": "52ab2d3a-14bb-4fdb-a1e8-0a0b87090a18",
        "colab": {
          "base_uri": "https://localhost:8080/"
        }
      },
      "source": [
        "shapiro(sample)"
      ],
      "execution_count": 0,
      "outputs": [
        {
          "output_type": "execute_result",
          "data": {
            "text/plain": [
              "(0.8959202766418457, 1.8483564444557126e-25)"
            ]
          },
          "metadata": {
            "tags": []
          },
          "execution_count": 38
        }
      ]
    },
    {
      "cell_type": "markdown",
      "metadata": {
        "colab_type": "text",
        "id": "aph_e5968hCj"
      },
      "source": [
        "pvalue less than 0.05 implies not normal"
      ]
    },
    {
      "cell_type": "code",
      "metadata": {
        "colab_type": "code",
        "id": "qCYGTZ5T8RRi",
        "outputId": "98a4a6b5-617a-4319-87b5-0bfb5fd48061",
        "colab": {
          "base_uri": "https://localhost:8080/"
        }
      },
      "source": [
        "sns.distplot(arr)\n",
        "plt.show()"
      ],
      "execution_count": 0,
      "outputs": [
        {
          "output_type": "display_data",
          "data": {
            "image/png": "[encoded data removed]",
            "text/plain": [
              "<Figure size 432x288 with 1 Axes>"
            ]
          },
          "metadata": {
            "tags": [],
            "needs_background": "light"
          }
        }
      ]
    },
    {
      "cell_type": "code",
      "metadata": {
        "colab_type": "code",
        "id": "rBhgYoo37l9B",
        "outputId": "c2dc7c00-7b4c-4dce-e89a-6b32287cf929",
        "colab": {
          "base_uri": "https://localhost:8080/"
        }
      },
      "source": [
        "shapiro(arr)"
      ],
      "execution_count": 0,
      "outputs": [
        {
          "output_type": "execute_result",
          "data": {
            "text/plain": [
              "(0.9808231592178345, 0.5871630311012268)"
            ]
          },
          "metadata": {
            "tags": []
          },
          "execution_count": 40
        }
      ]
    },
    {
      "cell_type": "markdown",
      "metadata": {
        "colab_type": "text",
        "id": "YMWHeDCl7of8"
      },
      "source": [
        "pvalue greater than 0.05 hence normal distribution"
      ]
    },
    {
      "cell_type": "markdown",
      "metadata": {
        "colab_type": "text",
        "id": "2-dvi5Ca9OB5"
      },
      "source": [
        "## Wilcoxon test:\n",
        "*   Non-Parametric Test\n",
        "*   for not normal distributions\n",
        "*   more stringent test than ttest, hence pvalue is lower than ttest"
      ]
    },
    {
      "cell_type": "code",
      "metadata": {
        "colab_type": "code",
        "id": "YcPJBFyqG3_B",
        "colab": {}
      },
      "source": [
        "from scipy.stats import wilcoxon"
      ],
      "execution_count": 0,
      "outputs": []
    },
    {
      "cell_type": "code",
      "metadata": {
        "colab_type": "code",
        "id": "bOc_aLttGxVY",
        "colab": {}
      },
      "source": [
        "np.random.seed(10)\n",
        "population_ages1=stats.poisson.rvs(loc=18, mu=35, size=150000)\n",
        "population_ages2=stats.poisson.rvs(loc=18, mu=10, size=100000)\n",
        "population_ages=np.concatenate((population_ages1,population_ages2))"
      ],
      "execution_count": 0,
      "outputs": []
    },
    {
      "cell_type": "code",
      "metadata": {
        "colab_type": "code",
        "id": "vxlyJMS1GxVp",
        "colab": {}
      },
      "source": [
        "np.random.seed(10)\n",
        "sample=np.random.choice(population_ages,1000)"
      ],
      "execution_count": 0,
      "outputs": []
    },
    {
      "cell_type": "code",
      "metadata": {
        "colab_type": "code",
        "id": "zYTzmmo3GxVr",
        "outputId": "00f125a1-66af-4e0d-a3de-0097568591a2",
        "colab": {
          "base_uri": "https://localhost:8080/"
        }
      },
      "source": [
        "sample.mean(),population_ages.mean()"
      ],
      "execution_count": 0,
      "outputs": [
        {
          "output_type": "execute_result",
          "data": {
            "text/plain": [
              "(42.523, 43.002372)"
            ]
          },
          "metadata": {
            "tags": []
          },
          "execution_count": 44
        }
      ]
    },
    {
      "cell_type": "code",
      "metadata": {
        "colab_type": "code",
        "id": "dUeYPoGYG1JP",
        "outputId": "9eccbba2-735d-4c9f-e891-90a99bc73c18",
        "colab": {
          "base_uri": "https://localhost:8080/"
        }
      },
      "source": [
        "wilcoxon(sample-43.002372)"
      ],
      "execution_count": 0,
      "outputs": [
        {
          "output_type": "execute_result",
          "data": {
            "text/plain": [
              "WilcoxonResult(statistic=215312.0, pvalue=0.00013074084487804595)"
            ]
          },
          "metadata": {
            "tags": []
          },
          "execution_count": 45
        }
      ]
    },
    {
      "cell_type": "markdown",
      "metadata": {
        "colab_type": "text",
        "id": "gWSI5T5rHKbM"
      },
      "source": [
        "#Two sample test of mean for unpaired samples(independent)"
      ]
    },
    {
      "cell_type": "code",
      "metadata": {
        "colab_type": "code",
        "id": "02rkZ-zVLqF5",
        "colab": {}
      },
      "source": [
        "# energy expenditure in mJ and stature (0=obese, 1=lean)\n",
        "energ = np.array([\n",
        "[9.21, 0],\n",
        "[7.53, 1],\n",
        "[7.48, 1],\n",
        "[8.08, 1],\n",
        "[8.09, 1],\n",
        "[10.15, 1],\n",
        "[8.40, 1],\n",
        "[10.88, 1],\n",
        "[6.13, 1],\n",
        "[7.90, 1],\n",
        "[11.51, 0],\n",
        "[12.79, 0],\n",
        "[7.05, 1],\n",
        "[11.85, 0],\n",
        "[9.97, 0],\n",
        "[7.48, 1],\n",
        "[8.79, 0],\n",
        "[9.69, 0],\n",
        "[9.68, 0],\n",
        "[7.58, 1],\n",
        "[9.19, 0],\n",
        "[8.11, 1]])"
      ],
      "execution_count": 0,
      "outputs": []
    },
    {
      "cell_type": "code",
      "metadata": {
        "colab_type": "code",
        "id": "V1kU0BDAfv26",
        "colab": {}
      },
      "source": [
        "#creating samples\n",
        "g1=energ[energ[:,1]==0][:,0]\n",
        "g2=energ[energ[:,1]==1][:,0]"
      ],
      "execution_count": 0,
      "outputs": []
    },
    {
      "cell_type": "markdown",
      "metadata": {
        "colab_type": "text",
        "id": "OEmhbYi2m2m9"
      },
      "source": [
        "## Shapiro test\n",
        "\n",
        "*   Test for normality\n",
        "*   P<0.05 implies sample not normal\n",
        "\n"
      ]
    },
    {
      "cell_type": "code",
      "metadata": {
        "colab_type": "code",
        "id": "nRRk9tNOf39v",
        "outputId": "1e8d8e09-674b-49dd-e333-ff119297b84a",
        "colab": {
          "base_uri": "https://localhost:8080/"
        }
      },
      "source": [
        "#check for normality\n",
        "shapiro(g1),shapiro(g2)"
      ],
      "execution_count": 0,
      "outputs": [
        {
          "output_type": "execute_result",
          "data": {
            "text/plain": [
              "((0.8760314583778381, 0.14257420599460602),\n",
              " (0.8673305511474609, 0.048183880746364594))"
            ]
          },
          "metadata": {
            "tags": []
          },
          "execution_count": 48
        }
      ]
    },
    {
      "cell_type": "markdown",
      "metadata": {
        "colab_type": "text",
        "id": "eCVKoOXUhUII"
      },
      "source": [
        "g2 pvalue in shapiro test just less than 0.05 so we need to perform manwhitneyu. but lets do all tests (levene, bartlett, ttest_ind) just as an example."
      ]
    },
    {
      "cell_type": "markdown",
      "metadata": {
        "colab_type": "text",
        "id": "Yjd6Ob8Zi04u"
      },
      "source": [
        "## levene test:\n",
        "for testing equality of the variances of normal samples"
      ]
    },
    {
      "cell_type": "code",
      "metadata": {
        "colab_type": "code",
        "id": "Yen07lvThXJQ",
        "colab": {}
      },
      "source": [
        "from scipy.stats import levene"
      ],
      "execution_count": 0,
      "outputs": []
    },
    {
      "cell_type": "code",
      "metadata": {
        "colab_type": "code",
        "id": "_dsofv72itnI",
        "outputId": "2473e3dd-e28f-4bf0-9206-4963cb845db8",
        "colab": {
          "base_uri": "https://localhost:8080/"
        }
      },
      "source": [
        "levene(g1,g2)"
      ],
      "execution_count": 0,
      "outputs": [
        {
          "output_type": "execute_result",
          "data": {
            "text/plain": [
              "LeveneResult(statistic=0.26770858376245593, pvalue=0.6105485798476267)"
            ]
          },
          "metadata": {
            "tags": []
          },
          "execution_count": 52
        }
      ]
    },
    {
      "cell_type": "markdown",
      "metadata": {
        "colab_type": "text",
        "id": "146B6mh0i__Y"
      },
      "source": [
        "pvalue>0.05 implies variances are equal but we have to perform bartlett ideally"
      ]
    },
    {
      "cell_type": "markdown",
      "metadata": {
        "colab_type": "text",
        "id": "FFczW7LrkxGx"
      },
      "source": [
        "## Two sample ttest_ind:\n",
        "\n",
        "*   parametric t test for 2 samples\n",
        "*   performed when the samples pass both the shapiro and levene tests\n",
        "\n"
      ]
    },
    {
      "cell_type": "code",
      "metadata": {
        "colab_type": "code",
        "id": "m087fF0ulTlg",
        "colab": {}
      },
      "source": [
        "from scipy.stats import ttest_ind"
      ],
      "execution_count": 0,
      "outputs": []
    },
    {
      "cell_type": "code",
      "metadata": {
        "colab_type": "code",
        "id": "3B7vc1o5lZuR",
        "outputId": "5d01055a-a53a-4d32-fa35-15999bdd267c",
        "colab": {
          "base_uri": "https://localhost:8080/"
        }
      },
      "source": [
        "ttest_ind(g1,g2)"
      ],
      "execution_count": 0,
      "outputs": [
        {
          "output_type": "execute_result",
          "data": {
            "text/plain": [
              "Ttest_indResult(statistic=3.9455649161549835, pvalue=0.0007989982111700593)"
            ]
          },
          "metadata": {
            "tags": []
          },
          "execution_count": 54
        }
      ]
    },
    {
      "cell_type": "markdown",
      "metadata": {
        "colab_type": "text",
        "id": "_GaFfxOslf5w"
      },
      "source": [
        "pvalue<0.05 implies that the means are not equal (ideally we should perform mannwhitneyu as they one of the sample did not pass the shapiro test)"
      ]
    },
    {
      "cell_type": "markdown",
      "metadata": {
        "colab_type": "text",
        "id": "28jt4m94jPFU"
      },
      "source": [
        "## Bartlett test\n",
        "for testing equality of variances when atleast one sample is not normal"
      ]
    },
    {
      "cell_type": "code",
      "metadata": {
        "colab_type": "code",
        "id": "ejrOtEe-jgGv",
        "colab": {}
      },
      "source": [
        "from scipy.stats import bartlett"
      ],
      "execution_count": 0,
      "outputs": []
    },
    {
      "cell_type": "code",
      "metadata": {
        "colab_type": "code",
        "id": "GOh1Aicjjuvk",
        "outputId": "5046ee2b-bdfe-4ab6-8096-649735007db6",
        "colab": {
          "base_uri": "https://localhost:8080/"
        }
      },
      "source": [
        "bartlett(g1,g2)"
      ],
      "execution_count": 0,
      "outputs": [
        {
          "output_type": "execute_result",
          "data": {
            "text/plain": [
              "BartlettResult(statistic=0.1362399956245557, pvalue=0.7120479531925121)"
            ]
          },
          "metadata": {
            "tags": []
          },
          "execution_count": 56
        }
      ]
    },
    {
      "cell_type": "markdown",
      "metadata": {
        "colab_type": "text",
        "id": "AwAxvR35jxz6"
      },
      "source": [
        "pvalue greater than 0.05 implies variances are equal"
      ]
    },
    {
      "cell_type": "markdown",
      "metadata": {
        "colab_type": "text",
        "id": "LJTWCeNDkDmG"
      },
      "source": [
        "## Mann-Whitney U Test:\n",
        "\n",
        "\n",
        "*   two sample non parametric test for equality of means\n",
        "*   performed when samples either fail shapiro or levene test\n",
        "\n"
      ]
    },
    {
      "cell_type": "code",
      "metadata": {
        "colab_type": "code",
        "id": "C1Jkx9ncktaO",
        "colab": {}
      },
      "source": [
        "from scipy.stats import mannwhitneyu"
      ],
      "execution_count": 0,
      "outputs": []
    },
    {
      "cell_type": "code",
      "metadata": {
        "colab_type": "code",
        "id": "-tuJmK23l9_R",
        "outputId": "3475b25b-a613-41f2-9c58-efef53fa4ee6",
        "colab": {
          "base_uri": "https://localhost:8080/"
        }
      },
      "source": [
        "mannwhitneyu(g1,g2)"
      ],
      "execution_count": 0,
      "outputs": [
        {
          "output_type": "execute_result",
          "data": {
            "text/plain": [
              "MannwhitneyuResult(statistic=12.0, pvalue=0.0010608066929400244)"
            ]
          },
          "metadata": {
            "tags": []
          },
          "execution_count": 58
        }
      ]
    },
    {
      "cell_type": "markdown",
      "metadata": {
        "colab_type": "text",
        "id": "Y52UDNbvmBiz"
      },
      "source": [
        "pvalue<0.05 hence the means of the samples are not equal"
      ]
    },
    {
      "cell_type": "markdown",
      "metadata": {
        "colab_type": "text",
        "id": "veZrQcZ6mMRy"
      },
      "source": [
        "# Two sample test of means for Paired samples"
      ]
    },
    {
      "cell_type": "code",
      "metadata": {
        "colab_type": "code",
        "id": "DZY6bO8ZnbCL",
        "colab": {}
      },
      "source": [
        "# pre and post-surgery energy intake\n",
        "intake = np.array([\n",
        "[5260, 3910],\n",
        "[5470, 4220],\n",
        "[5640, 3885],\n",
        "[6180, 5160],\n",
        "[6390, 5645],\n",
        "[6515, 4680],\n",
        "[6805, 5265],\n",
        "[7515, 5975],\n",
        "[7515, 6790],\n",
        "[8230, 6900],\n",
        "[8770, 7335],\n",
        "])"
      ],
      "execution_count": 0,
      "outputs": []
    },
    {
      "cell_type": "code",
      "metadata": {
        "colab_type": "code",
        "id": "HkNW_9Mtnl6L",
        "colab": {}
      },
      "source": [
        "#creating samples\n",
        "g1=intake[:,0]\n",
        "g2=intake[:,1]"
      ],
      "execution_count": 0,
      "outputs": []
    },
    {
      "cell_type": "markdown",
      "metadata": {
        "colab_type": "text",
        "id": "AagpwPSko54n"
      },
      "source": [
        "## Checking parametric or non-parametric:"
      ]
    },
    {
      "cell_type": "code",
      "metadata": {
        "colab_type": "code",
        "id": "oUjVxumfoHS0",
        "outputId": "49eb7bd8-e599-48be-d5d9-c299f70c24ba",
        "colab": {
          "base_uri": "https://localhost:8080/"
        }
      },
      "source": [
        "#shapiro test for normality\n",
        "shapiro(g1),shapiro(g2)"
      ],
      "execution_count": 0,
      "outputs": [
        {
          "output_type": "execute_result",
          "data": {
            "text/plain": [
              "((0.952366054058075, 0.674299418926239),\n",
              " (0.9363633990287781, 0.47873449325561523))"
            ]
          },
          "metadata": {
            "tags": []
          },
          "execution_count": 61
        }
      ]
    },
    {
      "cell_type": "markdown",
      "metadata": {
        "colab_type": "text",
        "id": "ovlMCI6nohZI"
      },
      "source": [
        "both the samples are normal"
      ]
    },
    {
      "cell_type": "code",
      "metadata": {
        "colab_type": "code",
        "id": "mM2MfOihoxwb",
        "outputId": "15059485-b4d2-48de-9ba8-6e147c9e91a7",
        "colab": {
          "base_uri": "https://localhost:8080/"
        }
      },
      "source": [
        "#levene test for quality of varicances (perform bartlett instead of levene if atleast one of the samples failed shapiro test)\n",
        "levene(g1,g2)"
      ],
      "execution_count": 0,
      "outputs": [
        {
          "output_type": "execute_result",
          "data": {
            "text/plain": [
              "LeveneResult(statistic=0.07826946818973061, pvalue=0.7825293782115069)"
            ]
          },
          "metadata": {
            "tags": []
          },
          "execution_count": 62
        }
      ]
    },
    {
      "cell_type": "markdown",
      "metadata": {
        "colab_type": "text",
        "id": "WrA--5zKpMj3"
      },
      "source": [
        "pvalue>0.05 implies variances are equal so we need to perform ttest_1samp(g1-g2), but we will perform wilcoxon too just for example."
      ]
    },
    {
      "cell_type": "markdown",
      "metadata": {
        "colab_type": "text",
        "id": "LnXFPq7Opp8Q"
      },
      "source": [
        "## Two sample paired parametric ttest:"
      ]
    },
    {
      "cell_type": "code",
      "metadata": {
        "colab_type": "code",
        "id": "7-ooHLvOp0mH",
        "outputId": "74210433-ab1f-4be3-8f9b-6095ca1b2989",
        "colab": {
          "base_uri": "https://localhost:8080/"
        }
      },
      "source": [
        "ttest_1samp(g1-g2,0)"
      ],
      "execution_count": 0,
      "outputs": [
        {
          "output_type": "execute_result",
          "data": {
            "text/plain": [
              "Ttest_1sampResult(statistic=11.941392877647603, pvalue=3.059020942934875e-07)"
            ]
          },
          "metadata": {
            "tags": []
          },
          "execution_count": 63
        }
      ]
    },
    {
      "cell_type": "markdown",
      "metadata": {
        "colab_type": "text",
        "id": "-_Sk9Bxhp7OM"
      },
      "source": [
        "pvalue < 0.05 implies the means are not equal"
      ]
    },
    {
      "cell_type": "markdown",
      "metadata": {
        "colab_type": "text",
        "id": "mdmBjYtMqGEy"
      },
      "source": [
        "## Two sample paired non-parametric ttest:(wilcoxon)"
      ]
    },
    {
      "cell_type": "code",
      "metadata": {
        "colab_type": "code",
        "id": "UQSwnqxlqYQe",
        "outputId": "debb3007-52e4-4cf9-9a62-303895d891a4",
        "colab": {
          "base_uri": "https://localhost:8080/"
        }
      },
      "source": [
        "wilcoxon(g1,g2)"
      ],
      "execution_count": 0,
      "outputs": [
        {
          "output_type": "execute_result",
          "data": {
            "text/plain": [
              "WilcoxonResult(statistic=0.0, pvalue=0.0033300139117459797)"
            ]
          },
          "metadata": {
            "tags": []
          },
          "execution_count": 64
        }
      ]
    },
    {
      "cell_type": "markdown",
      "metadata": {
        "colab_type": "text",
        "id": "BKiClmCGqgUl"
      },
      "source": [
        "pvalue<0.05 implies the means are not equal"
      ]
    },
    {
      "cell_type": "markdown",
      "metadata": {
        "colab_type": "text",
        "id": "ZJfnOU5zrIbU"
      },
      "source": [
        "#Test of proportions"
      ]
    },
    {
      "cell_type": "markdown",
      "metadata": {
        "colab_type": "text",
        "id": "9MvQD4TRz7Rz"
      },
      "source": [
        "## z test"
      ]
    },
    {
      "cell_type": "code",
      "metadata": {
        "colab_type": "code",
        "id": "wfE5K0ffc92A",
        "colab": {}
      },
      "source": [
        "from statsmodels.stats.proportion import proportions_ztest"
      ],
      "execution_count": 0,
      "outputs": []
    },
    {
      "cell_type": "code",
      "metadata": {
        "colab_type": "code",
        "id": "iCekFuVEz_Ax",
        "colab": {}
      },
      "source": [
        "df=pd.read_csv('/content/drive/My Drive/Colab Notebooks/data_colab/HR.txt',sep='\\t',index_col=0)"
      ],
      "execution_count": 0,
      "outputs": []
    },
    {
      "cell_type": "code",
      "metadata": {
        "colab_type": "code",
        "id": "4WnDTXGD1NjH",
        "outputId": "a6b22e33-d4af-44e7-a835-c89effbfac1d",
        "colab": {
          "base_uri": "https://localhost:8080/"
        }
      },
      "source": [
        "df.head()"
      ],
      "execution_count": 0,
      "outputs": [
        {
          "output_type": "execute_result",
          "data": {
            "text/html": [
              "<div>\n",
              "<style scoped>\n",
              "    .dataframe tbody tr th:only-of-type {\n",
              "        vertical-align: middle;\n",
              "    }\n",
              "\n",
              "    .dataframe tbody tr th {\n",
              "        vertical-align: top;\n",
              "    }\n",
              "\n",
              "    .dataframe thead th {\n",
              "        text-align: right;\n",
              "    }\n",
              "</style>\n",
              "<table border=\"1\" class=\"dataframe\">\n",
              "  <thead>\n",
              "    <tr style=\"text-align: right;\">\n",
              "      <th></th>\n",
              "      <th>Attrition</th>\n",
              "      <th>Age</th>\n",
              "      <th>BusinessTravel</th>\n",
              "      <th>DailyRate</th>\n",
              "      <th>Department</th>\n",
              "      <th>DistanceFromHome</th>\n",
              "      <th>Education</th>\n",
              "      <th>EducationField</th>\n",
              "      <th>EmployeeCount</th>\n",
              "      <th>EmployeeNumber</th>\n",
              "      <th>EnvironmentSatisfaction</th>\n",
              "      <th>Gender</th>\n",
              "      <th>HourlyRate</th>\n",
              "      <th>JobInvolvement</th>\n",
              "      <th>JobLevel</th>\n",
              "      <th>JobRole</th>\n",
              "      <th>JobSatisfaction</th>\n",
              "      <th>MaritalStatus</th>\n",
              "      <th>MonthlyIncome</th>\n",
              "      <th>MonthlyRate</th>\n",
              "      <th>NumCompaniesWorked</th>\n",
              "      <th>OverTime</th>\n",
              "      <th>PercentSalaryHike</th>\n",
              "      <th>PerformanceRating</th>\n",
              "      <th>RelationshipSatisfaction</th>\n",
              "      <th>StandardHours</th>\n",
              "      <th>StockOptionLevel</th>\n",
              "      <th>TotalWorkingYears</th>\n",
              "      <th>TrainingTimesLastYear</th>\n",
              "      <th>WorkLifeBalance</th>\n",
              "      <th>YearsAtCompany</th>\n",
              "      <th>YearsInCurrentRole</th>\n",
              "      <th>YearsSinceLastPromotion</th>\n",
              "      <th>YearsWithCurrManager</th>\n",
              "    </tr>\n",
              "    <tr>\n",
              "      <th>Individual</th>\n",
              "      <th></th>\n",
              "      <th></th>\n",
              "      <th></th>\n",
              "      <th></th>\n",
              "      <th></th>\n",
              "      <th></th>\n",
              "      <th></th>\n",
              "      <th></th>\n",
              "      <th></th>\n",
              "      <th></th>\n",
              "      <th></th>\n",
              "      <th></th>\n",
              "      <th></th>\n",
              "      <th></th>\n",
              "      <th></th>\n",
              "      <th></th>\n",
              "      <th></th>\n",
              "      <th></th>\n",
              "      <th></th>\n",
              "      <th></th>\n",
              "      <th></th>\n",
              "      <th></th>\n",
              "      <th></th>\n",
              "      <th></th>\n",
              "      <th></th>\n",
              "      <th></th>\n",
              "      <th></th>\n",
              "      <th></th>\n",
              "      <th></th>\n",
              "      <th></th>\n",
              "      <th></th>\n",
              "      <th></th>\n",
              "      <th></th>\n",
              "      <th></th>\n",
              "    </tr>\n",
              "  </thead>\n",
              "  <tbody>\n",
              "    <tr>\n",
              "      <th>Ind1</th>\n",
              "      <td>Yes</td>\n",
              "      <td>41</td>\n",
              "      <td>1</td>\n",
              "      <td>1102</td>\n",
              "      <td>1</td>\n",
              "      <td>1</td>\n",
              "      <td>2</td>\n",
              "      <td>1</td>\n",
              "      <td>1</td>\n",
              "      <td>1</td>\n",
              "      <td>2</td>\n",
              "      <td>2</td>\n",
              "      <td>94</td>\n",
              "      <td>3</td>\n",
              "      <td>2</td>\n",
              "      <td>1</td>\n",
              "      <td>4</td>\n",
              "      <td>1</td>\n",
              "      <td>5993</td>\n",
              "      <td>19479</td>\n",
              "      <td>8</td>\n",
              "      <td>1</td>\n",
              "      <td>11</td>\n",
              "      <td>3</td>\n",
              "      <td>1</td>\n",
              "      <td>80</td>\n",
              "      <td>0</td>\n",
              "      <td>8</td>\n",
              "      <td>0</td>\n",
              "      <td>1</td>\n",
              "      <td>6</td>\n",
              "      <td>4</td>\n",
              "      <td>0</td>\n",
              "      <td>5</td>\n",
              "    </tr>\n",
              "    <tr>\n",
              "      <th>Ind2</th>\n",
              "      <td>No</td>\n",
              "      <td>49</td>\n",
              "      <td>2</td>\n",
              "      <td>279</td>\n",
              "      <td>2</td>\n",
              "      <td>8</td>\n",
              "      <td>1</td>\n",
              "      <td>1</td>\n",
              "      <td>1</td>\n",
              "      <td>2</td>\n",
              "      <td>3</td>\n",
              "      <td>1</td>\n",
              "      <td>61</td>\n",
              "      <td>2</td>\n",
              "      <td>2</td>\n",
              "      <td>2</td>\n",
              "      <td>2</td>\n",
              "      <td>2</td>\n",
              "      <td>5130</td>\n",
              "      <td>24907</td>\n",
              "      <td>1</td>\n",
              "      <td>2</td>\n",
              "      <td>23</td>\n",
              "      <td>4</td>\n",
              "      <td>4</td>\n",
              "      <td>80</td>\n",
              "      <td>1</td>\n",
              "      <td>10</td>\n",
              "      <td>3</td>\n",
              "      <td>3</td>\n",
              "      <td>10</td>\n",
              "      <td>7</td>\n",
              "      <td>1</td>\n",
              "      <td>7</td>\n",
              "    </tr>\n",
              "    <tr>\n",
              "      <th>Ind3</th>\n",
              "      <td>Yes</td>\n",
              "      <td>37</td>\n",
              "      <td>1</td>\n",
              "      <td>1373</td>\n",
              "      <td>2</td>\n",
              "      <td>2</td>\n",
              "      <td>2</td>\n",
              "      <td>6</td>\n",
              "      <td>1</td>\n",
              "      <td>4</td>\n",
              "      <td>4</td>\n",
              "      <td>1</td>\n",
              "      <td>92</td>\n",
              "      <td>2</td>\n",
              "      <td>1</td>\n",
              "      <td>3</td>\n",
              "      <td>3</td>\n",
              "      <td>1</td>\n",
              "      <td>2090</td>\n",
              "      <td>2396</td>\n",
              "      <td>6</td>\n",
              "      <td>1</td>\n",
              "      <td>15</td>\n",
              "      <td>3</td>\n",
              "      <td>2</td>\n",
              "      <td>80</td>\n",
              "      <td>0</td>\n",
              "      <td>7</td>\n",
              "      <td>3</td>\n",
              "      <td>3</td>\n",
              "      <td>0</td>\n",
              "      <td>0</td>\n",
              "      <td>0</td>\n",
              "      <td>0</td>\n",
              "    </tr>\n",
              "    <tr>\n",
              "      <th>Ind4</th>\n",
              "      <td>No</td>\n",
              "      <td>33</td>\n",
              "      <td>2</td>\n",
              "      <td>1392</td>\n",
              "      <td>2</td>\n",
              "      <td>3</td>\n",
              "      <td>4</td>\n",
              "      <td>1</td>\n",
              "      <td>1</td>\n",
              "      <td>5</td>\n",
              "      <td>4</td>\n",
              "      <td>2</td>\n",
              "      <td>56</td>\n",
              "      <td>3</td>\n",
              "      <td>1</td>\n",
              "      <td>2</td>\n",
              "      <td>3</td>\n",
              "      <td>2</td>\n",
              "      <td>2909</td>\n",
              "      <td>23159</td>\n",
              "      <td>1</td>\n",
              "      <td>1</td>\n",
              "      <td>11</td>\n",
              "      <td>3</td>\n",
              "      <td>3</td>\n",
              "      <td>80</td>\n",
              "      <td>0</td>\n",
              "      <td>8</td>\n",
              "      <td>3</td>\n",
              "      <td>3</td>\n",
              "      <td>8</td>\n",
              "      <td>7</td>\n",
              "      <td>3</td>\n",
              "      <td>0</td>\n",
              "    </tr>\n",
              "    <tr>\n",
              "      <th>Ind5</th>\n",
              "      <td>No</td>\n",
              "      <td>27</td>\n",
              "      <td>1</td>\n",
              "      <td>591</td>\n",
              "      <td>2</td>\n",
              "      <td>2</td>\n",
              "      <td>1</td>\n",
              "      <td>2</td>\n",
              "      <td>1</td>\n",
              "      <td>7</td>\n",
              "      <td>1</td>\n",
              "      <td>1</td>\n",
              "      <td>40</td>\n",
              "      <td>3</td>\n",
              "      <td>1</td>\n",
              "      <td>3</td>\n",
              "      <td>2</td>\n",
              "      <td>2</td>\n",
              "      <td>3468</td>\n",
              "      <td>16632</td>\n",
              "      <td>9</td>\n",
              "      <td>2</td>\n",
              "      <td>12</td>\n",
              "      <td>3</td>\n",
              "      <td>4</td>\n",
              "      <td>80</td>\n",
              "      <td>1</td>\n",
              "      <td>6</td>\n",
              "      <td>3</td>\n",
              "      <td>3</td>\n",
              "      <td>2</td>\n",
              "      <td>2</td>\n",
              "      <td>2</td>\n",
              "      <td>2</td>\n",
              "    </tr>\n",
              "  </tbody>\n",
              "</table>\n",
              "</div>"
            ],
            "text/plain": [
              "            Attrition  Age  ...  YearsSinceLastPromotion  YearsWithCurrManager\n",
              "Individual                  ...                                               \n",
              "Ind1              Yes   41  ...                        0                     5\n",
              "Ind2               No   49  ...                        1                     7\n",
              "Ind3              Yes   37  ...                        0                     0\n",
              "Ind4               No   33  ...                        3                     0\n",
              "Ind5               No   27  ...                        2                     2\n",
              "\n",
              "[5 rows x 34 columns]"
            ]
          },
          "metadata": {
            "tags": []
          },
          "execution_count": 67
        }
      ]
    },
    {
      "cell_type": "code",
      "metadata": {
        "colab_type": "code",
        "id": "ZpeVKEIo6Mf5",
        "outputId": "5f2e12b7-5a0d-4c31-e9cb-d7df0a6099ee",
        "colab": {
          "base_uri": "https://localhost:8080/"
        }
      },
      "source": [
        "df.shape"
      ],
      "execution_count": 0,
      "outputs": [
        {
          "output_type": "execute_result",
          "data": {
            "text/plain": [
              "(1470, 34)"
            ]
          },
          "metadata": {
            "tags": []
          },
          "execution_count": 68
        }
      ]
    },
    {
      "cell_type": "code",
      "metadata": {
        "colab_type": "code",
        "id": "rG_3YXM0-ucX",
        "outputId": "dfe3f31b-205f-4ea0-a52e-b9f475a6eea6",
        "colab": {
          "base_uri": "https://localhost:8080/"
        }
      },
      "source": [
        "df.Gender.value_counts()"
      ],
      "execution_count": 0,
      "outputs": [
        {
          "output_type": "execute_result",
          "data": {
            "text/plain": [
              "1    882\n",
              "2    588\n",
              "Name: Gender, dtype: int64"
            ]
          },
          "metadata": {
            "tags": []
          },
          "execution_count": 69
        }
      ]
    },
    {
      "cell_type": "code",
      "metadata": {
        "colab_type": "code",
        "id": "aPJJqOCQ-oTw",
        "outputId": "64d33390-01cf-4330-f915-ded6f8cb930d",
        "colab": {
          "base_uri": "https://localhost:8080/"
        }
      },
      "source": [
        "ct=pd.crosstab(df.Attrition, df.Gender)\n",
        "ct"
      ],
      "execution_count": 0,
      "outputs": [
        {
          "output_type": "execute_result",
          "data": {
            "text/html": [
              "<div>\n",
              "<style scoped>\n",
              "    .dataframe tbody tr th:only-of-type {\n",
              "        vertical-align: middle;\n",
              "    }\n",
              "\n",
              "    .dataframe tbody tr th {\n",
              "        vertical-align: top;\n",
              "    }\n",
              "\n",
              "    .dataframe thead th {\n",
              "        text-align: right;\n",
              "    }\n",
              "</style>\n",
              "<table border=\"1\" class=\"dataframe\">\n",
              "  <thead>\n",
              "    <tr style=\"text-align: right;\">\n",
              "      <th>Gender</th>\n",
              "      <th>1</th>\n",
              "      <th>2</th>\n",
              "    </tr>\n",
              "    <tr>\n",
              "      <th>Attrition</th>\n",
              "      <th></th>\n",
              "      <th></th>\n",
              "    </tr>\n",
              "  </thead>\n",
              "  <tbody>\n",
              "    <tr>\n",
              "      <th>No</th>\n",
              "      <td>732</td>\n",
              "      <td>501</td>\n",
              "    </tr>\n",
              "    <tr>\n",
              "      <th>Yes</th>\n",
              "      <td>150</td>\n",
              "      <td>87</td>\n",
              "    </tr>\n",
              "  </tbody>\n",
              "</table>\n",
              "</div>"
            ],
            "text/plain": [
              "Gender       1    2\n",
              "Attrition          \n",
              "No         732  501\n",
              "Yes        150   87"
            ]
          },
          "metadata": {
            "tags": []
          },
          "execution_count": 70
        }
      ]
    },
    {
      "cell_type": "markdown",
      "metadata": {
        "colab_type": "text",
        "id": "EkQqEpOyM3qr"
      },
      "source": [
        "1 is male and 2 is female"
      ]
    },
    {
      "cell_type": "markdown",
      "metadata": {
        "colab_type": "text",
        "id": "BDIverFXMfTm"
      },
      "source": [
        "## One sample z test:"
      ]
    },
    {
      "cell_type": "code",
      "metadata": {
        "colab_type": "code",
        "id": "57XoCvxkMlb1",
        "outputId": "7b4c544f-c4f9-4ea6-9a8e-14d9646fdff6",
        "colab": {
          "base_uri": "https://localhost:8080/"
        }
      },
      "source": [
        "# lets compare the attrition proportion of the males to the population.\n",
        "p1= 150/882\n",
        "pp=237/1470\n",
        "zdata=(p1-pp)/np.sqrt(pp*(1-pp)/882)\n",
        "pval=2*(1-stats.norm.cdf(abs(zdata)))\n",
        "zdata,pval"
      ],
      "execution_count": 0,
      "outputs": [
        {
          "output_type": "execute_result",
          "data": {
            "text/plain": [
              "(0.7142034332654861, 0.47510139421149633)"
            ]
          },
          "metadata": {
            "tags": []
          },
          "execution_count": 71
        }
      ]
    },
    {
      "cell_type": "code",
      "metadata": {
        "colab_type": "code",
        "id": "jzkZgiJShMu0",
        "outputId": "faf31bf0-6c22-44f2-8db4-f05c27fae099",
        "colab": {
          "base_uri": "https://localhost:8080/"
        }
      },
      "source": [
        "#using the inbuilt function\n",
        "proportions_ztest(150,882,237/1470)"
      ],
      "execution_count": 0,
      "outputs": [
        {
          "output_type": "execute_result",
          "data": {
            "text/plain": [
              "(0.6990813644336124, 0.48450118399869746)"
            ]
          },
          "metadata": {
            "tags": []
          },
          "execution_count": 72
        }
      ]
    },
    {
      "cell_type": "markdown",
      "metadata": {
        "colab_type": "text",
        "id": "qF9l9C0APxF_"
      },
      "source": [
        "##Two sample z test:"
      ]
    },
    {
      "cell_type": "code",
      "metadata": {
        "colab_type": "code",
        "id": "Z9TKX1BT--__",
        "outputId": "98ac211a-d047-4205-8e12-0d26bd046120",
        "colab": {
          "base_uri": "https://localhost:8080/"
        }
      },
      "source": [
        "#comparing the attrition proportions of males and females\n",
        "p1=150/882\n",
        "p2=87/588\n",
        "pp=237/1470\n",
        "p1,p2,pp"
      ],
      "execution_count": 0,
      "outputs": [
        {
          "output_type": "execute_result",
          "data": {
            "text/plain": [
              "(0.17006802721088435, 0.14795918367346939, 0.16122448979591836)"
            ]
          },
          "metadata": {
            "tags": []
          },
          "execution_count": 73
        }
      ]
    },
    {
      "cell_type": "code",
      "metadata": {
        "colab_type": "code",
        "id": "Ecx2xzRi_ogz",
        "outputId": "a9164f66-ad50-49fc-ea6b-c08902f7d1e8",
        "colab": {
          "base_uri": "https://localhost:8080/"
        }
      },
      "source": [
        "zdata=(p1-p2)/(((pp*(1-pp))*((1/882)+(1/588)))**0.5)\n",
        "zdata"
      ],
      "execution_count": 0,
      "outputs": [
        {
          "output_type": "execute_result",
          "data": {
            "text/plain": [
              "1.1292547809155016"
            ]
          },
          "metadata": {
            "tags": []
          },
          "execution_count": 74
        }
      ]
    },
    {
      "cell_type": "code",
      "metadata": {
        "colab_type": "code",
        "id": "2sMHkzxmAQlS",
        "outputId": "1aaba5ed-a383-4354-d170-42921b185046",
        "colab": {
          "base_uri": "https://localhost:8080/"
        }
      },
      "source": [
        "pval=2*(1-stats.norm.cdf(abs(zdata)))\n",
        "pval"
      ],
      "execution_count": 0,
      "outputs": [
        {
          "output_type": "execute_result",
          "data": {
            "text/plain": [
              "0.2587903704911598"
            ]
          },
          "metadata": {
            "tags": []
          },
          "execution_count": 75
        }
      ]
    },
    {
      "cell_type": "code",
      "metadata": {
        "colab_type": "code",
        "id": "5xaLDSmfdG5T",
        "outputId": "a712df03-65e2-421d-b683-fa44eb2db868",
        "colab": {
          "base_uri": "https://localhost:8080/"
        }
      },
      "source": [
        "#using inbuilt function\n",
        "counts=np.array([150,87])\n",
        "obs=np.array([882,588])\n",
        "zdata,pvalue=proportions_ztest(counts,obs)\n",
        "zdata,pvalue"
      ],
      "execution_count": 0,
      "outputs": [
        {
          "output_type": "execute_result",
          "data": {
            "text/plain": [
              "(1.1292547809155016, 0.2587903704911598)"
            ]
          },
          "metadata": {
            "tags": []
          },
          "execution_count": 76
        }
      ]
    },
    {
      "cell_type": "code",
      "metadata": {
        "colab_type": "code",
        "id": "HwOapKe5Ahue",
        "colab": {}
      },
      "source": [
        "df=pd.read_csv('/content/drive/My Drive/Colab Notebooks/data_colab/Migraine.csv',index_col=0)"
      ],
      "execution_count": 0,
      "outputs": []
    },
    {
      "cell_type": "code",
      "metadata": {
        "colab_type": "code",
        "id": "PMSRmjTnE3CX",
        "outputId": "685d5f97-20d3-4068-9c67-39890de8a038",
        "colab": {
          "base_uri": "https://localhost:8080/"
        }
      },
      "source": [
        "df.head()"
      ],
      "execution_count": 0,
      "outputs": [
        {
          "output_type": "execute_result",
          "data": {
            "text/html": [
              "<div>\n",
              "<style scoped>\n",
              "    .dataframe tbody tr th:only-of-type {\n",
              "        vertical-align: middle;\n",
              "    }\n",
              "\n",
              "    .dataframe tbody tr th {\n",
              "        vertical-align: top;\n",
              "    }\n",
              "\n",
              "    .dataframe thead th {\n",
              "        text-align: right;\n",
              "    }\n",
              "</style>\n",
              "<table border=\"1\" class=\"dataframe\">\n",
              "  <thead>\n",
              "    <tr style=\"text-align: right;\">\n",
              "      <th></th>\n",
              "      <th>id</th>\n",
              "      <th>time</th>\n",
              "      <th>dos</th>\n",
              "      <th>hatype</th>\n",
              "      <th>age</th>\n",
              "      <th>airq</th>\n",
              "      <th>medication</th>\n",
              "      <th>headache</th>\n",
              "      <th>Gender</th>\n",
              "    </tr>\n",
              "  </thead>\n",
              "  <tbody>\n",
              "    <tr>\n",
              "      <th>1</th>\n",
              "      <td>1</td>\n",
              "      <td>-11</td>\n",
              "      <td>753</td>\n",
              "      <td>Aura</td>\n",
              "      <td>30</td>\n",
              "      <td>9.0</td>\n",
              "      <td>continuing</td>\n",
              "      <td>yes</td>\n",
              "      <td>female</td>\n",
              "    </tr>\n",
              "    <tr>\n",
              "      <th>2</th>\n",
              "      <td>1</td>\n",
              "      <td>-10</td>\n",
              "      <td>754</td>\n",
              "      <td>Aura</td>\n",
              "      <td>30</td>\n",
              "      <td>7.0</td>\n",
              "      <td>continuing</td>\n",
              "      <td>yes</td>\n",
              "      <td>female</td>\n",
              "    </tr>\n",
              "    <tr>\n",
              "      <th>3</th>\n",
              "      <td>1</td>\n",
              "      <td>-9</td>\n",
              "      <td>755</td>\n",
              "      <td>Aura</td>\n",
              "      <td>30</td>\n",
              "      <td>10.0</td>\n",
              "      <td>continuing</td>\n",
              "      <td>yes</td>\n",
              "      <td>female</td>\n",
              "    </tr>\n",
              "    <tr>\n",
              "      <th>4</th>\n",
              "      <td>1</td>\n",
              "      <td>-8</td>\n",
              "      <td>756</td>\n",
              "      <td>Aura</td>\n",
              "      <td>30</td>\n",
              "      <td>13.0</td>\n",
              "      <td>continuing</td>\n",
              "      <td>yes</td>\n",
              "      <td>female</td>\n",
              "    </tr>\n",
              "    <tr>\n",
              "      <th>5</th>\n",
              "      <td>1</td>\n",
              "      <td>-7</td>\n",
              "      <td>757</td>\n",
              "      <td>Aura</td>\n",
              "      <td>30</td>\n",
              "      <td>18.0</td>\n",
              "      <td>continuing</td>\n",
              "      <td>yes</td>\n",
              "      <td>female</td>\n",
              "    </tr>\n",
              "  </tbody>\n",
              "</table>\n",
              "</div>"
            ],
            "text/plain": [
              "   id  time  dos hatype  age  airq  medication headache  Gender\n",
              "1   1   -11  753   Aura   30   9.0  continuing      yes  female\n",
              "2   1   -10  754   Aura   30   7.0  continuing      yes  female\n",
              "3   1    -9  755   Aura   30  10.0  continuing      yes  female\n",
              "4   1    -8  756   Aura   30  13.0  continuing      yes  female\n",
              "5   1    -7  757   Aura   30  18.0  continuing      yes  female"
            ]
          },
          "metadata": {
            "tags": []
          },
          "execution_count": 78
        }
      ]
    },
    {
      "cell_type": "code",
      "metadata": {
        "colab_type": "code",
        "id": "SDfTrKymveSJ",
        "outputId": "4f323f14-712e-4150-8a56-16cfd68d3f14",
        "colab": {
          "base_uri": "https://localhost:8080/"
        }
      },
      "source": [
        "g1=df.age[df.headache=='yes']\n",
        "g2=df.age[df.headache=='no']\n",
        "df.boxplot(column='age',by='headache')\n"
      ],
      "execution_count": 0,
      "outputs": [
        {
          "output_type": "execute_result",
          "data": {
            "text/plain": [
              "<matplotlib.axes._subplots.AxesSubplot at 0x7f6946d41cc0>"
            ]
          },
          "metadata": {
            "tags": []
          },
          "execution_count": 79
        },
        {
          "output_type": "display_data",
          "data": {
            "image/png": "[encoded data removed]",
            "text/plain": [
              "<Figure size 432x288 with 1 Axes>"
            ]
          },
          "metadata": {
            "tags": []
          }
        }
      ]
    },
    {
      "cell_type": "code",
      "metadata": {
        "colab_type": "code",
        "id": "QoTJkuKzE4Q4",
        "outputId": "a0ecb534-c11d-4563-e9e0-6f109d41169f",
        "colab": {
          "base_uri": "https://localhost:8080/"
        }
      },
      "source": [
        "ct=pd.crosstab(df.headache,df.Gender)\n",
        "ct"
      ],
      "execution_count": 0,
      "outputs": [
        {
          "output_type": "execute_result",
          "data": {
            "text/html": [
              "<div>\n",
              "<style scoped>\n",
              "    .dataframe tbody tr th:only-of-type {\n",
              "        vertical-align: middle;\n",
              "    }\n",
              "\n",
              "    .dataframe tbody tr th {\n",
              "        vertical-align: top;\n",
              "    }\n",
              "\n",
              "    .dataframe thead th {\n",
              "        text-align: right;\n",
              "    }\n",
              "</style>\n",
              "<table border=\"1\" class=\"dataframe\">\n",
              "  <thead>\n",
              "    <tr style=\"text-align: right;\">\n",
              "      <th>Gender</th>\n",
              "      <th>female</th>\n",
              "      <th>male</th>\n",
              "    </tr>\n",
              "    <tr>\n",
              "      <th>headache</th>\n",
              "      <th></th>\n",
              "      <th></th>\n",
              "    </tr>\n",
              "  </thead>\n",
              "  <tbody>\n",
              "    <tr>\n",
              "      <th>no</th>\n",
              "      <td>1266</td>\n",
              "      <td>220</td>\n",
              "    </tr>\n",
              "    <tr>\n",
              "      <th>yes</th>\n",
              "      <td>2279</td>\n",
              "      <td>387</td>\n",
              "    </tr>\n",
              "  </tbody>\n",
              "</table>\n",
              "</div>"
            ],
            "text/plain": [
              "Gender    female  male\n",
              "headache              \n",
              "no          1266   220\n",
              "yes         2279   387"
            ]
          },
          "metadata": {
            "tags": []
          },
          "execution_count": 80
        }
      ]
    },
    {
      "cell_type": "code",
      "metadata": {
        "colab_type": "code",
        "id": "Y_H0oIbOFsMg",
        "colab": {}
      },
      "source": [
        "def twosampztest(x1,x2,n1,n2):\n",
        "  p1=x1/n1\n",
        "  p2=x2/n2\n",
        "  pp=(x1+x2)/(n1+n2)\n",
        "  zdata=(p1-p2)/np.sqrt(pp*(1-pp)*((1/n1)+(1/n2)))\n",
        "  pval=2*(1-stats.norm.cdf(abs(zdata)))\n",
        "  return zdata,pval"
      ],
      "execution_count": 0,
      "outputs": []
    },
    {
      "cell_type": "code",
      "metadata": {
        "colab_type": "code",
        "id": "OaKHkFHxHoFt",
        "outputId": "3ad39db0-86da-460b-f028-ed9a30539e8c",
        "colab": {
          "base_uri": "https://localhost:8080/"
        }
      },
      "source": [
        "twosampztest(2279,387,2279+1266,387+220)"
      ],
      "execution_count": 0,
      "outputs": [
        {
          "output_type": "execute_result",
          "data": {
            "text/plain": [
              "(0.2524275906432048, 0.8007105762350393)"
            ]
          },
          "metadata": {
            "tags": []
          },
          "execution_count": 82
        }
      ]
    },
    {
      "cell_type": "code",
      "metadata": {
        "colab_type": "code",
        "id": "SRomKb6FdyTy",
        "outputId": "59960a0f-2be1-44f6-db1b-85f6df93baf4",
        "colab": {
          "base_uri": "https://localhost:8080/"
        }
      },
      "source": [
        "#using inbuilt function\n",
        "counts=np.array([2279,387])\n",
        "obs=np.array([2279+1266,387+220])\n",
        "zdata,pvalue=proportions_ztest(counts,obs)\n",
        "zdata,pvalue"
      ],
      "execution_count": 0,
      "outputs": [
        {
          "output_type": "execute_result",
          "data": {
            "text/plain": [
              "(0.2524275906432048, 0.8007105762350393)"
            ]
          },
          "metadata": {
            "tags": []
          },
          "execution_count": 83
        }
      ]
    },
    {
      "cell_type": "markdown",
      "metadata": {
        "colab_type": "text",
        "id": "1CNV05tSQU4m"
      },
      "source": [
        "pval>0.05 implies proportions are same "
      ]
    },
    {
      "cell_type": "markdown",
      "metadata": {
        "colab_type": "text",
        "id": "6WkxyxNtH45x"
      },
      "source": [
        "## Chi-square Test (proportion test for more than 2 samples)"
      ]
    },
    {
      "cell_type": "code",
      "metadata": {
        "colab_type": "code",
        "id": "MVx81wHyWPE0",
        "colab": {}
      },
      "source": [
        "from scipy.stats import chisquare, chi2_contingency"
      ],
      "execution_count": 0,
      "outputs": []
    },
    {
      "cell_type": "code",
      "metadata": {
        "colab_type": "code",
        "id": "b1Qh0RU_kOIk",
        "outputId": "449dade0-562c-4327-de1f-35621d40916d",
        "colab": {
          "base_uri": "https://localhost:8080/",
          "height": 168
        }
      },
      "source": [
        "ct=pd.crosstab(df.hatype, df.Gender)\n",
        "ct"
      ],
      "execution_count": 0,
      "outputs": [
        {
          "output_type": "execute_result",
          "data": {
            "text/html": [
              "<div>\n",
              "<style scoped>\n",
              "    .dataframe tbody tr th:only-of-type {\n",
              "        vertical-align: middle;\n",
              "    }\n",
              "\n",
              "    .dataframe tbody tr th {\n",
              "        vertical-align: top;\n",
              "    }\n",
              "\n",
              "    .dataframe thead th {\n",
              "        text-align: right;\n",
              "    }\n",
              "</style>\n",
              "<table border=\"1\" class=\"dataframe\">\n",
              "  <thead>\n",
              "    <tr style=\"text-align: right;\">\n",
              "      <th>Gender</th>\n",
              "      <th>female</th>\n",
              "      <th>male</th>\n",
              "    </tr>\n",
              "    <tr>\n",
              "      <th>hatype</th>\n",
              "      <th></th>\n",
              "      <th></th>\n",
              "    </tr>\n",
              "  </thead>\n",
              "  <tbody>\n",
              "    <tr>\n",
              "      <th>Aura</th>\n",
              "      <td>1593</td>\n",
              "      <td>117</td>\n",
              "    </tr>\n",
              "    <tr>\n",
              "      <th>Mixed</th>\n",
              "      <td>291</td>\n",
              "      <td>166</td>\n",
              "    </tr>\n",
              "    <tr>\n",
              "      <th>No Aura</th>\n",
              "      <td>1661</td>\n",
              "      <td>324</td>\n",
              "    </tr>\n",
              "  </tbody>\n",
              "</table>\n",
              "</div>"
            ],
            "text/plain": [
              "Gender   female  male\n",
              "hatype               \n",
              "Aura       1593   117\n",
              "Mixed       291   166\n",
              "No Aura    1661   324"
            ]
          },
          "metadata": {
            "tags": []
          },
          "execution_count": 85
        }
      ]
    },
    {
      "cell_type": "code",
      "metadata": {
        "colab_type": "code",
        "id": "77VMUwY0kWY6",
        "outputId": "d84eeed5-6479-4fd8-9bae-08b6c21d782f",
        "colab": {
          "base_uri": "https://localhost:8080/",
          "height": 121
        }
      },
      "source": [
        "chi2_contingency(ct)"
      ],
      "execution_count": 0,
      "outputs": [
        {
          "output_type": "execute_result",
          "data": {
            "text/plain": [
              "(259.94962922327386,\n",
              " 3.569893234435195e-57,\n",
              " 2,\n",
              " array([[1460.00722543,  249.99277457],\n",
              "        [ 390.18906551,   66.81093449],\n",
              "        [1694.80370906,  290.19629094]]))"
            ]
          },
          "metadata": {
            "tags": []
          },
          "execution_count": 86
        }
      ]
    },
    {
      "cell_type": "markdown",
      "metadata": {
        "colab_type": "text",
        "id": "wma3Y2ZFklJw"
      },
      "source": [
        "pvalue<0.05 so we can say gender does influence the type of headache"
      ]
    },
    {
      "cell_type": "code",
      "metadata": {
        "colab_type": "code",
        "id": "yr1_T4NVS-oS",
        "colab": {}
      },
      "source": [
        "obs=np.array([410,340,250,95,85,70])"
      ],
      "execution_count": 0,
      "outputs": []
    },
    {
      "cell_type": "code",
      "metadata": {
        "colab_type": "code",
        "id": "IdCEyOEOQRjj",
        "outputId": "2174e882-3b9c-4202-a2d7-f0117e01590e",
        "colab": {
          "base_uri": "https://localhost:8080/",
          "height": 108
        }
      },
      "source": [
        "df=pd.DataFrame(obs.reshape(2,3),columns=['healthy','mild','severe'],index=['sample1','sample2'])\n",
        "df"
      ],
      "execution_count": 0,
      "outputs": [
        {
          "output_type": "execute_result",
          "data": {
            "text/html": [
              "<div>\n",
              "<style scoped>\n",
              "    .dataframe tbody tr th:only-of-type {\n",
              "        vertical-align: middle;\n",
              "    }\n",
              "\n",
              "    .dataframe tbody tr th {\n",
              "        vertical-align: top;\n",
              "    }\n",
              "\n",
              "    .dataframe thead th {\n",
              "        text-align: right;\n",
              "    }\n",
              "</style>\n",
              "<table border=\"1\" class=\"dataframe\">\n",
              "  <thead>\n",
              "    <tr style=\"text-align: right;\">\n",
              "      <th></th>\n",
              "      <th>healthy</th>\n",
              "      <th>mild</th>\n",
              "      <th>severe</th>\n",
              "    </tr>\n",
              "  </thead>\n",
              "  <tbody>\n",
              "    <tr>\n",
              "      <th>sample1</th>\n",
              "      <td>410</td>\n",
              "      <td>340</td>\n",
              "      <td>250</td>\n",
              "    </tr>\n",
              "    <tr>\n",
              "      <th>sample2</th>\n",
              "      <td>95</td>\n",
              "      <td>85</td>\n",
              "      <td>70</td>\n",
              "    </tr>\n",
              "  </tbody>\n",
              "</table>\n",
              "</div>"
            ],
            "text/plain": [
              "         healthy  mild  severe\n",
              "sample1      410   340     250\n",
              "sample2       95    85      70"
            ]
          },
          "metadata": {
            "tags": []
          },
          "execution_count": 88
        }
      ]
    },
    {
      "cell_type": "code",
      "metadata": {
        "colab_type": "code",
        "id": "_IvUe8bXQ869",
        "outputId": "783e9195-2f91-4888-fa22-a9a05e1bc698",
        "colab": {
          "base_uri": "https://localhost:8080/",
          "height": 34
        }
      },
      "source": [
        "exp=[]\n",
        "for i in df.index:\n",
        "  for j in df.columns:\n",
        "    exp.append((df.loc[i].sum())*(df.loc[:,j].sum())/1250)\n",
        "exp=np.array(exp)\n",
        "exp"
      ],
      "execution_count": 0,
      "outputs": [
        {
          "output_type": "execute_result",
          "data": {
            "text/plain": [
              "array([404., 340., 256., 101.,  85.,  64.])"
            ]
          },
          "metadata": {
            "tags": []
          },
          "execution_count": 89
        }
      ]
    },
    {
      "cell_type": "code",
      "metadata": {
        "colab_type": "code",
        "id": "zCGRYGRkSlu5",
        "outputId": "f9695363-45c0-49b8-aa18-61960ed96cfa",
        "colab": {
          "base_uri": "https://localhost:8080/",
          "height": 34
        }
      },
      "source": [
        "chi_data=(((obs-exp)**2)/exp).sum()\n",
        "chi_data"
      ],
      "execution_count": 0,
      "outputs": [
        {
          "output_type": "execute_result",
          "data": {
            "text/plain": [
              "1.1486695544554455"
            ]
          },
          "metadata": {
            "tags": []
          },
          "execution_count": 90
        }
      ]
    },
    {
      "cell_type": "code",
      "metadata": {
        "colab_type": "code",
        "id": "umq0zZFhTxA5",
        "outputId": "28337ed5-c004-4df7-e7ca-6ee180c39e05",
        "colab": {
          "base_uri": "https://localhost:8080/",
          "height": 121
        }
      },
      "source": [
        "chi_value, pval, nrows, ec=chi2_contingency(df)\n",
        "print('chi_value:',chi_value)\n",
        "print('p-value:',pval)\n",
        "print('degrees of freedom:',nrows)\n",
        "print('expected counts array: \\n',ec)"
      ],
      "execution_count": 0,
      "outputs": [
        {
          "output_type": "stream",
          "text": [
            "chi_value: 1.1486695544554455\n",
            "p-value: 0.5630793174318253\n",
            "degrees of freedom: 2\n",
            "expected counts array: \n",
            " [[404. 340. 256.]\n",
            " [101.  85.  64.]]\n"
          ],
          "name": "stdout"
        }
      ]
    },
    {
      "cell_type": "markdown",
      "metadata": {
        "colab_type": "text",
        "id": "CMW65fBiW-Uf"
      },
      "source": [
        "pvalue>0.05 implies proportions of all the groups are statistically equal"
      ]
    },
    {
      "cell_type": "code",
      "metadata": {
        "colab_type": "code",
        "id": "koW7_1XB0Bzo",
        "outputId": "4f6673dd-4267-46cc-8938-9788ec599c22",
        "colab": {
          "base_uri": "https://localhost:8080/",
          "height": 34
        }
      },
      "source": [
        "n=500\n",
        "observed_values=np.array([190,185,90,35])\n",
        "expected_values=np.array([n*0.3,n*0.45,n*0.2,n*0.05])\n",
        "chisquare(observed_values,expected_values)"
      ],
      "execution_count": 0,
      "outputs": [
        {
          "output_type": "execute_result",
          "data": {
            "text/plain": [
              "Power_divergenceResult(statistic=22.77777777777778, pvalue=4.492718590376291e-05)"
            ]
          },
          "metadata": {
            "tags": []
          },
          "execution_count": 92
        }
      ]
    },
    {
      "cell_type": "markdown",
      "metadata": {
        "colab_type": "text",
        "id": "dU-ov1dj1u63"
      },
      "source": [
        "pvalue<0.05 implies proportions are not same as that of the population(expected)"
      ]
    },
    {
      "cell_type": "markdown",
      "metadata": {
        "colab_type": "text",
        "id": "w-ZgKgUIcfnS"
      },
      "source": [
        "# AnoVa (f test) One way"
      ]
    },
    {
      "cell_type": "code",
      "metadata": {
        "colab_type": "code",
        "id": "vf_Lp1slBdgf",
        "colab": {}
      },
      "source": [
        "from scipy.stats import f_oneway"
      ],
      "execution_count": 0,
      "outputs": []
    },
    {
      "cell_type": "code",
      "metadata": {
        "colab_type": "code",
        "id": "s3s0JmJ734iX",
        "outputId": "89e9e961-ed68-4bec-9859-ee82b62267fa",
        "colab": {
          "base_uri": "https://localhost:8080/",
          "height": 34
        }
      },
      "source": [
        "a=np.array([30,40,50,60])\n",
        "b=np.array([25,30,50,55])\n",
        "c=np.array([25,30,40,45])\n",
        "a.var(),b.var(),c.var()"
      ],
      "execution_count": 0,
      "outputs": [
        {
          "output_type": "execute_result",
          "data": {
            "text/plain": [
              "(125.0, 162.5, 62.5)"
            ]
          },
          "metadata": {
            "tags": []
          },
          "execution_count": 94
        }
      ]
    },
    {
      "cell_type": "code",
      "metadata": {
        "colab_type": "code",
        "id": "Aogq5sTe52cq",
        "outputId": "49172145-c19d-4174-8b60-0a625c833c77",
        "colab": {
          "base_uri": "https://localhost:8080/",
          "height": 34
        }
      },
      "source": [
        "sstr=0\n",
        "for i in [a,b,c]:\n",
        "  sstr=sstr+(len(i)*((i.mean()-40)**2))\n",
        "mstr=sstr/(3-1)\n",
        "mstr"
      ],
      "execution_count": 0,
      "outputs": [
        {
          "output_type": "execute_result",
          "data": {
            "text/plain": [
              "100.0"
            ]
          },
          "metadata": {
            "tags": []
          },
          "execution_count": 95
        }
      ]
    },
    {
      "cell_type": "code",
      "metadata": {
        "colab_type": "code",
        "id": "soXK7Ps_52-2",
        "outputId": "38ac7f8f-cf51-45f0-b71b-d2c115ae5de0",
        "colab": {
          "base_uri": "https://localhost:8080/",
          "height": 34
        }
      },
      "source": [
        "sse=0\n",
        "for i in [a,b,c]:\n",
        "  sse=sse+((len(i)-1)*i.var(ddof=1))\n",
        "mse=sse/(12-3)\n",
        "mse"
      ],
      "execution_count": 0,
      "outputs": [
        {
          "output_type": "execute_result",
          "data": {
            "text/plain": [
              "155.55555555555554"
            ]
          },
          "metadata": {
            "tags": []
          },
          "execution_count": 96
        }
      ]
    },
    {
      "cell_type": "code",
      "metadata": {
        "colab_type": "code",
        "id": "khJRnMfO_RDa",
        "outputId": "e79fc3a1-14e7-40d9-b171-2957909195ef",
        "colab": {
          "base_uri": "https://localhost:8080/",
          "height": 34
        }
      },
      "source": [
        "fdata=mstr/mse\n",
        "fdata"
      ],
      "execution_count": 0,
      "outputs": [
        {
          "output_type": "execute_result",
          "data": {
            "text/plain": [
              "0.6428571428571429"
            ]
          },
          "metadata": {
            "tags": []
          },
          "execution_count": 97
        }
      ]
    },
    {
      "cell_type": "code",
      "metadata": {
        "colab_type": "code",
        "id": "J-K8NxGTBWXE",
        "outputId": "9bfd47ba-3b2d-47eb-fc76-758a1a120500",
        "colab": {
          "base_uri": "https://localhost:8080/",
          "height": 34
        }
      },
      "source": [
        "#using built-in function\n",
        "fdata,pvalue=f_oneway(a,b,c)\n",
        "fdata,pvalue"
      ],
      "execution_count": 0,
      "outputs": [
        {
          "output_type": "execute_result",
          "data": {
            "text/plain": [
              "(0.6428571428571429, 0.5483227164089495)"
            ]
          },
          "metadata": {
            "tags": []
          },
          "execution_count": 98
        }
      ]
    },
    {
      "cell_type": "code",
      "metadata": {
        "colab_type": "code",
        "id": "nalzFxqRzQDJ",
        "colab": {}
      },
      "source": [
        "df=pd.read_csv('/content/drive/My Drive/Colab Notebooks/data_colab/fair_pay_data.csv')"
      ],
      "execution_count": 0,
      "outputs": []
    },
    {
      "cell_type": "code",
      "metadata": {
        "colab_type": "code",
        "id": "syz5o4NXzZr5",
        "outputId": "da50f902-ef5e-4ead-d70c-07a0dab2aaa2",
        "colab": {
          "base_uri": "https://localhost:8080/",
          "height": 198
        }
      },
      "source": [
        "df.head()"
      ],
      "execution_count": 0,
      "outputs": [
        {
          "output_type": "execute_result",
          "data": {
            "text/html": [
              "<div>\n",
              "<style scoped>\n",
              "    .dataframe tbody tr th:only-of-type {\n",
              "        vertical-align: middle;\n",
              "    }\n",
              "\n",
              "    .dataframe tbody tr th {\n",
              "        vertical-align: top;\n",
              "    }\n",
              "\n",
              "    .dataframe thead th {\n",
              "        text-align: right;\n",
              "    }\n",
              "</style>\n",
              "<table border=\"1\" class=\"dataframe\">\n",
              "  <thead>\n",
              "    <tr style=\"text-align: right;\">\n",
              "      <th></th>\n",
              "      <th>employee_id</th>\n",
              "      <th>department</th>\n",
              "      <th>salary</th>\n",
              "      <th>new_hire</th>\n",
              "      <th>job_level</th>\n",
              "    </tr>\n",
              "  </thead>\n",
              "  <tbody>\n",
              "    <tr>\n",
              "      <th>0</th>\n",
              "      <td>1</td>\n",
              "      <td>Sales</td>\n",
              "      <td>103263.63550</td>\n",
              "      <td>No</td>\n",
              "      <td>Salaried</td>\n",
              "    </tr>\n",
              "    <tr>\n",
              "      <th>1</th>\n",
              "      <td>2</td>\n",
              "      <td>Engineering</td>\n",
              "      <td>80708.64104</td>\n",
              "      <td>No</td>\n",
              "      <td>Hourly</td>\n",
              "    </tr>\n",
              "    <tr>\n",
              "      <th>2</th>\n",
              "      <td>4</td>\n",
              "      <td>Engineering</td>\n",
              "      <td>60737.04786</td>\n",
              "      <td>Yes</td>\n",
              "      <td>Hourly</td>\n",
              "    </tr>\n",
              "    <tr>\n",
              "      <th>3</th>\n",
              "      <td>5</td>\n",
              "      <td>Engineering</td>\n",
              "      <td>99116.32328</td>\n",
              "      <td>Yes</td>\n",
              "      <td>Salaried</td>\n",
              "    </tr>\n",
              "    <tr>\n",
              "      <th>4</th>\n",
              "      <td>7</td>\n",
              "      <td>Engineering</td>\n",
              "      <td>51021.64386</td>\n",
              "      <td>No</td>\n",
              "      <td>Hourly</td>\n",
              "    </tr>\n",
              "  </tbody>\n",
              "</table>\n",
              "</div>"
            ],
            "text/plain": [
              "   employee_id   department        salary new_hire job_level\n",
              "0            1        Sales  103263.63550       No  Salaried\n",
              "1            2  Engineering   80708.64104       No    Hourly\n",
              "2            4  Engineering   60737.04786      Yes    Hourly\n",
              "3            5  Engineering   99116.32328      Yes  Salaried\n",
              "4            7  Engineering   51021.64386       No    Hourly"
            ]
          },
          "metadata": {
            "tags": []
          },
          "execution_count": 100
        }
      ]
    },
    {
      "cell_type": "code",
      "metadata": {
        "colab_type": "code",
        "id": "WT12VPFj1SpW",
        "colab": {}
      },
      "source": [
        "g1=df.salary[df.department=='Sales']\n",
        "g2=df.salary[df.department=='Engineering']\n",
        "g3=df.salary[df.department=='Finance']"
      ],
      "execution_count": 0,
      "outputs": []
    },
    {
      "cell_type": "code",
      "metadata": {
        "colab_type": "code",
        "id": "5N8iDImGE2Pv",
        "outputId": "1a559e35-22e1-49d7-9f66-9e2a5a47d432",
        "colab": {
          "base_uri": "https://localhost:8080/",
          "height": 34
        }
      },
      "source": [
        "f_oneway(g1,g2,g3)"
      ],
      "execution_count": 0,
      "outputs": [
        {
          "output_type": "execute_result",
          "data": {
            "text/plain": [
              "F_onewayResult(statistic=1.5095348803367656, pvalue=0.22135584696393226)"
            ]
          },
          "metadata": {
            "tags": []
          },
          "execution_count": 102
        }
      ]
    },
    {
      "cell_type": "markdown",
      "metadata": {
        "colab_type": "text",
        "id": "xu1ef90IFJHk"
      },
      "source": [
        "pvalue > 0.05 implies average salary is same accross all departments"
      ]
    },
    {
      "cell_type": "markdown",
      "metadata": {
        "colab_type": "text",
        "id": "uqzHQOsWFUJK"
      },
      "source": [
        "#Anova Two way"
      ]
    },
    {
      "cell_type": "code",
      "metadata": {
        "colab_type": "code",
        "id": "FS357351J5eC",
        "colab": {}
      },
      "source": [
        "import statsmodels.api as sm\n",
        "from statsmodels.formula.api import ols"
      ],
      "execution_count": 0,
      "outputs": []
    },
    {
      "cell_type": "code",
      "metadata": {
        "colab_type": "code",
        "id": "eif-WtrEMkkz",
        "outputId": "1b546e31-9297-410b-83e2-676f534fc4c0",
        "colab": {
          "base_uri": "https://localhost:8080/",
          "height": 409
        }
      },
      "source": [
        "a=np.array([30,40,50,60])\n",
        "b=np.array([25,30,50,55])\n",
        "c=np.array([25,30,40,45])\n",
        "p=np.hstack([a,b,c])\n",
        "df1=pd.DataFrame({'age':p})\n",
        "df1['group']=pd.Series('a a a a b b b b c c c c'.split())\n",
        "df1"
      ],
      "execution_count": 0,
      "outputs": [
        {
          "output_type": "execute_result",
          "data": {
            "text/html": [
              "<div>\n",
              "<style scoped>\n",
              "    .dataframe tbody tr th:only-of-type {\n",
              "        vertical-align: middle;\n",
              "    }\n",
              "\n",
              "    .dataframe tbody tr th {\n",
              "        vertical-align: top;\n",
              "    }\n",
              "\n",
              "    .dataframe thead th {\n",
              "        text-align: right;\n",
              "    }\n",
              "</style>\n",
              "<table border=\"1\" class=\"dataframe\">\n",
              "  <thead>\n",
              "    <tr style=\"text-align: right;\">\n",
              "      <th></th>\n",
              "      <th>age</th>\n",
              "      <th>group</th>\n",
              "    </tr>\n",
              "  </thead>\n",
              "  <tbody>\n",
              "    <tr>\n",
              "      <th>0</th>\n",
              "      <td>30</td>\n",
              "      <td>a</td>\n",
              "    </tr>\n",
              "    <tr>\n",
              "      <th>1</th>\n",
              "      <td>40</td>\n",
              "      <td>a</td>\n",
              "    </tr>\n",
              "    <tr>\n",
              "      <th>2</th>\n",
              "      <td>50</td>\n",
              "      <td>a</td>\n",
              "    </tr>\n",
              "    <tr>\n",
              "      <th>3</th>\n",
              "      <td>60</td>\n",
              "      <td>a</td>\n",
              "    </tr>\n",
              "    <tr>\n",
              "      <th>4</th>\n",
              "      <td>25</td>\n",
              "      <td>b</td>\n",
              "    </tr>\n",
              "    <tr>\n",
              "      <th>5</th>\n",
              "      <td>30</td>\n",
              "      <td>b</td>\n",
              "    </tr>\n",
              "    <tr>\n",
              "      <th>6</th>\n",
              "      <td>50</td>\n",
              "      <td>b</td>\n",
              "    </tr>\n",
              "    <tr>\n",
              "      <th>7</th>\n",
              "      <td>55</td>\n",
              "      <td>b</td>\n",
              "    </tr>\n",
              "    <tr>\n",
              "      <th>8</th>\n",
              "      <td>25</td>\n",
              "      <td>c</td>\n",
              "    </tr>\n",
              "    <tr>\n",
              "      <th>9</th>\n",
              "      <td>30</td>\n",
              "      <td>c</td>\n",
              "    </tr>\n",
              "    <tr>\n",
              "      <th>10</th>\n",
              "      <td>40</td>\n",
              "      <td>c</td>\n",
              "    </tr>\n",
              "    <tr>\n",
              "      <th>11</th>\n",
              "      <td>45</td>\n",
              "      <td>c</td>\n",
              "    </tr>\n",
              "  </tbody>\n",
              "</table>\n",
              "</div>"
            ],
            "text/plain": [
              "    age group\n",
              "0    30     a\n",
              "1    40     a\n",
              "2    50     a\n",
              "3    60     a\n",
              "4    25     b\n",
              "5    30     b\n",
              "6    50     b\n",
              "7    55     b\n",
              "8    25     c\n",
              "9    30     c\n",
              "10   40     c\n",
              "11   45     c"
            ]
          },
          "metadata": {
            "tags": []
          },
          "execution_count": 104
        }
      ]
    },
    {
      "cell_type": "code",
      "metadata": {
        "colab_type": "code",
        "id": "joyxsW2DSCRa",
        "outputId": "0092db53-f6c2-477c-908f-e65d94fd9293",
        "colab": {
          "base_uri": "https://localhost:8080/",
          "height": 409
        }
      },
      "source": [
        "d=np.array([43,45,45,47])\n",
        "e=np.array([37,40,40,43])\n",
        "f=np.array([34,35,35,36])\n",
        "q=np.hstack([d,e,f])\n",
        "df2=pd.DataFrame({'age':q})\n",
        "df2['group']=pd.Series('d d d d e e e e f f f f'.split())\n",
        "df2"
      ],
      "execution_count": 0,
      "outputs": [
        {
          "output_type": "execute_result",
          "data": {
            "text/html": [
              "<div>\n",
              "<style scoped>\n",
              "    .dataframe tbody tr th:only-of-type {\n",
              "        vertical-align: middle;\n",
              "    }\n",
              "\n",
              "    .dataframe tbody tr th {\n",
              "        vertical-align: top;\n",
              "    }\n",
              "\n",
              "    .dataframe thead th {\n",
              "        text-align: right;\n",
              "    }\n",
              "</style>\n",
              "<table border=\"1\" class=\"dataframe\">\n",
              "  <thead>\n",
              "    <tr style=\"text-align: right;\">\n",
              "      <th></th>\n",
              "      <th>age</th>\n",
              "      <th>group</th>\n",
              "    </tr>\n",
              "  </thead>\n",
              "  <tbody>\n",
              "    <tr>\n",
              "      <th>0</th>\n",
              "      <td>43</td>\n",
              "      <td>d</td>\n",
              "    </tr>\n",
              "    <tr>\n",
              "      <th>1</th>\n",
              "      <td>45</td>\n",
              "      <td>d</td>\n",
              "    </tr>\n",
              "    <tr>\n",
              "      <th>2</th>\n",
              "      <td>45</td>\n",
              "      <td>d</td>\n",
              "    </tr>\n",
              "    <tr>\n",
              "      <th>3</th>\n",
              "      <td>47</td>\n",
              "      <td>d</td>\n",
              "    </tr>\n",
              "    <tr>\n",
              "      <th>4</th>\n",
              "      <td>37</td>\n",
              "      <td>e</td>\n",
              "    </tr>\n",
              "    <tr>\n",
              "      <th>5</th>\n",
              "      <td>40</td>\n",
              "      <td>e</td>\n",
              "    </tr>\n",
              "    <tr>\n",
              "      <th>6</th>\n",
              "      <td>40</td>\n",
              "      <td>e</td>\n",
              "    </tr>\n",
              "    <tr>\n",
              "      <th>7</th>\n",
              "      <td>43</td>\n",
              "      <td>e</td>\n",
              "    </tr>\n",
              "    <tr>\n",
              "      <th>8</th>\n",
              "      <td>34</td>\n",
              "      <td>f</td>\n",
              "    </tr>\n",
              "    <tr>\n",
              "      <th>9</th>\n",
              "      <td>35</td>\n",
              "      <td>f</td>\n",
              "    </tr>\n",
              "    <tr>\n",
              "      <th>10</th>\n",
              "      <td>35</td>\n",
              "      <td>f</td>\n",
              "    </tr>\n",
              "    <tr>\n",
              "      <th>11</th>\n",
              "      <td>36</td>\n",
              "      <td>f</td>\n",
              "    </tr>\n",
              "  </tbody>\n",
              "</table>\n",
              "</div>"
            ],
            "text/plain": [
              "    age group\n",
              "0    43     d\n",
              "1    45     d\n",
              "2    45     d\n",
              "3    47     d\n",
              "4    37     e\n",
              "5    40     e\n",
              "6    40     e\n",
              "7    43     e\n",
              "8    34     f\n",
              "9    35     f\n",
              "10   35     f\n",
              "11   36     f"
            ]
          },
          "metadata": {
            "tags": []
          },
          "execution_count": 105
        }
      ]
    },
    {
      "cell_type": "code",
      "metadata": {
        "colab_type": "code",
        "id": "8CChe6FtO8_l",
        "outputId": "fc134de7-4f05-425c-ed52-f91d5f82febd",
        "colab": {
          "base_uri": "https://localhost:8080/",
          "height": 69
        }
      },
      "source": [
        "mod=ols('age ~ group', data=df1).fit()\n",
        "anv_table=sm.stats.anova_lm(mod, typ=1)\n",
        "print(anv_table)"
      ],
      "execution_count": 0,
      "outputs": [
        {
          "output_type": "stream",
          "text": [
            "           df  sum_sq     mean_sq         F    PR(>F)\n",
            "group     2.0   200.0  100.000000  0.642857  0.548323\n",
            "Residual  9.0  1400.0  155.555556       NaN       NaN\n"
          ],
          "name": "stdout"
        }
      ]
    },
    {
      "cell_type": "code",
      "metadata": {
        "colab_type": "code",
        "id": "W09BomEPTCYw",
        "outputId": "7caa5829-d41f-40a0-9636-1f7859b25063",
        "colab": {
          "base_uri": "https://localhost:8080/",
          "height": 69
        }
      },
      "source": [
        "mod=ols('age ~ group', data=df2).fit()\n",
        "anv_table=sm.stats.anova_lm(mod, typ=1)\n",
        "print(anv_table)"
      ],
      "execution_count": 0,
      "outputs": [
        {
          "output_type": "stream",
          "text": [
            "           df  sum_sq     mean_sq          F   PR(>F)\n",
            "group     2.0   200.0  100.000000  32.142857  0.00008\n",
            "Residual  9.0    28.0    3.111111        NaN      NaN\n"
          ],
          "name": "stdout"
        }
      ]
    },
    {
      "cell_type": "code",
      "metadata": {
        "colab_type": "code",
        "id": "gZVVlwL9RK3i",
        "outputId": "28d17189-e065-420f-aea9-2e4cf20795d2",
        "colab": {
          "base_uri": "https://localhost:8080/",
          "height": 34
        }
      },
      "source": [
        "sstr=0\n",
        "for i in [a,b,c]:\n",
        "  sstr=sstr+(len(i)*((i.mean()-40)**2))\n",
        "mstr=sstr/(3-1)\n",
        "sstr,mstr"
      ],
      "execution_count": 0,
      "outputs": [
        {
          "output_type": "execute_result",
          "data": {
            "text/plain": [
              "(200.0, 100.0)"
            ]
          },
          "metadata": {
            "tags": []
          },
          "execution_count": 108
        }
      ]
    },
    {
      "cell_type": "code",
      "metadata": {
        "colab_type": "code",
        "id": "ZsaaZidARK3t",
        "outputId": "bff955a5-c520-45b2-ab53-e43856031b40",
        "colab": {
          "base_uri": "https://localhost:8080/",
          "height": 34
        }
      },
      "source": [
        "sse=0\n",
        "for i in [a,b,c]:\n",
        "  sse=sse+((len(i)-1)*i.var(ddof=1))\n",
        "mse=sse/(12-3)\n",
        "sse,mse"
      ],
      "execution_count": 0,
      "outputs": [
        {
          "output_type": "execute_result",
          "data": {
            "text/plain": [
              "(1400.0, 155.55555555555554)"
            ]
          },
          "metadata": {
            "tags": []
          },
          "execution_count": 109
        }
      ]
    },
    {
      "cell_type": "code",
      "metadata": {
        "colab_type": "code",
        "id": "n4uuO5orRK3v",
        "outputId": "427fef3a-91e7-4053-995a-051a559383e2",
        "colab": {
          "base_uri": "https://localhost:8080/",
          "height": 34
        }
      },
      "source": [
        "fdata=mstr/mse\n",
        "fdata"
      ],
      "execution_count": 0,
      "outputs": [
        {
          "output_type": "execute_result",
          "data": {
            "text/plain": [
              "0.6428571428571429"
            ]
          },
          "metadata": {
            "tags": []
          },
          "execution_count": 110
        }
      ]
    },
    {
      "cell_type": "code",
      "metadata": {
        "colab_type": "code",
        "id": "GYC0ZTXDWc-5",
        "colab": {}
      },
      "source": [
        "df=pd.read_csv('/content/drive/My Drive/Colab Notebooks/data_colab/fair_pay_data.csv')"
      ],
      "execution_count": 0,
      "outputs": []
    },
    {
      "cell_type": "code",
      "metadata": {
        "colab_type": "code",
        "id": "nxB1KJmXWgcd",
        "outputId": "6cd6969c-62e9-4532-c0ae-14fe264b1376",
        "colab": {
          "base_uri": "https://localhost:8080/",
          "height": 198
        }
      },
      "source": [
        "df.head()"
      ],
      "execution_count": 0,
      "outputs": [
        {
          "output_type": "execute_result",
          "data": {
            "text/html": [
              "<div>\n",
              "<style scoped>\n",
              "    .dataframe tbody tr th:only-of-type {\n",
              "        vertical-align: middle;\n",
              "    }\n",
              "\n",
              "    .dataframe tbody tr th {\n",
              "        vertical-align: top;\n",
              "    }\n",
              "\n",
              "    .dataframe thead th {\n",
              "        text-align: right;\n",
              "    }\n",
              "</style>\n",
              "<table border=\"1\" class=\"dataframe\">\n",
              "  <thead>\n",
              "    <tr style=\"text-align: right;\">\n",
              "      <th></th>\n",
              "      <th>employee_id</th>\n",
              "      <th>department</th>\n",
              "      <th>salary</th>\n",
              "      <th>new_hire</th>\n",
              "      <th>job_level</th>\n",
              "    </tr>\n",
              "  </thead>\n",
              "  <tbody>\n",
              "    <tr>\n",
              "      <th>0</th>\n",
              "      <td>1</td>\n",
              "      <td>Sales</td>\n",
              "      <td>103263.63550</td>\n",
              "      <td>No</td>\n",
              "      <td>Salaried</td>\n",
              "    </tr>\n",
              "    <tr>\n",
              "      <th>1</th>\n",
              "      <td>2</td>\n",
              "      <td>Engineering</td>\n",
              "      <td>80708.64104</td>\n",
              "      <td>No</td>\n",
              "      <td>Hourly</td>\n",
              "    </tr>\n",
              "    <tr>\n",
              "      <th>2</th>\n",
              "      <td>4</td>\n",
              "      <td>Engineering</td>\n",
              "      <td>60737.04786</td>\n",
              "      <td>Yes</td>\n",
              "      <td>Hourly</td>\n",
              "    </tr>\n",
              "    <tr>\n",
              "      <th>3</th>\n",
              "      <td>5</td>\n",
              "      <td>Engineering</td>\n",
              "      <td>99116.32328</td>\n",
              "      <td>Yes</td>\n",
              "      <td>Salaried</td>\n",
              "    </tr>\n",
              "    <tr>\n",
              "      <th>4</th>\n",
              "      <td>7</td>\n",
              "      <td>Engineering</td>\n",
              "      <td>51021.64386</td>\n",
              "      <td>No</td>\n",
              "      <td>Hourly</td>\n",
              "    </tr>\n",
              "  </tbody>\n",
              "</table>\n",
              "</div>"
            ],
            "text/plain": [
              "   employee_id   department        salary new_hire job_level\n",
              "0            1        Sales  103263.63550       No  Salaried\n",
              "1            2  Engineering   80708.64104       No    Hourly\n",
              "2            4  Engineering   60737.04786      Yes    Hourly\n",
              "3            5  Engineering   99116.32328      Yes  Salaried\n",
              "4            7  Engineering   51021.64386       No    Hourly"
            ]
          },
          "metadata": {
            "tags": []
          },
          "execution_count": 112
        }
      ]
    },
    {
      "cell_type": "code",
      "metadata": {
        "colab_type": "code",
        "id": "XsUXhvV4WiR6",
        "outputId": "3fa6d043-3681-4871-fc6c-499cc65e02bc",
        "colab": {
          "base_uri": "https://localhost:8080/",
          "height": 104
        }
      },
      "source": [
        "mod=ols('salary ~ new_hire + job_level + new_hire:job_level', data=df).fit()\n",
        "anv_table=sm.stats.anova_lm(mod, typ=2)\n",
        "print(anv_table)"
      ],
      "execution_count": 0,
      "outputs": [
        {
          "output_type": "stream",
          "text": [
            "                          sum_sq      df            F    PR(>F)\n",
            "new_hire            1.773825e+08     1.0     2.222704  0.136210\n",
            "job_level           4.074568e+11     2.0  2552.832799  0.000000\n",
            "new_hire:job_level  6.829346e+07     2.0     0.427878  0.651972\n",
            "Residual            1.168343e+11  1464.0          NaN       NaN\n"
          ],
          "name": "stdout"
        }
      ]
    },
    {
      "cell_type": "code",
      "metadata": {
        "colab_type": "code",
        "id": "4fwUmcXJYzpi",
        "outputId": "52d1b4b9-3b67-4a4a-94b6-1a31ddc1f2ed",
        "colab": {
          "base_uri": "https://localhost:8080/",
          "height": 138
        }
      },
      "source": [
        "ct=pd.crosstab(df.new_hire,df.job_level)\n",
        "ct"
      ],
      "execution_count": 0,
      "outputs": [
        {
          "output_type": "execute_result",
          "data": {
            "text/html": [
              "<div>\n",
              "<style scoped>\n",
              "    .dataframe tbody tr th:only-of-type {\n",
              "        vertical-align: middle;\n",
              "    }\n",
              "\n",
              "    .dataframe tbody tr th {\n",
              "        vertical-align: top;\n",
              "    }\n",
              "\n",
              "    .dataframe thead th {\n",
              "        text-align: right;\n",
              "    }\n",
              "</style>\n",
              "<table border=\"1\" class=\"dataframe\">\n",
              "  <thead>\n",
              "    <tr style=\"text-align: right;\">\n",
              "      <th>job_level</th>\n",
              "      <th>Hourly</th>\n",
              "      <th>Manager</th>\n",
              "      <th>Salaried</th>\n",
              "    </tr>\n",
              "    <tr>\n",
              "      <th>new_hire</th>\n",
              "      <th></th>\n",
              "      <th></th>\n",
              "      <th></th>\n",
              "    </tr>\n",
              "  </thead>\n",
              "  <tbody>\n",
              "    <tr>\n",
              "      <th>No</th>\n",
              "      <td>771</td>\n",
              "      <td>70</td>\n",
              "      <td>231</td>\n",
              "    </tr>\n",
              "    <tr>\n",
              "      <th>Yes</th>\n",
              "      <td>268</td>\n",
              "      <td>35</td>\n",
              "      <td>95</td>\n",
              "    </tr>\n",
              "  </tbody>\n",
              "</table>\n",
              "</div>"
            ],
            "text/plain": [
              "job_level  Hourly  Manager  Salaried\n",
              "new_hire                            \n",
              "No            771       70       231\n",
              "Yes           268       35        95"
            ]
          },
          "metadata": {
            "tags": []
          },
          "execution_count": 114
        }
      ]
    },
    {
      "cell_type": "markdown",
      "metadata": {
        "colab_type": "text",
        "id": "uyuZOlhBY9iH"
      },
      "source": [
        "#OLS"
      ]
    },
    {
      "cell_type": "code",
      "metadata": {
        "colab_type": "code",
        "id": "4H-bh0E5jKY0",
        "colab": {}
      },
      "source": [
        "df=pd.read_csv('/content/drive/My Drive/Colab Notebooks/data_colab/advertising.csv')"
      ],
      "execution_count": 0,
      "outputs": []
    },
    {
      "cell_type": "code",
      "metadata": {
        "colab_type": "code",
        "id": "nP72MsRujlyA",
        "outputId": "3b36cb30-60cb-4fe1-93cb-ac7ee2c62a23",
        "colab": {
          "base_uri": "https://localhost:8080/",
          "height": 198
        }
      },
      "source": [
        "df.head()"
      ],
      "execution_count": 0,
      "outputs": [
        {
          "output_type": "execute_result",
          "data": {
            "text/html": [
              "<div>\n",
              "<style scoped>\n",
              "    .dataframe tbody tr th:only-of-type {\n",
              "        vertical-align: middle;\n",
              "    }\n",
              "\n",
              "    .dataframe tbody tr th {\n",
              "        vertical-align: top;\n",
              "    }\n",
              "\n",
              "    .dataframe thead th {\n",
              "        text-align: right;\n",
              "    }\n",
              "</style>\n",
              "<table border=\"1\" class=\"dataframe\">\n",
              "  <thead>\n",
              "    <tr style=\"text-align: right;\">\n",
              "      <th></th>\n",
              "      <th>TV</th>\n",
              "      <th>Radio</th>\n",
              "      <th>Newspaper</th>\n",
              "      <th>Sales</th>\n",
              "    </tr>\n",
              "  </thead>\n",
              "  <tbody>\n",
              "    <tr>\n",
              "      <th>0</th>\n",
              "      <td>230.1</td>\n",
              "      <td>37.8</td>\n",
              "      <td>69.2</td>\n",
              "      <td>22.1</td>\n",
              "    </tr>\n",
              "    <tr>\n",
              "      <th>1</th>\n",
              "      <td>44.5</td>\n",
              "      <td>39.3</td>\n",
              "      <td>45.1</td>\n",
              "      <td>10.4</td>\n",
              "    </tr>\n",
              "    <tr>\n",
              "      <th>2</th>\n",
              "      <td>17.2</td>\n",
              "      <td>45.9</td>\n",
              "      <td>69.3</td>\n",
              "      <td>9.3</td>\n",
              "    </tr>\n",
              "    <tr>\n",
              "      <th>3</th>\n",
              "      <td>151.5</td>\n",
              "      <td>41.3</td>\n",
              "      <td>58.5</td>\n",
              "      <td>18.5</td>\n",
              "    </tr>\n",
              "    <tr>\n",
              "      <th>4</th>\n",
              "      <td>180.8</td>\n",
              "      <td>10.8</td>\n",
              "      <td>58.4</td>\n",
              "      <td>12.9</td>\n",
              "    </tr>\n",
              "  </tbody>\n",
              "</table>\n",
              "</div>"
            ],
            "text/plain": [
              "      TV  Radio  Newspaper  Sales\n",
              "0  230.1   37.8       69.2   22.1\n",
              "1   44.5   39.3       45.1   10.4\n",
              "2   17.2   45.9       69.3    9.3\n",
              "3  151.5   41.3       58.5   18.5\n",
              "4  180.8   10.8       58.4   12.9"
            ]
          },
          "metadata": {
            "tags": []
          },
          "execution_count": 116
        }
      ]
    },
    {
      "cell_type": "code",
      "metadata": {
        "colab_type": "code",
        "id": "hhITlTVJjm-7",
        "outputId": "79b9c7b7-f963-4b44-fac9-c580dfb8230f",
        "colab": {
          "base_uri": "https://localhost:8080/",
          "height": 104
        }
      },
      "source": [
        "mod=ols('Sales ~ TV + Radio + TV:Radio', data=df).fit()\n",
        "mod.params"
      ],
      "execution_count": 0,
      "outputs": [
        {
          "output_type": "execute_result",
          "data": {
            "text/plain": [
              "Intercept    6.750220\n",
              "TV           0.019101\n",
              "Radio        0.028860\n",
              "TV:Radio     0.001086\n",
              "dtype: float64"
            ]
          },
          "metadata": {
            "tags": []
          },
          "execution_count": 117
        }
      ]
    },
    {
      "cell_type": "code",
      "metadata": {
        "colab_type": "code",
        "id": "V4nk4MfvkJVu",
        "outputId": "4cc38044-be7d-4c08-bf4d-f3f13210a30e",
        "colab": {
          "base_uri": "https://localhost:8080/",
          "height": 512
        }
      },
      "source": [
        "mod.summary()"
      ],
      "execution_count": 0,
      "outputs": [
        {
          "output_type": "execute_result",
          "data": {
            "text/html": [
              "<table class=\"simpletable\">\n",
              "<caption>OLS Regression Results</caption>\n",
              "<tr>\n",
              "  <th>Dep. Variable:</th>          <td>Sales</td>      <th>  R-squared:         </th> <td>   0.968</td> \n",
              "</tr>\n",
              "<tr>\n",
              "  <th>Model:</th>                   <td>OLS</td>       <th>  Adj. R-squared:    </th> <td>   0.967</td> \n",
              "</tr>\n",
              "<tr>\n",
              "  <th>Method:</th>             <td>Least Squares</td>  <th>  F-statistic:       </th> <td>   1963.</td> \n",
              "</tr>\n",
              "<tr>\n",
              "  <th>Date:</th>             <td>Fri, 06 Sep 2019</td> <th>  Prob (F-statistic):</th> <td>6.68e-146</td>\n",
              "</tr>\n",
              "<tr>\n",
              "  <th>Time:</th>                 <td>07:38:34</td>     <th>  Log-Likelihood:    </th> <td> -270.14</td> \n",
              "</tr>\n",
              "<tr>\n",
              "  <th>No. Observations:</th>      <td>   200</td>      <th>  AIC:               </th> <td>   548.3</td> \n",
              "</tr>\n",
              "<tr>\n",
              "  <th>Df Residuals:</th>          <td>   196</td>      <th>  BIC:               </th> <td>   561.5</td> \n",
              "</tr>\n",
              "<tr>\n",
              "  <th>Df Model:</th>              <td>     3</td>      <th>                     </th>     <td> </td>    \n",
              "</tr>\n",
              "<tr>\n",
              "  <th>Covariance Type:</th>      <td>nonrobust</td>    <th>                     </th>     <td> </td>    \n",
              "</tr>\n",
              "</table>\n",
              "<table class=\"simpletable\">\n",
              "<tr>\n",
              "      <td></td>         <th>coef</th>     <th>std err</th>      <th>t</th>      <th>P>|t|</th>  <th>[0.025</th>    <th>0.975]</th>  \n",
              "</tr>\n",
              "<tr>\n",
              "  <th>Intercept</th> <td>    6.7502</td> <td>    0.248</td> <td>   27.233</td> <td> 0.000</td> <td>    6.261</td> <td>    7.239</td>\n",
              "</tr>\n",
              "<tr>\n",
              "  <th>TV</th>        <td>    0.0191</td> <td>    0.002</td> <td>   12.699</td> <td> 0.000</td> <td>    0.016</td> <td>    0.022</td>\n",
              "</tr>\n",
              "<tr>\n",
              "  <th>Radio</th>     <td>    0.0289</td> <td>    0.009</td> <td>    3.241</td> <td> 0.001</td> <td>    0.011</td> <td>    0.046</td>\n",
              "</tr>\n",
              "<tr>\n",
              "  <th>TV:Radio</th>  <td>    0.0011</td> <td> 5.24e-05</td> <td>   20.727</td> <td> 0.000</td> <td>    0.001</td> <td>    0.001</td>\n",
              "</tr>\n",
              "</table>\n",
              "<table class=\"simpletable\">\n",
              "<tr>\n",
              "  <th>Omnibus:</th>       <td>128.132</td> <th>  Durbin-Watson:     </th> <td>   2.224</td> \n",
              "</tr>\n",
              "<tr>\n",
              "  <th>Prob(Omnibus):</th> <td> 0.000</td>  <th>  Jarque-Bera (JB):  </th> <td>1183.719</td> \n",
              "</tr>\n",
              "<tr>\n",
              "  <th>Skew:</th>          <td>-2.323</td>  <th>  Prob(JB):          </th> <td>9.09e-258</td>\n",
              "</tr>\n",
              "<tr>\n",
              "  <th>Kurtosis:</th>      <td>13.975</td>  <th>  Cond. No.          </th> <td>1.80e+04</td> \n",
              "</tr>\n",
              "</table><br/><br/>Warnings:<br/>[1] Standard Errors assume that the covariance matrix of the errors is correctly specified.<br/>[2] The condition number is large, 1.8e+04. This might indicate that there are<br/>strong multicollinearity or other numerical problems."
            ],
            "text/plain": [
              "<class 'statsmodels.iolib.summary.Summary'>\n",
              "\"\"\"\n",
              "                            OLS Regression Results                            \n",
              "==============================================================================\n",
              "Dep. Variable:                  Sales   R-squared:                       0.968\n",
              "Model:                            OLS   Adj. R-squared:                  0.967\n",
              "Method:                 Least Squares   F-statistic:                     1963.\n",
              "Date:                Fri, 06 Sep 2019   Prob (F-statistic):          6.68e-146\n",
              "Time:                        07:38:34   Log-Likelihood:                -270.14\n",
              "No. Observations:                 200   AIC:                             548.3\n",
              "Df Residuals:                     196   BIC:                             561.5\n",
              "Df Model:                           3                                         \n",
              "Covariance Type:            nonrobust                                         \n",
              "==============================================================================\n",
              "                 coef    std err          t      P>|t|      [0.025      0.975]\n",
              "------------------------------------------------------------------------------\n",
              "Intercept      6.7502      0.248     27.233      0.000       6.261       7.239\n",
              "TV             0.0191      0.002     12.699      0.000       0.016       0.022\n",
              "Radio          0.0289      0.009      3.241      0.001       0.011       0.046\n",
              "TV:Radio       0.0011   5.24e-05     20.727      0.000       0.001       0.001\n",
              "==============================================================================\n",
              "Omnibus:                      128.132   Durbin-Watson:                   2.224\n",
              "Prob(Omnibus):                  0.000   Jarque-Bera (JB):             1183.719\n",
              "Skew:                          -2.323   Prob(JB):                    9.09e-258\n",
              "Kurtosis:                      13.975   Cond. No.                     1.80e+04\n",
              "==============================================================================\n",
              "\n",
              "Warnings:\n",
              "[1] Standard Errors assume that the covariance matrix of the errors is correctly specified.\n",
              "[2] The condition number is large, 1.8e+04. This might indicate that there are\n",
              "strong multicollinearity or other numerical problems.\n",
              "\"\"\""
            ]
          },
          "metadata": {
            "tags": []
          },
          "execution_count": 118
        }
      ]
    },
    {
      "cell_type": "code",
      "metadata": {
        "colab_type": "code",
        "id": "OHKu9IrEknLx",
        "outputId": "bae7c3e0-30c0-4ccd-c56c-69b6ff0a8aa7",
        "colab": {
          "base_uri": "https://localhost:8080/",
          "height": 69
        }
      },
      "source": [
        "mod=ols('Sales ~ TV ', data=df).fit()\n",
        "mod.params"
      ],
      "execution_count": 0,
      "outputs": [
        {
          "output_type": "execute_result",
          "data": {
            "text/plain": [
              "Intercept    7.032594\n",
              "TV           0.047537\n",
              "dtype: float64"
            ]
          },
          "metadata": {
            "tags": []
          },
          "execution_count": 119
        }
      ]
    },
    {
      "cell_type": "code",
      "metadata": {
        "colab_type": "code",
        "id": "OOfrLvEmfwWf",
        "colab": {}
      },
      "source": [
        ""
      ],
      "execution_count": 0,
      "outputs": []
    }
  ]
}