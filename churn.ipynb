{
 "cells": [
  {
   "cell_type": "code",
   "execution_count": 1,
   "metadata": {},
   "outputs": [],
   "source": [
    "# Importing the libraries\n",
    "import numpy as np\n",
    "import matplotlib.pyplot as plt\n",
    "import pandas as pd"
   ]
  },
  {
   "cell_type": "code",
   "execution_count": 2,
   "metadata": {},
   "outputs": [],
   "source": [
    "# Importing the dataset\n",
    "dataset = pd.read_csv('Churn_Modelling.csv')"
   ]
  },
  {
   "cell_type": "code",
   "execution_count": 3,
   "metadata": {},
   "outputs": [
    {
     "data": {
      "text/html": [
       "<div>\n",
       "<style scoped>\n",
       "    .dataframe tbody tr th:only-of-type {\n",
       "        vertical-align: middle;\n",
       "    }\n",
       "\n",
       "    .dataframe tbody tr th {\n",
       "        vertical-align: top;\n",
       "    }\n",
       "\n",
       "    .dataframe thead th {\n",
       "        text-align: right;\n",
       "    }\n",
       "</style>\n",
       "<table border=\"1\" class=\"dataframe\">\n",
       "  <thead>\n",
       "    <tr style=\"text-align: right;\">\n",
       "      <th></th>\n",
       "      <th>RowNumber</th>\n",
       "      <th>CustomerId</th>\n",
       "      <th>Surname</th>\n",
       "      <th>CreditScore</th>\n",
       "      <th>Geography</th>\n",
       "      <th>Gender</th>\n",
       "      <th>Age</th>\n",
       "      <th>Tenure</th>\n",
       "      <th>Balance</th>\n",
       "      <th>NumOfProducts</th>\n",
       "      <th>HasCrCard</th>\n",
       "      <th>IsActiveMember</th>\n",
       "      <th>EstimatedSalary</th>\n",
       "      <th>Exited</th>\n",
       "    </tr>\n",
       "  </thead>\n",
       "  <tbody>\n",
       "    <tr>\n",
       "      <th>0</th>\n",
       "      <td>1</td>\n",
       "      <td>15634602</td>\n",
       "      <td>Hargrave</td>\n",
       "      <td>619</td>\n",
       "      <td>France</td>\n",
       "      <td>Female</td>\n",
       "      <td>42</td>\n",
       "      <td>2</td>\n",
       "      <td>0.00</td>\n",
       "      <td>1</td>\n",
       "      <td>1</td>\n",
       "      <td>1</td>\n",
       "      <td>101348.88</td>\n",
       "      <td>1</td>\n",
       "    </tr>\n",
       "    <tr>\n",
       "      <th>1</th>\n",
       "      <td>2</td>\n",
       "      <td>15647311</td>\n",
       "      <td>Hill</td>\n",
       "      <td>608</td>\n",
       "      <td>Spain</td>\n",
       "      <td>Female</td>\n",
       "      <td>41</td>\n",
       "      <td>1</td>\n",
       "      <td>83807.86</td>\n",
       "      <td>1</td>\n",
       "      <td>0</td>\n",
       "      <td>1</td>\n",
       "      <td>112542.58</td>\n",
       "      <td>0</td>\n",
       "    </tr>\n",
       "    <tr>\n",
       "      <th>2</th>\n",
       "      <td>3</td>\n",
       "      <td>15619304</td>\n",
       "      <td>Onio</td>\n",
       "      <td>502</td>\n",
       "      <td>France</td>\n",
       "      <td>Female</td>\n",
       "      <td>42</td>\n",
       "      <td>8</td>\n",
       "      <td>159660.80</td>\n",
       "      <td>3</td>\n",
       "      <td>1</td>\n",
       "      <td>0</td>\n",
       "      <td>113931.57</td>\n",
       "      <td>1</td>\n",
       "    </tr>\n",
       "    <tr>\n",
       "      <th>3</th>\n",
       "      <td>4</td>\n",
       "      <td>15701354</td>\n",
       "      <td>Boni</td>\n",
       "      <td>699</td>\n",
       "      <td>France</td>\n",
       "      <td>Female</td>\n",
       "      <td>39</td>\n",
       "      <td>1</td>\n",
       "      <td>0.00</td>\n",
       "      <td>2</td>\n",
       "      <td>0</td>\n",
       "      <td>0</td>\n",
       "      <td>93826.63</td>\n",
       "      <td>0</td>\n",
       "    </tr>\n",
       "    <tr>\n",
       "      <th>4</th>\n",
       "      <td>5</td>\n",
       "      <td>15737888</td>\n",
       "      <td>Mitchell</td>\n",
       "      <td>850</td>\n",
       "      <td>Spain</td>\n",
       "      <td>Female</td>\n",
       "      <td>43</td>\n",
       "      <td>2</td>\n",
       "      <td>125510.82</td>\n",
       "      <td>1</td>\n",
       "      <td>1</td>\n",
       "      <td>1</td>\n",
       "      <td>79084.10</td>\n",
       "      <td>0</td>\n",
       "    </tr>\n",
       "  </tbody>\n",
       "</table>\n",
       "</div>"
      ],
      "text/plain": [
       "   RowNumber  CustomerId   Surname  CreditScore Geography  Gender  Age  \\\n",
       "0          1    15634602  Hargrave          619    France  Female   42   \n",
       "1          2    15647311      Hill          608     Spain  Female   41   \n",
       "2          3    15619304      Onio          502    France  Female   42   \n",
       "3          4    15701354      Boni          699    France  Female   39   \n",
       "4          5    15737888  Mitchell          850     Spain  Female   43   \n",
       "\n",
       "   Tenure    Balance  NumOfProducts  HasCrCard  IsActiveMember  \\\n",
       "0       2       0.00              1          1               1   \n",
       "1       1   83807.86              1          0               1   \n",
       "2       8  159660.80              3          1               0   \n",
       "3       1       0.00              2          0               0   \n",
       "4       2  125510.82              1          1               1   \n",
       "\n",
       "   EstimatedSalary  Exited  \n",
       "0        101348.88       1  \n",
       "1        112542.58       0  \n",
       "2        113931.57       1  \n",
       "3         93826.63       0  \n",
       "4         79084.10       0  "
      ]
     },
     "execution_count": 3,
     "metadata": {},
     "output_type": "execute_result"
    }
   ],
   "source": [
    "dataset.head()"
   ]
  },
  {
   "cell_type": "code",
   "execution_count": 4,
   "metadata": {},
   "outputs": [],
   "source": [
    "X = dataset.iloc[:, 3:13].values\n",
    "y = dataset.iloc[:, 13].values"
   ]
  },
  {
   "cell_type": "code",
   "execution_count": 5,
   "metadata": {},
   "outputs": [],
   "source": [
    "# Encoding categorical data\n",
    "from sklearn.preprocessing import LabelEncoder, OneHotEncoder\n",
    "labelencoder_X_1 = LabelEncoder()\n",
    "X[:, 1] = labelencoder_X_1.fit_transform(X[:, 1])\n",
    "labelencoder_X_2 = LabelEncoder()\n",
    "X[:, 2] = labelencoder_X_2.fit_transform(X[:, 2])"
   ]
  },
  {
   "cell_type": "code",
   "execution_count": 8,
   "metadata": {},
   "outputs": [],
   "source": [
    "from sklearn.preprocessing import LabelEncoder, OneHotEncoder\n",
    "from sklearn.compose import ColumnTransformer\n",
    "labelencoder_X_2 = LabelEncoder()\n",
    "\n",
    "X[:, 2] = labelencoder_X_2.fit_transform(X[:, 2])\n",
    "\n",
    "#onehotencoder = OneHotEncoder(categorical_features = [1])\n",
    "\n",
    "#X = onehotencoder.fit_transform(X).toarray()\n",
    "\n",
    "columnTransformer = ColumnTransformer([('encoder', OneHotEncoder(), [1])], remainder='passthrough')\n",
    "\n",
    "X = np.array(columnTransformer.fit_transform(X), dtype = np.str)\n",
    "\n",
    "X = X[:, 1:]"
   ]
  },
  {
   "cell_type": "code",
   "execution_count": 9,
   "metadata": {},
   "outputs": [],
   "source": [
    "# Splitting the dataset into the Training set and Test set\n",
    "from sklearn.model_selection import train_test_split\n",
    "X_train, X_test, y_train, y_test = train_test_split(X, y, test_size = 0.2, random_state = 0)\n"
   ]
  },
  {
   "cell_type": "code",
   "execution_count": 10,
   "metadata": {},
   "outputs": [],
   "source": [
    "# Feature Scaling\n",
    "from sklearn.preprocessing import StandardScaler\n",
    "sc = StandardScaler()\n",
    "X_train = sc.fit_transform(X_train)\n",
    "X_test = sc.transform(X_test)"
   ]
  },
  {
   "cell_type": "code",
   "execution_count": 11,
   "metadata": {},
   "outputs": [
    {
     "name": "stderr",
     "output_type": "stream",
     "text": [
      "Using TensorFlow backend.\n"
     ]
    }
   ],
   "source": [
    "# Importing the Keras libraries and packages\n",
    "import keras\n",
    "from keras.models import Sequential\n",
    "from keras.layers import Dense"
   ]
  },
  {
   "cell_type": "code",
   "execution_count": 13,
   "metadata": {},
   "outputs": [],
   "source": [
    "# Initialising the ANN\n",
    "classifier = Sequential()"
   ]
  },
  {
   "cell_type": "code",
   "execution_count": 14,
   "metadata": {},
   "outputs": [],
   "source": [
    "# Adding the input layer and the first hidden layer\n",
    "classifier.add(Dense(units = 6, kernel_initializer = 'uniform', activation = 'relu', input_dim = 11))\n",
    "\n",
    "# Adding the second hidden layer\n",
    "classifier.add(Dense(units = 6, kernel_initializer = 'uniform', activation = 'relu'))\n",
    "\n",
    "# Adding the output layer\n",
    "classifier.add(Dense(units = 1, kernel_initializer = 'uniform', activation = 'sigmoid'))"
   ]
  },
  {
   "cell_type": "code",
   "execution_count": 15,
   "metadata": {},
   "outputs": [],
   "source": [
    "# Compiling the ANN\n",
    "classifier.compile(optimizer = 'adam', loss = 'binary_crossentropy', metrics = ['accuracy'])"
   ]
  },
  {
   "cell_type": "code",
   "execution_count": 16,
   "metadata": {},
   "outputs": [
    {
     "name": "stdout",
     "output_type": "stream",
     "text": [
      "Epoch 1/100\n",
      "8000/8000 [==============================] - 5s 568us/step - loss: 0.4825 - accuracy: 0.7960\n",
      "Epoch 2/100\n",
      "8000/8000 [==============================] - 1s 181us/step - loss: 0.4244 - accuracy: 0.7979\n",
      "Epoch 3/100\n",
      "8000/8000 [==============================] - 1s 174us/step - loss: 0.4177 - accuracy: 0.8251\n",
      "Epoch 4/100\n",
      "8000/8000 [==============================] - 1s 171us/step - loss: 0.4120 - accuracy: 0.8322\n",
      "Epoch 5/100\n",
      "8000/8000 [==============================] - 1s 172us/step - loss: 0.4086 - accuracy: 0.8347\n",
      "Epoch 6/100\n",
      "8000/8000 [==============================] - 1s 171us/step - loss: 0.4058 - accuracy: 0.8339\n",
      "Epoch 7/100\n",
      "8000/8000 [==============================] - 1s 173us/step - loss: 0.4041 - accuracy: 0.8349\n",
      "Epoch 8/100\n",
      "8000/8000 [==============================] - 1s 171us/step - loss: 0.4026 - accuracy: 0.8334\n",
      "Epoch 9/100\n",
      "8000/8000 [==============================] - 1s 172us/step - loss: 0.4010 - accuracy: 0.8342\n",
      "Epoch 10/100\n",
      "8000/8000 [==============================] - 1s 180us/step - loss: 0.3999 - accuracy: 0.8340\n",
      "Epoch 11/100\n",
      "8000/8000 [==============================] - 2s 203us/step - loss: 0.3993 - accuracy: 0.8361\n",
      "Epoch 12/100\n",
      "8000/8000 [==============================] - 1s 182us/step - loss: 0.3990 - accuracy: 0.8344\n",
      "Epoch 13/100\n",
      "8000/8000 [==============================] - 1s 174us/step - loss: 0.3980 - accuracy: 0.8339\n",
      "Epoch 14/100\n",
      "8000/8000 [==============================] - 1s 173us/step - loss: 0.3982 - accuracy: 0.8340\n",
      "Epoch 15/100\n",
      "8000/8000 [==============================] - 1s 177us/step - loss: 0.3974 - accuracy: 0.8356\n",
      "Epoch 16/100\n",
      "8000/8000 [==============================] - 1s 181us/step - loss: 0.3977 - accuracy: 0.8349\n",
      "Epoch 17/100\n",
      "8000/8000 [==============================] - 1s 179us/step - loss: 0.3974 - accuracy: 0.8342\n",
      "Epoch 18/100\n",
      "8000/8000 [==============================] - 1s 173us/step - loss: 0.3961 - accuracy: 0.8340\n",
      "Epoch 19/100\n",
      "8000/8000 [==============================] - 2s 201us/step - loss: 0.3964 - accuracy: 0.8353\n",
      "Epoch 20/100\n",
      "8000/8000 [==============================] - 1s 171us/step - loss: 0.3966 - accuracy: 0.8345\n",
      "Epoch 21/100\n",
      "8000/8000 [==============================] - 1s 175us/step - loss: 0.3961 - accuracy: 0.8353\n",
      "Epoch 22/100\n",
      "8000/8000 [==============================] - 2s 192us/step - loss: 0.3959 - accuracy: 0.8353\n",
      "Epoch 23/100\n",
      "8000/8000 [==============================] - 2s 226us/step - loss: 0.3957 - accuracy: 0.8357\n",
      "Epoch 24/100\n",
      "8000/8000 [==============================] - 2s 245us/step - loss: 0.3958 - accuracy: 0.8355\n",
      "Epoch 25/100\n",
      "8000/8000 [==============================] - 2s 223us/step - loss: 0.3952 - accuracy: 0.8354\n",
      "Epoch 26/100\n",
      "8000/8000 [==============================] - 2s 217us/step - loss: 0.3953 - accuracy: 0.8347\n",
      "Epoch 27/100\n",
      "8000/8000 [==============================] - 2s 205us/step - loss: 0.3955 - accuracy: 0.8331\n",
      "Epoch 28/100\n",
      "8000/8000 [==============================] - 2s 210us/step - loss: 0.3949 - accuracy: 0.8353\n",
      "Epoch 29/100\n",
      "8000/8000 [==============================] - 1s 183us/step - loss: 0.3949 - accuracy: 0.8336\n",
      "Epoch 30/100\n",
      "8000/8000 [==============================] - 2s 189us/step - loss: 0.3949 - accuracy: 0.8365\n",
      "Epoch 31/100\n",
      "8000/8000 [==============================] - 2s 208us/step - loss: 0.3946 - accuracy: 0.8364\n",
      "Epoch 32/100\n",
      "8000/8000 [==============================] - 2s 217us/step - loss: 0.3947 - accuracy: 0.8365\n",
      "Epoch 33/100\n",
      "8000/8000 [==============================] - 2s 192us/step - loss: 0.3944 - accuracy: 0.8366\n",
      "Epoch 34/100\n",
      "8000/8000 [==============================] - 2s 197us/step - loss: 0.3946 - accuracy: 0.8363\n",
      "Epoch 35/100\n",
      "8000/8000 [==============================] - 2s 188us/step - loss: 0.3949 - accuracy: 0.8346\n",
      "Epoch 36/100\n",
      "8000/8000 [==============================] - 2s 188us/step - loss: 0.3947 - accuracy: 0.8353\n",
      "Epoch 37/100\n",
      "8000/8000 [==============================] - 2s 194us/step - loss: 0.3947 - accuracy: 0.8357\n",
      "Epoch 38/100\n",
      "8000/8000 [==============================] - 2s 199us/step - loss: 0.3944 - accuracy: 0.8366\n",
      "Epoch 39/100\n",
      "8000/8000 [==============================] - 2s 195us/step - loss: 0.3946 - accuracy: 0.8365\n",
      "Epoch 40/100\n",
      "8000/8000 [==============================] - 2s 199us/step - loss: 0.3942 - accuracy: 0.8353\n",
      "Epoch 41/100\n",
      "8000/8000 [==============================] - 2s 211us/step - loss: 0.3945 - accuracy: 0.8360\n",
      "Epoch 42/100\n",
      "8000/8000 [==============================] - 2s 214us/step - loss: 0.3943 - accuracy: 0.8363\n",
      "Epoch 43/100\n",
      "8000/8000 [==============================] - 2s 210us/step - loss: 0.3942 - accuracy: 0.8364\n",
      "Epoch 44/100\n",
      "8000/8000 [==============================] - 2s 198us/step - loss: 0.3942 - accuracy: 0.8361\n",
      "Epoch 45/100\n",
      "8000/8000 [==============================] - 2s 207us/step - loss: 0.3945 - accuracy: 0.8353\n",
      "Epoch 46/100\n",
      "8000/8000 [==============================] - 2s 200us/step - loss: 0.3943 - accuracy: 0.8366\n",
      "Epoch 47/100\n",
      "8000/8000 [==============================] - 2s 204us/step - loss: 0.3947 - accuracy: 0.8367\n",
      "Epoch 48/100\n",
      "8000/8000 [==============================] - 2s 199us/step - loss: 0.3937 - accuracy: 0.8361\n",
      "Epoch 49/100\n",
      "8000/8000 [==============================] - 2s 201us/step - loss: 0.3939 - accuracy: 0.8356\n",
      "Epoch 50/100\n",
      "8000/8000 [==============================] - 2s 207us/step - loss: 0.3941 - accuracy: 0.8371\n",
      "Epoch 51/100\n",
      "8000/8000 [==============================] - 2s 212us/step - loss: 0.3938 - accuracy: 0.8349\n",
      "Epoch 52/100\n",
      "8000/8000 [==============================] - 2s 228us/step - loss: 0.3943 - accuracy: 0.8356\n",
      "Epoch 53/100\n",
      "8000/8000 [==============================] - 2s 251us/step - loss: 0.3943 - accuracy: 0.8356\n",
      "Epoch 54/100\n",
      "8000/8000 [==============================] - 2s 197us/step - loss: 0.3940 - accuracy: 0.8367\n",
      "Epoch 55/100\n",
      "8000/8000 [==============================] - 2s 198us/step - loss: 0.3936 - accuracy: 0.8363\n",
      "Epoch 56/100\n",
      "8000/8000 [==============================] - 2s 194us/step - loss: 0.3938 - accuracy: 0.8363\n",
      "Epoch 57/100\n",
      "8000/8000 [==============================] - 1s 180us/step - loss: 0.3941 - accuracy: 0.8351\n",
      "Epoch 58/100\n",
      "8000/8000 [==============================] - 2s 198us/step - loss: 0.3938 - accuracy: 0.8375\n",
      "Epoch 59/100\n",
      "8000/8000 [==============================] - 2s 193us/step - loss: 0.3934 - accuracy: 0.8360\n",
      "Epoch 60/100\n",
      "8000/8000 [==============================] - 2s 195us/step - loss: 0.3941 - accuracy: 0.8359\n",
      "Epoch 61/100\n",
      "8000/8000 [==============================] - 2s 217us/step - loss: 0.3941 - accuracy: 0.8349\n",
      "Epoch 62/100\n",
      "8000/8000 [==============================] - 2s 190us/step - loss: 0.3936 - accuracy: 0.8372\n",
      "Epoch 63/100\n",
      "8000/8000 [==============================] - 2s 188us/step - loss: 0.3936 - accuracy: 0.8365\n",
      "Epoch 64/100\n",
      "8000/8000 [==============================] - 1s 186us/step - loss: 0.3935 - accuracy: 0.8371\n",
      "Epoch 65/100\n",
      "8000/8000 [==============================] - 1s 185us/step - loss: 0.3936 - accuracy: 0.8354\n",
      "Epoch 66/100\n",
      "8000/8000 [==============================] - 2s 191us/step - loss: 0.3939 - accuracy: 0.8364\n",
      "Epoch 67/100\n",
      "8000/8000 [==============================] - 1s 184us/step - loss: 0.3937 - accuracy: 0.8363\n",
      "Epoch 68/100\n",
      "8000/8000 [==============================] - 2s 191us/step - loss: 0.3934 - accuracy: 0.8369\n",
      "Epoch 69/100\n",
      "8000/8000 [==============================] - 1s 180us/step - loss: 0.3936 - accuracy: 0.8364\n",
      "Epoch 70/100\n",
      "8000/8000 [==============================] - 2s 219us/step - loss: 0.3940 - accuracy: 0.8364\n",
      "Epoch 71/100\n",
      "8000/8000 [==============================] - 2s 220us/step - loss: 0.3938 - accuracy: 0.8370\n",
      "Epoch 72/100\n",
      "8000/8000 [==============================] - 2s 237us/step - loss: 0.3934 - accuracy: 0.8365\n",
      "Epoch 73/100\n",
      "8000/8000 [==============================] - 2s 234us/step - loss: 0.3934 - accuracy: 0.8354\n",
      "Epoch 74/100\n",
      "8000/8000 [==============================] - 2s 202us/step - loss: 0.3939 - accuracy: 0.8369\n",
      "Epoch 75/100\n",
      "8000/8000 [==============================] - 2s 206us/step - loss: 0.3932 - accuracy: 0.8374\n",
      "Epoch 76/100\n",
      "8000/8000 [==============================] - 2s 223us/step - loss: 0.3934 - accuracy: 0.8374\n",
      "Epoch 77/100\n",
      "8000/8000 [==============================] - 2s 208us/step - loss: 0.3929 - accuracy: 0.8374\n",
      "Epoch 78/100\n"
     ]
    },
    {
     "name": "stdout",
     "output_type": "stream",
     "text": [
      "8000/8000 [==============================] - 2s 226us/step - loss: 0.3936 - accuracy: 0.8372\n",
      "Epoch 79/100\n",
      "8000/8000 [==============================] - 2s 213us/step - loss: 0.3936 - accuracy: 0.8361\n",
      "Epoch 80/100\n",
      "8000/8000 [==============================] - 2s 216us/step - loss: 0.3935 - accuracy: 0.8371\n",
      "Epoch 81/100\n",
      "8000/8000 [==============================] - 2s 225us/step - loss: 0.3934 - accuracy: 0.8366\n",
      "Epoch 82/100\n",
      "8000/8000 [==============================] - 2s 198us/step - loss: 0.3938 - accuracy: 0.8379\n",
      "Epoch 83/100\n",
      "8000/8000 [==============================] - 2s 209us/step - loss: 0.3934 - accuracy: 0.8375\n",
      "Epoch 84/100\n",
      "8000/8000 [==============================] - 2s 209us/step - loss: 0.3933 - accuracy: 0.8363\n",
      "Epoch 85/100\n",
      "8000/8000 [==============================] - 2s 222us/step - loss: 0.3931 - accuracy: 0.8371\n",
      "Epoch 86/100\n",
      "8000/8000 [==============================] - 2s 201us/step - loss: 0.3930 - accuracy: 0.8370\n",
      "Epoch 87/100\n",
      "8000/8000 [==============================] - 2s 205us/step - loss: 0.3932 - accuracy: 0.8361\n",
      "Epoch 88/100\n",
      "8000/8000 [==============================] - 2s 208us/step - loss: 0.3937 - accuracy: 0.8372\n",
      "Epoch 89/100\n",
      "8000/8000 [==============================] - 2s 228us/step - loss: 0.3928 - accuracy: 0.8349\n",
      "Epoch 90/100\n",
      "8000/8000 [==============================] - 2s 224us/step - loss: 0.3930 - accuracy: 0.8361\n",
      "Epoch 91/100\n",
      "8000/8000 [==============================] - 2s 220us/step - loss: 0.3930 - accuracy: 0.8370\n",
      "Epoch 92/100\n",
      "8000/8000 [==============================] - 2s 203us/step - loss: 0.3932 - accuracy: 0.8366\n",
      "Epoch 93/100\n",
      "8000/8000 [==============================] - 2s 207us/step - loss: 0.3933 - accuracy: 0.8364\n",
      "Epoch 94/100\n",
      "8000/8000 [==============================] - 2s 200us/step - loss: 0.3931 - accuracy: 0.8355\n",
      "Epoch 95/100\n",
      "8000/8000 [==============================] - 2s 202us/step - loss: 0.3931 - accuracy: 0.8367\n",
      "Epoch 96/100\n",
      "8000/8000 [==============================] - 2s 191us/step - loss: 0.3925 - accuracy: 0.8360\n",
      "Epoch 97/100\n",
      "8000/8000 [==============================] - 2s 209us/step - loss: 0.3937 - accuracy: 0.8379\n",
      "Epoch 98/100\n",
      "8000/8000 [==============================] - 2s 206us/step - loss: 0.3927 - accuracy: 0.8369\n",
      "Epoch 99/100\n",
      "8000/8000 [==============================] - 2s 216us/step - loss: 0.3929 - accuracy: 0.8370\n",
      "Epoch 100/100\n",
      "8000/8000 [==============================] - 2s 236us/step - loss: 0.3926 - accuracy: 0.8354\n"
     ]
    },
    {
     "data": {
      "text/plain": [
       "<keras.callbacks.callbacks.History at 0x5f4b2b6d08>"
      ]
     },
     "execution_count": 16,
     "metadata": {},
     "output_type": "execute_result"
    }
   ],
   "source": [
    "# Fitting the ANN to the Training set\n",
    "classifier.fit(X_train, y_train, batch_size = 10, epochs = 100)\n"
   ]
  },
  {
   "cell_type": "code",
   "execution_count": 17,
   "metadata": {},
   "outputs": [],
   "source": [
    "# Part 3 - Making predictions and evaluating the model\n",
    "\n",
    "# Predicting the Test set results\n",
    "y_pred = classifier.predict(X_test)\n",
    "y_pred = (y_pred > 0.5)\n"
   ]
  },
  {
   "cell_type": "code",
   "execution_count": 18,
   "metadata": {},
   "outputs": [],
   "source": [
    "# Making the Confusion Matrix\n",
    "from sklearn.metrics import confusion_matrix\n",
    "cm = confusion_matrix(y_test, y_pred)"
   ]
  },
  {
   "cell_type": "code",
   "execution_count": 19,
   "metadata": {},
   "outputs": [
    {
     "data": {
      "text/plain": [
       "array([[1556,   39],\n",
       "       [ 265,  140]], dtype=int64)"
      ]
     },
     "execution_count": 19,
     "metadata": {},
     "output_type": "execute_result"
    }
   ],
   "source": [
    "cm"
   ]
  },
  {
   "cell_type": "code",
   "execution_count": 20,
   "metadata": {},
   "outputs": [],
   "source": [
    "# Predicting a single new observation\n",
    "\"\"\"Predict if the customer with the following informations will leave the bank:\n",
    "Geography: France\n",
    "Credit Score: 600\n",
    "Gender: Male\n",
    "Age: 40\n",
    "Tenure: 3\n",
    "Balance: 60000\n",
    "Number of Products: 2\n",
    "Has Credit Card: Yes\n",
    "Is Active Member: Yes\n",
    "Estimated Salary: 50000\"\"\"\n",
    "new_prediction = classifier.predict(sc.transform(np.array([[0.0, 0, 600, 1, 40, 3, 60000, 2, 1, 1, 50000]])))\n",
    "new_prediction = (new_prediction > 0.5)"
   ]
  },
  {
   "cell_type": "code",
   "execution_count": 21,
   "metadata": {},
   "outputs": [
    {
     "data": {
      "text/plain": [
       "array([[False]])"
      ]
     },
     "execution_count": 21,
     "metadata": {},
     "output_type": "execute_result"
    }
   ],
   "source": [
    "new_prediction"
   ]
  },
  {
   "cell_type": "code",
   "execution_count": null,
   "metadata": {},
   "outputs": [],
   "source": []
  }
 ],
 "metadata": {
  "kernelspec": {
   "display_name": "Python 3",
   "language": "python",
   "name": "python3"
  },
  "language_info": {
   "codemirror_mode": {
    "name": "ipython",
    "version": 3
   },
   "file_extension": ".py",
   "mimetype": "text/x-python",
   "name": "python",
   "nbconvert_exporter": "python",
   "pygments_lexer": "ipython3",
   "version": "3.7.4"
  }
 },
 "nbformat": 4,
 "nbformat_minor": 2
}
